{
  "nbformat": 4,
  "nbformat_minor": 0,
  "metadata": {
    "colab": {
      "name": "HW_3.ipynb",
      "provenance": [],
      "collapsed_sections": []
    },
    "kernelspec": {
      "name": "python3",
      "display_name": "Python 3"
    },
    "language_info": {
      "name": "python"
    }
  },
  "cells": [
    {
      "cell_type": "markdown",
      "metadata": {
        "id": "oPTNXZsqZBHz"
      },
      "source": [
        "#Обучение с учителем"
      ]
    },
    {
      "cell_type": "markdown",
      "metadata": {
        "id": "FRCAxyI4ZElq"
      },
      "source": [
        "##Задание 1"
      ]
    },
    {
      "cell_type": "code",
      "metadata": {
        "id": "T03segzlY8gD"
      },
      "source": [
        "# Импортируем базовые бибилиотеки numpy, pandas\n",
        "import numpy as np\n",
        "import pandas as pd"
      ],
      "execution_count": 2,
      "outputs": []
    },
    {
      "cell_type": "code",
      "metadata": {
        "id": "Jri6nuftkOoi"
      },
      "source": [
        "# Импорт matplotlib\n",
        "from matplotlib import pyplot as plt\n",
        "%config InlineBackend.figure_format = 'svg'\n",
        "%matplotlib inline"
      ],
      "execution_count": 3,
      "outputs": []
    },
    {
      "cell_type": "code",
      "metadata": {
        "id": "OClZ_2Fsb6sl"
      },
      "source": [
        "# Импортируем модули из библиотеки scikit-learn\n",
        "from sklearn.datasets import load_boston, load_wine\n",
        "from sklearn.model_selection import train_test_split, GridSearchCV\n",
        "from sklearn.linear_model import LinearRegression\n",
        "from sklearn.metrics import r2_score, roc_auc_score\n",
        "from sklearn.ensemble import RandomForestRegressor, RandomForestClassifier\n",
        "from sklearn.preprocessing import StandardScaler"
      ],
      "execution_count": 4,
      "outputs": []
    },
    {
      "cell_type": "code",
      "metadata": {
        "colab": {
          "base_uri": "https://localhost:8080/"
        },
        "id": "jVlt3tJ8ZnUQ",
        "outputId": "4854853c-943a-4885-f3e1-f0a068cabf91"
      },
      "source": [
        "# Загружаем тренировочный датасет и формируем датафреймы pandas\n",
        "boston = load_boston()\n",
        "data = boston.data\n",
        "feature_names = boston.feature_names\n",
        "target = boston.target\n",
        "X = pd.DataFrame(data, columns=feature_names)\n",
        "y = pd.DataFrame(target, columns=[\"price\"])\n",
        "print('\\nИнформация о матрице признаков:')\n",
        "X.info()\n",
        "print('\\nИнформация о целевом признаке:')\n",
        "y.info()"
      ],
      "execution_count": 5,
      "outputs": [
        {
          "output_type": "stream",
          "name": "stdout",
          "text": [
            "\n",
            "Информация о матрице признаков:\n",
            "<class 'pandas.core.frame.DataFrame'>\n",
            "RangeIndex: 506 entries, 0 to 505\n",
            "Data columns (total 13 columns):\n",
            " #   Column   Non-Null Count  Dtype  \n",
            "---  ------   --------------  -----  \n",
            " 0   CRIM     506 non-null    float64\n",
            " 1   ZN       506 non-null    float64\n",
            " 2   INDUS    506 non-null    float64\n",
            " 3   CHAS     506 non-null    float64\n",
            " 4   NOX      506 non-null    float64\n",
            " 5   RM       506 non-null    float64\n",
            " 6   AGE      506 non-null    float64\n",
            " 7   DIS      506 non-null    float64\n",
            " 8   RAD      506 non-null    float64\n",
            " 9   TAX      506 non-null    float64\n",
            " 10  PTRATIO  506 non-null    float64\n",
            " 11  B        506 non-null    float64\n",
            " 12  LSTAT    506 non-null    float64\n",
            "dtypes: float64(13)\n",
            "memory usage: 51.5 KB\n",
            "\n",
            "Информация о целевом признаке:\n",
            "<class 'pandas.core.frame.DataFrame'>\n",
            "RangeIndex: 506 entries, 0 to 505\n",
            "Data columns (total 1 columns):\n",
            " #   Column  Non-Null Count  Dtype  \n",
            "---  ------  --------------  -----  \n",
            " 0   price   506 non-null    float64\n",
            "dtypes: float64(1)\n",
            "memory usage: 4.1 KB\n"
          ]
        },
        {
          "output_type": "stream",
          "name": "stderr",
          "text": [
            "/usr/local/lib/python3.7/dist-packages/sklearn/utils/deprecation.py:87: FutureWarning: Function load_boston is deprecated; `load_boston` is deprecated in 1.0 and will be removed in 1.2.\n",
            "\n",
            "    The Boston housing prices dataset has an ethical problem. You can refer to\n",
            "    the documentation of this function for further details.\n",
            "\n",
            "    The scikit-learn maintainers therefore strongly discourage the use of this\n",
            "    dataset unless the purpose of the code is to study and educate about\n",
            "    ethical issues in data science and machine learning.\n",
            "\n",
            "    In this special case, you can fetch the dataset from the original\n",
            "    source::\n",
            "\n",
            "        import pandas as pd\n",
            "        import numpy as np\n",
            "\n",
            "\n",
            "        data_url = \"http://lib.stat.cmu.edu/datasets/boston\"\n",
            "        raw_df = pd.read_csv(data_url, sep=\"\\s+\", skiprows=22, header=None)\n",
            "        data = np.hstack([raw_df.values[::2, :], raw_df.values[1::2, :2]])\n",
            "        target = raw_df.values[1::2, 2]\n",
            "\n",
            "    Alternative datasets include the California housing dataset (i.e.\n",
            "    :func:`~sklearn.datasets.fetch_california_housing`) and the Ames housing\n",
            "    dataset. You can load the datasets as follows::\n",
            "\n",
            "        from sklearn.datasets import fetch_california_housing\n",
            "        housing = fetch_california_housing()\n",
            "\n",
            "    for the California housing dataset and::\n",
            "\n",
            "        from sklearn.datasets import fetch_openml\n",
            "        housing = fetch_openml(name=\"house_prices\", as_frame=True)\n",
            "\n",
            "    for the Ames housing dataset.\n",
            "    \n",
            "  warnings.warn(msg, category=FutureWarning)\n"
          ]
        }
      ]
    },
    {
      "cell_type": "code",
      "metadata": {
        "colab": {
          "base_uri": "https://localhost:8080/"
        },
        "id": "6DgLLSROkcYy",
        "outputId": "4093d485-a429-4c4b-ba40-f879d9e193b1"
      },
      "source": [
        "print(boston[\"DESCR\"])"
      ],
      "execution_count": null,
      "outputs": [
        {
          "output_type": "stream",
          "name": "stdout",
          "text": [
            ".. _boston_dataset:\n",
            "\n",
            "Boston house prices dataset\n",
            "---------------------------\n",
            "\n",
            "**Data Set Characteristics:**  \n",
            "\n",
            "    :Number of Instances: 506 \n",
            "\n",
            "    :Number of Attributes: 13 numeric/categorical predictive. Median Value (attribute 14) is usually the target.\n",
            "\n",
            "    :Attribute Information (in order):\n",
            "        - CRIM     per capita crime rate by town\n",
            "        - ZN       proportion of residential land zoned for lots over 25,000 sq.ft.\n",
            "        - INDUS    proportion of non-retail business acres per town\n",
            "        - CHAS     Charles River dummy variable (= 1 if tract bounds river; 0 otherwise)\n",
            "        - NOX      nitric oxides concentration (parts per 10 million)\n",
            "        - RM       average number of rooms per dwelling\n",
            "        - AGE      proportion of owner-occupied units built prior to 1940\n",
            "        - DIS      weighted distances to five Boston employment centres\n",
            "        - RAD      index of accessibility to radial highways\n",
            "        - TAX      full-value property-tax rate per $10,000\n",
            "        - PTRATIO  pupil-teacher ratio by town\n",
            "        - B        1000(Bk - 0.63)^2 where Bk is the proportion of black people by town\n",
            "        - LSTAT    % lower status of the population\n",
            "        - MEDV     Median value of owner-occupied homes in $1000's\n",
            "\n",
            "    :Missing Attribute Values: None\n",
            "\n",
            "    :Creator: Harrison, D. and Rubinfeld, D.L.\n",
            "\n",
            "This is a copy of UCI ML housing dataset.\n",
            "https://archive.ics.uci.edu/ml/machine-learning-databases/housing/\n",
            "\n",
            "\n",
            "This dataset was taken from the StatLib library which is maintained at Carnegie Mellon University.\n",
            "\n",
            "The Boston house-price data of Harrison, D. and Rubinfeld, D.L. 'Hedonic\n",
            "prices and the demand for clean air', J. Environ. Economics & Management,\n",
            "vol.5, 81-102, 1978.   Used in Belsley, Kuh & Welsch, 'Regression diagnostics\n",
            "...', Wiley, 1980.   N.B. Various transformations are used in the table on\n",
            "pages 244-261 of the latter.\n",
            "\n",
            "The Boston house-price data has been used in many machine learning papers that address regression\n",
            "problems.   \n",
            "     \n",
            ".. topic:: References\n",
            "\n",
            "   - Belsley, Kuh & Welsch, 'Regression diagnostics: Identifying Influential Data and Sources of Collinearity', Wiley, 1980. 244-261.\n",
            "   - Quinlan,R. (1993). Combining Instance-Based and Model-Based Learning. In Proceedings on the Tenth International Conference of Machine Learning, 236-243, University of Massachusetts, Amherst. Morgan Kaufmann.\n",
            "\n"
          ]
        }
      ]
    },
    {
      "cell_type": "code",
      "metadata": {
        "id": "QkLBBPKdZ0zp"
      },
      "source": [
        "# Разделям датасеты на обучающие и тестовые\n",
        "X_train, X_test, y_train, y_test = train_test_split(X, y, test_size=0.3, random_state=42)"
      ],
      "execution_count": 38,
      "outputs": []
    },
    {
      "cell_type": "code",
      "metadata": {
        "id": "gWFdEzErbIXM"
      },
      "source": [
        "# Строим модель регрессии \n",
        "lr = LinearRegression()\n",
        "lr.fit(X_train, y_train)\n",
        "y_pred = lr.predict(X_test)"
      ],
      "execution_count": 39,
      "outputs": []
    },
    {
      "cell_type": "code",
      "metadata": {
        "colab": {
          "base_uri": "https://localhost:8080/"
        },
        "id": "dsIvO5ykb-u2",
        "outputId": "08112280-97b9-4755-bfd2-003ac40f6a71"
      },
      "source": [
        "# Проверка точности предсказаний\n",
        "# Формируем датасет для проверки\n",
        "check_test_lr = pd.DataFrame({\n",
        "    \"y_test\": y_test[\"price\"],\n",
        "    \"y_pred\": y_pred.flatten(),\n",
        "})\n",
        "check_test_lr[\"error\"] = (check_test_lr[\"y_pred\"] - check_test_lr[\"y_test\"])**2\n",
        "print(check_test_lr[\"error\"].mean())"
      ],
      "execution_count": 41,
      "outputs": [
        {
          "output_type": "stream",
          "name": "stdout",
          "text": [
            "21.517444231176903\n"
          ]
        }
      ]
    },
    {
      "cell_type": "code",
      "metadata": {
        "colab": {
          "base_uri": "https://localhost:8080/"
        },
        "id": "RjNmizBcepXv",
        "outputId": "ed4c404c-6125-4895-cf24-02db31cf2826"
      },
      "source": [
        "# Расчитываем коэффициент детерминации\n",
        "r2_lr = r2_score(check_test_lr[\"y_pred\"], check_test_lr[\"y_test\"])\n",
        "print(f'Коэффициент детерминации R2: {r2_lr:.2f}')"
      ],
      "execution_count": 42,
      "outputs": [
        {
          "output_type": "stream",
          "name": "stdout",
          "text": [
            "Коэффициент детерминации R2: 0.67\n"
          ]
        }
      ]
    },
    {
      "cell_type": "code",
      "metadata": {
        "colab": {
          "base_uri": "https://localhost:8080/",
          "height": 370
        },
        "id": "MHoLM6OPj3li",
        "outputId": "3ab099ce-04c1-4e9c-ba63-2f70048a26f7"
      },
      "source": [
        "# Визуально оценим, какой коэффициент имеет наибольший вклад\n",
        "plt.barh(feature_names, lr.coef_.flatten())\n",
        "plt.xlabel(\"Вес признака\")\n",
        "plt.ylabel(\"Признак\")\n",
        "plt.show()"
      ],
      "execution_count": 43,
      "outputs": [
        {
          "output_type": "display_data",
          "data": {
            "text/plain": [
              "<Figure size 432x288 with 1 Axes>"
            ],
            "image/svg+xml": "<?xml version=\"1.0\" encoding=\"utf-8\" standalone=\"no\"?>\n<!DOCTYPE svg PUBLIC \"-//W3C//DTD SVG 1.1//EN\"\n  \"http://www.w3.org/Graphics/SVG/1.1/DTD/svg11.dtd\">\n<!-- Created with matplotlib (https://matplotlib.org/) -->\n<svg height=\"262.19625pt\" version=\"1.1\" viewBox=\"0 0 419.027809 262.19625\" width=\"419.027809pt\" xmlns=\"http://www.w3.org/2000/svg\" xmlns:xlink=\"http://www.w3.org/1999/xlink\">\n <defs>\n  <style type=\"text/css\">\n*{stroke-linecap:butt;stroke-linejoin:round;}\n  </style>\n </defs>\n <g id=\"figure_1\">\n  <g id=\"patch_1\">\n   <path d=\"M 0 262.19625 \nL 419.027809 262.19625 \nL 419.027809 0 \nL 0 0 \nz\n\" style=\"fill:none;\"/>\n  </g>\n  <g id=\"axes_1\">\n   <g id=\"patch_2\">\n    <path d=\"M 69.559375 224.64 \nL 404.359375 224.64 \nL 404.359375 7.2 \nL 69.559375 7.2 \nz\n\" style=\"fill:#ffffff;\"/>\n   </g>\n   <g id=\"patch_3\">\n    <path clip-path=\"url(#pbb0e5528ca)\" d=\"M 325.731138 214.756364 \nL 323.645131 214.756364 \nL 323.645131 202.401818 \nL 325.731138 202.401818 \nz\n\" style=\"fill:#1f77b4;\"/>\n   </g>\n   <g id=\"patch_4\">\n    <path clip-path=\"url(#pbb0e5528ca)\" d=\"M 325.731138 199.313182 \nL 326.290796 199.313182 \nL 326.290796 186.958636 \nL 325.731138 186.958636 \nz\n\" style=\"fill:#1f77b4;\"/>\n   </g>\n   <g id=\"patch_5\">\n    <path clip-path=\"url(#pbb0e5528ca)\" d=\"M 325.731138 183.87 \nL 326.505128 183.87 \nL 326.505128 171.515455 \nL 325.731138 171.515455 \nz\n\" style=\"fill:#1f77b4;\"/>\n   </g>\n   <g id=\"patch_6\">\n    <path clip-path=\"url(#pbb0e5528ca)\" d=\"M 325.731138 168.426818 \nL 374.491109 168.426818 \nL 374.491109 156.072273 \nL 325.731138 156.072273 \nz\n\" style=\"fill:#1f77b4;\"/>\n   </g>\n   <g id=\"patch_7\">\n    <path clip-path=\"url(#pbb0e5528ca)\" d=\"M 325.731138 152.983636 \nL 84.777557 152.983636 \nL 84.777557 140.629091 \nL 325.731138 140.629091 \nz\n\" style=\"fill:#1f77b4;\"/>\n   </g>\n   <g id=\"patch_8\">\n    <path clip-path=\"url(#pbb0e5528ca)\" d=\"M 325.731138 137.540455 \nL 389.141193 137.540455 \nL 389.141193 125.185909 \nL 325.731138 125.185909 \nz\n\" style=\"fill:#1f77b4;\"/>\n   </g>\n   <g id=\"patch_9\">\n    <path clip-path=\"url(#pbb0e5528ca)\" d=\"M 325.731138 122.097273 \nL 325.562019 122.097273 \nL 325.562019 109.742727 \nL 325.731138 109.742727 \nz\n\" style=\"fill:#1f77b4;\"/>\n   </g>\n   <g id=\"patch_10\">\n    <path clip-path=\"url(#pbb0e5528ca)\" d=\"M 325.731138 106.654091 \nL 304.069341 106.654091 \nL 304.069341 94.299545 \nL 325.731138 94.299545 \nz\n\" style=\"fill:#1f77b4;\"/>\n   </g>\n   <g id=\"patch_11\">\n    <path clip-path=\"url(#pbb0e5528ca)\" d=\"M 325.731138 91.210909 \nL 329.524729 91.210909 \nL 329.524729 78.856364 \nL 325.731138 78.856364 \nz\n\" style=\"fill:#1f77b4;\"/>\n   </g>\n   <g id=\"patch_12\">\n    <path clip-path=\"url(#pbb0e5528ca)\" d=\"M 325.731138 75.767727 \nL 325.59513 75.767727 \nL 325.59513 63.413182 \nL 325.731138 63.413182 \nz\n\" style=\"fill:#1f77b4;\"/>\n   </g>\n   <g id=\"patch_13\">\n    <path clip-path=\"url(#pbb0e5528ca)\" d=\"M 325.731138 60.324545 \nL 311.498019 60.324545 \nL 311.498019 47.97 \nL 325.731138 47.97 \nz\n\" style=\"fill:#1f77b4;\"/>\n   </g>\n   <g id=\"patch_14\">\n    <path clip-path=\"url(#pbb0e5528ca)\" d=\"M 325.731138 44.881364 \nL 325.915468 44.881364 \nL 325.915468 32.526818 \nL 325.731138 32.526818 \nz\n\" style=\"fill:#1f77b4;\"/>\n   </g>\n   <g id=\"patch_15\">\n    <path clip-path=\"url(#pbb0e5528ca)\" d=\"M 325.731138 29.438182 \nL 317.180292 29.438182 \nL 317.180292 17.083636 \nL 325.731138 17.083636 \nz\n\" style=\"fill:#1f77b4;\"/>\n   </g>\n   <g id=\"matplotlib.axis_1\">\n    <g id=\"xtick_1\">\n     <g id=\"line2d_1\">\n      <defs>\n       <path d=\"M 0 0 \nL 0 3.5 \n\" id=\"m2f34f05e39\" style=\"stroke:#000000;stroke-width:0.8;\"/>\n      </defs>\n      <g>\n       <use style=\"stroke:#000000;stroke-width:0.8;\" x=\"91.295811\" xlink:href=\"#m2f34f05e39\" y=\"224.64\"/>\n      </g>\n     </g>\n     <g id=\"text_1\">\n      <!-- −15.0 -->\n      <defs>\n       <path d=\"M 10.59375 35.5 \nL 73.1875 35.5 \nL 73.1875 27.203125 \nL 10.59375 27.203125 \nz\n\" id=\"DejaVuSans-8722\"/>\n       <path d=\"M 12.40625 8.296875 \nL 28.515625 8.296875 \nL 28.515625 63.921875 \nL 10.984375 60.40625 \nL 10.984375 69.390625 \nL 28.421875 72.90625 \nL 38.28125 72.90625 \nL 38.28125 8.296875 \nL 54.390625 8.296875 \nL 54.390625 0 \nL 12.40625 0 \nz\n\" id=\"DejaVuSans-49\"/>\n       <path d=\"M 10.796875 72.90625 \nL 49.515625 72.90625 \nL 49.515625 64.59375 \nL 19.828125 64.59375 \nL 19.828125 46.734375 \nQ 21.96875 47.46875 24.109375 47.828125 \nQ 26.265625 48.1875 28.421875 48.1875 \nQ 40.625 48.1875 47.75 41.5 \nQ 54.890625 34.8125 54.890625 23.390625 \nQ 54.890625 11.625 47.5625 5.09375 \nQ 40.234375 -1.421875 26.90625 -1.421875 \nQ 22.3125 -1.421875 17.546875 -0.640625 \nQ 12.796875 0.140625 7.71875 1.703125 \nL 7.71875 11.625 \nQ 12.109375 9.234375 16.796875 8.0625 \nQ 21.484375 6.890625 26.703125 6.890625 \nQ 35.15625 6.890625 40.078125 11.328125 \nQ 45.015625 15.765625 45.015625 23.390625 \nQ 45.015625 31 40.078125 35.4375 \nQ 35.15625 39.890625 26.703125 39.890625 \nQ 22.75 39.890625 18.8125 39.015625 \nQ 14.890625 38.140625 10.796875 36.28125 \nz\n\" id=\"DejaVuSans-53\"/>\n       <path d=\"M 10.6875 12.40625 \nL 21 12.40625 \nL 21 0 \nL 10.6875 0 \nz\n\" id=\"DejaVuSans-46\"/>\n       <path d=\"M 31.78125 66.40625 \nQ 24.171875 66.40625 20.328125 58.90625 \nQ 16.5 51.421875 16.5 36.375 \nQ 16.5 21.390625 20.328125 13.890625 \nQ 24.171875 6.390625 31.78125 6.390625 \nQ 39.453125 6.390625 43.28125 13.890625 \nQ 47.125 21.390625 47.125 36.375 \nQ 47.125 51.421875 43.28125 58.90625 \nQ 39.453125 66.40625 31.78125 66.40625 \nz\nM 31.78125 74.21875 \nQ 44.046875 74.21875 50.515625 64.515625 \nQ 56.984375 54.828125 56.984375 36.375 \nQ 56.984375 17.96875 50.515625 8.265625 \nQ 44.046875 -1.421875 31.78125 -1.421875 \nQ 19.53125 -1.421875 13.0625 8.265625 \nQ 6.59375 17.96875 6.59375 36.375 \nQ 6.59375 54.828125 13.0625 64.515625 \nQ 19.53125 74.21875 31.78125 74.21875 \nz\n\" id=\"DejaVuSans-48\"/>\n      </defs>\n      <g transform=\"translate(75.973154 239.238437)scale(0.1 -0.1)\">\n       <use xlink:href=\"#DejaVuSans-8722\"/>\n       <use x=\"83.789062\" xlink:href=\"#DejaVuSans-49\"/>\n       <use x=\"147.412109\" xlink:href=\"#DejaVuSans-53\"/>\n       <use x=\"211.035156\" xlink:href=\"#DejaVuSans-46\"/>\n       <use x=\"242.822266\" xlink:href=\"#DejaVuSans-48\"/>\n      </g>\n     </g>\n    </g>\n    <g id=\"xtick_2\">\n     <g id=\"line2d_2\">\n      <g>\n       <use style=\"stroke:#000000;stroke-width:0.8;\" x=\"130.368365\" xlink:href=\"#m2f34f05e39\" y=\"224.64\"/>\n      </g>\n     </g>\n     <g id=\"text_2\">\n      <!-- −12.5 -->\n      <defs>\n       <path d=\"M 19.1875 8.296875 \nL 53.609375 8.296875 \nL 53.609375 0 \nL 7.328125 0 \nL 7.328125 8.296875 \nQ 12.9375 14.109375 22.625 23.890625 \nQ 32.328125 33.6875 34.8125 36.53125 \nQ 39.546875 41.84375 41.421875 45.53125 \nQ 43.3125 49.21875 43.3125 52.78125 \nQ 43.3125 58.59375 39.234375 62.25 \nQ 35.15625 65.921875 28.609375 65.921875 \nQ 23.96875 65.921875 18.8125 64.3125 \nQ 13.671875 62.703125 7.8125 59.421875 \nL 7.8125 69.390625 \nQ 13.765625 71.78125 18.9375 73 \nQ 24.125 74.21875 28.421875 74.21875 \nQ 39.75 74.21875 46.484375 68.546875 \nQ 53.21875 62.890625 53.21875 53.421875 \nQ 53.21875 48.921875 51.53125 44.890625 \nQ 49.859375 40.875 45.40625 35.40625 \nQ 44.1875 33.984375 37.640625 27.21875 \nQ 31.109375 20.453125 19.1875 8.296875 \nz\n\" id=\"DejaVuSans-50\"/>\n      </defs>\n      <g transform=\"translate(115.045709 239.238437)scale(0.1 -0.1)\">\n       <use xlink:href=\"#DejaVuSans-8722\"/>\n       <use x=\"83.789062\" xlink:href=\"#DejaVuSans-49\"/>\n       <use x=\"147.412109\" xlink:href=\"#DejaVuSans-50\"/>\n       <use x=\"211.035156\" xlink:href=\"#DejaVuSans-46\"/>\n       <use x=\"242.822266\" xlink:href=\"#DejaVuSans-53\"/>\n      </g>\n     </g>\n    </g>\n    <g id=\"xtick_3\">\n     <g id=\"line2d_3\">\n      <g>\n       <use style=\"stroke:#000000;stroke-width:0.8;\" x=\"169.44092\" xlink:href=\"#m2f34f05e39\" y=\"224.64\"/>\n      </g>\n     </g>\n     <g id=\"text_3\">\n      <!-- −10.0 -->\n      <g transform=\"translate(154.118263 239.238437)scale(0.1 -0.1)\">\n       <use xlink:href=\"#DejaVuSans-8722\"/>\n       <use x=\"83.789062\" xlink:href=\"#DejaVuSans-49\"/>\n       <use x=\"147.412109\" xlink:href=\"#DejaVuSans-48\"/>\n       <use x=\"211.035156\" xlink:href=\"#DejaVuSans-46\"/>\n       <use x=\"242.822266\" xlink:href=\"#DejaVuSans-48\"/>\n      </g>\n     </g>\n    </g>\n    <g id=\"xtick_4\">\n     <g id=\"line2d_4\">\n      <g>\n       <use style=\"stroke:#000000;stroke-width:0.8;\" x=\"208.513474\" xlink:href=\"#m2f34f05e39\" y=\"224.64\"/>\n      </g>\n     </g>\n     <g id=\"text_4\">\n      <!-- −7.5 -->\n      <defs>\n       <path d=\"M 8.203125 72.90625 \nL 55.078125 72.90625 \nL 55.078125 68.703125 \nL 28.609375 0 \nL 18.3125 0 \nL 43.21875 64.59375 \nL 8.203125 64.59375 \nz\n\" id=\"DejaVuSans-55\"/>\n      </defs>\n      <g transform=\"translate(196.372068 239.238437)scale(0.1 -0.1)\">\n       <use xlink:href=\"#DejaVuSans-8722\"/>\n       <use x=\"83.789062\" xlink:href=\"#DejaVuSans-55\"/>\n       <use x=\"147.412109\" xlink:href=\"#DejaVuSans-46\"/>\n       <use x=\"179.199219\" xlink:href=\"#DejaVuSans-53\"/>\n      </g>\n     </g>\n    </g>\n    <g id=\"xtick_5\">\n     <g id=\"line2d_5\">\n      <g>\n       <use style=\"stroke:#000000;stroke-width:0.8;\" x=\"247.586029\" xlink:href=\"#m2f34f05e39\" y=\"224.64\"/>\n      </g>\n     </g>\n     <g id=\"text_5\">\n      <!-- −5.0 -->\n      <g transform=\"translate(235.444623 239.238437)scale(0.1 -0.1)\">\n       <use xlink:href=\"#DejaVuSans-8722\"/>\n       <use x=\"83.789062\" xlink:href=\"#DejaVuSans-53\"/>\n       <use x=\"147.412109\" xlink:href=\"#DejaVuSans-46\"/>\n       <use x=\"179.199219\" xlink:href=\"#DejaVuSans-48\"/>\n      </g>\n     </g>\n    </g>\n    <g id=\"xtick_6\">\n     <g id=\"line2d_6\">\n      <g>\n       <use style=\"stroke:#000000;stroke-width:0.8;\" x=\"286.658583\" xlink:href=\"#m2f34f05e39\" y=\"224.64\"/>\n      </g>\n     </g>\n     <g id=\"text_6\">\n      <!-- −2.5 -->\n      <g transform=\"translate(274.517177 239.238437)scale(0.1 -0.1)\">\n       <use xlink:href=\"#DejaVuSans-8722\"/>\n       <use x=\"83.789062\" xlink:href=\"#DejaVuSans-50\"/>\n       <use x=\"147.412109\" xlink:href=\"#DejaVuSans-46\"/>\n       <use x=\"179.199219\" xlink:href=\"#DejaVuSans-53\"/>\n      </g>\n     </g>\n    </g>\n    <g id=\"xtick_7\">\n     <g id=\"line2d_7\">\n      <g>\n       <use style=\"stroke:#000000;stroke-width:0.8;\" x=\"325.731138\" xlink:href=\"#m2f34f05e39\" y=\"224.64\"/>\n      </g>\n     </g>\n     <g id=\"text_7\">\n      <!-- 0.0 -->\n      <g transform=\"translate(317.779575 239.238437)scale(0.1 -0.1)\">\n       <use xlink:href=\"#DejaVuSans-48\"/>\n       <use x=\"63.623047\" xlink:href=\"#DejaVuSans-46\"/>\n       <use x=\"95.410156\" xlink:href=\"#DejaVuSans-48\"/>\n      </g>\n     </g>\n    </g>\n    <g id=\"xtick_8\">\n     <g id=\"line2d_8\">\n      <g>\n       <use style=\"stroke:#000000;stroke-width:0.8;\" x=\"364.803692\" xlink:href=\"#m2f34f05e39\" y=\"224.64\"/>\n      </g>\n     </g>\n     <g id=\"text_8\">\n      <!-- 2.5 -->\n      <g transform=\"translate(356.85213 239.238437)scale(0.1 -0.1)\">\n       <use xlink:href=\"#DejaVuSans-50\"/>\n       <use x=\"63.623047\" xlink:href=\"#DejaVuSans-46\"/>\n       <use x=\"95.410156\" xlink:href=\"#DejaVuSans-53\"/>\n      </g>\n     </g>\n    </g>\n    <g id=\"xtick_9\">\n     <g id=\"line2d_9\">\n      <g>\n       <use style=\"stroke:#000000;stroke-width:0.8;\" x=\"403.876247\" xlink:href=\"#m2f34f05e39\" y=\"224.64\"/>\n      </g>\n     </g>\n     <g id=\"text_9\">\n      <!-- 5.0 -->\n      <g transform=\"translate(395.924684 239.238437)scale(0.1 -0.1)\">\n       <use xlink:href=\"#DejaVuSans-53\"/>\n       <use x=\"63.623047\" xlink:href=\"#DejaVuSans-46\"/>\n       <use x=\"95.410156\" xlink:href=\"#DejaVuSans-48\"/>\n      </g>\n     </g>\n    </g>\n    <g id=\"text_10\">\n     <!-- Вес признака -->\n     <defs>\n      <path d=\"M 19.671875 34.8125 \nL 19.671875 8.109375 \nL 35.5 8.109375 \nQ 43.453125 8.109375 47.28125 11.40625 \nQ 51.125 14.703125 51.125 21.484375 \nQ 51.125 28.328125 47.28125 31.5625 \nQ 43.453125 34.8125 35.5 34.8125 \nz\nM 19.671875 64.796875 \nL 19.671875 42.828125 \nL 34.28125 42.828125 \nQ 41.5 42.828125 45.03125 45.53125 \nQ 48.578125 48.25 48.578125 53.8125 \nQ 48.578125 59.328125 45.03125 62.0625 \nQ 41.5 64.796875 34.28125 64.796875 \nz\nM 9.8125 72.90625 \nL 35.015625 72.90625 \nQ 46.296875 72.90625 52.390625 68.21875 \nQ 58.5 63.53125 58.5 54.890625 \nQ 58.5 48.1875 55.375 44.234375 \nQ 52.25 40.28125 46.1875 39.3125 \nQ 53.46875 37.75 57.5 32.78125 \nQ 61.53125 27.828125 61.53125 20.40625 \nQ 61.53125 10.640625 54.890625 5.3125 \nQ 48.25 0 35.984375 0 \nL 9.8125 0 \nz\n\" id=\"DejaVuSans-1042\"/>\n      <path d=\"M 56.203125 29.59375 \nL 56.203125 25.203125 \nL 14.890625 25.203125 \nQ 15.484375 15.921875 20.484375 11.0625 \nQ 25.484375 6.203125 34.421875 6.203125 \nQ 39.59375 6.203125 44.453125 7.46875 \nQ 49.3125 8.734375 54.109375 11.28125 \nL 54.109375 2.78125 \nQ 49.265625 0.734375 44.1875 -0.34375 \nQ 39.109375 -1.421875 33.890625 -1.421875 \nQ 20.796875 -1.421875 13.15625 6.1875 \nQ 5.515625 13.8125 5.515625 26.8125 \nQ 5.515625 40.234375 12.765625 48.109375 \nQ 20.015625 56 32.328125 56 \nQ 43.359375 56 49.78125 48.890625 \nQ 56.203125 41.796875 56.203125 29.59375 \nz\nM 47.21875 32.234375 \nQ 47.125 39.59375 43.09375 43.984375 \nQ 39.0625 48.390625 32.421875 48.390625 \nQ 24.90625 48.390625 20.390625 44.140625 \nQ 15.875 39.890625 15.1875 32.171875 \nz\n\" id=\"DejaVuSans-1077\"/>\n      <path d=\"M 48.78125 52.59375 \nL 48.78125 44.1875 \nQ 44.96875 46.296875 41.140625 47.34375 \nQ 37.3125 48.390625 33.40625 48.390625 \nQ 24.65625 48.390625 19.8125 42.84375 \nQ 14.984375 37.3125 14.984375 27.296875 \nQ 14.984375 17.28125 19.8125 11.734375 \nQ 24.65625 6.203125 33.40625 6.203125 \nQ 37.3125 6.203125 41.140625 7.25 \nQ 44.96875 8.296875 48.78125 10.40625 \nL 48.78125 2.09375 \nQ 45.015625 0.34375 40.984375 -0.53125 \nQ 36.96875 -1.421875 32.421875 -1.421875 \nQ 20.0625 -1.421875 12.78125 6.34375 \nQ 5.515625 14.109375 5.515625 27.296875 \nQ 5.515625 40.671875 12.859375 48.328125 \nQ 20.21875 56 33.015625 56 \nQ 37.15625 56 41.109375 55.140625 \nQ 45.0625 54.296875 48.78125 52.59375 \nz\n\" id=\"DejaVuSans-1089\"/>\n      <path id=\"DejaVuSans-32\"/>\n      <path d=\"M 56.296875 54.6875 \nL 56.296875 0 \nL 47.265625 0 \nL 47.265625 47.515625 \nL 18.109375 47.515625 \nL 18.109375 0 \nL 9.078125 0 \nL 9.078125 54.6875 \nz\n\" id=\"DejaVuSans-1087\"/>\n      <path d=\"M 18.109375 8.203125 \nL 18.109375 -20.796875 \nL 9.078125 -20.796875 \nL 9.078125 54.6875 \nL 18.109375 54.6875 \nL 18.109375 46.390625 \nQ 20.953125 51.265625 25.265625 53.625 \nQ 29.59375 56 35.59375 56 \nQ 45.5625 56 51.78125 48.09375 \nQ 58.015625 40.1875 58.015625 27.296875 \nQ 58.015625 14.40625 51.78125 6.484375 \nQ 45.5625 -1.421875 35.59375 -1.421875 \nQ 29.59375 -1.421875 25.265625 0.953125 \nQ 20.953125 3.328125 18.109375 8.203125 \nz\nM 48.6875 27.296875 \nQ 48.6875 37.203125 44.609375 42.84375 \nQ 40.53125 48.484375 33.40625 48.484375 \nQ 26.265625 48.484375 22.1875 42.84375 \nQ 18.109375 37.203125 18.109375 27.296875 \nQ 18.109375 17.390625 22.1875 11.75 \nQ 26.265625 6.109375 33.40625 6.109375 \nQ 40.53125 6.109375 44.609375 11.75 \nQ 48.6875 17.390625 48.6875 27.296875 \nz\n\" id=\"DejaVuSans-1088\"/>\n      <path d=\"M 55.90625 54.6875 \nL 55.90625 0 \nL 46.96875 0 \nL 46.96875 43.890625 \nL 20.609375 0 \nL 9.078125 0 \nL 9.078125 54.6875 \nL 18.015625 54.6875 \nL 18.015625 10.890625 \nL 44.34375 54.6875 \nz\n\" id=\"DejaVuSans-1080\"/>\n      <path d=\"M 34.46875 29.5 \nQ 40.53125 28.328125 43.890625 24.75 \nQ 47.265625 21.1875 47.265625 15.921875 \nQ 47.265625 7.46875 40.96875 3.015625 \nQ 34.671875 -1.421875 23.046875 -1.421875 \nQ 19.140625 -1.421875 15.015625 -0.734375 \nQ 10.890625 -0.046875 6.5 1.3125 \nL 6.5 9.671875 \nQ 9.96875 7.859375 14.109375 6.953125 \nQ 18.265625 6.0625 22.796875 6.0625 \nQ 30.171875 6.0625 34.296875 8.796875 \nQ 38.421875 11.53125 38.421875 15.921875 \nQ 38.421875 20.21875 34.765625 22.828125 \nQ 31.109375 25.4375 24.421875 25.4375 \nL 17.1875 25.4375 \nL 17.1875 32.859375 \nL 24.75 32.859375 \nQ 30.421875 32.859375 33.71875 35.03125 \nQ 37.015625 37.203125 37.015625 40.625 \nQ 37.015625 43.75 33.609375 46 \nQ 30.21875 48.25 24.421875 48.25 \nQ 20.953125 48.25 17.015625 47.609375 \nQ 13.09375 46.96875 8.34375 45.5625 \nL 8.34375 53.71875 \nQ 13.140625 54.890625 17.28125 55.46875 \nQ 21.4375 56.0625 25.140625 56.0625 \nQ 34.71875 56.0625 40.25 52.21875 \nQ 45.796875 48.390625 45.796875 41.5 \nQ 45.796875 36.96875 42.859375 33.8125 \nQ 39.9375 30.671875 34.46875 29.5 \nz\n\" id=\"DejaVuSans-1079\"/>\n      <path d=\"M 9.078125 54.6875 \nL 18.109375 54.6875 \nL 18.109375 32.375 \nL 47.265625 32.375 \nL 47.265625 54.6875 \nL 56.296875 54.6875 \nL 56.296875 0 \nL 47.265625 0 \nL 47.265625 25.203125 \nL 18.109375 25.203125 \nL 18.109375 0 \nL 9.078125 0 \nz\n\" id=\"DejaVuSans-1085\"/>\n      <path d=\"M 34.28125 27.484375 \nQ 23.390625 27.484375 19.1875 25 \nQ 14.984375 22.515625 14.984375 16.5 \nQ 14.984375 11.71875 18.140625 8.90625 \nQ 21.296875 6.109375 26.703125 6.109375 \nQ 34.1875 6.109375 38.703125 11.40625 \nQ 43.21875 16.703125 43.21875 25.484375 \nL 43.21875 27.484375 \nz\nM 52.203125 31.203125 \nL 52.203125 0 \nL 43.21875 0 \nL 43.21875 8.296875 \nQ 40.140625 3.328125 35.546875 0.953125 \nQ 30.953125 -1.421875 24.3125 -1.421875 \nQ 15.921875 -1.421875 10.953125 3.296875 \nQ 6 8.015625 6 15.921875 \nQ 6 25.140625 12.171875 29.828125 \nQ 18.359375 34.515625 30.609375 34.515625 \nL 43.21875 34.515625 \nL 43.21875 35.40625 \nQ 43.21875 41.609375 39.140625 45 \nQ 35.0625 48.390625 27.6875 48.390625 \nQ 23 48.390625 18.546875 47.265625 \nQ 14.109375 46.140625 10.015625 43.890625 \nL 10.015625 52.203125 \nQ 14.9375 54.109375 19.578125 55.046875 \nQ 24.21875 56 28.609375 56 \nQ 40.484375 56 46.34375 49.84375 \nQ 52.203125 43.703125 52.203125 31.203125 \nz\n\" id=\"DejaVuSans-1072\"/>\n      <path d=\"M 9.078125 54.6875 \nL 18.015625 54.6875 \nL 18.015625 29 \nL 43.359375 54.6875 \nL 54.390625 54.6875 \nL 33.5 33.546875 \nL 57.078125 0 \nL 47.015625 0 \nL 27.640625 27.59375 \nL 18.015625 17.828125 \nL 18.015625 0 \nL 9.078125 0 \nz\n\" id=\"DejaVuSans-1082\"/>\n     </defs>\n     <g transform=\"translate(201.346094 252.916562)scale(0.1 -0.1)\">\n      <use xlink:href=\"#DejaVuSans-1042\"/>\n      <use x=\"68.603516\" xlink:href=\"#DejaVuSans-1077\"/>\n      <use x=\"130.126953\" xlink:href=\"#DejaVuSans-1089\"/>\n      <use x=\"185.107422\" xlink:href=\"#DejaVuSans-32\"/>\n      <use x=\"216.894531\" xlink:href=\"#DejaVuSans-1087\"/>\n      <use x=\"282.275391\" xlink:href=\"#DejaVuSans-1088\"/>\n      <use x=\"345.751953\" xlink:href=\"#DejaVuSans-1080\"/>\n      <use x=\"410.742188\" xlink:href=\"#DejaVuSans-1079\"/>\n      <use x=\"463.916016\" xlink:href=\"#DejaVuSans-1085\"/>\n      <use x=\"529.296875\" xlink:href=\"#DejaVuSans-1072\"/>\n      <use x=\"590.576172\" xlink:href=\"#DejaVuSans-1082\"/>\n      <use x=\"650.976562\" xlink:href=\"#DejaVuSans-1072\"/>\n     </g>\n    </g>\n   </g>\n   <g id=\"matplotlib.axis_2\">\n    <g id=\"ytick_1\">\n     <g id=\"line2d_10\">\n      <defs>\n       <path d=\"M 0 0 \nL -3.5 0 \n\" id=\"m743a7e0662\" style=\"stroke:#000000;stroke-width:0.8;\"/>\n      </defs>\n      <g>\n       <use style=\"stroke:#000000;stroke-width:0.8;\" x=\"69.559375\" xlink:href=\"#m743a7e0662\" y=\"208.579091\"/>\n      </g>\n     </g>\n     <g id=\"text_11\">\n      <!-- CRIM -->\n      <defs>\n       <path d=\"M 64.40625 67.28125 \nL 64.40625 56.890625 \nQ 59.421875 61.53125 53.78125 63.8125 \nQ 48.140625 66.109375 41.796875 66.109375 \nQ 29.296875 66.109375 22.65625 58.46875 \nQ 16.015625 50.828125 16.015625 36.375 \nQ 16.015625 21.96875 22.65625 14.328125 \nQ 29.296875 6.6875 41.796875 6.6875 \nQ 48.140625 6.6875 53.78125 8.984375 \nQ 59.421875 11.28125 64.40625 15.921875 \nL 64.40625 5.609375 \nQ 59.234375 2.09375 53.4375 0.328125 \nQ 47.65625 -1.421875 41.21875 -1.421875 \nQ 24.65625 -1.421875 15.125 8.703125 \nQ 5.609375 18.84375 5.609375 36.375 \nQ 5.609375 53.953125 15.125 64.078125 \nQ 24.65625 74.21875 41.21875 74.21875 \nQ 47.75 74.21875 53.53125 72.484375 \nQ 59.328125 70.75 64.40625 67.28125 \nz\n\" id=\"DejaVuSans-67\"/>\n       <path d=\"M 44.390625 34.1875 \nQ 47.5625 33.109375 50.5625 29.59375 \nQ 53.5625 26.078125 56.59375 19.921875 \nL 66.609375 0 \nL 56 0 \nL 46.6875 18.703125 \nQ 43.0625 26.03125 39.671875 28.421875 \nQ 36.28125 30.8125 30.421875 30.8125 \nL 19.671875 30.8125 \nL 19.671875 0 \nL 9.8125 0 \nL 9.8125 72.90625 \nL 32.078125 72.90625 \nQ 44.578125 72.90625 50.734375 67.671875 \nQ 56.890625 62.453125 56.890625 51.90625 \nQ 56.890625 45.015625 53.6875 40.46875 \nQ 50.484375 35.9375 44.390625 34.1875 \nz\nM 19.671875 64.796875 \nL 19.671875 38.921875 \nL 32.078125 38.921875 \nQ 39.203125 38.921875 42.84375 42.21875 \nQ 46.484375 45.515625 46.484375 51.90625 \nQ 46.484375 58.296875 42.84375 61.546875 \nQ 39.203125 64.796875 32.078125 64.796875 \nz\n\" id=\"DejaVuSans-82\"/>\n       <path d=\"M 9.8125 72.90625 \nL 19.671875 72.90625 \nL 19.671875 0 \nL 9.8125 0 \nz\n\" id=\"DejaVuSans-73\"/>\n       <path d=\"M 9.8125 72.90625 \nL 24.515625 72.90625 \nL 43.109375 23.296875 \nL 61.8125 72.90625 \nL 76.515625 72.90625 \nL 76.515625 0 \nL 66.890625 0 \nL 66.890625 64.015625 \nL 48.09375 14.015625 \nL 38.1875 14.015625 \nL 19.390625 64.015625 \nL 19.390625 0 \nL 9.8125 0 \nz\n\" id=\"DejaVuSans-77\"/>\n      </defs>\n      <g transform=\"translate(37.05 212.37831)scale(0.1 -0.1)\">\n       <use xlink:href=\"#DejaVuSans-67\"/>\n       <use x=\"69.824219\" xlink:href=\"#DejaVuSans-82\"/>\n       <use x=\"139.306641\" xlink:href=\"#DejaVuSans-73\"/>\n       <use x=\"168.798828\" xlink:href=\"#DejaVuSans-77\"/>\n      </g>\n     </g>\n    </g>\n    <g id=\"ytick_2\">\n     <g id=\"line2d_11\">\n      <g>\n       <use style=\"stroke:#000000;stroke-width:0.8;\" x=\"69.559375\" xlink:href=\"#m743a7e0662\" y=\"193.135909\"/>\n      </g>\n     </g>\n     <g id=\"text_12\">\n      <!-- ZN -->\n      <defs>\n       <path d=\"M 5.609375 72.90625 \nL 62.890625 72.90625 \nL 62.890625 65.375 \nL 16.796875 8.296875 \nL 64.015625 8.296875 \nL 64.015625 0 \nL 4.5 0 \nL 4.5 7.515625 \nL 50.59375 64.59375 \nL 5.609375 64.59375 \nz\n\" id=\"DejaVuSans-90\"/>\n       <path d=\"M 9.8125 72.90625 \nL 23.09375 72.90625 \nL 55.421875 11.921875 \nL 55.421875 72.90625 \nL 64.984375 72.90625 \nL 64.984375 0 \nL 51.703125 0 \nL 19.390625 60.984375 \nL 19.390625 0 \nL 9.8125 0 \nz\n\" id=\"DejaVuSans-78\"/>\n      </defs>\n      <g transform=\"translate(48.228125 196.935128)scale(0.1 -0.1)\">\n       <use xlink:href=\"#DejaVuSans-90\"/>\n       <use x=\"68.505859\" xlink:href=\"#DejaVuSans-78\"/>\n      </g>\n     </g>\n    </g>\n    <g id=\"ytick_3\">\n     <g id=\"line2d_12\">\n      <g>\n       <use style=\"stroke:#000000;stroke-width:0.8;\" x=\"69.559375\" xlink:href=\"#m743a7e0662\" y=\"177.692727\"/>\n      </g>\n     </g>\n     <g id=\"text_13\">\n      <!-- INDUS -->\n      <defs>\n       <path d=\"M 19.671875 64.796875 \nL 19.671875 8.109375 \nL 31.59375 8.109375 \nQ 46.6875 8.109375 53.6875 14.9375 \nQ 60.6875 21.78125 60.6875 36.53125 \nQ 60.6875 51.171875 53.6875 57.984375 \nQ 46.6875 64.796875 31.59375 64.796875 \nz\nM 9.8125 72.90625 \nL 30.078125 72.90625 \nQ 51.265625 72.90625 61.171875 64.09375 \nQ 71.09375 55.28125 71.09375 36.53125 \nQ 71.09375 17.671875 61.125 8.828125 \nQ 51.171875 0 30.078125 0 \nL 9.8125 0 \nz\n\" id=\"DejaVuSans-68\"/>\n       <path d=\"M 8.6875 72.90625 \nL 18.609375 72.90625 \nL 18.609375 28.609375 \nQ 18.609375 16.890625 22.84375 11.734375 \nQ 27.09375 6.59375 36.625 6.59375 \nQ 46.09375 6.59375 50.34375 11.734375 \nQ 54.59375 16.890625 54.59375 28.609375 \nL 54.59375 72.90625 \nL 64.5 72.90625 \nL 64.5 27.390625 \nQ 64.5 13.140625 57.4375 5.859375 \nQ 50.390625 -1.421875 36.625 -1.421875 \nQ 22.796875 -1.421875 15.734375 5.859375 \nQ 8.6875 13.140625 8.6875 27.390625 \nz\n\" id=\"DejaVuSans-85\"/>\n       <path d=\"M 53.515625 70.515625 \nL 53.515625 60.890625 \nQ 47.90625 63.578125 42.921875 64.890625 \nQ 37.9375 66.21875 33.296875 66.21875 \nQ 25.25 66.21875 20.875 63.09375 \nQ 16.5 59.96875 16.5 54.203125 \nQ 16.5 49.359375 19.40625 46.890625 \nQ 22.3125 44.4375 30.421875 42.921875 \nL 36.375 41.703125 \nQ 47.40625 39.59375 52.65625 34.296875 \nQ 57.90625 29 57.90625 20.125 \nQ 57.90625 9.515625 50.796875 4.046875 \nQ 43.703125 -1.421875 29.984375 -1.421875 \nQ 24.8125 -1.421875 18.96875 -0.25 \nQ 13.140625 0.921875 6.890625 3.21875 \nL 6.890625 13.375 \nQ 12.890625 10.015625 18.65625 8.296875 \nQ 24.421875 6.59375 29.984375 6.59375 \nQ 38.421875 6.59375 43.015625 9.90625 \nQ 47.609375 13.234375 47.609375 19.390625 \nQ 47.609375 24.75 44.3125 27.78125 \nQ 41.015625 30.8125 33.5 32.328125 \nL 27.484375 33.5 \nQ 16.453125 35.6875 11.515625 40.375 \nQ 6.59375 45.0625 6.59375 53.421875 \nQ 6.59375 63.09375 13.40625 68.65625 \nQ 20.21875 74.21875 32.171875 74.21875 \nQ 37.3125 74.21875 42.625 73.28125 \nQ 47.953125 72.359375 53.515625 70.515625 \nz\n\" id=\"DejaVuSans-83\"/>\n      </defs>\n      <g transform=\"translate(30.760938 181.491946)scale(0.1 -0.1)\">\n       <use xlink:href=\"#DejaVuSans-73\"/>\n       <use x=\"29.492188\" xlink:href=\"#DejaVuSans-78\"/>\n       <use x=\"104.296875\" xlink:href=\"#DejaVuSans-68\"/>\n       <use x=\"181.298828\" xlink:href=\"#DejaVuSans-85\"/>\n       <use x=\"254.492188\" xlink:href=\"#DejaVuSans-83\"/>\n      </g>\n     </g>\n    </g>\n    <g id=\"ytick_4\">\n     <g id=\"line2d_13\">\n      <g>\n       <use style=\"stroke:#000000;stroke-width:0.8;\" x=\"69.559375\" xlink:href=\"#m743a7e0662\" y=\"162.249545\"/>\n      </g>\n     </g>\n     <g id=\"text_14\">\n      <!-- CHAS -->\n      <defs>\n       <path d=\"M 9.8125 72.90625 \nL 19.671875 72.90625 \nL 19.671875 43.015625 \nL 55.515625 43.015625 \nL 55.515625 72.90625 \nL 65.375 72.90625 \nL 65.375 0 \nL 55.515625 0 \nL 55.515625 34.71875 \nL 19.671875 34.71875 \nL 19.671875 0 \nL 9.8125 0 \nz\n\" id=\"DejaVuSans-72\"/>\n       <path d=\"M 34.1875 63.1875 \nL 20.796875 26.90625 \nL 47.609375 26.90625 \nz\nM 28.609375 72.90625 \nL 39.796875 72.90625 \nL 67.578125 0 \nL 57.328125 0 \nL 50.6875 18.703125 \nL 17.828125 18.703125 \nL 11.1875 0 \nL 0.78125 0 \nz\n\" id=\"DejaVuSans-65\"/>\n      </defs>\n      <g transform=\"translate(34.867188 166.048764)scale(0.1 -0.1)\">\n       <use xlink:href=\"#DejaVuSans-67\"/>\n       <use x=\"69.824219\" xlink:href=\"#DejaVuSans-72\"/>\n       <use x=\"145.019531\" xlink:href=\"#DejaVuSans-65\"/>\n       <use x=\"213.427734\" xlink:href=\"#DejaVuSans-83\"/>\n      </g>\n     </g>\n    </g>\n    <g id=\"ytick_5\">\n     <g id=\"line2d_14\">\n      <g>\n       <use style=\"stroke:#000000;stroke-width:0.8;\" x=\"69.559375\" xlink:href=\"#m743a7e0662\" y=\"146.806364\"/>\n      </g>\n     </g>\n     <g id=\"text_15\">\n      <!-- NOX -->\n      <defs>\n       <path d=\"M 39.40625 66.21875 \nQ 28.65625 66.21875 22.328125 58.203125 \nQ 16.015625 50.203125 16.015625 36.375 \nQ 16.015625 22.609375 22.328125 14.59375 \nQ 28.65625 6.59375 39.40625 6.59375 \nQ 50.140625 6.59375 56.421875 14.59375 \nQ 62.703125 22.609375 62.703125 36.375 \nQ 62.703125 50.203125 56.421875 58.203125 \nQ 50.140625 66.21875 39.40625 66.21875 \nz\nM 39.40625 74.21875 \nQ 54.734375 74.21875 63.90625 63.9375 \nQ 73.09375 53.65625 73.09375 36.375 \nQ 73.09375 19.140625 63.90625 8.859375 \nQ 54.734375 -1.421875 39.40625 -1.421875 \nQ 24.03125 -1.421875 14.8125 8.828125 \nQ 5.609375 19.09375 5.609375 36.375 \nQ 5.609375 53.65625 14.8125 63.9375 \nQ 24.03125 74.21875 39.40625 74.21875 \nz\n\" id=\"DejaVuSans-79\"/>\n       <path d=\"M 6.296875 72.90625 \nL 16.890625 72.90625 \nL 35.015625 45.796875 \nL 53.21875 72.90625 \nL 63.8125 72.90625 \nL 40.375 37.890625 \nL 65.375 0 \nL 54.78125 0 \nL 34.28125 31 \nL 13.625 0 \nL 2.984375 0 \nL 29 38.921875 \nz\n\" id=\"DejaVuSans-88\"/>\n      </defs>\n      <g transform=\"translate(40.99375 150.605582)scale(0.1 -0.1)\">\n       <use xlink:href=\"#DejaVuSans-78\"/>\n       <use x=\"74.804688\" xlink:href=\"#DejaVuSans-79\"/>\n       <use x=\"147.140625\" xlink:href=\"#DejaVuSans-88\"/>\n      </g>\n     </g>\n    </g>\n    <g id=\"ytick_6\">\n     <g id=\"line2d_15\">\n      <g>\n       <use style=\"stroke:#000000;stroke-width:0.8;\" x=\"69.559375\" xlink:href=\"#m743a7e0662\" y=\"131.363182\"/>\n      </g>\n     </g>\n     <g id=\"text_16\">\n      <!-- RM -->\n      <g transform=\"translate(46.982813 135.162401)scale(0.1 -0.1)\">\n       <use xlink:href=\"#DejaVuSans-82\"/>\n       <use x=\"69.482422\" xlink:href=\"#DejaVuSans-77\"/>\n      </g>\n     </g>\n    </g>\n    <g id=\"ytick_7\">\n     <g id=\"line2d_16\">\n      <g>\n       <use style=\"stroke:#000000;stroke-width:0.8;\" x=\"69.559375\" xlink:href=\"#m743a7e0662\" y=\"115.92\"/>\n      </g>\n     </g>\n     <g id=\"text_17\">\n      <!-- AGE -->\n      <defs>\n       <path d=\"M 59.515625 10.40625 \nL 59.515625 29.984375 \nL 43.40625 29.984375 \nL 43.40625 38.09375 \nL 69.28125 38.09375 \nL 69.28125 6.78125 \nQ 63.578125 2.734375 56.6875 0.65625 \nQ 49.8125 -1.421875 42 -1.421875 \nQ 24.90625 -1.421875 15.25 8.5625 \nQ 5.609375 18.5625 5.609375 36.375 \nQ 5.609375 54.25 15.25 64.234375 \nQ 24.90625 74.21875 42 74.21875 \nQ 49.125 74.21875 55.546875 72.453125 \nQ 61.96875 70.703125 67.390625 67.28125 \nL 67.390625 56.78125 \nQ 61.921875 61.421875 55.765625 63.765625 \nQ 49.609375 66.109375 42.828125 66.109375 \nQ 29.4375 66.109375 22.71875 58.640625 \nQ 16.015625 51.171875 16.015625 36.375 \nQ 16.015625 21.625 22.71875 14.15625 \nQ 29.4375 6.6875 42.828125 6.6875 \nQ 48.046875 6.6875 52.140625 7.59375 \nQ 56.25 8.5 59.515625 10.40625 \nz\n\" id=\"DejaVuSans-71\"/>\n       <path d=\"M 9.8125 72.90625 \nL 55.90625 72.90625 \nL 55.90625 64.59375 \nL 19.671875 64.59375 \nL 19.671875 43.015625 \nL 54.390625 43.015625 \nL 54.390625 34.71875 \nL 19.671875 34.71875 \nL 19.671875 8.296875 \nL 56.78125 8.296875 \nL 56.78125 0 \nL 9.8125 0 \nz\n\" id=\"DejaVuSans-69\"/>\n      </defs>\n      <g transform=\"translate(41.826563 119.719219)scale(0.1 -0.1)\">\n       <use xlink:href=\"#DejaVuSans-65\"/>\n       <use x=\"66.658203\" xlink:href=\"#DejaVuSans-71\"/>\n       <use x=\"144.148438\" xlink:href=\"#DejaVuSans-69\"/>\n      </g>\n     </g>\n    </g>\n    <g id=\"ytick_8\">\n     <g id=\"line2d_17\">\n      <g>\n       <use style=\"stroke:#000000;stroke-width:0.8;\" x=\"69.559375\" xlink:href=\"#m743a7e0662\" y=\"100.476818\"/>\n      </g>\n     </g>\n     <g id=\"text_18\">\n      <!-- DIS -->\n      <g transform=\"translate(45.560938 104.276037)scale(0.1 -0.1)\">\n       <use xlink:href=\"#DejaVuSans-68\"/>\n       <use x=\"77.001953\" xlink:href=\"#DejaVuSans-73\"/>\n       <use x=\"106.494141\" xlink:href=\"#DejaVuSans-83\"/>\n      </g>\n     </g>\n    </g>\n    <g id=\"ytick_9\">\n     <g id=\"line2d_18\">\n      <g>\n       <use style=\"stroke:#000000;stroke-width:0.8;\" x=\"69.559375\" xlink:href=\"#m743a7e0662\" y=\"85.033636\"/>\n      </g>\n     </g>\n     <g id=\"text_19\">\n      <!-- RAD -->\n      <g transform=\"translate(41.470313 88.832855)scale(0.1 -0.1)\">\n       <use xlink:href=\"#DejaVuSans-82\"/>\n       <use x=\"65.482422\" xlink:href=\"#DejaVuSans-65\"/>\n       <use x=\"133.890625\" xlink:href=\"#DejaVuSans-68\"/>\n      </g>\n     </g>\n    </g>\n    <g id=\"ytick_10\">\n     <g id=\"line2d_19\">\n      <g>\n       <use style=\"stroke:#000000;stroke-width:0.8;\" x=\"69.559375\" xlink:href=\"#m743a7e0662\" y=\"69.590455\"/>\n      </g>\n     </g>\n     <g id=\"text_20\">\n      <!-- TAX -->\n      <defs>\n       <path d=\"M -0.296875 72.90625 \nL 61.375 72.90625 \nL 61.375 64.59375 \nL 35.5 64.59375 \nL 35.5 0 \nL 25.59375 0 \nL 25.59375 64.59375 \nL -0.296875 64.59375 \nz\n\" id=\"DejaVuSans-84\"/>\n      </defs>\n      <g transform=\"translate(43.535938 73.389673)scale(0.1 -0.1)\">\n       <use xlink:href=\"#DejaVuSans-84\"/>\n       <use x=\"53.333984\" xlink:href=\"#DejaVuSans-65\"/>\n       <use x=\"121.742188\" xlink:href=\"#DejaVuSans-88\"/>\n      </g>\n     </g>\n    </g>\n    <g id=\"ytick_11\">\n     <g id=\"line2d_20\">\n      <g>\n       <use style=\"stroke:#000000;stroke-width:0.8;\" x=\"69.559375\" xlink:href=\"#m743a7e0662\" y=\"54.147273\"/>\n      </g>\n     </g>\n     <g id=\"text_21\">\n      <!-- PTRATIO -->\n      <defs>\n       <path d=\"M 19.671875 64.796875 \nL 19.671875 37.40625 \nL 32.078125 37.40625 \nQ 38.96875 37.40625 42.71875 40.96875 \nQ 46.484375 44.53125 46.484375 51.125 \nQ 46.484375 57.671875 42.71875 61.234375 \nQ 38.96875 64.796875 32.078125 64.796875 \nz\nM 9.8125 72.90625 \nL 32.078125 72.90625 \nQ 44.34375 72.90625 50.609375 67.359375 \nQ 56.890625 61.8125 56.890625 51.125 \nQ 56.890625 40.328125 50.609375 34.8125 \nQ 44.34375 29.296875 32.078125 29.296875 \nL 19.671875 29.296875 \nL 19.671875 0 \nL 9.8125 0 \nz\n\" id=\"DejaVuSans-80\"/>\n      </defs>\n      <g transform=\"translate(20.878125 57.946491)scale(0.1 -0.1)\">\n       <use xlink:href=\"#DejaVuSans-80\"/>\n       <use x=\"60.302734\" xlink:href=\"#DejaVuSans-84\"/>\n       <use x=\"121.386719\" xlink:href=\"#DejaVuSans-82\"/>\n       <use x=\"186.869141\" xlink:href=\"#DejaVuSans-65\"/>\n       <use x=\"247.527344\" xlink:href=\"#DejaVuSans-84\"/>\n       <use x=\"308.611328\" xlink:href=\"#DejaVuSans-73\"/>\n       <use x=\"338.103516\" xlink:href=\"#DejaVuSans-79\"/>\n      </g>\n     </g>\n    </g>\n    <g id=\"ytick_12\">\n     <g id=\"line2d_21\">\n      <g>\n       <use style=\"stroke:#000000;stroke-width:0.8;\" x=\"69.559375\" xlink:href=\"#m743a7e0662\" y=\"38.704091\"/>\n      </g>\n     </g>\n     <g id=\"text_22\">\n      <!-- B -->\n      <defs>\n       <path d=\"M 19.671875 34.8125 \nL 19.671875 8.109375 \nL 35.5 8.109375 \nQ 43.453125 8.109375 47.28125 11.40625 \nQ 51.125 14.703125 51.125 21.484375 \nQ 51.125 28.328125 47.28125 31.5625 \nQ 43.453125 34.8125 35.5 34.8125 \nz\nM 19.671875 64.796875 \nL 19.671875 42.828125 \nL 34.28125 42.828125 \nQ 41.5 42.828125 45.03125 45.53125 \nQ 48.578125 48.25 48.578125 53.8125 \nQ 48.578125 59.328125 45.03125 62.0625 \nQ 41.5 64.796875 34.28125 64.796875 \nz\nM 9.8125 72.90625 \nL 35.015625 72.90625 \nQ 46.296875 72.90625 52.390625 68.21875 \nQ 58.5 63.53125 58.5 54.890625 \nQ 58.5 48.1875 55.375 44.234375 \nQ 52.25 40.28125 46.1875 39.3125 \nQ 53.46875 37.75 57.5 32.78125 \nQ 61.53125 27.828125 61.53125 20.40625 \nQ 61.53125 10.640625 54.890625 5.3125 \nQ 48.25 0 35.984375 0 \nL 9.8125 0 \nz\n\" id=\"DejaVuSans-66\"/>\n      </defs>\n      <g transform=\"translate(55.698438 42.50331)scale(0.1 -0.1)\">\n       <use xlink:href=\"#DejaVuSans-66\"/>\n      </g>\n     </g>\n    </g>\n    <g id=\"ytick_13\">\n     <g id=\"line2d_22\">\n      <g>\n       <use style=\"stroke:#000000;stroke-width:0.8;\" x=\"69.559375\" xlink:href=\"#m743a7e0662\" y=\"23.260909\"/>\n      </g>\n     </g>\n     <g id=\"text_23\">\n      <!-- LSTAT -->\n      <defs>\n       <path d=\"M 9.8125 72.90625 \nL 19.671875 72.90625 \nL 19.671875 8.296875 \nL 55.171875 8.296875 \nL 55.171875 0 \nL 9.8125 0 \nz\n\" id=\"DejaVuSans-76\"/>\n      </defs>\n      <g transform=\"translate(33.132812 27.060128)scale(0.1 -0.1)\">\n       <use xlink:href=\"#DejaVuSans-76\"/>\n       <use x=\"55.712891\" xlink:href=\"#DejaVuSans-83\"/>\n       <use x=\"119.189453\" xlink:href=\"#DejaVuSans-84\"/>\n       <use x=\"172.523438\" xlink:href=\"#DejaVuSans-65\"/>\n       <use x=\"233.181641\" xlink:href=\"#DejaVuSans-84\"/>\n      </g>\n     </g>\n    </g>\n    <g id=\"text_24\">\n     <!-- Признак -->\n     <defs>\n      <path d=\"M 65.375 72.90625 \nL 65.375 0 \nL 55.515625 0 \nL 55.515625 64.59375 \nL 19.671875 64.59375 \nL 19.671875 0 \nL 9.8125 0 \nL 9.8125 72.90625 \nz\n\" id=\"DejaVuSans-1055\"/>\n     </defs>\n     <g transform=\"translate(14.798437 138.115312)rotate(-90)scale(0.1 -0.1)\">\n      <use xlink:href=\"#DejaVuSans-1055\"/>\n      <use x=\"75.195312\" xlink:href=\"#DejaVuSans-1088\"/>\n      <use x=\"138.671875\" xlink:href=\"#DejaVuSans-1080\"/>\n      <use x=\"203.662109\" xlink:href=\"#DejaVuSans-1079\"/>\n      <use x=\"256.835938\" xlink:href=\"#DejaVuSans-1085\"/>\n      <use x=\"322.216797\" xlink:href=\"#DejaVuSans-1072\"/>\n      <use x=\"383.496094\" xlink:href=\"#DejaVuSans-1082\"/>\n     </g>\n    </g>\n   </g>\n   <g id=\"patch_16\">\n    <path d=\"M 69.559375 224.64 \nL 69.559375 7.2 \n\" style=\"fill:none;stroke:#000000;stroke-linecap:square;stroke-linejoin:miter;stroke-width:0.8;\"/>\n   </g>\n   <g id=\"patch_17\">\n    <path d=\"M 404.359375 224.64 \nL 404.359375 7.2 \n\" style=\"fill:none;stroke:#000000;stroke-linecap:square;stroke-linejoin:miter;stroke-width:0.8;\"/>\n   </g>\n   <g id=\"patch_18\">\n    <path d=\"M 69.559375 224.64 \nL 404.359375 224.64 \n\" style=\"fill:none;stroke:#000000;stroke-linecap:square;stroke-linejoin:miter;stroke-width:0.8;\"/>\n   </g>\n   <g id=\"patch_19\">\n    <path d=\"M 69.559375 7.2 \nL 404.359375 7.2 \n\" style=\"fill:none;stroke:#000000;stroke-linecap:square;stroke-linejoin:miter;stroke-width:0.8;\"/>\n   </g>\n  </g>\n </g>\n <defs>\n  <clipPath id=\"pbb0e5528ca\">\n   <rect height=\"217.44\" width=\"334.8\" x=\"69.559375\" y=\"7.2\"/>\n  </clipPath>\n </defs>\n</svg>\n"
          },
          "metadata": {
            "needs_background": "light"
          }
        }
      ]
    },
    {
      "cell_type": "code",
      "metadata": {
        "colab": {
          "base_uri": "https://localhost:8080/",
          "height": 370
        },
        "id": "aBLmm6-9tHny",
        "outputId": "d18f3b86-b419-4a3a-f771-aab96dc23285"
      },
      "source": [
        "#проведем стандартизацию признаков, чтобы трезво оценить веса\n",
        "scaler = StandardScaler()\n",
        "X_train_scaled = scaler.fit_transform(X_train)\n",
        "X_train_scaled = pd.DataFrame(X_train_scaled, columns=feature_names)\n",
        "X_test_scaled = scaler.fit_transform(X_test)\n",
        "X_test_scaled = pd.DataFrame(X_test_scaled, columns=feature_names)\n",
        "\n",
        "#Обучим модель заново\n",
        "lr.fit(X_train_scaled, y_train)\n",
        "\n",
        "y_pred = lr.predict(X_test_scaled)\n",
        "\n",
        "# Визуально оценим, какой коэффициент теперь имеет наибольший вклад\n",
        "plt.barh(feature_names, lr.coef_.flatten())\n",
        "plt.xlabel(\"Вес признака\")\n",
        "plt.ylabel(\"Признак\")\n",
        "plt.show()"
      ],
      "execution_count": 44,
      "outputs": [
        {
          "output_type": "display_data",
          "data": {
            "text/plain": [
              "<Figure size 432x288 with 1 Axes>"
            ],
            "image/svg+xml": "<?xml version=\"1.0\" encoding=\"utf-8\" standalone=\"no\"?>\n<!DOCTYPE svg PUBLIC \"-//W3C//DTD SVG 1.1//EN\"\n  \"http://www.w3.org/Graphics/SVG/1.1/DTD/svg11.dtd\">\n<!-- Created with matplotlib (https://matplotlib.org/) -->\n<svg height=\"262.19625pt\" version=\"1.1\" viewBox=\"0 0 411.559375 262.19625\" width=\"411.559375pt\" xmlns=\"http://www.w3.org/2000/svg\" xmlns:xlink=\"http://www.w3.org/1999/xlink\">\n <defs>\n  <style type=\"text/css\">\n*{stroke-linecap:butt;stroke-linejoin:round;}\n  </style>\n </defs>\n <g id=\"figure_1\">\n  <g id=\"patch_1\">\n   <path d=\"M 0 262.19625 \nL 411.559375 262.19625 \nL 411.559375 0 \nL 0 0 \nz\n\" style=\"fill:none;\"/>\n  </g>\n  <g id=\"axes_1\">\n   <g id=\"patch_2\">\n    <path d=\"M 69.559375 224.64 \nL 404.359375 224.64 \nL 404.359375 7.2 \nL 69.559375 7.2 \nz\n\" style=\"fill:#ffffff;\"/>\n   </g>\n   <g id=\"patch_3\">\n    <path clip-path=\"url(#pfd1a39524b)\" d=\"M 258.712028 214.756364 \nL 209.100603 214.756364 \nL 209.100603 202.401818 \nL 258.712028 202.401818 \nz\n\" style=\"fill:#1f77b4;\"/>\n   </g>\n   <g id=\"patch_4\">\n    <path clip-path=\"url(#pfd1a39524b)\" d=\"M 258.712028 199.313182 \nL 294.899156 199.313182 \nL 294.899156 186.958636 \nL 258.712028 186.958636 \nz\n\" style=\"fill:#1f77b4;\"/>\n   </g>\n   <g id=\"patch_5\">\n    <path clip-path=\"url(#pfd1a39524b)\" d=\"M 258.712028 183.87 \nL 274.07131 183.87 \nL 274.07131 171.515455 \nL 258.712028 171.515455 \nz\n\" style=\"fill:#1f77b4;\"/>\n   </g>\n   <g id=\"patch_6\">\n    <path clip-path=\"url(#pfd1a39524b)\" d=\"M 258.712028 168.426818 \nL 295.141955 168.426818 \nL 295.141955 156.072273 \nL 258.712028 156.072273 \nz\n\" style=\"fill:#1f77b4;\"/>\n   </g>\n   <g id=\"patch_7\">\n    <path clip-path=\"url(#pfd1a39524b)\" d=\"M 258.712028 152.983636 \nL 178.228613 152.983636 \nL 178.228613 140.629091 \nL 258.712028 140.629091 \nz\n\" style=\"fill:#1f77b4;\"/>\n   </g>\n   <g id=\"patch_8\">\n    <path clip-path=\"url(#pfd1a39524b)\" d=\"M 258.712028 137.540455 \nL 389.141193 137.540455 \nL 389.141193 125.185909 \nL 258.712028 125.185909 \nz\n\" style=\"fill:#1f77b4;\"/>\n   </g>\n   <g id=\"patch_9\">\n    <path clip-path=\"url(#pfd1a39524b)\" d=\"M 258.712028 122.097273 \nL 245.33101 122.097273 \nL 245.33101 109.742727 \nL 258.712028 109.742727 \nz\n\" style=\"fill:#1f77b4;\"/>\n   </g>\n   <g id=\"patch_10\">\n    <path clip-path=\"url(#pfd1a39524b)\" d=\"M 258.712028 106.654091 \nL 127.000285 106.654091 \nL 127.000285 94.299545 \nL 258.712028 94.299545 \nz\n\" style=\"fill:#1f77b4;\"/>\n   </g>\n   <g id=\"patch_11\">\n    <path clip-path=\"url(#pfd1a39524b)\" d=\"M 258.712028 91.210909 \nL 352.451616 91.210909 \nL 352.451616 78.856364 \nL 258.712028 78.856364 \nz\n\" style=\"fill:#1f77b4;\"/>\n   </g>\n   <g id=\"patch_12\">\n    <path clip-path=\"url(#pfd1a39524b)\" d=\"M 258.712028 75.767727 \nL 193.938871 75.767727 \nL 193.938871 63.413182 \nL 258.712028 63.413182 \nz\n\" style=\"fill:#1f77b4;\"/>\n   </g>\n   <g id=\"patch_13\">\n    <path clip-path=\"url(#pfd1a39524b)\" d=\"M 258.712028 60.324545 \nL 166.846642 60.324545 \nL 166.846642 47.97 \nL 258.712028 47.97 \nz\n\" style=\"fill:#1f77b4;\"/>\n   </g>\n   <g id=\"patch_14\">\n    <path clip-path=\"url(#pfd1a39524b)\" d=\"M 258.712028 44.881364 \nL 304.536877 44.881364 \nL 304.536877 32.526818 \nL 258.712028 32.526818 \nz\n\" style=\"fill:#1f77b4;\"/>\n   </g>\n   <g id=\"patch_15\">\n    <path clip-path=\"url(#pfd1a39524b)\" d=\"M 258.712028 29.438182 \nL 84.777557 29.438182 \nL 84.777557 17.083636 \nL 258.712028 17.083636 \nz\n\" style=\"fill:#1f77b4;\"/>\n   </g>\n   <g id=\"matplotlib.axis_1\">\n    <g id=\"xtick_1\">\n     <g id=\"line2d_1\">\n      <defs>\n       <path d=\"M 0 0 \nL 0 3.5 \n\" id=\"m3932e74062\" style=\"stroke:#000000;stroke-width:0.8;\"/>\n      </defs>\n      <g>\n       <use style=\"stroke:#000000;stroke-width:0.8;\" x=\"79.665327\" xlink:href=\"#m3932e74062\" y=\"224.64\"/>\n      </g>\n     </g>\n     <g id=\"text_1\">\n      <!-- −4 -->\n      <defs>\n       <path d=\"M 10.59375 35.5 \nL 73.1875 35.5 \nL 73.1875 27.203125 \nL 10.59375 27.203125 \nz\n\" id=\"DejaVuSans-8722\"/>\n       <path d=\"M 37.796875 64.3125 \nL 12.890625 25.390625 \nL 37.796875 25.390625 \nz\nM 35.203125 72.90625 \nL 47.609375 72.90625 \nL 47.609375 25.390625 \nL 58.015625 25.390625 \nL 58.015625 17.1875 \nL 47.609375 17.1875 \nL 47.609375 0 \nL 37.796875 0 \nL 37.796875 17.1875 \nL 4.890625 17.1875 \nL 4.890625 26.703125 \nz\n\" id=\"DejaVuSans-52\"/>\n      </defs>\n      <g transform=\"translate(72.294233 239.238437)scale(0.1 -0.1)\">\n       <use xlink:href=\"#DejaVuSans-8722\"/>\n       <use x=\"83.789062\" xlink:href=\"#DejaVuSans-52\"/>\n      </g>\n     </g>\n    </g>\n    <g id=\"xtick_2\">\n     <g id=\"line2d_2\">\n      <g>\n       <use style=\"stroke:#000000;stroke-width:0.8;\" x=\"124.427002\" xlink:href=\"#m3932e74062\" y=\"224.64\"/>\n      </g>\n     </g>\n     <g id=\"text_2\">\n      <!-- −3 -->\n      <defs>\n       <path d=\"M 40.578125 39.3125 \nQ 47.65625 37.796875 51.625 33 \nQ 55.609375 28.21875 55.609375 21.1875 \nQ 55.609375 10.40625 48.1875 4.484375 \nQ 40.765625 -1.421875 27.09375 -1.421875 \nQ 22.515625 -1.421875 17.65625 -0.515625 \nQ 12.796875 0.390625 7.625 2.203125 \nL 7.625 11.71875 \nQ 11.71875 9.328125 16.59375 8.109375 \nQ 21.484375 6.890625 26.8125 6.890625 \nQ 36.078125 6.890625 40.9375 10.546875 \nQ 45.796875 14.203125 45.796875 21.1875 \nQ 45.796875 27.640625 41.28125 31.265625 \nQ 36.765625 34.90625 28.71875 34.90625 \nL 20.21875 34.90625 \nL 20.21875 43.015625 \nL 29.109375 43.015625 \nQ 36.375 43.015625 40.234375 45.921875 \nQ 44.09375 48.828125 44.09375 54.296875 \nQ 44.09375 59.90625 40.109375 62.90625 \nQ 36.140625 65.921875 28.71875 65.921875 \nQ 24.65625 65.921875 20.015625 65.03125 \nQ 15.375 64.15625 9.8125 62.3125 \nL 9.8125 71.09375 \nQ 15.4375 72.65625 20.34375 73.4375 \nQ 25.25 74.21875 29.59375 74.21875 \nQ 40.828125 74.21875 47.359375 69.109375 \nQ 53.90625 64.015625 53.90625 55.328125 \nQ 53.90625 49.265625 50.4375 45.09375 \nQ 46.96875 40.921875 40.578125 39.3125 \nz\n\" id=\"DejaVuSans-51\"/>\n      </defs>\n      <g transform=\"translate(117.055908 239.238437)scale(0.1 -0.1)\">\n       <use xlink:href=\"#DejaVuSans-8722\"/>\n       <use x=\"83.789062\" xlink:href=\"#DejaVuSans-51\"/>\n      </g>\n     </g>\n    </g>\n    <g id=\"xtick_3\">\n     <g id=\"line2d_3\">\n      <g>\n       <use style=\"stroke:#000000;stroke-width:0.8;\" x=\"169.188677\" xlink:href=\"#m3932e74062\" y=\"224.64\"/>\n      </g>\n     </g>\n     <g id=\"text_3\">\n      <!-- −2 -->\n      <defs>\n       <path d=\"M 19.1875 8.296875 \nL 53.609375 8.296875 \nL 53.609375 0 \nL 7.328125 0 \nL 7.328125 8.296875 \nQ 12.9375 14.109375 22.625 23.890625 \nQ 32.328125 33.6875 34.8125 36.53125 \nQ 39.546875 41.84375 41.421875 45.53125 \nQ 43.3125 49.21875 43.3125 52.78125 \nQ 43.3125 58.59375 39.234375 62.25 \nQ 35.15625 65.921875 28.609375 65.921875 \nQ 23.96875 65.921875 18.8125 64.3125 \nQ 13.671875 62.703125 7.8125 59.421875 \nL 7.8125 69.390625 \nQ 13.765625 71.78125 18.9375 73 \nQ 24.125 74.21875 28.421875 74.21875 \nQ 39.75 74.21875 46.484375 68.546875 \nQ 53.21875 62.890625 53.21875 53.421875 \nQ 53.21875 48.921875 51.53125 44.890625 \nQ 49.859375 40.875 45.40625 35.40625 \nQ 44.1875 33.984375 37.640625 27.21875 \nQ 31.109375 20.453125 19.1875 8.296875 \nz\n\" id=\"DejaVuSans-50\"/>\n      </defs>\n      <g transform=\"translate(161.817584 239.238437)scale(0.1 -0.1)\">\n       <use xlink:href=\"#DejaVuSans-8722\"/>\n       <use x=\"83.789062\" xlink:href=\"#DejaVuSans-50\"/>\n      </g>\n     </g>\n    </g>\n    <g id=\"xtick_4\">\n     <g id=\"line2d_4\">\n      <g>\n       <use style=\"stroke:#000000;stroke-width:0.8;\" x=\"213.950353\" xlink:href=\"#m3932e74062\" y=\"224.64\"/>\n      </g>\n     </g>\n     <g id=\"text_4\">\n      <!-- −1 -->\n      <defs>\n       <path d=\"M 12.40625 8.296875 \nL 28.515625 8.296875 \nL 28.515625 63.921875 \nL 10.984375 60.40625 \nL 10.984375 69.390625 \nL 28.421875 72.90625 \nL 38.28125 72.90625 \nL 38.28125 8.296875 \nL 54.390625 8.296875 \nL 54.390625 0 \nL 12.40625 0 \nz\n\" id=\"DejaVuSans-49\"/>\n      </defs>\n      <g transform=\"translate(206.579259 239.238437)scale(0.1 -0.1)\">\n       <use xlink:href=\"#DejaVuSans-8722\"/>\n       <use x=\"83.789062\" xlink:href=\"#DejaVuSans-49\"/>\n      </g>\n     </g>\n    </g>\n    <g id=\"xtick_5\">\n     <g id=\"line2d_5\">\n      <g>\n       <use style=\"stroke:#000000;stroke-width:0.8;\" x=\"258.712028\" xlink:href=\"#m3932e74062\" y=\"224.64\"/>\n      </g>\n     </g>\n     <g id=\"text_5\">\n      <!-- 0 -->\n      <defs>\n       <path d=\"M 31.78125 66.40625 \nQ 24.171875 66.40625 20.328125 58.90625 \nQ 16.5 51.421875 16.5 36.375 \nQ 16.5 21.390625 20.328125 13.890625 \nQ 24.171875 6.390625 31.78125 6.390625 \nQ 39.453125 6.390625 43.28125 13.890625 \nQ 47.125 21.390625 47.125 36.375 \nQ 47.125 51.421875 43.28125 58.90625 \nQ 39.453125 66.40625 31.78125 66.40625 \nz\nM 31.78125 74.21875 \nQ 44.046875 74.21875 50.515625 64.515625 \nQ 56.984375 54.828125 56.984375 36.375 \nQ 56.984375 17.96875 50.515625 8.265625 \nQ 44.046875 -1.421875 31.78125 -1.421875 \nQ 19.53125 -1.421875 13.0625 8.265625 \nQ 6.59375 17.96875 6.59375 36.375 \nQ 6.59375 54.828125 13.0625 64.515625 \nQ 19.53125 74.21875 31.78125 74.21875 \nz\n\" id=\"DejaVuSans-48\"/>\n      </defs>\n      <g transform=\"translate(255.530778 239.238437)scale(0.1 -0.1)\">\n       <use xlink:href=\"#DejaVuSans-48\"/>\n      </g>\n     </g>\n    </g>\n    <g id=\"xtick_6\">\n     <g id=\"line2d_6\">\n      <g>\n       <use style=\"stroke:#000000;stroke-width:0.8;\" x=\"303.473703\" xlink:href=\"#m3932e74062\" y=\"224.64\"/>\n      </g>\n     </g>\n     <g id=\"text_6\">\n      <!-- 1 -->\n      <g transform=\"translate(300.292453 239.238437)scale(0.1 -0.1)\">\n       <use xlink:href=\"#DejaVuSans-49\"/>\n      </g>\n     </g>\n    </g>\n    <g id=\"xtick_7\">\n     <g id=\"line2d_7\">\n      <g>\n       <use style=\"stroke:#000000;stroke-width:0.8;\" x=\"348.235378\" xlink:href=\"#m3932e74062\" y=\"224.64\"/>\n      </g>\n     </g>\n     <g id=\"text_7\">\n      <!-- 2 -->\n      <g transform=\"translate(345.054128 239.238437)scale(0.1 -0.1)\">\n       <use xlink:href=\"#DejaVuSans-50\"/>\n      </g>\n     </g>\n    </g>\n    <g id=\"xtick_8\">\n     <g id=\"line2d_8\">\n      <g>\n       <use style=\"stroke:#000000;stroke-width:0.8;\" x=\"392.997054\" xlink:href=\"#m3932e74062\" y=\"224.64\"/>\n      </g>\n     </g>\n     <g id=\"text_8\">\n      <!-- 3 -->\n      <g transform=\"translate(389.815804 239.238437)scale(0.1 -0.1)\">\n       <use xlink:href=\"#DejaVuSans-51\"/>\n      </g>\n     </g>\n    </g>\n    <g id=\"text_9\">\n     <!-- Вес признака -->\n     <defs>\n      <path d=\"M 19.671875 34.8125 \nL 19.671875 8.109375 \nL 35.5 8.109375 \nQ 43.453125 8.109375 47.28125 11.40625 \nQ 51.125 14.703125 51.125 21.484375 \nQ 51.125 28.328125 47.28125 31.5625 \nQ 43.453125 34.8125 35.5 34.8125 \nz\nM 19.671875 64.796875 \nL 19.671875 42.828125 \nL 34.28125 42.828125 \nQ 41.5 42.828125 45.03125 45.53125 \nQ 48.578125 48.25 48.578125 53.8125 \nQ 48.578125 59.328125 45.03125 62.0625 \nQ 41.5 64.796875 34.28125 64.796875 \nz\nM 9.8125 72.90625 \nL 35.015625 72.90625 \nQ 46.296875 72.90625 52.390625 68.21875 \nQ 58.5 63.53125 58.5 54.890625 \nQ 58.5 48.1875 55.375 44.234375 \nQ 52.25 40.28125 46.1875 39.3125 \nQ 53.46875 37.75 57.5 32.78125 \nQ 61.53125 27.828125 61.53125 20.40625 \nQ 61.53125 10.640625 54.890625 5.3125 \nQ 48.25 0 35.984375 0 \nL 9.8125 0 \nz\n\" id=\"DejaVuSans-1042\"/>\n      <path d=\"M 56.203125 29.59375 \nL 56.203125 25.203125 \nL 14.890625 25.203125 \nQ 15.484375 15.921875 20.484375 11.0625 \nQ 25.484375 6.203125 34.421875 6.203125 \nQ 39.59375 6.203125 44.453125 7.46875 \nQ 49.3125 8.734375 54.109375 11.28125 \nL 54.109375 2.78125 \nQ 49.265625 0.734375 44.1875 -0.34375 \nQ 39.109375 -1.421875 33.890625 -1.421875 \nQ 20.796875 -1.421875 13.15625 6.1875 \nQ 5.515625 13.8125 5.515625 26.8125 \nQ 5.515625 40.234375 12.765625 48.109375 \nQ 20.015625 56 32.328125 56 \nQ 43.359375 56 49.78125 48.890625 \nQ 56.203125 41.796875 56.203125 29.59375 \nz\nM 47.21875 32.234375 \nQ 47.125 39.59375 43.09375 43.984375 \nQ 39.0625 48.390625 32.421875 48.390625 \nQ 24.90625 48.390625 20.390625 44.140625 \nQ 15.875 39.890625 15.1875 32.171875 \nz\n\" id=\"DejaVuSans-1077\"/>\n      <path d=\"M 48.78125 52.59375 \nL 48.78125 44.1875 \nQ 44.96875 46.296875 41.140625 47.34375 \nQ 37.3125 48.390625 33.40625 48.390625 \nQ 24.65625 48.390625 19.8125 42.84375 \nQ 14.984375 37.3125 14.984375 27.296875 \nQ 14.984375 17.28125 19.8125 11.734375 \nQ 24.65625 6.203125 33.40625 6.203125 \nQ 37.3125 6.203125 41.140625 7.25 \nQ 44.96875 8.296875 48.78125 10.40625 \nL 48.78125 2.09375 \nQ 45.015625 0.34375 40.984375 -0.53125 \nQ 36.96875 -1.421875 32.421875 -1.421875 \nQ 20.0625 -1.421875 12.78125 6.34375 \nQ 5.515625 14.109375 5.515625 27.296875 \nQ 5.515625 40.671875 12.859375 48.328125 \nQ 20.21875 56 33.015625 56 \nQ 37.15625 56 41.109375 55.140625 \nQ 45.0625 54.296875 48.78125 52.59375 \nz\n\" id=\"DejaVuSans-1089\"/>\n      <path id=\"DejaVuSans-32\"/>\n      <path d=\"M 56.296875 54.6875 \nL 56.296875 0 \nL 47.265625 0 \nL 47.265625 47.515625 \nL 18.109375 47.515625 \nL 18.109375 0 \nL 9.078125 0 \nL 9.078125 54.6875 \nz\n\" id=\"DejaVuSans-1087\"/>\n      <path d=\"M 18.109375 8.203125 \nL 18.109375 -20.796875 \nL 9.078125 -20.796875 \nL 9.078125 54.6875 \nL 18.109375 54.6875 \nL 18.109375 46.390625 \nQ 20.953125 51.265625 25.265625 53.625 \nQ 29.59375 56 35.59375 56 \nQ 45.5625 56 51.78125 48.09375 \nQ 58.015625 40.1875 58.015625 27.296875 \nQ 58.015625 14.40625 51.78125 6.484375 \nQ 45.5625 -1.421875 35.59375 -1.421875 \nQ 29.59375 -1.421875 25.265625 0.953125 \nQ 20.953125 3.328125 18.109375 8.203125 \nz\nM 48.6875 27.296875 \nQ 48.6875 37.203125 44.609375 42.84375 \nQ 40.53125 48.484375 33.40625 48.484375 \nQ 26.265625 48.484375 22.1875 42.84375 \nQ 18.109375 37.203125 18.109375 27.296875 \nQ 18.109375 17.390625 22.1875 11.75 \nQ 26.265625 6.109375 33.40625 6.109375 \nQ 40.53125 6.109375 44.609375 11.75 \nQ 48.6875 17.390625 48.6875 27.296875 \nz\n\" id=\"DejaVuSans-1088\"/>\n      <path d=\"M 55.90625 54.6875 \nL 55.90625 0 \nL 46.96875 0 \nL 46.96875 43.890625 \nL 20.609375 0 \nL 9.078125 0 \nL 9.078125 54.6875 \nL 18.015625 54.6875 \nL 18.015625 10.890625 \nL 44.34375 54.6875 \nz\n\" id=\"DejaVuSans-1080\"/>\n      <path d=\"M 34.46875 29.5 \nQ 40.53125 28.328125 43.890625 24.75 \nQ 47.265625 21.1875 47.265625 15.921875 \nQ 47.265625 7.46875 40.96875 3.015625 \nQ 34.671875 -1.421875 23.046875 -1.421875 \nQ 19.140625 -1.421875 15.015625 -0.734375 \nQ 10.890625 -0.046875 6.5 1.3125 \nL 6.5 9.671875 \nQ 9.96875 7.859375 14.109375 6.953125 \nQ 18.265625 6.0625 22.796875 6.0625 \nQ 30.171875 6.0625 34.296875 8.796875 \nQ 38.421875 11.53125 38.421875 15.921875 \nQ 38.421875 20.21875 34.765625 22.828125 \nQ 31.109375 25.4375 24.421875 25.4375 \nL 17.1875 25.4375 \nL 17.1875 32.859375 \nL 24.75 32.859375 \nQ 30.421875 32.859375 33.71875 35.03125 \nQ 37.015625 37.203125 37.015625 40.625 \nQ 37.015625 43.75 33.609375 46 \nQ 30.21875 48.25 24.421875 48.25 \nQ 20.953125 48.25 17.015625 47.609375 \nQ 13.09375 46.96875 8.34375 45.5625 \nL 8.34375 53.71875 \nQ 13.140625 54.890625 17.28125 55.46875 \nQ 21.4375 56.0625 25.140625 56.0625 \nQ 34.71875 56.0625 40.25 52.21875 \nQ 45.796875 48.390625 45.796875 41.5 \nQ 45.796875 36.96875 42.859375 33.8125 \nQ 39.9375 30.671875 34.46875 29.5 \nz\n\" id=\"DejaVuSans-1079\"/>\n      <path d=\"M 9.078125 54.6875 \nL 18.109375 54.6875 \nL 18.109375 32.375 \nL 47.265625 32.375 \nL 47.265625 54.6875 \nL 56.296875 54.6875 \nL 56.296875 0 \nL 47.265625 0 \nL 47.265625 25.203125 \nL 18.109375 25.203125 \nL 18.109375 0 \nL 9.078125 0 \nz\n\" id=\"DejaVuSans-1085\"/>\n      <path d=\"M 34.28125 27.484375 \nQ 23.390625 27.484375 19.1875 25 \nQ 14.984375 22.515625 14.984375 16.5 \nQ 14.984375 11.71875 18.140625 8.90625 \nQ 21.296875 6.109375 26.703125 6.109375 \nQ 34.1875 6.109375 38.703125 11.40625 \nQ 43.21875 16.703125 43.21875 25.484375 \nL 43.21875 27.484375 \nz\nM 52.203125 31.203125 \nL 52.203125 0 \nL 43.21875 0 \nL 43.21875 8.296875 \nQ 40.140625 3.328125 35.546875 0.953125 \nQ 30.953125 -1.421875 24.3125 -1.421875 \nQ 15.921875 -1.421875 10.953125 3.296875 \nQ 6 8.015625 6 15.921875 \nQ 6 25.140625 12.171875 29.828125 \nQ 18.359375 34.515625 30.609375 34.515625 \nL 43.21875 34.515625 \nL 43.21875 35.40625 \nQ 43.21875 41.609375 39.140625 45 \nQ 35.0625 48.390625 27.6875 48.390625 \nQ 23 48.390625 18.546875 47.265625 \nQ 14.109375 46.140625 10.015625 43.890625 \nL 10.015625 52.203125 \nQ 14.9375 54.109375 19.578125 55.046875 \nQ 24.21875 56 28.609375 56 \nQ 40.484375 56 46.34375 49.84375 \nQ 52.203125 43.703125 52.203125 31.203125 \nz\n\" id=\"DejaVuSans-1072\"/>\n      <path d=\"M 9.078125 54.6875 \nL 18.015625 54.6875 \nL 18.015625 29 \nL 43.359375 54.6875 \nL 54.390625 54.6875 \nL 33.5 33.546875 \nL 57.078125 0 \nL 47.015625 0 \nL 27.640625 27.59375 \nL 18.015625 17.828125 \nL 18.015625 0 \nL 9.078125 0 \nz\n\" id=\"DejaVuSans-1082\"/>\n     </defs>\n     <g transform=\"translate(201.346094 252.916562)scale(0.1 -0.1)\">\n      <use xlink:href=\"#DejaVuSans-1042\"/>\n      <use x=\"68.603516\" xlink:href=\"#DejaVuSans-1077\"/>\n      <use x=\"130.126953\" xlink:href=\"#DejaVuSans-1089\"/>\n      <use x=\"185.107422\" xlink:href=\"#DejaVuSans-32\"/>\n      <use x=\"216.894531\" xlink:href=\"#DejaVuSans-1087\"/>\n      <use x=\"282.275391\" xlink:href=\"#DejaVuSans-1088\"/>\n      <use x=\"345.751953\" xlink:href=\"#DejaVuSans-1080\"/>\n      <use x=\"410.742188\" xlink:href=\"#DejaVuSans-1079\"/>\n      <use x=\"463.916016\" xlink:href=\"#DejaVuSans-1085\"/>\n      <use x=\"529.296875\" xlink:href=\"#DejaVuSans-1072\"/>\n      <use x=\"590.576172\" xlink:href=\"#DejaVuSans-1082\"/>\n      <use x=\"650.976562\" xlink:href=\"#DejaVuSans-1072\"/>\n     </g>\n    </g>\n   </g>\n   <g id=\"matplotlib.axis_2\">\n    <g id=\"ytick_1\">\n     <g id=\"line2d_9\">\n      <defs>\n       <path d=\"M 0 0 \nL -3.5 0 \n\" id=\"mb26ec72f72\" style=\"stroke:#000000;stroke-width:0.8;\"/>\n      </defs>\n      <g>\n       <use style=\"stroke:#000000;stroke-width:0.8;\" x=\"69.559375\" xlink:href=\"#mb26ec72f72\" y=\"208.579091\"/>\n      </g>\n     </g>\n     <g id=\"text_10\">\n      <!-- CRIM -->\n      <defs>\n       <path d=\"M 64.40625 67.28125 \nL 64.40625 56.890625 \nQ 59.421875 61.53125 53.78125 63.8125 \nQ 48.140625 66.109375 41.796875 66.109375 \nQ 29.296875 66.109375 22.65625 58.46875 \nQ 16.015625 50.828125 16.015625 36.375 \nQ 16.015625 21.96875 22.65625 14.328125 \nQ 29.296875 6.6875 41.796875 6.6875 \nQ 48.140625 6.6875 53.78125 8.984375 \nQ 59.421875 11.28125 64.40625 15.921875 \nL 64.40625 5.609375 \nQ 59.234375 2.09375 53.4375 0.328125 \nQ 47.65625 -1.421875 41.21875 -1.421875 \nQ 24.65625 -1.421875 15.125 8.703125 \nQ 5.609375 18.84375 5.609375 36.375 \nQ 5.609375 53.953125 15.125 64.078125 \nQ 24.65625 74.21875 41.21875 74.21875 \nQ 47.75 74.21875 53.53125 72.484375 \nQ 59.328125 70.75 64.40625 67.28125 \nz\n\" id=\"DejaVuSans-67\"/>\n       <path d=\"M 44.390625 34.1875 \nQ 47.5625 33.109375 50.5625 29.59375 \nQ 53.5625 26.078125 56.59375 19.921875 \nL 66.609375 0 \nL 56 0 \nL 46.6875 18.703125 \nQ 43.0625 26.03125 39.671875 28.421875 \nQ 36.28125 30.8125 30.421875 30.8125 \nL 19.671875 30.8125 \nL 19.671875 0 \nL 9.8125 0 \nL 9.8125 72.90625 \nL 32.078125 72.90625 \nQ 44.578125 72.90625 50.734375 67.671875 \nQ 56.890625 62.453125 56.890625 51.90625 \nQ 56.890625 45.015625 53.6875 40.46875 \nQ 50.484375 35.9375 44.390625 34.1875 \nz\nM 19.671875 64.796875 \nL 19.671875 38.921875 \nL 32.078125 38.921875 \nQ 39.203125 38.921875 42.84375 42.21875 \nQ 46.484375 45.515625 46.484375 51.90625 \nQ 46.484375 58.296875 42.84375 61.546875 \nQ 39.203125 64.796875 32.078125 64.796875 \nz\n\" id=\"DejaVuSans-82\"/>\n       <path d=\"M 9.8125 72.90625 \nL 19.671875 72.90625 \nL 19.671875 0 \nL 9.8125 0 \nz\n\" id=\"DejaVuSans-73\"/>\n       <path d=\"M 9.8125 72.90625 \nL 24.515625 72.90625 \nL 43.109375 23.296875 \nL 61.8125 72.90625 \nL 76.515625 72.90625 \nL 76.515625 0 \nL 66.890625 0 \nL 66.890625 64.015625 \nL 48.09375 14.015625 \nL 38.1875 14.015625 \nL 19.390625 64.015625 \nL 19.390625 0 \nL 9.8125 0 \nz\n\" id=\"DejaVuSans-77\"/>\n      </defs>\n      <g transform=\"translate(37.05 212.37831)scale(0.1 -0.1)\">\n       <use xlink:href=\"#DejaVuSans-67\"/>\n       <use x=\"69.824219\" xlink:href=\"#DejaVuSans-82\"/>\n       <use x=\"139.306641\" xlink:href=\"#DejaVuSans-73\"/>\n       <use x=\"168.798828\" xlink:href=\"#DejaVuSans-77\"/>\n      </g>\n     </g>\n    </g>\n    <g id=\"ytick_2\">\n     <g id=\"line2d_10\">\n      <g>\n       <use style=\"stroke:#000000;stroke-width:0.8;\" x=\"69.559375\" xlink:href=\"#mb26ec72f72\" y=\"193.135909\"/>\n      </g>\n     </g>\n     <g id=\"text_11\">\n      <!-- ZN -->\n      <defs>\n       <path d=\"M 5.609375 72.90625 \nL 62.890625 72.90625 \nL 62.890625 65.375 \nL 16.796875 8.296875 \nL 64.015625 8.296875 \nL 64.015625 0 \nL 4.5 0 \nL 4.5 7.515625 \nL 50.59375 64.59375 \nL 5.609375 64.59375 \nz\n\" id=\"DejaVuSans-90\"/>\n       <path d=\"M 9.8125 72.90625 \nL 23.09375 72.90625 \nL 55.421875 11.921875 \nL 55.421875 72.90625 \nL 64.984375 72.90625 \nL 64.984375 0 \nL 51.703125 0 \nL 19.390625 60.984375 \nL 19.390625 0 \nL 9.8125 0 \nz\n\" id=\"DejaVuSans-78\"/>\n      </defs>\n      <g transform=\"translate(48.228125 196.935128)scale(0.1 -0.1)\">\n       <use xlink:href=\"#DejaVuSans-90\"/>\n       <use x=\"68.505859\" xlink:href=\"#DejaVuSans-78\"/>\n      </g>\n     </g>\n    </g>\n    <g id=\"ytick_3\">\n     <g id=\"line2d_11\">\n      <g>\n       <use style=\"stroke:#000000;stroke-width:0.8;\" x=\"69.559375\" xlink:href=\"#mb26ec72f72\" y=\"177.692727\"/>\n      </g>\n     </g>\n     <g id=\"text_12\">\n      <!-- INDUS -->\n      <defs>\n       <path d=\"M 19.671875 64.796875 \nL 19.671875 8.109375 \nL 31.59375 8.109375 \nQ 46.6875 8.109375 53.6875 14.9375 \nQ 60.6875 21.78125 60.6875 36.53125 \nQ 60.6875 51.171875 53.6875 57.984375 \nQ 46.6875 64.796875 31.59375 64.796875 \nz\nM 9.8125 72.90625 \nL 30.078125 72.90625 \nQ 51.265625 72.90625 61.171875 64.09375 \nQ 71.09375 55.28125 71.09375 36.53125 \nQ 71.09375 17.671875 61.125 8.828125 \nQ 51.171875 0 30.078125 0 \nL 9.8125 0 \nz\n\" id=\"DejaVuSans-68\"/>\n       <path d=\"M 8.6875 72.90625 \nL 18.609375 72.90625 \nL 18.609375 28.609375 \nQ 18.609375 16.890625 22.84375 11.734375 \nQ 27.09375 6.59375 36.625 6.59375 \nQ 46.09375 6.59375 50.34375 11.734375 \nQ 54.59375 16.890625 54.59375 28.609375 \nL 54.59375 72.90625 \nL 64.5 72.90625 \nL 64.5 27.390625 \nQ 64.5 13.140625 57.4375 5.859375 \nQ 50.390625 -1.421875 36.625 -1.421875 \nQ 22.796875 -1.421875 15.734375 5.859375 \nQ 8.6875 13.140625 8.6875 27.390625 \nz\n\" id=\"DejaVuSans-85\"/>\n       <path d=\"M 53.515625 70.515625 \nL 53.515625 60.890625 \nQ 47.90625 63.578125 42.921875 64.890625 \nQ 37.9375 66.21875 33.296875 66.21875 \nQ 25.25 66.21875 20.875 63.09375 \nQ 16.5 59.96875 16.5 54.203125 \nQ 16.5 49.359375 19.40625 46.890625 \nQ 22.3125 44.4375 30.421875 42.921875 \nL 36.375 41.703125 \nQ 47.40625 39.59375 52.65625 34.296875 \nQ 57.90625 29 57.90625 20.125 \nQ 57.90625 9.515625 50.796875 4.046875 \nQ 43.703125 -1.421875 29.984375 -1.421875 \nQ 24.8125 -1.421875 18.96875 -0.25 \nQ 13.140625 0.921875 6.890625 3.21875 \nL 6.890625 13.375 \nQ 12.890625 10.015625 18.65625 8.296875 \nQ 24.421875 6.59375 29.984375 6.59375 \nQ 38.421875 6.59375 43.015625 9.90625 \nQ 47.609375 13.234375 47.609375 19.390625 \nQ 47.609375 24.75 44.3125 27.78125 \nQ 41.015625 30.8125 33.5 32.328125 \nL 27.484375 33.5 \nQ 16.453125 35.6875 11.515625 40.375 \nQ 6.59375 45.0625 6.59375 53.421875 \nQ 6.59375 63.09375 13.40625 68.65625 \nQ 20.21875 74.21875 32.171875 74.21875 \nQ 37.3125 74.21875 42.625 73.28125 \nQ 47.953125 72.359375 53.515625 70.515625 \nz\n\" id=\"DejaVuSans-83\"/>\n      </defs>\n      <g transform=\"translate(30.760938 181.491946)scale(0.1 -0.1)\">\n       <use xlink:href=\"#DejaVuSans-73\"/>\n       <use x=\"29.492188\" xlink:href=\"#DejaVuSans-78\"/>\n       <use x=\"104.296875\" xlink:href=\"#DejaVuSans-68\"/>\n       <use x=\"181.298828\" xlink:href=\"#DejaVuSans-85\"/>\n       <use x=\"254.492188\" xlink:href=\"#DejaVuSans-83\"/>\n      </g>\n     </g>\n    </g>\n    <g id=\"ytick_4\">\n     <g id=\"line2d_12\">\n      <g>\n       <use style=\"stroke:#000000;stroke-width:0.8;\" x=\"69.559375\" xlink:href=\"#mb26ec72f72\" y=\"162.249545\"/>\n      </g>\n     </g>\n     <g id=\"text_13\">\n      <!-- CHAS -->\n      <defs>\n       <path d=\"M 9.8125 72.90625 \nL 19.671875 72.90625 \nL 19.671875 43.015625 \nL 55.515625 43.015625 \nL 55.515625 72.90625 \nL 65.375 72.90625 \nL 65.375 0 \nL 55.515625 0 \nL 55.515625 34.71875 \nL 19.671875 34.71875 \nL 19.671875 0 \nL 9.8125 0 \nz\n\" id=\"DejaVuSans-72\"/>\n       <path d=\"M 34.1875 63.1875 \nL 20.796875 26.90625 \nL 47.609375 26.90625 \nz\nM 28.609375 72.90625 \nL 39.796875 72.90625 \nL 67.578125 0 \nL 57.328125 0 \nL 50.6875 18.703125 \nL 17.828125 18.703125 \nL 11.1875 0 \nL 0.78125 0 \nz\n\" id=\"DejaVuSans-65\"/>\n      </defs>\n      <g transform=\"translate(34.867188 166.048764)scale(0.1 -0.1)\">\n       <use xlink:href=\"#DejaVuSans-67\"/>\n       <use x=\"69.824219\" xlink:href=\"#DejaVuSans-72\"/>\n       <use x=\"145.019531\" xlink:href=\"#DejaVuSans-65\"/>\n       <use x=\"213.427734\" xlink:href=\"#DejaVuSans-83\"/>\n      </g>\n     </g>\n    </g>\n    <g id=\"ytick_5\">\n     <g id=\"line2d_13\">\n      <g>\n       <use style=\"stroke:#000000;stroke-width:0.8;\" x=\"69.559375\" xlink:href=\"#mb26ec72f72\" y=\"146.806364\"/>\n      </g>\n     </g>\n     <g id=\"text_14\">\n      <!-- NOX -->\n      <defs>\n       <path d=\"M 39.40625 66.21875 \nQ 28.65625 66.21875 22.328125 58.203125 \nQ 16.015625 50.203125 16.015625 36.375 \nQ 16.015625 22.609375 22.328125 14.59375 \nQ 28.65625 6.59375 39.40625 6.59375 \nQ 50.140625 6.59375 56.421875 14.59375 \nQ 62.703125 22.609375 62.703125 36.375 \nQ 62.703125 50.203125 56.421875 58.203125 \nQ 50.140625 66.21875 39.40625 66.21875 \nz\nM 39.40625 74.21875 \nQ 54.734375 74.21875 63.90625 63.9375 \nQ 73.09375 53.65625 73.09375 36.375 \nQ 73.09375 19.140625 63.90625 8.859375 \nQ 54.734375 -1.421875 39.40625 -1.421875 \nQ 24.03125 -1.421875 14.8125 8.828125 \nQ 5.609375 19.09375 5.609375 36.375 \nQ 5.609375 53.65625 14.8125 63.9375 \nQ 24.03125 74.21875 39.40625 74.21875 \nz\n\" id=\"DejaVuSans-79\"/>\n       <path d=\"M 6.296875 72.90625 \nL 16.890625 72.90625 \nL 35.015625 45.796875 \nL 53.21875 72.90625 \nL 63.8125 72.90625 \nL 40.375 37.890625 \nL 65.375 0 \nL 54.78125 0 \nL 34.28125 31 \nL 13.625 0 \nL 2.984375 0 \nL 29 38.921875 \nz\n\" id=\"DejaVuSans-88\"/>\n      </defs>\n      <g transform=\"translate(40.99375 150.605582)scale(0.1 -0.1)\">\n       <use xlink:href=\"#DejaVuSans-78\"/>\n       <use x=\"74.804688\" xlink:href=\"#DejaVuSans-79\"/>\n       <use x=\"147.140625\" xlink:href=\"#DejaVuSans-88\"/>\n      </g>\n     </g>\n    </g>\n    <g id=\"ytick_6\">\n     <g id=\"line2d_14\">\n      <g>\n       <use style=\"stroke:#000000;stroke-width:0.8;\" x=\"69.559375\" xlink:href=\"#mb26ec72f72\" y=\"131.363182\"/>\n      </g>\n     </g>\n     <g id=\"text_15\">\n      <!-- RM -->\n      <g transform=\"translate(46.982813 135.162401)scale(0.1 -0.1)\">\n       <use xlink:href=\"#DejaVuSans-82\"/>\n       <use x=\"69.482422\" xlink:href=\"#DejaVuSans-77\"/>\n      </g>\n     </g>\n    </g>\n    <g id=\"ytick_7\">\n     <g id=\"line2d_15\">\n      <g>\n       <use style=\"stroke:#000000;stroke-width:0.8;\" x=\"69.559375\" xlink:href=\"#mb26ec72f72\" y=\"115.92\"/>\n      </g>\n     </g>\n     <g id=\"text_16\">\n      <!-- AGE -->\n      <defs>\n       <path d=\"M 59.515625 10.40625 \nL 59.515625 29.984375 \nL 43.40625 29.984375 \nL 43.40625 38.09375 \nL 69.28125 38.09375 \nL 69.28125 6.78125 \nQ 63.578125 2.734375 56.6875 0.65625 \nQ 49.8125 -1.421875 42 -1.421875 \nQ 24.90625 -1.421875 15.25 8.5625 \nQ 5.609375 18.5625 5.609375 36.375 \nQ 5.609375 54.25 15.25 64.234375 \nQ 24.90625 74.21875 42 74.21875 \nQ 49.125 74.21875 55.546875 72.453125 \nQ 61.96875 70.703125 67.390625 67.28125 \nL 67.390625 56.78125 \nQ 61.921875 61.421875 55.765625 63.765625 \nQ 49.609375 66.109375 42.828125 66.109375 \nQ 29.4375 66.109375 22.71875 58.640625 \nQ 16.015625 51.171875 16.015625 36.375 \nQ 16.015625 21.625 22.71875 14.15625 \nQ 29.4375 6.6875 42.828125 6.6875 \nQ 48.046875 6.6875 52.140625 7.59375 \nQ 56.25 8.5 59.515625 10.40625 \nz\n\" id=\"DejaVuSans-71\"/>\n       <path d=\"M 9.8125 72.90625 \nL 55.90625 72.90625 \nL 55.90625 64.59375 \nL 19.671875 64.59375 \nL 19.671875 43.015625 \nL 54.390625 43.015625 \nL 54.390625 34.71875 \nL 19.671875 34.71875 \nL 19.671875 8.296875 \nL 56.78125 8.296875 \nL 56.78125 0 \nL 9.8125 0 \nz\n\" id=\"DejaVuSans-69\"/>\n      </defs>\n      <g transform=\"translate(41.826563 119.719219)scale(0.1 -0.1)\">\n       <use xlink:href=\"#DejaVuSans-65\"/>\n       <use x=\"66.658203\" xlink:href=\"#DejaVuSans-71\"/>\n       <use x=\"144.148438\" xlink:href=\"#DejaVuSans-69\"/>\n      </g>\n     </g>\n    </g>\n    <g id=\"ytick_8\">\n     <g id=\"line2d_16\">\n      <g>\n       <use style=\"stroke:#000000;stroke-width:0.8;\" x=\"69.559375\" xlink:href=\"#mb26ec72f72\" y=\"100.476818\"/>\n      </g>\n     </g>\n     <g id=\"text_17\">\n      <!-- DIS -->\n      <g transform=\"translate(45.560938 104.276037)scale(0.1 -0.1)\">\n       <use xlink:href=\"#DejaVuSans-68\"/>\n       <use x=\"77.001953\" xlink:href=\"#DejaVuSans-73\"/>\n       <use x=\"106.494141\" xlink:href=\"#DejaVuSans-83\"/>\n      </g>\n     </g>\n    </g>\n    <g id=\"ytick_9\">\n     <g id=\"line2d_17\">\n      <g>\n       <use style=\"stroke:#000000;stroke-width:0.8;\" x=\"69.559375\" xlink:href=\"#mb26ec72f72\" y=\"85.033636\"/>\n      </g>\n     </g>\n     <g id=\"text_18\">\n      <!-- RAD -->\n      <g transform=\"translate(41.470313 88.832855)scale(0.1 -0.1)\">\n       <use xlink:href=\"#DejaVuSans-82\"/>\n       <use x=\"65.482422\" xlink:href=\"#DejaVuSans-65\"/>\n       <use x=\"133.890625\" xlink:href=\"#DejaVuSans-68\"/>\n      </g>\n     </g>\n    </g>\n    <g id=\"ytick_10\">\n     <g id=\"line2d_18\">\n      <g>\n       <use style=\"stroke:#000000;stroke-width:0.8;\" x=\"69.559375\" xlink:href=\"#mb26ec72f72\" y=\"69.590455\"/>\n      </g>\n     </g>\n     <g id=\"text_19\">\n      <!-- TAX -->\n      <defs>\n       <path d=\"M -0.296875 72.90625 \nL 61.375 72.90625 \nL 61.375 64.59375 \nL 35.5 64.59375 \nL 35.5 0 \nL 25.59375 0 \nL 25.59375 64.59375 \nL -0.296875 64.59375 \nz\n\" id=\"DejaVuSans-84\"/>\n      </defs>\n      <g transform=\"translate(43.535938 73.389673)scale(0.1 -0.1)\">\n       <use xlink:href=\"#DejaVuSans-84\"/>\n       <use x=\"53.333984\" xlink:href=\"#DejaVuSans-65\"/>\n       <use x=\"121.742188\" xlink:href=\"#DejaVuSans-88\"/>\n      </g>\n     </g>\n    </g>\n    <g id=\"ytick_11\">\n     <g id=\"line2d_19\">\n      <g>\n       <use style=\"stroke:#000000;stroke-width:0.8;\" x=\"69.559375\" xlink:href=\"#mb26ec72f72\" y=\"54.147273\"/>\n      </g>\n     </g>\n     <g id=\"text_20\">\n      <!-- PTRATIO -->\n      <defs>\n       <path d=\"M 19.671875 64.796875 \nL 19.671875 37.40625 \nL 32.078125 37.40625 \nQ 38.96875 37.40625 42.71875 40.96875 \nQ 46.484375 44.53125 46.484375 51.125 \nQ 46.484375 57.671875 42.71875 61.234375 \nQ 38.96875 64.796875 32.078125 64.796875 \nz\nM 9.8125 72.90625 \nL 32.078125 72.90625 \nQ 44.34375 72.90625 50.609375 67.359375 \nQ 56.890625 61.8125 56.890625 51.125 \nQ 56.890625 40.328125 50.609375 34.8125 \nQ 44.34375 29.296875 32.078125 29.296875 \nL 19.671875 29.296875 \nL 19.671875 0 \nL 9.8125 0 \nz\n\" id=\"DejaVuSans-80\"/>\n      </defs>\n      <g transform=\"translate(20.878125 57.946491)scale(0.1 -0.1)\">\n       <use xlink:href=\"#DejaVuSans-80\"/>\n       <use x=\"60.302734\" xlink:href=\"#DejaVuSans-84\"/>\n       <use x=\"121.386719\" xlink:href=\"#DejaVuSans-82\"/>\n       <use x=\"186.869141\" xlink:href=\"#DejaVuSans-65\"/>\n       <use x=\"247.527344\" xlink:href=\"#DejaVuSans-84\"/>\n       <use x=\"308.611328\" xlink:href=\"#DejaVuSans-73\"/>\n       <use x=\"338.103516\" xlink:href=\"#DejaVuSans-79\"/>\n      </g>\n     </g>\n    </g>\n    <g id=\"ytick_12\">\n     <g id=\"line2d_20\">\n      <g>\n       <use style=\"stroke:#000000;stroke-width:0.8;\" x=\"69.559375\" xlink:href=\"#mb26ec72f72\" y=\"38.704091\"/>\n      </g>\n     </g>\n     <g id=\"text_21\">\n      <!-- B -->\n      <defs>\n       <path d=\"M 19.671875 34.8125 \nL 19.671875 8.109375 \nL 35.5 8.109375 \nQ 43.453125 8.109375 47.28125 11.40625 \nQ 51.125 14.703125 51.125 21.484375 \nQ 51.125 28.328125 47.28125 31.5625 \nQ 43.453125 34.8125 35.5 34.8125 \nz\nM 19.671875 64.796875 \nL 19.671875 42.828125 \nL 34.28125 42.828125 \nQ 41.5 42.828125 45.03125 45.53125 \nQ 48.578125 48.25 48.578125 53.8125 \nQ 48.578125 59.328125 45.03125 62.0625 \nQ 41.5 64.796875 34.28125 64.796875 \nz\nM 9.8125 72.90625 \nL 35.015625 72.90625 \nQ 46.296875 72.90625 52.390625 68.21875 \nQ 58.5 63.53125 58.5 54.890625 \nQ 58.5 48.1875 55.375 44.234375 \nQ 52.25 40.28125 46.1875 39.3125 \nQ 53.46875 37.75 57.5 32.78125 \nQ 61.53125 27.828125 61.53125 20.40625 \nQ 61.53125 10.640625 54.890625 5.3125 \nQ 48.25 0 35.984375 0 \nL 9.8125 0 \nz\n\" id=\"DejaVuSans-66\"/>\n      </defs>\n      <g transform=\"translate(55.698438 42.50331)scale(0.1 -0.1)\">\n       <use xlink:href=\"#DejaVuSans-66\"/>\n      </g>\n     </g>\n    </g>\n    <g id=\"ytick_13\">\n     <g id=\"line2d_21\">\n      <g>\n       <use style=\"stroke:#000000;stroke-width:0.8;\" x=\"69.559375\" xlink:href=\"#mb26ec72f72\" y=\"23.260909\"/>\n      </g>\n     </g>\n     <g id=\"text_22\">\n      <!-- LSTAT -->\n      <defs>\n       <path d=\"M 9.8125 72.90625 \nL 19.671875 72.90625 \nL 19.671875 8.296875 \nL 55.171875 8.296875 \nL 55.171875 0 \nL 9.8125 0 \nz\n\" id=\"DejaVuSans-76\"/>\n      </defs>\n      <g transform=\"translate(33.132812 27.060128)scale(0.1 -0.1)\">\n       <use xlink:href=\"#DejaVuSans-76\"/>\n       <use x=\"55.712891\" xlink:href=\"#DejaVuSans-83\"/>\n       <use x=\"119.189453\" xlink:href=\"#DejaVuSans-84\"/>\n       <use x=\"172.523438\" xlink:href=\"#DejaVuSans-65\"/>\n       <use x=\"233.181641\" xlink:href=\"#DejaVuSans-84\"/>\n      </g>\n     </g>\n    </g>\n    <g id=\"text_23\">\n     <!-- Признак -->\n     <defs>\n      <path d=\"M 65.375 72.90625 \nL 65.375 0 \nL 55.515625 0 \nL 55.515625 64.59375 \nL 19.671875 64.59375 \nL 19.671875 0 \nL 9.8125 0 \nL 9.8125 72.90625 \nz\n\" id=\"DejaVuSans-1055\"/>\n     </defs>\n     <g transform=\"translate(14.798437 138.115312)rotate(-90)scale(0.1 -0.1)\">\n      <use xlink:href=\"#DejaVuSans-1055\"/>\n      <use x=\"75.195312\" xlink:href=\"#DejaVuSans-1088\"/>\n      <use x=\"138.671875\" xlink:href=\"#DejaVuSans-1080\"/>\n      <use x=\"203.662109\" xlink:href=\"#DejaVuSans-1079\"/>\n      <use x=\"256.835938\" xlink:href=\"#DejaVuSans-1085\"/>\n      <use x=\"322.216797\" xlink:href=\"#DejaVuSans-1072\"/>\n      <use x=\"383.496094\" xlink:href=\"#DejaVuSans-1082\"/>\n     </g>\n    </g>\n   </g>\n   <g id=\"patch_16\">\n    <path d=\"M 69.559375 224.64 \nL 69.559375 7.2 \n\" style=\"fill:none;stroke:#000000;stroke-linecap:square;stroke-linejoin:miter;stroke-width:0.8;\"/>\n   </g>\n   <g id=\"patch_17\">\n    <path d=\"M 404.359375 224.64 \nL 404.359375 7.2 \n\" style=\"fill:none;stroke:#000000;stroke-linecap:square;stroke-linejoin:miter;stroke-width:0.8;\"/>\n   </g>\n   <g id=\"patch_18\">\n    <path d=\"M 69.559375 224.64 \nL 404.359375 224.64 \n\" style=\"fill:none;stroke:#000000;stroke-linecap:square;stroke-linejoin:miter;stroke-width:0.8;\"/>\n   </g>\n   <g id=\"patch_19\">\n    <path d=\"M 69.559375 7.2 \nL 404.359375 7.2 \n\" style=\"fill:none;stroke:#000000;stroke-linecap:square;stroke-linejoin:miter;stroke-width:0.8;\"/>\n   </g>\n  </g>\n </g>\n <defs>\n  <clipPath id=\"pfd1a39524b\">\n   <rect height=\"217.44\" width=\"334.8\" x=\"69.559375\" y=\"7.2\"/>\n  </clipPath>\n </defs>\n</svg>\n"
          },
          "metadata": {
            "needs_background": "light"
          }
        }
      ]
    },
    {
      "cell_type": "code",
      "source": [
        "check_test_lr = pd.DataFrame({\n",
        "    \"y_test\": y_test[\"price\"],\n",
        "    \"y_pred\": y_pred.flatten(),\n",
        "})"
      ],
      "metadata": {
        "id": "44X_IDTznDwV"
      },
      "execution_count": 45,
      "outputs": []
    },
    {
      "cell_type": "code",
      "source": [
        "# Расчитываем коэффициент детерминации\n",
        "r2_lr = r2_score(check_test_lr[\"y_pred\"], check_test_lr[\"y_test\"])\n",
        "print(f'Коэффициент детерминации R2: {r2_lr:.2f}')"
      ],
      "metadata": {
        "colab": {
          "base_uri": "https://localhost:8080/"
        },
        "id": "tSg_MkvNnHCd",
        "outputId": "4fde9aa9-3689-4d22-aa43-162205f4d026"
      },
      "execution_count": 46,
      "outputs": [
        {
          "output_type": "stream",
          "name": "stdout",
          "text": [
            "Коэффициент детерминации R2: 0.65\n"
          ]
        }
      ]
    },
    {
      "cell_type": "code",
      "source": [
        "check_test_lr[\"error\"] = (check_test_lr[\"y_pred\"] - check_test_lr[\"y_test\"])**2\n",
        "print(check_test_lr[\"error\"].mean())"
      ],
      "metadata": {
        "colab": {
          "base_uri": "https://localhost:8080/"
        },
        "id": "sFz_2P7tnf0L",
        "outputId": "6ca3dc2b-c8f9-4605-d99a-7205e82d30ec"
      },
      "execution_count": 47,
      "outputs": [
        {
          "output_type": "stream",
          "name": "stdout",
          "text": [
            "24.13479128906756\n"
          ]
        }
      ]
    },
    {
      "cell_type": "markdown",
      "metadata": {
        "id": "J87rjXPNjdfm"
      },
      "source": [
        "##Задание 2"
      ]
    },
    {
      "cell_type": "code",
      "metadata": {
        "id": "_FinAUzbjqU8"
      },
      "source": [
        "# Импортируем модули из библиотеки scikit-learn\n",
        "from sklearn.ensemble import RandomForestRegressor"
      ],
      "execution_count": 48,
      "outputs": []
    },
    {
      "cell_type": "code",
      "metadata": {
        "id": "iw9NAvyolEV1"
      },
      "source": [
        "# Строим модель решающих деревьев\n",
        "model = RandomForestRegressor(n_estimators=1000, max_depth=12, random_state=42)"
      ],
      "execution_count": 49,
      "outputs": []
    },
    {
      "cell_type": "code",
      "metadata": {
        "id": "0AFglPDglUgi"
      },
      "source": [
        "# Обучаем модель и используем ее\n",
        "model.fit(X_train, y_train.values[:,0])\n",
        "y_pred_rf = model.predict(X_test)"
      ],
      "execution_count": 50,
      "outputs": []
    },
    {
      "cell_type": "code",
      "metadata": {
        "colab": {
          "base_uri": "https://localhost:8080/"
        },
        "id": "auiFAzV7liXz",
        "outputId": "faf85394-ce97-46a6-c679-59ec6a6991f5"
      },
      "source": [
        "# Проверка точности предсказаний\n",
        "# Формируем датасет для проверки\n",
        "check_test_rf = pd.DataFrame({\n",
        "    \"y_test\": y_test[\"price\"],\n",
        "    \"y_pred\": y_pred_rf.flatten(),\n",
        "})\n",
        "check_test_rf[\"error\"] = (check_test_rf[\"y_pred\"] - check_test_rf[\"y_test\"])**2\n",
        "print(check_test_rf[\"error\"].mean())"
      ],
      "execution_count": 52,
      "outputs": [
        {
          "output_type": "stream",
          "name": "stdout",
          "text": [
            "9.334548946165201\n"
          ]
        }
      ]
    },
    {
      "cell_type": "code",
      "metadata": {
        "colab": {
          "base_uri": "https://localhost:8080/"
        },
        "id": "oTbqvMQrmA2a",
        "outputId": "5d779d5c-863f-480f-d4a6-17b699f4b9e6"
      },
      "source": [
        "# Расчитываем коэффициент детерминации\n",
        "r2_rf = r2_score(check_test_rf[\"y_pred\"], check_test_rf[\"y_test\"])\n",
        "print(f'Коэффициент детерминации R2: {r2_rf:.2f}')"
      ],
      "execution_count": 53,
      "outputs": [
        {
          "output_type": "stream",
          "name": "stdout",
          "text": [
            "Коэффициент детерминации R2: 0.85\n"
          ]
        }
      ]
    },
    {
      "cell_type": "markdown",
      "metadata": {
        "id": "UNebgo3invtA"
      },
      "source": [
        "Метод случайного леса отработал лучше - коэффициент детерминации 0,85 против 0,67 у метода линейной регрессии."
      ]
    },
    {
      "cell_type": "markdown",
      "metadata": {
        "id": "xNFn6JELoIZn"
      },
      "source": [
        "##*Задание 3"
      ]
    },
    {
      "cell_type": "markdown",
      "metadata": {
        "id": "wmeYMmBFuB6C"
      },
      "source": [
        "Вызовите документацию для класса RandomForestRegressor,\n",
        "найдите информацию об атрибуте feature_importances_.\n",
        "\n",
        "С помощью этого атрибута найдите сумму всех показателей важности,\n",
        "установите, какие два признака показывают наибольшую важность."
      ]
    },
    {
      "cell_type": "code",
      "metadata": {
        "colab": {
          "base_uri": "https://localhost:8080/"
        },
        "id": "_ZyumH-ToRT7",
        "outputId": "2d64bb02-a1a3-4852-e80b-178d0b16f909"
      },
      "source": [
        "feature_importances = pd.DataFrame(model.feature_importances_, columns = ['importance'], index=feature_names)\n",
        "feature_importances = feature_importances.sort_values(by='importance', ascending=False)\n",
        "sum_importance = feature_importances['importance'].sum()\n",
        "print(f'Сумма всех показателей важности: {sum_importance:.2f}\\n')\n",
        "n=2\n",
        "print(f'{n} признака с наибольшей важностью:')\n",
        "print(feature_importances.head(n))"
      ],
      "execution_count": 54,
      "outputs": [
        {
          "output_type": "stream",
          "name": "stdout",
          "text": [
            "Сумма всех показателей важности: 1.00\n",
            "\n",
            "2 признака с наибольшей важностью:\n",
            "       importance\n",
            "LSTAT    0.415847\n",
            "RM       0.402682\n"
          ]
        }
      ]
    },
    {
      "cell_type": "markdown",
      "metadata": {
        "id": "86HdZqU7sWXJ"
      },
      "source": [
        "##*Задание 4"
      ]
    },
    {
      "cell_type": "code",
      "metadata": {
        "id": "1VhlD-k3sEnB"
      },
      "source": [
        "#Импортируйте из соответствующих модулей RandomForestClassifier, GridSearchCV и train_test_split\n",
        "from sklearn.ensemble import RandomForestRegressor, RandomForestClassifier\n",
        "from sklearn.model_selection import GridSearchCV, train_test_split"
      ],
      "execution_count": 55,
      "outputs": []
    },
    {
      "cell_type": "code",
      "metadata": {
        "colab": {
          "base_uri": "https://localhost:8080/"
        },
        "id": "au0ztcefDeIt",
        "outputId": "e75137bf-5aaf-4f6c-bc53-dc9afda5d447"
      },
      "source": [
        "#Загрузите датасет creditcard.csv и создайте датафрейм df\n",
        "from google.colab import drive\n",
        "drive.mount('/content/drive')\n",
        "DATASET_PATH = '/content/drive/My Drive/GB/Python_libs/6. Видеоурок 3 Supervised learning/creditcard.csv'\n",
        "df = pd.read_csv(DATASET_PATH, sep=',')"
      ],
      "execution_count": 56,
      "outputs": [
        {
          "output_type": "stream",
          "name": "stdout",
          "text": [
            "Mounted at /content/drive\n"
          ]
        }
      ]
    },
    {
      "cell_type": "code",
      "metadata": {
        "colab": {
          "base_uri": "https://localhost:8080/"
        },
        "id": "ICb-e0IzEE3X",
        "outputId": "0908258b-2218-4c2e-cf0c-c8cc7f0b108d"
      },
      "source": [
        "#С помощью метода value_counts с аргументом normalize=True убедитесь в том, что выборка несбалансирована \n",
        "print(f'Частота встречаемости значений каждого класса:\\n{df[\"Class\"].value_counts(normalize=True)}\\n')\n",
        "#Используя метод info, проверьте, все ли столбцы содержат числовые данные и нет ли в них пропусков\n",
        "print(f'Информация по датасету:')\n",
        "df.info()"
      ],
      "execution_count": 57,
      "outputs": [
        {
          "output_type": "stream",
          "name": "stdout",
          "text": [
            "Частота встречаемости значений каждого класса:\n",
            "0    0.998273\n",
            "1    0.001727\n",
            "Name: Class, dtype: float64\n",
            "\n",
            "Информация по датасету:\n",
            "<class 'pandas.core.frame.DataFrame'>\n",
            "RangeIndex: 284807 entries, 0 to 284806\n",
            "Data columns (total 31 columns):\n",
            " #   Column  Non-Null Count   Dtype  \n",
            "---  ------  --------------   -----  \n",
            " 0   Time    284807 non-null  float64\n",
            " 1   V1      284807 non-null  float64\n",
            " 2   V2      284807 non-null  float64\n",
            " 3   V3      284807 non-null  float64\n",
            " 4   V4      284807 non-null  float64\n",
            " 5   V5      284807 non-null  float64\n",
            " 6   V6      284807 non-null  float64\n",
            " 7   V7      284807 non-null  float64\n",
            " 8   V8      284807 non-null  float64\n",
            " 9   V9      284807 non-null  float64\n",
            " 10  V10     284807 non-null  float64\n",
            " 11  V11     284807 non-null  float64\n",
            " 12  V12     284807 non-null  float64\n",
            " 13  V13     284807 non-null  float64\n",
            " 14  V14     284807 non-null  float64\n",
            " 15  V15     284807 non-null  float64\n",
            " 16  V16     284807 non-null  float64\n",
            " 17  V17     284807 non-null  float64\n",
            " 18  V18     284807 non-null  float64\n",
            " 19  V19     284807 non-null  float64\n",
            " 20  V20     284807 non-null  float64\n",
            " 21  V21     284807 non-null  float64\n",
            " 22  V22     284807 non-null  float64\n",
            " 23  V23     284807 non-null  float64\n",
            " 24  V24     284807 non-null  float64\n",
            " 25  V25     284807 non-null  float64\n",
            " 26  V26     284807 non-null  float64\n",
            " 27  V27     284807 non-null  float64\n",
            " 28  V28     284807 non-null  float64\n",
            " 29  Amount  284807 non-null  float64\n",
            " 30  Class   284807 non-null  int64  \n",
            "dtypes: float64(30), int64(1)\n",
            "memory usage: 67.4 MB\n"
          ]
        }
      ]
    },
    {
      "cell_type": "code",
      "metadata": {
        "colab": {
          "base_uri": "https://localhost:8080/",
          "height": 427
        },
        "id": "Ul8hcTAfFa6_",
        "outputId": "25035bcd-c26b-4ab0-cd4f-2fca9f022f0b"
      },
      "source": [
        "#Примените следующую настройку, чтобы можно было просматривать все столбцы датафрейма: pd.options.display.max_columns = 100\n",
        "pd.options.display.max_columns = 100\n",
        "#Просмотрите первые 10 строк датафрейма df\n",
        "df.head(10)"
      ],
      "execution_count": 60,
      "outputs": [
        {
          "output_type": "execute_result",
          "data": {
            "text/html": [
              "\n",
              "  <div id=\"df-19499594-ad81-48b9-9ac7-65f45d1fb35d\">\n",
              "    <div class=\"colab-df-container\">\n",
              "      <div>\n",
              "<style scoped>\n",
              "    .dataframe tbody tr th:only-of-type {\n",
              "        vertical-align: middle;\n",
              "    }\n",
              "\n",
              "    .dataframe tbody tr th {\n",
              "        vertical-align: top;\n",
              "    }\n",
              "\n",
              "    .dataframe thead th {\n",
              "        text-align: right;\n",
              "    }\n",
              "</style>\n",
              "<table border=\"1\" class=\"dataframe\">\n",
              "  <thead>\n",
              "    <tr style=\"text-align: right;\">\n",
              "      <th></th>\n",
              "      <th>Time</th>\n",
              "      <th>V1</th>\n",
              "      <th>V2</th>\n",
              "      <th>V3</th>\n",
              "      <th>V4</th>\n",
              "      <th>V5</th>\n",
              "      <th>V6</th>\n",
              "      <th>V7</th>\n",
              "      <th>V8</th>\n",
              "      <th>V9</th>\n",
              "      <th>V10</th>\n",
              "      <th>V11</th>\n",
              "      <th>V12</th>\n",
              "      <th>V13</th>\n",
              "      <th>V14</th>\n",
              "      <th>V15</th>\n",
              "      <th>V16</th>\n",
              "      <th>V17</th>\n",
              "      <th>V18</th>\n",
              "      <th>V19</th>\n",
              "      <th>V20</th>\n",
              "      <th>V21</th>\n",
              "      <th>V22</th>\n",
              "      <th>V23</th>\n",
              "      <th>V24</th>\n",
              "      <th>V25</th>\n",
              "      <th>V26</th>\n",
              "      <th>V27</th>\n",
              "      <th>V28</th>\n",
              "      <th>Amount</th>\n",
              "      <th>Class</th>\n",
              "    </tr>\n",
              "  </thead>\n",
              "  <tbody>\n",
              "    <tr>\n",
              "      <th>0</th>\n",
              "      <td>0.0</td>\n",
              "      <td>-1.359807</td>\n",
              "      <td>-0.072781</td>\n",
              "      <td>2.536347</td>\n",
              "      <td>1.378155</td>\n",
              "      <td>-0.338321</td>\n",
              "      <td>0.462388</td>\n",
              "      <td>0.239599</td>\n",
              "      <td>0.098698</td>\n",
              "      <td>0.363787</td>\n",
              "      <td>0.090794</td>\n",
              "      <td>-0.551600</td>\n",
              "      <td>-0.617801</td>\n",
              "      <td>-0.991390</td>\n",
              "      <td>-0.311169</td>\n",
              "      <td>1.468177</td>\n",
              "      <td>-0.470401</td>\n",
              "      <td>0.207971</td>\n",
              "      <td>0.025791</td>\n",
              "      <td>0.403993</td>\n",
              "      <td>0.251412</td>\n",
              "      <td>-0.018307</td>\n",
              "      <td>0.277838</td>\n",
              "      <td>-0.110474</td>\n",
              "      <td>0.066928</td>\n",
              "      <td>0.128539</td>\n",
              "      <td>-0.189115</td>\n",
              "      <td>0.133558</td>\n",
              "      <td>-0.021053</td>\n",
              "      <td>149.62</td>\n",
              "      <td>0</td>\n",
              "    </tr>\n",
              "    <tr>\n",
              "      <th>1</th>\n",
              "      <td>0.0</td>\n",
              "      <td>1.191857</td>\n",
              "      <td>0.266151</td>\n",
              "      <td>0.166480</td>\n",
              "      <td>0.448154</td>\n",
              "      <td>0.060018</td>\n",
              "      <td>-0.082361</td>\n",
              "      <td>-0.078803</td>\n",
              "      <td>0.085102</td>\n",
              "      <td>-0.255425</td>\n",
              "      <td>-0.166974</td>\n",
              "      <td>1.612727</td>\n",
              "      <td>1.065235</td>\n",
              "      <td>0.489095</td>\n",
              "      <td>-0.143772</td>\n",
              "      <td>0.635558</td>\n",
              "      <td>0.463917</td>\n",
              "      <td>-0.114805</td>\n",
              "      <td>-0.183361</td>\n",
              "      <td>-0.145783</td>\n",
              "      <td>-0.069083</td>\n",
              "      <td>-0.225775</td>\n",
              "      <td>-0.638672</td>\n",
              "      <td>0.101288</td>\n",
              "      <td>-0.339846</td>\n",
              "      <td>0.167170</td>\n",
              "      <td>0.125895</td>\n",
              "      <td>-0.008983</td>\n",
              "      <td>0.014724</td>\n",
              "      <td>2.69</td>\n",
              "      <td>0</td>\n",
              "    </tr>\n",
              "    <tr>\n",
              "      <th>2</th>\n",
              "      <td>1.0</td>\n",
              "      <td>-1.358354</td>\n",
              "      <td>-1.340163</td>\n",
              "      <td>1.773209</td>\n",
              "      <td>0.379780</td>\n",
              "      <td>-0.503198</td>\n",
              "      <td>1.800499</td>\n",
              "      <td>0.791461</td>\n",
              "      <td>0.247676</td>\n",
              "      <td>-1.514654</td>\n",
              "      <td>0.207643</td>\n",
              "      <td>0.624501</td>\n",
              "      <td>0.066084</td>\n",
              "      <td>0.717293</td>\n",
              "      <td>-0.165946</td>\n",
              "      <td>2.345865</td>\n",
              "      <td>-2.890083</td>\n",
              "      <td>1.109969</td>\n",
              "      <td>-0.121359</td>\n",
              "      <td>-2.261857</td>\n",
              "      <td>0.524980</td>\n",
              "      <td>0.247998</td>\n",
              "      <td>0.771679</td>\n",
              "      <td>0.909412</td>\n",
              "      <td>-0.689281</td>\n",
              "      <td>-0.327642</td>\n",
              "      <td>-0.139097</td>\n",
              "      <td>-0.055353</td>\n",
              "      <td>-0.059752</td>\n",
              "      <td>378.66</td>\n",
              "      <td>0</td>\n",
              "    </tr>\n",
              "    <tr>\n",
              "      <th>3</th>\n",
              "      <td>1.0</td>\n",
              "      <td>-0.966272</td>\n",
              "      <td>-0.185226</td>\n",
              "      <td>1.792993</td>\n",
              "      <td>-0.863291</td>\n",
              "      <td>-0.010309</td>\n",
              "      <td>1.247203</td>\n",
              "      <td>0.237609</td>\n",
              "      <td>0.377436</td>\n",
              "      <td>-1.387024</td>\n",
              "      <td>-0.054952</td>\n",
              "      <td>-0.226487</td>\n",
              "      <td>0.178228</td>\n",
              "      <td>0.507757</td>\n",
              "      <td>-0.287924</td>\n",
              "      <td>-0.631418</td>\n",
              "      <td>-1.059647</td>\n",
              "      <td>-0.684093</td>\n",
              "      <td>1.965775</td>\n",
              "      <td>-1.232622</td>\n",
              "      <td>-0.208038</td>\n",
              "      <td>-0.108300</td>\n",
              "      <td>0.005274</td>\n",
              "      <td>-0.190321</td>\n",
              "      <td>-1.175575</td>\n",
              "      <td>0.647376</td>\n",
              "      <td>-0.221929</td>\n",
              "      <td>0.062723</td>\n",
              "      <td>0.061458</td>\n",
              "      <td>123.50</td>\n",
              "      <td>0</td>\n",
              "    </tr>\n",
              "    <tr>\n",
              "      <th>4</th>\n",
              "      <td>2.0</td>\n",
              "      <td>-1.158233</td>\n",
              "      <td>0.877737</td>\n",
              "      <td>1.548718</td>\n",
              "      <td>0.403034</td>\n",
              "      <td>-0.407193</td>\n",
              "      <td>0.095921</td>\n",
              "      <td>0.592941</td>\n",
              "      <td>-0.270533</td>\n",
              "      <td>0.817739</td>\n",
              "      <td>0.753074</td>\n",
              "      <td>-0.822843</td>\n",
              "      <td>0.538196</td>\n",
              "      <td>1.345852</td>\n",
              "      <td>-1.119670</td>\n",
              "      <td>0.175121</td>\n",
              "      <td>-0.451449</td>\n",
              "      <td>-0.237033</td>\n",
              "      <td>-0.038195</td>\n",
              "      <td>0.803487</td>\n",
              "      <td>0.408542</td>\n",
              "      <td>-0.009431</td>\n",
              "      <td>0.798278</td>\n",
              "      <td>-0.137458</td>\n",
              "      <td>0.141267</td>\n",
              "      <td>-0.206010</td>\n",
              "      <td>0.502292</td>\n",
              "      <td>0.219422</td>\n",
              "      <td>0.215153</td>\n",
              "      <td>69.99</td>\n",
              "      <td>0</td>\n",
              "    </tr>\n",
              "    <tr>\n",
              "      <th>5</th>\n",
              "      <td>2.0</td>\n",
              "      <td>-0.425966</td>\n",
              "      <td>0.960523</td>\n",
              "      <td>1.141109</td>\n",
              "      <td>-0.168252</td>\n",
              "      <td>0.420987</td>\n",
              "      <td>-0.029728</td>\n",
              "      <td>0.476201</td>\n",
              "      <td>0.260314</td>\n",
              "      <td>-0.568671</td>\n",
              "      <td>-0.371407</td>\n",
              "      <td>1.341262</td>\n",
              "      <td>0.359894</td>\n",
              "      <td>-0.358091</td>\n",
              "      <td>-0.137134</td>\n",
              "      <td>0.517617</td>\n",
              "      <td>0.401726</td>\n",
              "      <td>-0.058133</td>\n",
              "      <td>0.068653</td>\n",
              "      <td>-0.033194</td>\n",
              "      <td>0.084968</td>\n",
              "      <td>-0.208254</td>\n",
              "      <td>-0.559825</td>\n",
              "      <td>-0.026398</td>\n",
              "      <td>-0.371427</td>\n",
              "      <td>-0.232794</td>\n",
              "      <td>0.105915</td>\n",
              "      <td>0.253844</td>\n",
              "      <td>0.081080</td>\n",
              "      <td>3.67</td>\n",
              "      <td>0</td>\n",
              "    </tr>\n",
              "    <tr>\n",
              "      <th>6</th>\n",
              "      <td>4.0</td>\n",
              "      <td>1.229658</td>\n",
              "      <td>0.141004</td>\n",
              "      <td>0.045371</td>\n",
              "      <td>1.202613</td>\n",
              "      <td>0.191881</td>\n",
              "      <td>0.272708</td>\n",
              "      <td>-0.005159</td>\n",
              "      <td>0.081213</td>\n",
              "      <td>0.464960</td>\n",
              "      <td>-0.099254</td>\n",
              "      <td>-1.416907</td>\n",
              "      <td>-0.153826</td>\n",
              "      <td>-0.751063</td>\n",
              "      <td>0.167372</td>\n",
              "      <td>0.050144</td>\n",
              "      <td>-0.443587</td>\n",
              "      <td>0.002821</td>\n",
              "      <td>-0.611987</td>\n",
              "      <td>-0.045575</td>\n",
              "      <td>-0.219633</td>\n",
              "      <td>-0.167716</td>\n",
              "      <td>-0.270710</td>\n",
              "      <td>-0.154104</td>\n",
              "      <td>-0.780055</td>\n",
              "      <td>0.750137</td>\n",
              "      <td>-0.257237</td>\n",
              "      <td>0.034507</td>\n",
              "      <td>0.005168</td>\n",
              "      <td>4.99</td>\n",
              "      <td>0</td>\n",
              "    </tr>\n",
              "    <tr>\n",
              "      <th>7</th>\n",
              "      <td>7.0</td>\n",
              "      <td>-0.644269</td>\n",
              "      <td>1.417964</td>\n",
              "      <td>1.074380</td>\n",
              "      <td>-0.492199</td>\n",
              "      <td>0.948934</td>\n",
              "      <td>0.428118</td>\n",
              "      <td>1.120631</td>\n",
              "      <td>-3.807864</td>\n",
              "      <td>0.615375</td>\n",
              "      <td>1.249376</td>\n",
              "      <td>-0.619468</td>\n",
              "      <td>0.291474</td>\n",
              "      <td>1.757964</td>\n",
              "      <td>-1.323865</td>\n",
              "      <td>0.686133</td>\n",
              "      <td>-0.076127</td>\n",
              "      <td>-1.222127</td>\n",
              "      <td>-0.358222</td>\n",
              "      <td>0.324505</td>\n",
              "      <td>-0.156742</td>\n",
              "      <td>1.943465</td>\n",
              "      <td>-1.015455</td>\n",
              "      <td>0.057504</td>\n",
              "      <td>-0.649709</td>\n",
              "      <td>-0.415267</td>\n",
              "      <td>-0.051634</td>\n",
              "      <td>-1.206921</td>\n",
              "      <td>-1.085339</td>\n",
              "      <td>40.80</td>\n",
              "      <td>0</td>\n",
              "    </tr>\n",
              "    <tr>\n",
              "      <th>8</th>\n",
              "      <td>7.0</td>\n",
              "      <td>-0.894286</td>\n",
              "      <td>0.286157</td>\n",
              "      <td>-0.113192</td>\n",
              "      <td>-0.271526</td>\n",
              "      <td>2.669599</td>\n",
              "      <td>3.721818</td>\n",
              "      <td>0.370145</td>\n",
              "      <td>0.851084</td>\n",
              "      <td>-0.392048</td>\n",
              "      <td>-0.410430</td>\n",
              "      <td>-0.705117</td>\n",
              "      <td>-0.110452</td>\n",
              "      <td>-0.286254</td>\n",
              "      <td>0.074355</td>\n",
              "      <td>-0.328783</td>\n",
              "      <td>-0.210077</td>\n",
              "      <td>-0.499768</td>\n",
              "      <td>0.118765</td>\n",
              "      <td>0.570328</td>\n",
              "      <td>0.052736</td>\n",
              "      <td>-0.073425</td>\n",
              "      <td>-0.268092</td>\n",
              "      <td>-0.204233</td>\n",
              "      <td>1.011592</td>\n",
              "      <td>0.373205</td>\n",
              "      <td>-0.384157</td>\n",
              "      <td>0.011747</td>\n",
              "      <td>0.142404</td>\n",
              "      <td>93.20</td>\n",
              "      <td>0</td>\n",
              "    </tr>\n",
              "    <tr>\n",
              "      <th>9</th>\n",
              "      <td>9.0</td>\n",
              "      <td>-0.338262</td>\n",
              "      <td>1.119593</td>\n",
              "      <td>1.044367</td>\n",
              "      <td>-0.222187</td>\n",
              "      <td>0.499361</td>\n",
              "      <td>-0.246761</td>\n",
              "      <td>0.651583</td>\n",
              "      <td>0.069539</td>\n",
              "      <td>-0.736727</td>\n",
              "      <td>-0.366846</td>\n",
              "      <td>1.017614</td>\n",
              "      <td>0.836390</td>\n",
              "      <td>1.006844</td>\n",
              "      <td>-0.443523</td>\n",
              "      <td>0.150219</td>\n",
              "      <td>0.739453</td>\n",
              "      <td>-0.540980</td>\n",
              "      <td>0.476677</td>\n",
              "      <td>0.451773</td>\n",
              "      <td>0.203711</td>\n",
              "      <td>-0.246914</td>\n",
              "      <td>-0.633753</td>\n",
              "      <td>-0.120794</td>\n",
              "      <td>-0.385050</td>\n",
              "      <td>-0.069733</td>\n",
              "      <td>0.094199</td>\n",
              "      <td>0.246219</td>\n",
              "      <td>0.083076</td>\n",
              "      <td>3.68</td>\n",
              "      <td>0</td>\n",
              "    </tr>\n",
              "  </tbody>\n",
              "</table>\n",
              "</div>\n",
              "      <button class=\"colab-df-convert\" onclick=\"convertToInteractive('df-19499594-ad81-48b9-9ac7-65f45d1fb35d')\"\n",
              "              title=\"Convert this dataframe to an interactive table.\"\n",
              "              style=\"display:none;\">\n",
              "        \n",
              "  <svg xmlns=\"http://www.w3.org/2000/svg\" height=\"24px\"viewBox=\"0 0 24 24\"\n",
              "       width=\"24px\">\n",
              "    <path d=\"M0 0h24v24H0V0z\" fill=\"none\"/>\n",
              "    <path d=\"M18.56 5.44l.94 2.06.94-2.06 2.06-.94-2.06-.94-.94-2.06-.94 2.06-2.06.94zm-11 1L8.5 8.5l.94-2.06 2.06-.94-2.06-.94L8.5 2.5l-.94 2.06-2.06.94zm10 10l.94 2.06.94-2.06 2.06-.94-2.06-.94-.94-2.06-.94 2.06-2.06.94z\"/><path d=\"M17.41 7.96l-1.37-1.37c-.4-.4-.92-.59-1.43-.59-.52 0-1.04.2-1.43.59L10.3 9.45l-7.72 7.72c-.78.78-.78 2.05 0 2.83L4 21.41c.39.39.9.59 1.41.59.51 0 1.02-.2 1.41-.59l7.78-7.78 2.81-2.81c.8-.78.8-2.07 0-2.86zM5.41 20L4 18.59l7.72-7.72 1.47 1.35L5.41 20z\"/>\n",
              "  </svg>\n",
              "      </button>\n",
              "      \n",
              "  <style>\n",
              "    .colab-df-container {\n",
              "      display:flex;\n",
              "      flex-wrap:wrap;\n",
              "      gap: 12px;\n",
              "    }\n",
              "\n",
              "    .colab-df-convert {\n",
              "      background-color: #E8F0FE;\n",
              "      border: none;\n",
              "      border-radius: 50%;\n",
              "      cursor: pointer;\n",
              "      display: none;\n",
              "      fill: #1967D2;\n",
              "      height: 32px;\n",
              "      padding: 0 0 0 0;\n",
              "      width: 32px;\n",
              "    }\n",
              "\n",
              "    .colab-df-convert:hover {\n",
              "      background-color: #E2EBFA;\n",
              "      box-shadow: 0px 1px 2px rgba(60, 64, 67, 0.3), 0px 1px 3px 1px rgba(60, 64, 67, 0.15);\n",
              "      fill: #174EA6;\n",
              "    }\n",
              "\n",
              "    [theme=dark] .colab-df-convert {\n",
              "      background-color: #3B4455;\n",
              "      fill: #D2E3FC;\n",
              "    }\n",
              "\n",
              "    [theme=dark] .colab-df-convert:hover {\n",
              "      background-color: #434B5C;\n",
              "      box-shadow: 0px 1px 3px 1px rgba(0, 0, 0, 0.15);\n",
              "      filter: drop-shadow(0px 1px 2px rgba(0, 0, 0, 0.3));\n",
              "      fill: #FFFFFF;\n",
              "    }\n",
              "  </style>\n",
              "\n",
              "      <script>\n",
              "        const buttonEl =\n",
              "          document.querySelector('#df-19499594-ad81-48b9-9ac7-65f45d1fb35d button.colab-df-convert');\n",
              "        buttonEl.style.display =\n",
              "          google.colab.kernel.accessAllowed ? 'block' : 'none';\n",
              "\n",
              "        async function convertToInteractive(key) {\n",
              "          const element = document.querySelector('#df-19499594-ad81-48b9-9ac7-65f45d1fb35d');\n",
              "          const dataTable =\n",
              "            await google.colab.kernel.invokeFunction('convertToInteractive',\n",
              "                                                     [key], {});\n",
              "          if (!dataTable) return;\n",
              "\n",
              "          const docLinkHtml = 'Like what you see? Visit the ' +\n",
              "            '<a target=\"_blank\" href=https://colab.research.google.com/notebooks/data_table.ipynb>data table notebook</a>'\n",
              "            + ' to learn more about interactive tables.';\n",
              "          element.innerHTML = '';\n",
              "          dataTable['output_type'] = 'display_data';\n",
              "          await google.colab.output.renderOutput(dataTable, element);\n",
              "          const docLink = document.createElement('div');\n",
              "          docLink.innerHTML = docLinkHtml;\n",
              "          element.appendChild(docLink);\n",
              "        }\n",
              "      </script>\n",
              "    </div>\n",
              "  </div>\n",
              "  "
            ],
            "text/plain": [
              "   Time        V1        V2        V3        V4        V5        V6        V7  \\\n",
              "0   0.0 -1.359807 -0.072781  2.536347  1.378155 -0.338321  0.462388  0.239599   \n",
              "1   0.0  1.191857  0.266151  0.166480  0.448154  0.060018 -0.082361 -0.078803   \n",
              "2   1.0 -1.358354 -1.340163  1.773209  0.379780 -0.503198  1.800499  0.791461   \n",
              "3   1.0 -0.966272 -0.185226  1.792993 -0.863291 -0.010309  1.247203  0.237609   \n",
              "4   2.0 -1.158233  0.877737  1.548718  0.403034 -0.407193  0.095921  0.592941   \n",
              "5   2.0 -0.425966  0.960523  1.141109 -0.168252  0.420987 -0.029728  0.476201   \n",
              "6   4.0  1.229658  0.141004  0.045371  1.202613  0.191881  0.272708 -0.005159   \n",
              "7   7.0 -0.644269  1.417964  1.074380 -0.492199  0.948934  0.428118  1.120631   \n",
              "8   7.0 -0.894286  0.286157 -0.113192 -0.271526  2.669599  3.721818  0.370145   \n",
              "9   9.0 -0.338262  1.119593  1.044367 -0.222187  0.499361 -0.246761  0.651583   \n",
              "\n",
              "         V8        V9       V10       V11       V12       V13       V14  \\\n",
              "0  0.098698  0.363787  0.090794 -0.551600 -0.617801 -0.991390 -0.311169   \n",
              "1  0.085102 -0.255425 -0.166974  1.612727  1.065235  0.489095 -0.143772   \n",
              "2  0.247676 -1.514654  0.207643  0.624501  0.066084  0.717293 -0.165946   \n",
              "3  0.377436 -1.387024 -0.054952 -0.226487  0.178228  0.507757 -0.287924   \n",
              "4 -0.270533  0.817739  0.753074 -0.822843  0.538196  1.345852 -1.119670   \n",
              "5  0.260314 -0.568671 -0.371407  1.341262  0.359894 -0.358091 -0.137134   \n",
              "6  0.081213  0.464960 -0.099254 -1.416907 -0.153826 -0.751063  0.167372   \n",
              "7 -3.807864  0.615375  1.249376 -0.619468  0.291474  1.757964 -1.323865   \n",
              "8  0.851084 -0.392048 -0.410430 -0.705117 -0.110452 -0.286254  0.074355   \n",
              "9  0.069539 -0.736727 -0.366846  1.017614  0.836390  1.006844 -0.443523   \n",
              "\n",
              "        V15       V16       V17       V18       V19       V20       V21  \\\n",
              "0  1.468177 -0.470401  0.207971  0.025791  0.403993  0.251412 -0.018307   \n",
              "1  0.635558  0.463917 -0.114805 -0.183361 -0.145783 -0.069083 -0.225775   \n",
              "2  2.345865 -2.890083  1.109969 -0.121359 -2.261857  0.524980  0.247998   \n",
              "3 -0.631418 -1.059647 -0.684093  1.965775 -1.232622 -0.208038 -0.108300   \n",
              "4  0.175121 -0.451449 -0.237033 -0.038195  0.803487  0.408542 -0.009431   \n",
              "5  0.517617  0.401726 -0.058133  0.068653 -0.033194  0.084968 -0.208254   \n",
              "6  0.050144 -0.443587  0.002821 -0.611987 -0.045575 -0.219633 -0.167716   \n",
              "7  0.686133 -0.076127 -1.222127 -0.358222  0.324505 -0.156742  1.943465   \n",
              "8 -0.328783 -0.210077 -0.499768  0.118765  0.570328  0.052736 -0.073425   \n",
              "9  0.150219  0.739453 -0.540980  0.476677  0.451773  0.203711 -0.246914   \n",
              "\n",
              "        V22       V23       V24       V25       V26       V27       V28  \\\n",
              "0  0.277838 -0.110474  0.066928  0.128539 -0.189115  0.133558 -0.021053   \n",
              "1 -0.638672  0.101288 -0.339846  0.167170  0.125895 -0.008983  0.014724   \n",
              "2  0.771679  0.909412 -0.689281 -0.327642 -0.139097 -0.055353 -0.059752   \n",
              "3  0.005274 -0.190321 -1.175575  0.647376 -0.221929  0.062723  0.061458   \n",
              "4  0.798278 -0.137458  0.141267 -0.206010  0.502292  0.219422  0.215153   \n",
              "5 -0.559825 -0.026398 -0.371427 -0.232794  0.105915  0.253844  0.081080   \n",
              "6 -0.270710 -0.154104 -0.780055  0.750137 -0.257237  0.034507  0.005168   \n",
              "7 -1.015455  0.057504 -0.649709 -0.415267 -0.051634 -1.206921 -1.085339   \n",
              "8 -0.268092 -0.204233  1.011592  0.373205 -0.384157  0.011747  0.142404   \n",
              "9 -0.633753 -0.120794 -0.385050 -0.069733  0.094199  0.246219  0.083076   \n",
              "\n",
              "   Amount  Class  \n",
              "0  149.62      0  \n",
              "1    2.69      0  \n",
              "2  378.66      0  \n",
              "3  123.50      0  \n",
              "4   69.99      0  \n",
              "5    3.67      0  \n",
              "6    4.99      0  \n",
              "7   40.80      0  \n",
              "8   93.20      0  \n",
              "9    3.68      0  "
            ]
          },
          "metadata": {},
          "execution_count": 60
        }
      ]
    },
    {
      "cell_type": "code",
      "metadata": {
        "colab": {
          "base_uri": "https://localhost:8080/"
        },
        "id": "S9aZCA0ZGqlQ",
        "outputId": "f53856d1-30d8-4798-a9ab-31171d89ea28"
      },
      "source": [
        "#Создайте датафрейм X из датафрейма df, исключив столбец Class\n",
        "X = df.drop(['Class'], axis = 1)\n",
        "#Создайте объект Series под названием y из столбца Class\n",
        "y = pd.Series(data=df['Class'])\n",
        "#Разбейте X и y на тренировочный и тестовый наборы данных при помощи функции train_test_split, используя аргументы: test_size=0.3, random_state=100, stratify=y\n",
        "X_train, X_test, y_train, y_test = train_test_split(X, y, test_size=0.3, random_state=100, stratify=y)\n",
        "#У вас должны получиться объекты X_train, X_test, y_train и y_test. Просмотрите информацию о их форме\n",
        "print(f'Информация по форме датасета X_train:\\n{X_train.shape}')\n",
        "print(f'\\nИнформация по форме датасета X_test:\\n{X_test.shape}')\n",
        "print(f'\\nИнформация по форме датасета y_train:\\n{y_train.shape}')\n",
        "print(f'\\nИнформация по форме датасета y_test:\\n{y_test.shape}')"
      ],
      "execution_count": 61,
      "outputs": [
        {
          "output_type": "stream",
          "name": "stdout",
          "text": [
            "Информация по форме датасета X_train:\n",
            "(199364, 30)\n",
            "\n",
            "Информация по форме датасета X_test:\n",
            "(85443, 30)\n",
            "\n",
            "Информация по форме датасета y_train:\n",
            "(199364,)\n",
            "\n",
            "Информация по форме датасета y_test:\n",
            "(85443,)\n"
          ]
        }
      ]
    },
    {
      "cell_type": "code",
      "metadata": {
        "id": "10PU9HdxHo2j"
      },
      "source": [
        "#Для поиска по сетке параметров задайте такие параметры: parameters = [{'n_estimators': [10, 15], 'max_features': np.arange(3, 5), max_depth': np.arange(4, 7)}]\n",
        "parameters = [{'n_estimators': [10, 15], 'max_features': np.arange(3, 5), 'max_depth': np.arange(4, 7)}]\n",
        "#Создайте модель GridSearchCV со следующими аргументами: estimator=RandomForestClassifier(random_state=100), param_grid=parameters, scoring='roc_auc', cv=3\n",
        "grid_model = GridSearchCV(estimator=RandomForestClassifier(random_state=100), param_grid=parameters, scoring='roc_auc', cv=3)"
      ],
      "execution_count": 62,
      "outputs": []
    },
    {
      "cell_type": "code",
      "metadata": {
        "colab": {
          "base_uri": "https://localhost:8080/"
        },
        "id": "GQXwCFC-XMSV",
        "outputId": "a683b8fa-701b-426c-adb0-755b733f76bb"
      },
      "source": [
        "#Обучите модель на тренировочном наборе данных\n",
        "grid_model.fit(X_train, y_train)"
      ],
      "execution_count": null,
      "outputs": [
        {
          "output_type": "execute_result",
          "data": {
            "text/plain": [
              "GridSearchCV(cv=3, error_score=nan,\n",
              "             estimator=RandomForestClassifier(bootstrap=True, ccp_alpha=0.0,\n",
              "                                              class_weight=None,\n",
              "                                              criterion='gini', max_depth=None,\n",
              "                                              max_features='auto',\n",
              "                                              max_leaf_nodes=None,\n",
              "                                              max_samples=None,\n",
              "                                              min_impurity_decrease=0.0,\n",
              "                                              min_impurity_split=None,\n",
              "                                              min_samples_leaf=1,\n",
              "                                              min_samples_split=2,\n",
              "                                              min_weight_fraction_leaf=0.0,\n",
              "                                              n_estimators=100, n_jobs=None,\n",
              "                                              oob_score=False, random_state=100,\n",
              "                                              verbose=0, warm_start=False),\n",
              "             iid='deprecated', n_jobs=None,\n",
              "             param_grid=[{'max_depth': array([4, 5, 6]),\n",
              "                          'max_features': array([3, 4]),\n",
              "                          'n_estimators': [10, 15]}],\n",
              "             pre_dispatch='2*n_jobs', refit=True, return_train_score=False,\n",
              "             scoring='roc_auc', verbose=0)"
            ]
          },
          "metadata": {},
          "execution_count": 113
        }
      ]
    },
    {
      "cell_type": "code",
      "metadata": {
        "colab": {
          "base_uri": "https://localhost:8080/"
        },
        "id": "qM_tgyA0TuZY",
        "outputId": "ce89ab33-e1c6-49f8-9907-5d1e570a495b"
      },
      "source": [
        "#Просмотрите параметры лучшей модели с помощью атрибута best_params_\n",
        "fitted_parameters = grid_model.best_params_\n",
        "print(f'Наилучшие параметры для модели:\\n{fitted_parameters}')"
      ],
      "execution_count": null,
      "outputs": [
        {
          "output_type": "stream",
          "name": "stdout",
          "text": [
            "Наилучшие параметры для модели:\n",
            "{'max_depth': 6, 'max_features': 3, 'n_estimators': 15}\n"
          ]
        }
      ]
    },
    {
      "cell_type": "code",
      "metadata": {
        "id": "REwdOadxYQnW"
      },
      "source": [
        "#Предскажите вероятности классов с помощью полученнной модели и метода predict_proba\n",
        "class_probs = grid_model.predict_proba(X_test)\n",
        "#Из полученного результата (массив Numpy) выберите столбец с индексом 1 (вероятность класса 1) и запишите в массив y_pred_proba\n",
        "y_pred_proba = class_probs[:,1]"
      ],
      "execution_count": null,
      "outputs": []
    },
    {
      "cell_type": "code",
      "metadata": {
        "id": "-aWGDIX_Yv2G"
      },
      "source": [
        "#Из модуля sklearn.metrics импортируйте метрику roc_auc_score.\n",
        "from sklearn.metrics import roc_auc_score"
      ],
      "execution_count": null,
      "outputs": []
    },
    {
      "cell_type": "code",
      "metadata": {
        "colab": {
          "base_uri": "https://localhost:8080/"
        },
        "id": "LzTKcDktXzdw",
        "outputId": "c722d989-4ba9-42f9-bf81-b7314437b1e1"
      },
      "source": [
        "#Вычислите AUC на тестовых данных и сравните с результатом,полученным на тренировочных данных, используя в качестве аргументов массивы y_test и y_pred_proba.\n",
        "auc_score = roc_auc_score(y_test, y_pred_proba)\n",
        "print(f'Искомая метрика: {auc_score:.2f}')"
      ],
      "execution_count": null,
      "outputs": [
        {
          "output_type": "stream",
          "name": "stdout",
          "text": [
            "Искомая метрика: 0.95\n"
          ]
        }
      ]
    },
    {
      "cell_type": "markdown",
      "source": [
        "# Задание 5"
      ],
      "metadata": {
        "id": "_xL4Rc5TpOad"
      }
    },
    {
      "cell_type": "code",
      "source": [
        "from sklearn.datasets import load_digits\n",
        "from sklearn import datasets, svm, metrics\n",
        "\n",
        "digits = load_digits()"
      ],
      "metadata": {
        "id": "BXTY06MOpP-c"
      },
      "execution_count": 63,
      "outputs": []
    },
    {
      "cell_type": "code",
      "source": [
        "data = digits['data']\n",
        "feature_names = digits['feature_names']\n",
        "target = digits['target']"
      ],
      "metadata": {
        "id": "cAqC-TzQpZ2s"
      },
      "execution_count": 64,
      "outputs": []
    },
    {
      "cell_type": "code",
      "source": [
        "fig, axs = plt.subplots(nrows=1, ncols=10, figsize=(10, 10))\n",
        "for i, ax, label in zip(target, axs, target):\n",
        "    ax.set_axis_off()\n",
        "    ax.imshow(digits.images[i])\n",
        "    ax.set_title(\"Digit: %i\" % label)"
      ],
      "metadata": {
        "colab": {
          "base_uri": "https://localhost:8080/",
          "height": 123
        },
        "id": "GwC6TZ4NpXue",
        "outputId": "aef404a9-40e0-4011-d041-f0c28281ca64"
      },
      "execution_count": 65,
      "outputs": [
        {
          "output_type": "display_data",
          "data": {
            "text/plain": [
              "<Figure size 720x720 with 10 Axes>"
            ],
            "image/svg+xml": "<?xml version=\"1.0\" encoding=\"utf-8\" standalone=\"no\"?>\n<!DOCTYPE svg PUBLIC \"-//W3C//DTD SVG 1.1//EN\"\n  \"http://www.w3.org/Graphics/SVG/1.1/DTD/svg11.dtd\">\n<!-- Created with matplotlib (https://matplotlib.org/) -->\n<svg height=\"76.806261pt\" version=\"1.1\" viewBox=\"0 0 572.4 76.806261\" width=\"572.4pt\" xmlns=\"http://www.w3.org/2000/svg\" xmlns:xlink=\"http://www.w3.org/1999/xlink\">\n <defs>\n  <style type=\"text/css\">\n*{stroke-linecap:butt;stroke-linejoin:round;}\n  </style>\n </defs>\n <g id=\"figure_1\">\n  <g id=\"patch_1\">\n   <path d=\"M 0 76.806261 \nL 572.4 76.806261 \nL 572.4 0 \nL 0 0 \nz\n\" style=\"fill:none;\"/>\n  </g>\n  <g id=\"axes_1\">\n   <g clip-path=\"url(#p0b17775011)\">\n    <image height=\"48\" id=\"image26970b38b9\" transform=\"scale(1 -1)translate(0 -48)\" width=\"48\" x=\"7.2\" xlink:href=\"data:image/png;base64,\niVBORw0KGgoAAAANSUhEUgAAADAAAAAwCAYAAABXAvmHAAAABHNCSVQICAgIfAhkiAAAAWpJREFUaIHtl61LA3EYgG9zikGYg6F5CtPiEMfAWRXEj2BYEASDzapBBIsgGmRgNlrcwGTZLNaFQxgOxOCwKEzk8KsYzuk/8LzhQHj5wfvE5467e3jh5XexuVjp14vA884M+r2Nc/Qn7Vn0ycWHKK8Vif/LUxSxAG0sQJuEdCGeG0df3SyjXz/cQt+78oq+0PxB70/2SJ+EOD8BC9DGArQRt9DnWBL9/tMy+vRpg19wOcwvqLN+PCqiz+zy852fgAVoYwHaiFvoO8VtfmsUfdYL0IedF/TVuzzfP8hnJAnnJ2AB2liANuIW6n/rol8r8pnE96L9SYUffZHul3B+AhagjQVoI2+hIER/MNRCv5BbRd+9vUdfmGijl85aEs5PwAK0sQBtxC2UuL5BX/lKoa/VK+inmyX0VyMX6PNnWemTEOcnYAHaWIA24haSOC7zmcfb5i0UvA+gX5qaR5/u8B+fhPMTsABtLECbP1LfQt76zcPOAAAAAElFTkSuQmCC\" y=\"-21.606261\"/>\n   </g>\n   <g id=\"text_1\">\n    <!-- Digit: 0 -->\n    <defs>\n     <path d=\"M 19.671875 64.796875 \nL 19.671875 8.109375 \nL 31.59375 8.109375 \nQ 46.6875 8.109375 53.6875 14.9375 \nQ 60.6875 21.78125 60.6875 36.53125 \nQ 60.6875 51.171875 53.6875 57.984375 \nQ 46.6875 64.796875 31.59375 64.796875 \nz\nM 9.8125 72.90625 \nL 30.078125 72.90625 \nQ 51.265625 72.90625 61.171875 64.09375 \nQ 71.09375 55.28125 71.09375 36.53125 \nQ 71.09375 17.671875 61.125 8.828125 \nQ 51.171875 0 30.078125 0 \nL 9.8125 0 \nz\n\" id=\"DejaVuSans-68\"/>\n     <path d=\"M 9.421875 54.6875 \nL 18.40625 54.6875 \nL 18.40625 0 \nL 9.421875 0 \nz\nM 9.421875 75.984375 \nL 18.40625 75.984375 \nL 18.40625 64.59375 \nL 9.421875 64.59375 \nz\n\" id=\"DejaVuSans-105\"/>\n     <path d=\"M 45.40625 27.984375 \nQ 45.40625 37.75 41.375 43.109375 \nQ 37.359375 48.484375 30.078125 48.484375 \nQ 22.859375 48.484375 18.828125 43.109375 \nQ 14.796875 37.75 14.796875 27.984375 \nQ 14.796875 18.265625 18.828125 12.890625 \nQ 22.859375 7.515625 30.078125 7.515625 \nQ 37.359375 7.515625 41.375 12.890625 \nQ 45.40625 18.265625 45.40625 27.984375 \nz\nM 54.390625 6.78125 \nQ 54.390625 -7.171875 48.1875 -13.984375 \nQ 42 -20.796875 29.203125 -20.796875 \nQ 24.46875 -20.796875 20.265625 -20.09375 \nQ 16.0625 -19.390625 12.109375 -17.921875 \nL 12.109375 -9.1875 \nQ 16.0625 -11.328125 19.921875 -12.34375 \nQ 23.78125 -13.375 27.78125 -13.375 \nQ 36.625 -13.375 41.015625 -8.765625 \nQ 45.40625 -4.15625 45.40625 5.171875 \nL 45.40625 9.625 \nQ 42.625 4.78125 38.28125 2.390625 \nQ 33.9375 0 27.875 0 \nQ 17.828125 0 11.671875 7.65625 \nQ 5.515625 15.328125 5.515625 27.984375 \nQ 5.515625 40.671875 11.671875 48.328125 \nQ 17.828125 56 27.875 56 \nQ 33.9375 56 38.28125 53.609375 \nQ 42.625 51.21875 45.40625 46.390625 \nL 45.40625 54.6875 \nL 54.390625 54.6875 \nz\n\" id=\"DejaVuSans-103\"/>\n     <path d=\"M 18.3125 70.21875 \nL 18.3125 54.6875 \nL 36.8125 54.6875 \nL 36.8125 47.703125 \nL 18.3125 47.703125 \nL 18.3125 18.015625 \nQ 18.3125 11.328125 20.140625 9.421875 \nQ 21.96875 7.515625 27.59375 7.515625 \nL 36.8125 7.515625 \nL 36.8125 0 \nL 27.59375 0 \nQ 17.1875 0 13.234375 3.875 \nQ 9.28125 7.765625 9.28125 18.015625 \nL 9.28125 47.703125 \nL 2.6875 47.703125 \nL 2.6875 54.6875 \nL 9.28125 54.6875 \nL 9.28125 70.21875 \nz\n\" id=\"DejaVuSans-116\"/>\n     <path d=\"M 11.71875 12.40625 \nL 22.015625 12.40625 \nL 22.015625 0 \nL 11.71875 0 \nz\nM 11.71875 51.703125 \nL 22.015625 51.703125 \nL 22.015625 39.3125 \nL 11.71875 39.3125 \nz\n\" id=\"DejaVuSans-58\"/>\n     <path id=\"DejaVuSans-32\"/>\n     <path d=\"M 31.78125 66.40625 \nQ 24.171875 66.40625 20.328125 58.90625 \nQ 16.5 51.421875 16.5 36.375 \nQ 16.5 21.390625 20.328125 13.890625 \nQ 24.171875 6.390625 31.78125 6.390625 \nQ 39.453125 6.390625 43.28125 13.890625 \nQ 47.125 21.390625 47.125 36.375 \nQ 47.125 51.421875 43.28125 58.90625 \nQ 39.453125 66.40625 31.78125 66.40625 \nz\nM 31.78125 74.21875 \nQ 44.046875 74.21875 50.515625 64.515625 \nQ 56.984375 54.828125 56.984375 36.375 \nQ 56.984375 17.96875 50.515625 8.265625 \nQ 44.046875 -1.421875 31.78125 -1.421875 \nQ 19.53125 -1.421875 13.0625 8.265625 \nQ 6.59375 17.96875 6.59375 36.375 \nQ 6.59375 54.828125 13.0625 64.515625 \nQ 19.53125 74.21875 31.78125 74.21875 \nz\n\" id=\"DejaVuSans-48\"/>\n    </defs>\n    <g transform=\"translate(8.983443 16.318125)scale(0.12 -0.12)\">\n     <use xlink:href=\"#DejaVuSans-68\"/>\n     <use x=\"77.001953\" xlink:href=\"#DejaVuSans-105\"/>\n     <use x=\"104.785156\" xlink:href=\"#DejaVuSans-103\"/>\n     <use x=\"168.261719\" xlink:href=\"#DejaVuSans-105\"/>\n     <use x=\"196.044922\" xlink:href=\"#DejaVuSans-116\"/>\n     <use x=\"235.253906\" xlink:href=\"#DejaVuSans-58\"/>\n     <use x=\"268.945312\" xlink:href=\"#DejaVuSans-32\"/>\n     <use x=\"300.732422\" xlink:href=\"#DejaVuSans-48\"/>\n    </g>\n   </g>\n  </g>\n  <g id=\"axes_2\">\n   <g clip-path=\"url(#p7fee18ff5f)\">\n    <image height=\"48\" id=\"image13acde4371\" transform=\"scale(1 -1)translate(0 -48)\" width=\"48\" x=\"63.945763\" xlink:href=\"data:image/png;base64,\niVBORw0KGgoAAAANSUhEUgAAADAAAAAwCAYAAABXAvmHAAAABHNCSVQICAgIfAhkiAAAARRJREFUaIFjdGEM+c9ABfBrtzxW8f3aG7GKax+PxiouE3yVJHuZSFI9CMGoBwYajHpgoAELqRqYxcWwiuMqbXBafISfVKuxgiEfA6MeGGgw6oGBBqMeGGgw6oGBBqMeGGhAcluIWkDs3HeqmDPkY2DUAwMNRj0w0ABnKfSowQqr+MbEbhw6uEmymPXNN6zif0kyZRjEwKgHBhqMemCgAc5SSK7hGFbx7P05WMWnLpqCVVyNFXvp9NRNGKu4BGmD00M/BkY9MNBg1AMDDUjukTEdPI9VPP1WFFZxXKPWn3R/YRWXINU9JKofdGDUAwMNRj0w0IBq40IKvO+wire9UccqLnqIlSr2DvkYGPXAQINRDww0AABgxyRYwSrF6AAAAABJRU5ErkJggg==\" y=\"-21.606261\"/>\n   </g>\n   <g id=\"text_2\">\n    <!-- Digit: 1 -->\n    <defs>\n     <path d=\"M 12.40625 8.296875 \nL 28.515625 8.296875 \nL 28.515625 63.921875 \nL 10.984375 60.40625 \nL 10.984375 69.390625 \nL 28.421875 72.90625 \nL 38.28125 72.90625 \nL 38.28125 8.296875 \nL 54.390625 8.296875 \nL 54.390625 0 \nL 12.40625 0 \nz\n\" id=\"DejaVuSans-49\"/>\n    </defs>\n    <g transform=\"translate(65.729206 16.318125)scale(0.12 -0.12)\">\n     <use xlink:href=\"#DejaVuSans-68\"/>\n     <use x=\"77.001953\" xlink:href=\"#DejaVuSans-105\"/>\n     <use x=\"104.785156\" xlink:href=\"#DejaVuSans-103\"/>\n     <use x=\"168.261719\" xlink:href=\"#DejaVuSans-105\"/>\n     <use x=\"196.044922\" xlink:href=\"#DejaVuSans-116\"/>\n     <use x=\"235.253906\" xlink:href=\"#DejaVuSans-58\"/>\n     <use x=\"268.945312\" xlink:href=\"#DejaVuSans-32\"/>\n     <use x=\"300.732422\" xlink:href=\"#DejaVuSans-49\"/>\n    </g>\n   </g>\n  </g>\n  <g id=\"axes_3\">\n   <g clip-path=\"url(#p6f9238d80b)\">\n    <image height=\"48\" id=\"image06b849959d\" transform=\"scale(1 -1)translate(0 -48)\" width=\"48\" x=\"120.691525\" xlink:href=\"data:image/png;base64,\niVBORw0KGgoAAAANSUhEUgAAADAAAAAwCAYAAABXAvmHAAAABHNCSVQICAgIfAhkiAAAAWJJREFUaIFjdGEM+c9ABfDP3hCr+J+ad1jF92tvxCquuCMFq7ha0hms4kxEuG1Qg1EPDDQY9cBAAxZcErhKFcfJx7CKV4nMJ8lix6v+WMVFD7GSZM6Qj4FRDww0GPXAQAOcpdCdeGas4rtFbpJkgVlVJlZxwQXHsYqzMTwkyfwhHwOjHhhoMOqBgQaMuHpkzOJiWDXcrFDCKp7svB+reAj/OaziBWaBWMX/vnyFVRwXGPIxMOqBgQajHhhogLMthKs0UO/Arn7lI2es4iEF2Euh70s4sYqzueJyEXYw5GNg1AMDDUY9MNAAZymEC+BuC+3FKu65rhir+N3wGVjF3RkMSHLPkI+BUQ8MNBj1wEADkkshpQ0/sYpXhWMfLwoJwt4W2vBVnFSrsYIhHwOjHhhoMOqBgQYkl0JMB89jFbfNTscqPndCH1bxjW+xz8ExMHwmzT0kqR6EYNQDAw1GPTDQAAC+4z2DlaMHQwAAAABJRU5ErkJggg==\" y=\"-21.606261\"/>\n   </g>\n   <g id=\"text_3\">\n    <!-- Digit: 2 -->\n    <defs>\n     <path d=\"M 19.1875 8.296875 \nL 53.609375 8.296875 \nL 53.609375 0 \nL 7.328125 0 \nL 7.328125 8.296875 \nQ 12.9375 14.109375 22.625 23.890625 \nQ 32.328125 33.6875 34.8125 36.53125 \nQ 39.546875 41.84375 41.421875 45.53125 \nQ 43.3125 49.21875 43.3125 52.78125 \nQ 43.3125 58.59375 39.234375 62.25 \nQ 35.15625 65.921875 28.609375 65.921875 \nQ 23.96875 65.921875 18.8125 64.3125 \nQ 13.671875 62.703125 7.8125 59.421875 \nL 7.8125 69.390625 \nQ 13.765625 71.78125 18.9375 73 \nQ 24.125 74.21875 28.421875 74.21875 \nQ 39.75 74.21875 46.484375 68.546875 \nQ 53.21875 62.890625 53.21875 53.421875 \nQ 53.21875 48.921875 51.53125 44.890625 \nQ 49.859375 40.875 45.40625 35.40625 \nQ 44.1875 33.984375 37.640625 27.21875 \nQ 31.109375 20.453125 19.1875 8.296875 \nz\n\" id=\"DejaVuSans-50\"/>\n    </defs>\n    <g transform=\"translate(122.474968 16.318125)scale(0.12 -0.12)\">\n     <use xlink:href=\"#DejaVuSans-68\"/>\n     <use x=\"77.001953\" xlink:href=\"#DejaVuSans-105\"/>\n     <use x=\"104.785156\" xlink:href=\"#DejaVuSans-103\"/>\n     <use x=\"168.261719\" xlink:href=\"#DejaVuSans-105\"/>\n     <use x=\"196.044922\" xlink:href=\"#DejaVuSans-116\"/>\n     <use x=\"235.253906\" xlink:href=\"#DejaVuSans-58\"/>\n     <use x=\"268.945312\" xlink:href=\"#DejaVuSans-32\"/>\n     <use x=\"300.732422\" xlink:href=\"#DejaVuSans-50\"/>\n    </g>\n   </g>\n  </g>\n  <g id=\"axes_4\">\n   <g clip-path=\"url(#p37e670aab2)\">\n    <image height=\"48\" id=\"image4c2aebf9a3\" transform=\"scale(1 -1)translate(0 -48)\" width=\"48\" x=\"177.437288\" xlink:href=\"data:image/png;base64,\niVBORw0KGgoAAAANSUhEUgAAADAAAAAwCAYAAABXAvmHAAAABHNCSVQICAgIfAhkiAAAAU1JREFUaIFjdGEM+c9AArjfbolVvCloBSnGMNSe9ccqrhR1gSRzmEhSPQjBqAcGGox6YKABC6kafgv8xSo+uSYMq/gPQexhtKGqD6t4wLJMrOK4SqchHwOjHhhoMOqBgQYkl0JqmadIUi8gIY5VPDkgFqv4n49sJJk/5GNg1AMDDUY9MNCA5FIIp0E4ShvDHc9IMud8khRW8T841A/5GBj1wECDUQ8MNCC5FGLS08AqvnUH9nGhsHvOWMW/hmC3+s+Ll6S5hyTVgxCMemCgwagHBhrgLIVwlTZMr95jFV/xWRCreJDoOazi81/IE3IbUWDIx8CoBwYajHpgoAHOUuhGJh9W8XannVjFW+ZFYhW/kj8Nq/jkUOyj2TyrT+JyElYw5GNg1AMDDUY9MNCAkVoz9bfip2MVx9VGWmxvhlV8tEc21MCoBwYaDHkPAAA1rDv1jcQhpQAAAABJRU5ErkJggg==\" y=\"-21.606261\"/>\n   </g>\n   <g id=\"text_4\">\n    <!-- Digit: 3 -->\n    <defs>\n     <path d=\"M 40.578125 39.3125 \nQ 47.65625 37.796875 51.625 33 \nQ 55.609375 28.21875 55.609375 21.1875 \nQ 55.609375 10.40625 48.1875 4.484375 \nQ 40.765625 -1.421875 27.09375 -1.421875 \nQ 22.515625 -1.421875 17.65625 -0.515625 \nQ 12.796875 0.390625 7.625 2.203125 \nL 7.625 11.71875 \nQ 11.71875 9.328125 16.59375 8.109375 \nQ 21.484375 6.890625 26.8125 6.890625 \nQ 36.078125 6.890625 40.9375 10.546875 \nQ 45.796875 14.203125 45.796875 21.1875 \nQ 45.796875 27.640625 41.28125 31.265625 \nQ 36.765625 34.90625 28.71875 34.90625 \nL 20.21875 34.90625 \nL 20.21875 43.015625 \nL 29.109375 43.015625 \nQ 36.375 43.015625 40.234375 45.921875 \nQ 44.09375 48.828125 44.09375 54.296875 \nQ 44.09375 59.90625 40.109375 62.90625 \nQ 36.140625 65.921875 28.71875 65.921875 \nQ 24.65625 65.921875 20.015625 65.03125 \nQ 15.375 64.15625 9.8125 62.3125 \nL 9.8125 71.09375 \nQ 15.4375 72.65625 20.34375 73.4375 \nQ 25.25 74.21875 29.59375 74.21875 \nQ 40.828125 74.21875 47.359375 69.109375 \nQ 53.90625 64.015625 53.90625 55.328125 \nQ 53.90625 49.265625 50.4375 45.09375 \nQ 46.96875 40.921875 40.578125 39.3125 \nz\n\" id=\"DejaVuSans-51\"/>\n    </defs>\n    <g transform=\"translate(179.220731 16.318125)scale(0.12 -0.12)\">\n     <use xlink:href=\"#DejaVuSans-68\"/>\n     <use x=\"77.001953\" xlink:href=\"#DejaVuSans-105\"/>\n     <use x=\"104.785156\" xlink:href=\"#DejaVuSans-103\"/>\n     <use x=\"168.261719\" xlink:href=\"#DejaVuSans-105\"/>\n     <use x=\"196.044922\" xlink:href=\"#DejaVuSans-116\"/>\n     <use x=\"235.253906\" xlink:href=\"#DejaVuSans-58\"/>\n     <use x=\"268.945312\" xlink:href=\"#DejaVuSans-32\"/>\n     <use x=\"300.732422\" xlink:href=\"#DejaVuSans-51\"/>\n    </g>\n   </g>\n  </g>\n  <g id=\"axes_5\">\n   <g clip-path=\"url(#p120836811c)\">\n    <image height=\"48\" id=\"image3a6a25db1c\" transform=\"scale(1 -1)translate(0 -48)\" width=\"48\" x=\"234.183051\" xlink:href=\"data:image/png;base64,\niVBORw0KGgoAAAANSUhEUgAAADAAAAAwCAYAAABXAvmHAAAABHNCSVQICAgIfAhkiAAAAVRJREFUaIFjdGEM+c9ABcCsrY5VfNvulVjFbbPTsYpzrT9Jkr1MJKkehGDUAwMNRj0w0ICFWgb9FuHCKn7r91es4u9ivmAV51pPmr1DPgZGPTDQYNQDAw1wlkLfAs2xis+d0IdVXI31AlbxtjdGWMWvWi7FKu4l7oZV/O/LV1jFh3wMjHpgoMGoBwYa4CyFfvJj95saKzdWce3j0VjFZYKvYhWveobd3qdRKljFJfpHS6HBCUY9MNBgyHsAZykkuOA4VnFNhSys4hsTu7GK5zJYYxVX3JGCVZxJ7h8uJ2FXT5LqQQhGPTDQYNQDAw1IHhdSnH4Hq/iaIOw9rxeFVljFNXvfkmTvXxziQz4GRj0w0GDUAwMNSC6FcI3PLF7njFX8F462zd+rN0m1GisY8jEw6oGBBqMeGGhAtTkyXG2k70s4qWUFVjDkY2DUAwMNRj0w0AAARCg7JmZIbEgAAAAASUVORK5CYII=\" y=\"-21.606261\"/>\n   </g>\n   <g id=\"text_5\">\n    <!-- Digit: 4 -->\n    <defs>\n     <path d=\"M 37.796875 64.3125 \nL 12.890625 25.390625 \nL 37.796875 25.390625 \nz\nM 35.203125 72.90625 \nL 47.609375 72.90625 \nL 47.609375 25.390625 \nL 58.015625 25.390625 \nL 58.015625 17.1875 \nL 47.609375 17.1875 \nL 47.609375 0 \nL 37.796875 0 \nL 37.796875 17.1875 \nL 4.890625 17.1875 \nL 4.890625 26.703125 \nz\n\" id=\"DejaVuSans-52\"/>\n    </defs>\n    <g transform=\"translate(235.966494 16.318125)scale(0.12 -0.12)\">\n     <use xlink:href=\"#DejaVuSans-68\"/>\n     <use x=\"77.001953\" xlink:href=\"#DejaVuSans-105\"/>\n     <use x=\"104.785156\" xlink:href=\"#DejaVuSans-103\"/>\n     <use x=\"168.261719\" xlink:href=\"#DejaVuSans-105\"/>\n     <use x=\"196.044922\" xlink:href=\"#DejaVuSans-116\"/>\n     <use x=\"235.253906\" xlink:href=\"#DejaVuSans-58\"/>\n     <use x=\"268.945312\" xlink:href=\"#DejaVuSans-32\"/>\n     <use x=\"300.732422\" xlink:href=\"#DejaVuSans-52\"/>\n    </g>\n   </g>\n  </g>\n  <g id=\"axes_6\">\n   <g clip-path=\"url(#p0707b994b4)\">\n    <image height=\"48\" id=\"image2f3e4f6344\" transform=\"scale(1 -1)translate(0 -48)\" width=\"48\" x=\"290.928814\" xlink:href=\"data:image/png;base64,\niVBORw0KGgoAAAANSUhEUgAAADAAAAAwCAYAAABXAvmHAAAABHNCSVQICAgIfAhkiAAAAT9JREFUaIHtmaFqQnEUxq86x3TJ4CyiRQQVHQNhLKxtYDGINh9A8AUWLBYfQYYiw7IsYrQpTKzCFRFBGC4oW1jQMBH3Ap/hS8c/nF/83XM/7seBU67jyVE4WgTztzT0y0yLibESoyL0wbxN5Tip6TNEC0ijBaS5YF/wD9zQP/ZK0EdeptDbD+84J4dzvJ0x9MZvQAtIowWkoa+Qrz2i5hfWPX5QH0K9yh6gj3ZwjPEb0ALSaAFp6Ct0il0OX5vvWxeVc/V5Sc0bvwEtII0WkIa+Qn/9MPTDRIPKiTXL0IeqH1SO8RvQAtJoAWnoK/QcmFHz8/0WemfyF3pX4Ab6w3qDc6ivOUO0gDRaQBr6CsU9X9R81H0NfS3Vhf51HaHyjd+AFpBGC0hDX6Huzx30lUkIevbPO4vxG9AC0mgBaf4BE6MxJJ8v0XUAAAAASUVORK5CYII=\" y=\"-21.606261\"/>\n   </g>\n   <g id=\"text_6\">\n    <!-- Digit: 5 -->\n    <defs>\n     <path d=\"M 10.796875 72.90625 \nL 49.515625 72.90625 \nL 49.515625 64.59375 \nL 19.828125 64.59375 \nL 19.828125 46.734375 \nQ 21.96875 47.46875 24.109375 47.828125 \nQ 26.265625 48.1875 28.421875 48.1875 \nQ 40.625 48.1875 47.75 41.5 \nQ 54.890625 34.8125 54.890625 23.390625 \nQ 54.890625 11.625 47.5625 5.09375 \nQ 40.234375 -1.421875 26.90625 -1.421875 \nQ 22.3125 -1.421875 17.546875 -0.640625 \nQ 12.796875 0.140625 7.71875 1.703125 \nL 7.71875 11.625 \nQ 12.109375 9.234375 16.796875 8.0625 \nQ 21.484375 6.890625 26.703125 6.890625 \nQ 35.15625 6.890625 40.078125 11.328125 \nQ 45.015625 15.765625 45.015625 23.390625 \nQ 45.015625 31 40.078125 35.4375 \nQ 35.15625 39.890625 26.703125 39.890625 \nQ 22.75 39.890625 18.8125 39.015625 \nQ 14.890625 38.140625 10.796875 36.28125 \nz\n\" id=\"DejaVuSans-53\"/>\n    </defs>\n    <g transform=\"translate(292.712256 16.318125)scale(0.12 -0.12)\">\n     <use xlink:href=\"#DejaVuSans-68\"/>\n     <use x=\"77.001953\" xlink:href=\"#DejaVuSans-105\"/>\n     <use x=\"104.785156\" xlink:href=\"#DejaVuSans-103\"/>\n     <use x=\"168.261719\" xlink:href=\"#DejaVuSans-105\"/>\n     <use x=\"196.044922\" xlink:href=\"#DejaVuSans-116\"/>\n     <use x=\"235.253906\" xlink:href=\"#DejaVuSans-58\"/>\n     <use x=\"268.945312\" xlink:href=\"#DejaVuSans-32\"/>\n     <use x=\"300.732422\" xlink:href=\"#DejaVuSans-53\"/>\n    </g>\n   </g>\n  </g>\n  <g id=\"axes_7\">\n   <g clip-path=\"url(#p76f6d3012e)\">\n    <image height=\"48\" id=\"image4871101506\" transform=\"scale(1 -1)translate(0 -48)\" width=\"48\" x=\"347.674576\" xlink:href=\"data:image/png;base64,\niVBORw0KGgoAAAANSUhEUgAAADAAAAAwCAYAAABXAvmHAAAABHNCSVQICAgIfAhkiAAAAUBJREFUaIHtmb1qAlEQRl1dEZUgiGRBwULMdopvIGoE7USsBAsrSW1nZRGSTkgj+AJpbCy1EFkQsTKVJrFQSGHhC0gE0Rf4bjEgDBfmlIf9OwwM7K7xbNSuLgIe6xH67/c49JPCB/StbR168zUMvdv5wh5ajZAAbiSAG5N6wv4liX2pD31ujbfNwP6EvlxpQ5908PNoPwEJ4EYCuCFvoUZ1Sjq+aP1Ab3uD0CdG/6Traz8BCeBGArghb6FaaAV9868E/XKcgn4+zEDvXuM3LxXaT0ACuJEAbshbaHO2oH8KHKE/dBfQX6g3VqD9BCSAGwnghr6FTjHoO5Ff6GfZJvSqr81UtJ+ABHAjAdyQt9Col4e+84a30K7ig171tZmK9hOQAG4kgBuD+qdeRXT5AL3qTc1J++9xW/0nIAHcSAA3N8FzM7X2soBRAAAAAElFTkSuQmCC\" y=\"-21.606261\"/>\n   </g>\n   <g id=\"text_7\">\n    <!-- Digit: 6 -->\n    <defs>\n     <path d=\"M 33.015625 40.375 \nQ 26.375 40.375 22.484375 35.828125 \nQ 18.609375 31.296875 18.609375 23.390625 \nQ 18.609375 15.53125 22.484375 10.953125 \nQ 26.375 6.390625 33.015625 6.390625 \nQ 39.65625 6.390625 43.53125 10.953125 \nQ 47.40625 15.53125 47.40625 23.390625 \nQ 47.40625 31.296875 43.53125 35.828125 \nQ 39.65625 40.375 33.015625 40.375 \nz\nM 52.59375 71.296875 \nL 52.59375 62.3125 \nQ 48.875 64.0625 45.09375 64.984375 \nQ 41.3125 65.921875 37.59375 65.921875 \nQ 27.828125 65.921875 22.671875 59.328125 \nQ 17.53125 52.734375 16.796875 39.40625 \nQ 19.671875 43.65625 24.015625 45.921875 \nQ 28.375 48.1875 33.59375 48.1875 \nQ 44.578125 48.1875 50.953125 41.515625 \nQ 57.328125 34.859375 57.328125 23.390625 \nQ 57.328125 12.15625 50.6875 5.359375 \nQ 44.046875 -1.421875 33.015625 -1.421875 \nQ 20.359375 -1.421875 13.671875 8.265625 \nQ 6.984375 17.96875 6.984375 36.375 \nQ 6.984375 53.65625 15.1875 63.9375 \nQ 23.390625 74.21875 37.203125 74.21875 \nQ 40.921875 74.21875 44.703125 73.484375 \nQ 48.484375 72.75 52.59375 71.296875 \nz\n\" id=\"DejaVuSans-54\"/>\n    </defs>\n    <g transform=\"translate(349.458019 16.318125)scale(0.12 -0.12)\">\n     <use xlink:href=\"#DejaVuSans-68\"/>\n     <use x=\"77.001953\" xlink:href=\"#DejaVuSans-105\"/>\n     <use x=\"104.785156\" xlink:href=\"#DejaVuSans-103\"/>\n     <use x=\"168.261719\" xlink:href=\"#DejaVuSans-105\"/>\n     <use x=\"196.044922\" xlink:href=\"#DejaVuSans-116\"/>\n     <use x=\"235.253906\" xlink:href=\"#DejaVuSans-58\"/>\n     <use x=\"268.945312\" xlink:href=\"#DejaVuSans-32\"/>\n     <use x=\"300.732422\" xlink:href=\"#DejaVuSans-54\"/>\n    </g>\n   </g>\n  </g>\n  <g id=\"axes_8\">\n   <g clip-path=\"url(#p6c3152fea4)\">\n    <image height=\"48\" id=\"imageaf12ea9f14\" transform=\"scale(1 -1)translate(0 -48)\" width=\"48\" x=\"404.420339\" xlink:href=\"data:image/png;base64,\niVBORw0KGgoAAAANSUhEUgAAADAAAAAwCAYAAABXAvmHAAAABHNCSVQICAgIfAhkiAAAAUpJREFUaIHtmT9LQmEUh++1phxCEAqXhKCE3I0ghcrB0agvkF9Agpam3C3dXRza1UmioQhNAic3panhghKCgymJ2hf4vcOB6vDC7xkf7h8fDhwur+6Je7Z0BCQ6E+ird0fQB8otyePF+P706f8AA7RhgDar0htK7UPoH3J56LP1NPTz/kD6aoj1E2CANgzQRryFdi7a2Ht+6D9T29AHytxCjuMwQB8GaGPcQit7u9BPilPoe7Mm9PeGb6TM6BL6tcqb6SdBrJ8AA7RhgDau6VzoKx2DN3hxV/SC+umt6Prz4hX0m4VX6K2fAAO0YYA2xi30W7wX9qHPHD9B30huQW86R7J+AgzQhgHaiM+FPm4ORNeHXubQP0Yj0IdrQ+g9vMzsnwADtGGANuItZOJ7fQF9KvcM/XWwC31vNoY+u4H/a7N+AgzQhgHa/ABftz+i2SHsSAAAAABJRU5ErkJggg==\" y=\"-21.606261\"/>\n   </g>\n   <g id=\"text_8\">\n    <!-- Digit: 7 -->\n    <defs>\n     <path d=\"M 8.203125 72.90625 \nL 55.078125 72.90625 \nL 55.078125 68.703125 \nL 28.609375 0 \nL 18.3125 0 \nL 43.21875 64.59375 \nL 8.203125 64.59375 \nz\n\" id=\"DejaVuSans-55\"/>\n    </defs>\n    <g transform=\"translate(406.203782 16.318125)scale(0.12 -0.12)\">\n     <use xlink:href=\"#DejaVuSans-68\"/>\n     <use x=\"77.001953\" xlink:href=\"#DejaVuSans-105\"/>\n     <use x=\"104.785156\" xlink:href=\"#DejaVuSans-103\"/>\n     <use x=\"168.261719\" xlink:href=\"#DejaVuSans-105\"/>\n     <use x=\"196.044922\" xlink:href=\"#DejaVuSans-116\"/>\n     <use x=\"235.253906\" xlink:href=\"#DejaVuSans-58\"/>\n     <use x=\"268.945312\" xlink:href=\"#DejaVuSans-32\"/>\n     <use x=\"300.732422\" xlink:href=\"#DejaVuSans-55\"/>\n    </g>\n   </g>\n  </g>\n  <g id=\"axes_9\">\n   <g clip-path=\"url(#p4288632676)\">\n    <image height=\"48\" id=\"imagecaec470ba6\" transform=\"scale(1 -1)translate(0 -48)\" width=\"48\" x=\"461.166102\" xlink:href=\"data:image/png;base64,\niVBORw0KGgoAAAANSUhEUgAAADAAAAAwCAYAAABXAvmHAAAABHNCSVQICAgIfAhkiAAAAWJJREFUaIHtmD1Lw1AUQI1VqBVBEBRUKqgkYqdOunTTpQ61KAhaEBd1FZf+AvEPOFQEN10t1MmhgoPdOlVoEUEHoeLHUFRoCfoHzhvedH1yz3gS8jhcuCTxFrzVny4L2lcT6MuJIvpG5xP9TmMdfV/uG33YfEHfjdYhNEAaDZCmx3QhMjKMvuCfoU8ns+g7M2Poy+en6Kfyu+in93QL/U00QBrnA4xbyLQ9/N5+9PX8JPpovIX+4DVAH5x8oA/R/oMJaIA0GiCNZ/tF9pWdQ39zVLA6OL24hj6s1a2e4/wENEAaDZDG+C5kIvretrp/6ymFfvviEv3x8hJ603ZyfgIaII0GSGO9he43I+gTtxvox1dq6Gcfm+hb/iD6GD/G/QlogDQaII31F9loZQB9ZqhqdXDxLYn+eZ7/I5lwfgIaII0GSGP9LnR9x3+VMyneQvulHPrg8MFwgm4ht9AAaZwP+AWFGUafIjmsGwAAAABJRU5ErkJggg==\" y=\"-21.606261\"/>\n   </g>\n   <g id=\"text_9\">\n    <!-- Digit: 8 -->\n    <defs>\n     <path d=\"M 31.78125 34.625 \nQ 24.75 34.625 20.71875 30.859375 \nQ 16.703125 27.09375 16.703125 20.515625 \nQ 16.703125 13.921875 20.71875 10.15625 \nQ 24.75 6.390625 31.78125 6.390625 \nQ 38.8125 6.390625 42.859375 10.171875 \nQ 46.921875 13.96875 46.921875 20.515625 \nQ 46.921875 27.09375 42.890625 30.859375 \nQ 38.875 34.625 31.78125 34.625 \nz\nM 21.921875 38.8125 \nQ 15.578125 40.375 12.03125 44.71875 \nQ 8.5 49.078125 8.5 55.328125 \nQ 8.5 64.0625 14.71875 69.140625 \nQ 20.953125 74.21875 31.78125 74.21875 \nQ 42.671875 74.21875 48.875 69.140625 \nQ 55.078125 64.0625 55.078125 55.328125 \nQ 55.078125 49.078125 51.53125 44.71875 \nQ 48 40.375 41.703125 38.8125 \nQ 48.828125 37.15625 52.796875 32.3125 \nQ 56.78125 27.484375 56.78125 20.515625 \nQ 56.78125 9.90625 50.3125 4.234375 \nQ 43.84375 -1.421875 31.78125 -1.421875 \nQ 19.734375 -1.421875 13.25 4.234375 \nQ 6.78125 9.90625 6.78125 20.515625 \nQ 6.78125 27.484375 10.78125 32.3125 \nQ 14.796875 37.15625 21.921875 38.8125 \nz\nM 18.3125 54.390625 \nQ 18.3125 48.734375 21.84375 45.5625 \nQ 25.390625 42.390625 31.78125 42.390625 \nQ 38.140625 42.390625 41.71875 45.5625 \nQ 45.3125 48.734375 45.3125 54.390625 \nQ 45.3125 60.0625 41.71875 63.234375 \nQ 38.140625 66.40625 31.78125 66.40625 \nQ 25.390625 66.40625 21.84375 63.234375 \nQ 18.3125 60.0625 18.3125 54.390625 \nz\n\" id=\"DejaVuSans-56\"/>\n    </defs>\n    <g transform=\"translate(462.949544 16.318125)scale(0.12 -0.12)\">\n     <use xlink:href=\"#DejaVuSans-68\"/>\n     <use x=\"77.001953\" xlink:href=\"#DejaVuSans-105\"/>\n     <use x=\"104.785156\" xlink:href=\"#DejaVuSans-103\"/>\n     <use x=\"168.261719\" xlink:href=\"#DejaVuSans-105\"/>\n     <use x=\"196.044922\" xlink:href=\"#DejaVuSans-116\"/>\n     <use x=\"235.253906\" xlink:href=\"#DejaVuSans-58\"/>\n     <use x=\"268.945312\" xlink:href=\"#DejaVuSans-32\"/>\n     <use x=\"300.732422\" xlink:href=\"#DejaVuSans-56\"/>\n    </g>\n   </g>\n  </g>\n  <g id=\"axes_10\">\n   <g clip-path=\"url(#p6cbd6fccac)\">\n    <image height=\"48\" id=\"image4e8adf0348\" transform=\"scale(1 -1)translate(0 -48)\" width=\"48\" x=\"517.911864\" xlink:href=\"data:image/png;base64,\niVBORw0KGgoAAAANSUhEUgAAADAAAAAwCAYAAABXAvmHAAAABHNCSVQICAgIfAhkiAAAAUZJREFUaIHtmL1qAlEQRnfVWAhWEbcQf1KIkk6wkDQKUQtrn0BtA0tKH8A+L6CPIHbRFCJWSRMQFGJnYQoVGyFCxOgLfAMZEMYLc8qzd4f5GBgu1y7a1ZPFYN7OQl+4/4I+GVhBP3x6gN4z+uS0Y3lYp68QDSCNBpDG5m4hLtTW6j++QF93n6EPdN+hN34CGkAaDSDNxbbQXz4DPXW3obZTIrqG3l9a4Pr/6O2q0QDSaABpfNwf8pM99M1QB/q71wb01F3IrdSgPxL9GD8BDSCNBpCG3EJeJwx9MzSAvpIpQ1/o4fciiuOUd974CWgAaTSANOQWOqQjrEJOD9+RPpYx6Ge3Dqs+hfET0ADSaABpyC10s/lhFerExvgDXkJWa5Ni1acwfgIaQBoNIA37dfr3LQ59IriF/ju343fFwPgJaABpNIA0Z/uyOXPFhDcHAAAAAElFTkSuQmCC\" y=\"-21.606261\"/>\n   </g>\n   <g id=\"text_10\">\n    <!-- Digit: 9 -->\n    <defs>\n     <path d=\"M 10.984375 1.515625 \nL 10.984375 10.5 \nQ 14.703125 8.734375 18.5 7.8125 \nQ 22.3125 6.890625 25.984375 6.890625 \nQ 35.75 6.890625 40.890625 13.453125 \nQ 46.046875 20.015625 46.78125 33.40625 \nQ 43.953125 29.203125 39.59375 26.953125 \nQ 35.25 24.703125 29.984375 24.703125 \nQ 19.046875 24.703125 12.671875 31.3125 \nQ 6.296875 37.9375 6.296875 49.421875 \nQ 6.296875 60.640625 12.9375 67.421875 \nQ 19.578125 74.21875 30.609375 74.21875 \nQ 43.265625 74.21875 49.921875 64.515625 \nQ 56.59375 54.828125 56.59375 36.375 \nQ 56.59375 19.140625 48.40625 8.859375 \nQ 40.234375 -1.421875 26.421875 -1.421875 \nQ 22.703125 -1.421875 18.890625 -0.6875 \nQ 15.09375 0.046875 10.984375 1.515625 \nz\nM 30.609375 32.421875 \nQ 37.25 32.421875 41.125 36.953125 \nQ 45.015625 41.5 45.015625 49.421875 \nQ 45.015625 57.28125 41.125 61.84375 \nQ 37.25 66.40625 30.609375 66.40625 \nQ 23.96875 66.40625 20.09375 61.84375 \nQ 16.21875 57.28125 16.21875 49.421875 \nQ 16.21875 41.5 20.09375 36.953125 \nQ 23.96875 32.421875 30.609375 32.421875 \nz\n\" id=\"DejaVuSans-57\"/>\n    </defs>\n    <g transform=\"translate(519.695307 16.318125)scale(0.12 -0.12)\">\n     <use xlink:href=\"#DejaVuSans-68\"/>\n     <use x=\"77.001953\" xlink:href=\"#DejaVuSans-105\"/>\n     <use x=\"104.785156\" xlink:href=\"#DejaVuSans-103\"/>\n     <use x=\"168.261719\" xlink:href=\"#DejaVuSans-105\"/>\n     <use x=\"196.044922\" xlink:href=\"#DejaVuSans-116\"/>\n     <use x=\"235.253906\" xlink:href=\"#DejaVuSans-58\"/>\n     <use x=\"268.945312\" xlink:href=\"#DejaVuSans-32\"/>\n     <use x=\"300.732422\" xlink:href=\"#DejaVuSans-57\"/>\n    </g>\n   </g>\n  </g>\n </g>\n <defs>\n  <clipPath id=\"p0b17775011\">\n   <rect height=\"47.288136\" width=\"47.288136\" x=\"7.2\" y=\"22.318125\"/>\n  </clipPath>\n  <clipPath id=\"p7fee18ff5f\">\n   <rect height=\"47.288136\" width=\"47.288136\" x=\"63.945763\" y=\"22.318125\"/>\n  </clipPath>\n  <clipPath id=\"p6f9238d80b\">\n   <rect height=\"47.288136\" width=\"47.288136\" x=\"120.691525\" y=\"22.318125\"/>\n  </clipPath>\n  <clipPath id=\"p37e670aab2\">\n   <rect height=\"47.288136\" width=\"47.288136\" x=\"177.437288\" y=\"22.318125\"/>\n  </clipPath>\n  <clipPath id=\"p120836811c\">\n   <rect height=\"47.288136\" width=\"47.288136\" x=\"234.183051\" y=\"22.318125\"/>\n  </clipPath>\n  <clipPath id=\"p0707b994b4\">\n   <rect height=\"47.288136\" width=\"47.288136\" x=\"290.928814\" y=\"22.318125\"/>\n  </clipPath>\n  <clipPath id=\"p76f6d3012e\">\n   <rect height=\"47.288136\" width=\"47.288136\" x=\"347.674576\" y=\"22.318125\"/>\n  </clipPath>\n  <clipPath id=\"p6c3152fea4\">\n   <rect height=\"47.288136\" width=\"47.288136\" x=\"404.420339\" y=\"22.318125\"/>\n  </clipPath>\n  <clipPath id=\"p4288632676\">\n   <rect height=\"47.288136\" width=\"47.288136\" x=\"461.166102\" y=\"22.318125\"/>\n  </clipPath>\n  <clipPath id=\"p6cbd6fccac\">\n   <rect height=\"47.288136\" width=\"47.288136\" x=\"517.911864\" y=\"22.318125\"/>\n  </clipPath>\n </defs>\n</svg>\n"
          },
          "metadata": {
            "needs_background": "light"
          }
        }
      ]
    },
    {
      "cell_type": "code",
      "source": [
        "n_samples = len(digits.images)\n",
        "data = digits.images.reshape((n_samples, -1))\n",
        "\n",
        "X_train, X_test, y_train, y_test = train_test_split(data, digits.target, test_size=0.01)\n",
        "\n",
        "clf = svm.SVC(gamma='auto')\n",
        "clf.fit(X_train, y_train)\n",
        "\n",
        "predict = clf.predict(X_test)"
      ],
      "metadata": {
        "id": "-1cwiQFcpcTd"
      },
      "execution_count": 66,
      "outputs": []
    },
    {
      "cell_type": "code",
      "source": [
        "fig, axs = plt.subplots(nrows=1, ncols=10, figsize=(10, 10))\n",
        "for ax, image, prediction in zip(axs, X_test, predict):\n",
        "    ax.set_axis_off()\n",
        "    image = image.reshape(8, 8)\n",
        "    ax.imshow(image)\n",
        "    ax.set_title(\"Pred: %i\" % prediction)"
      ],
      "metadata": {
        "colab": {
          "base_uri": "https://localhost:8080/",
          "height": 123
        },
        "id": "geNc1QR-pgZu",
        "outputId": "0e54c991-e8c8-43da-acb5-95174e82bc68"
      },
      "execution_count": 69,
      "outputs": [
        {
          "output_type": "display_data",
          "data": {
            "text/plain": [
              "<Figure size 720x720 with 10 Axes>"
            ],
            "image/svg+xml": "<?xml version=\"1.0\" encoding=\"utf-8\" standalone=\"no\"?>\n<!DOCTYPE svg PUBLIC \"-//W3C//DTD SVG 1.1//EN\"\n  \"http://www.w3.org/Graphics/SVG/1.1/DTD/svg11.dtd\">\n<!-- Created with matplotlib (https://matplotlib.org/) -->\n<svg height=\"76.806261pt\" version=\"1.1\" viewBox=\"0 0 572.4 76.806261\" width=\"572.4pt\" xmlns=\"http://www.w3.org/2000/svg\" xmlns:xlink=\"http://www.w3.org/1999/xlink\">\n <defs>\n  <style type=\"text/css\">\n*{stroke-linecap:butt;stroke-linejoin:round;}\n  </style>\n </defs>\n <g id=\"figure_1\">\n  <g id=\"patch_1\">\n   <path d=\"M 0 76.806261 \nL 572.4 76.806261 \nL 572.4 0 \nL 0 0 \nz\n\" style=\"fill:none;\"/>\n  </g>\n  <g id=\"axes_1\">\n   <g clip-path=\"url(#pa997fa10a0)\">\n    <image height=\"48\" id=\"image3f7c58e8af\" transform=\"scale(1 -1)translate(0 -48)\" width=\"48\" x=\"7.2\" xlink:href=\"data:image/png;base64,\niVBORw0KGgoAAAANSUhEUgAAADAAAAAwCAYAAABXAvmHAAAABHNCSVQICAgIfAhkiAAAAUdJREFUaIHtmCFrglEUhr9vWobCivgVsWwgwz8gYtNkmUHQsCbIqpjcDxgWsYogFotNwWQxGDTZNlA2g0HQqiI4xP2B94STzg6cJz7cy70vBw73XDfj5m8OA58Xhv7cu4d+Eh9C/9h/g/6pMudcx7ljrf6HWABpLIA0LrcLfTcT0P8UWtAPTkHWhdqpJPTX3R569RWwANJYAGn83A2l9AT61e8J+q9zDPr8wwJ6qttQqK+ABZDGAkhDdiFq8noPjYkdAWL9Evr4rAx9xPmkrgRRXwELII0FkIbsQtSbhHzzXDzoK9Mi9M+1DT6XuhCB+gpYAGksgDTsiYzqNrnAEfp24wA9d/KiUF8BCyCNBZCG3YWqo1foc8TvtNfZQr97wROf/QtpwwJIoz4AuwvF6mvoP9L4F7obnUKfDRXwAdaFlGEBpFEf4A/Hp0SfElQGbQAAAABJRU5ErkJggg==\" y=\"-21.606261\"/>\n   </g>\n   <g id=\"text_1\">\n    <!-- Pred: 3 -->\n    <defs>\n     <path d=\"M 19.671875 64.796875 \nL 19.671875 37.40625 \nL 32.078125 37.40625 \nQ 38.96875 37.40625 42.71875 40.96875 \nQ 46.484375 44.53125 46.484375 51.125 \nQ 46.484375 57.671875 42.71875 61.234375 \nQ 38.96875 64.796875 32.078125 64.796875 \nz\nM 9.8125 72.90625 \nL 32.078125 72.90625 \nQ 44.34375 72.90625 50.609375 67.359375 \nQ 56.890625 61.8125 56.890625 51.125 \nQ 56.890625 40.328125 50.609375 34.8125 \nQ 44.34375 29.296875 32.078125 29.296875 \nL 19.671875 29.296875 \nL 19.671875 0 \nL 9.8125 0 \nz\n\" id=\"DejaVuSans-80\"/>\n     <path d=\"M 41.109375 46.296875 \nQ 39.59375 47.171875 37.8125 47.578125 \nQ 36.03125 48 33.890625 48 \nQ 26.265625 48 22.1875 43.046875 \nQ 18.109375 38.09375 18.109375 28.8125 \nL 18.109375 0 \nL 9.078125 0 \nL 9.078125 54.6875 \nL 18.109375 54.6875 \nL 18.109375 46.1875 \nQ 20.953125 51.171875 25.484375 53.578125 \nQ 30.03125 56 36.53125 56 \nQ 37.453125 56 38.578125 55.875 \nQ 39.703125 55.765625 41.0625 55.515625 \nz\n\" id=\"DejaVuSans-114\"/>\n     <path d=\"M 56.203125 29.59375 \nL 56.203125 25.203125 \nL 14.890625 25.203125 \nQ 15.484375 15.921875 20.484375 11.0625 \nQ 25.484375 6.203125 34.421875 6.203125 \nQ 39.59375 6.203125 44.453125 7.46875 \nQ 49.3125 8.734375 54.109375 11.28125 \nL 54.109375 2.78125 \nQ 49.265625 0.734375 44.1875 -0.34375 \nQ 39.109375 -1.421875 33.890625 -1.421875 \nQ 20.796875 -1.421875 13.15625 6.1875 \nQ 5.515625 13.8125 5.515625 26.8125 \nQ 5.515625 40.234375 12.765625 48.109375 \nQ 20.015625 56 32.328125 56 \nQ 43.359375 56 49.78125 48.890625 \nQ 56.203125 41.796875 56.203125 29.59375 \nz\nM 47.21875 32.234375 \nQ 47.125 39.59375 43.09375 43.984375 \nQ 39.0625 48.390625 32.421875 48.390625 \nQ 24.90625 48.390625 20.390625 44.140625 \nQ 15.875 39.890625 15.1875 32.171875 \nz\n\" id=\"DejaVuSans-101\"/>\n     <path d=\"M 45.40625 46.390625 \nL 45.40625 75.984375 \nL 54.390625 75.984375 \nL 54.390625 0 \nL 45.40625 0 \nL 45.40625 8.203125 \nQ 42.578125 3.328125 38.25 0.953125 \nQ 33.9375 -1.421875 27.875 -1.421875 \nQ 17.96875 -1.421875 11.734375 6.484375 \nQ 5.515625 14.40625 5.515625 27.296875 \nQ 5.515625 40.1875 11.734375 48.09375 \nQ 17.96875 56 27.875 56 \nQ 33.9375 56 38.25 53.625 \nQ 42.578125 51.265625 45.40625 46.390625 \nz\nM 14.796875 27.296875 \nQ 14.796875 17.390625 18.875 11.75 \nQ 22.953125 6.109375 30.078125 6.109375 \nQ 37.203125 6.109375 41.296875 11.75 \nQ 45.40625 17.390625 45.40625 27.296875 \nQ 45.40625 37.203125 41.296875 42.84375 \nQ 37.203125 48.484375 30.078125 48.484375 \nQ 22.953125 48.484375 18.875 42.84375 \nQ 14.796875 37.203125 14.796875 27.296875 \nz\n\" id=\"DejaVuSans-100\"/>\n     <path d=\"M 11.71875 12.40625 \nL 22.015625 12.40625 \nL 22.015625 0 \nL 11.71875 0 \nz\nM 11.71875 51.703125 \nL 22.015625 51.703125 \nL 22.015625 39.3125 \nL 11.71875 39.3125 \nz\n\" id=\"DejaVuSans-58\"/>\n     <path id=\"DejaVuSans-32\"/>\n     <path d=\"M 40.578125 39.3125 \nQ 47.65625 37.796875 51.625 33 \nQ 55.609375 28.21875 55.609375 21.1875 \nQ 55.609375 10.40625 48.1875 4.484375 \nQ 40.765625 -1.421875 27.09375 -1.421875 \nQ 22.515625 -1.421875 17.65625 -0.515625 \nQ 12.796875 0.390625 7.625 2.203125 \nL 7.625 11.71875 \nQ 11.71875 9.328125 16.59375 8.109375 \nQ 21.484375 6.890625 26.8125 6.890625 \nQ 36.078125 6.890625 40.9375 10.546875 \nQ 45.796875 14.203125 45.796875 21.1875 \nQ 45.796875 27.640625 41.28125 31.265625 \nQ 36.765625 34.90625 28.71875 34.90625 \nL 20.21875 34.90625 \nL 20.21875 43.015625 \nL 29.109375 43.015625 \nQ 36.375 43.015625 40.234375 45.921875 \nQ 44.09375 48.828125 44.09375 54.296875 \nQ 44.09375 59.90625 40.109375 62.90625 \nQ 36.140625 65.921875 28.71875 65.921875 \nQ 24.65625 65.921875 20.015625 65.03125 \nQ 15.375 64.15625 9.8125 62.3125 \nL 9.8125 71.09375 \nQ 15.4375 72.65625 20.34375 73.4375 \nQ 25.25 74.21875 29.59375 74.21875 \nQ 40.828125 74.21875 47.359375 69.109375 \nQ 53.90625 64.015625 53.90625 55.328125 \nQ 53.90625 49.265625 50.4375 45.09375 \nQ 46.96875 40.921875 40.578125 39.3125 \nz\n\" id=\"DejaVuSans-51\"/>\n    </defs>\n    <g transform=\"translate(9.75313 16.318125)scale(0.12 -0.12)\">\n     <use xlink:href=\"#DejaVuSans-80\"/>\n     <use x=\"58.552734\" xlink:href=\"#DejaVuSans-114\"/>\n     <use x=\"97.416016\" xlink:href=\"#DejaVuSans-101\"/>\n     <use x=\"158.939453\" xlink:href=\"#DejaVuSans-100\"/>\n     <use x=\"222.416016\" xlink:href=\"#DejaVuSans-58\"/>\n     <use x=\"256.107422\" xlink:href=\"#DejaVuSans-32\"/>\n     <use x=\"287.894531\" xlink:href=\"#DejaVuSans-51\"/>\n    </g>\n   </g>\n  </g>\n  <g id=\"axes_2\">\n   <g clip-path=\"url(#pdc52003aa4)\">\n    <image height=\"48\" id=\"imaged1115c7f23\" transform=\"scale(1 -1)translate(0 -48)\" width=\"48\" x=\"63.945763\" xlink:href=\"data:image/png;base64,\niVBORw0KGgoAAAANSUhEUgAAADAAAAAwCAYAAABXAvmHAAAABHNCSVQICAgIfAhkiAAAAVFJREFUaIFjdGEM+c9ABWB/6TtW8RD+c1jFC8wCsYr/ffmKJHuZSFI9CMGoBwYajHpgoAELtQxavM4Zq3hV2k2s4k+jVLCKS/SPlkJDC4x6YKDBkPcAzlKIWVsdq7jN8gtYxWef+UWSxUbhl7GKP+snyZihHwOjHhhoMOqBgQaMuHpkjxqssGq4njaNpg5yjUzEKs508Dx2cVo6hh5g1AMDDUY9MNAAZ1tI5OJfkgwyq8rEKs4d/Qyr+H7tjVjF7wWwYxVXOYjd3iEfA6MeGGgw6oGBBjjbQrjAr93yWMVffeLBKi4TfBWr+J1+C6zi6nPeYxX/exX7+NKQj4FRDww0GPXAQAOSR6c5Cziwiq/fNgureIE49rkwlcITWMVJa4ENgxgY9cBAg1EPDDQguRTC1SZZ89EIq/jNCiWs4iqFpM2F4QJDPgZGPTDQYNQDAw0AJhU/xfYTrUYAAAAASUVORK5CYII=\" y=\"-21.606261\"/>\n   </g>\n   <g id=\"text_2\">\n    <!-- Pred: 4 -->\n    <defs>\n     <path d=\"M 37.796875 64.3125 \nL 12.890625 25.390625 \nL 37.796875 25.390625 \nz\nM 35.203125 72.90625 \nL 47.609375 72.90625 \nL 47.609375 25.390625 \nL 58.015625 25.390625 \nL 58.015625 17.1875 \nL 47.609375 17.1875 \nL 47.609375 0 \nL 37.796875 0 \nL 37.796875 17.1875 \nL 4.890625 17.1875 \nL 4.890625 26.703125 \nz\n\" id=\"DejaVuSans-52\"/>\n    </defs>\n    <g transform=\"translate(66.498893 16.318125)scale(0.12 -0.12)\">\n     <use xlink:href=\"#DejaVuSans-80\"/>\n     <use x=\"58.552734\" xlink:href=\"#DejaVuSans-114\"/>\n     <use x=\"97.416016\" xlink:href=\"#DejaVuSans-101\"/>\n     <use x=\"158.939453\" xlink:href=\"#DejaVuSans-100\"/>\n     <use x=\"222.416016\" xlink:href=\"#DejaVuSans-58\"/>\n     <use x=\"256.107422\" xlink:href=\"#DejaVuSans-32\"/>\n     <use x=\"287.894531\" xlink:href=\"#DejaVuSans-52\"/>\n    </g>\n   </g>\n  </g>\n  <g id=\"axes_3\">\n   <g clip-path=\"url(#pfc428ab1da)\">\n    <image height=\"48\" id=\"image4269a0a38e\" transform=\"scale(1 -1)translate(0 -48)\" width=\"48\" x=\"120.691525\" xlink:href=\"data:image/png;base64,\niVBORw0KGgoAAAANSUhEUgAAADAAAAAwCAYAAABXAvmHAAAABHNCSVQICAgIfAhkiAAAAUJJREFUaIHtmDFLglEUhu+n6aC0hYGrmoM/IB2FRiECt0AcA136Cw1t0SQSKC4tDeIvcLBJTXAyKFyKZqXBFEPqD7xnOBCcLrzP+Nx7v3tfDhzud4OToPzjFHx0c9CfZybQt/tF6LOtJfS72YvmOC6kmv0PYQBrGMCaQOpCy2oBLhhfN6F//V5BfxSJq+bXKnXoQ4Mp9tB6BANYwwDW7EkDB08L6KXu8bw9hP60U4E++on3Tbi1dCSI9xVgAGsYwBrxLiShvSOlHi6gT18ONduKeF8BBrCGAaxRdyGJ+W0e+pvSPfTNTPovtvW/AgxgDQNYI/6RSYRzWeiTj0IzK2H9dXYMfaw3Up3H+wowgDUMYI26C71d4SWzwp3qO43FVrs1xPsKMIA1DGCNugtt3vfxAH4ukt+FBnwXcs4xgD0MYM0vFtw/m6zhYrMAAAAASUVORK5CYII=\" y=\"-21.606261\"/>\n   </g>\n   <g id=\"text_3\">\n    <!-- Pred: 3 -->\n    <g transform=\"translate(123.244656 16.318125)scale(0.12 -0.12)\">\n     <use xlink:href=\"#DejaVuSans-80\"/>\n     <use x=\"58.552734\" xlink:href=\"#DejaVuSans-114\"/>\n     <use x=\"97.416016\" xlink:href=\"#DejaVuSans-101\"/>\n     <use x=\"158.939453\" xlink:href=\"#DejaVuSans-100\"/>\n     <use x=\"222.416016\" xlink:href=\"#DejaVuSans-58\"/>\n     <use x=\"256.107422\" xlink:href=\"#DejaVuSans-32\"/>\n     <use x=\"287.894531\" xlink:href=\"#DejaVuSans-51\"/>\n    </g>\n   </g>\n  </g>\n  <g id=\"axes_4\">\n   <g clip-path=\"url(#pb87daa6c51)\">\n    <image height=\"48\" id=\"image785f76c316\" transform=\"scale(1 -1)translate(0 -48)\" width=\"48\" x=\"177.437288\" xlink:href=\"data:image/png;base64,\niVBORw0KGgoAAAANSUhEUgAAADAAAAAwCAYAAABXAvmHAAAABHNCSVQICAgIfAhkiAAAAVVJREFUaIHtmbFLQlEUxt9TaQqlRZukIhIicBRaCnVwFZxrsMlaHITwD2i0qTBwrtXRTUTQTYlwUISgISxsEFIQMfsHvjNcePBx4fzG3+Wde7934HAfz027uY0DWGQTSDvthyfoR6s59NcXN9D7Wn3oTfF5UoWIBmCjAdi40hTyR8LwgeHtAfT5VBP6XKgHvVfTyfoOaAA2GoBNQFpYf31Df1jEvnl2Cn35ZQj9+NIP/VFLOhHG+g5oADYagI04hSSkL7VlCL8L6Uvt/BhPp0/D81jfAQ3ARgOwEafQpIjvNq+lR6MNRivsB9UT6HecrlF96zugAdhoADbGdyGJ/cYV9MG3Lexna0/2tb4DGoCNBmAjTqHf6J9RofdMDS9kjMo48b0C9Lv3Heit74AGYKMB2IhTaPsDZ7ubxqCvV5LQ/8ThLziR2PMYeunmZH0HNAAbDcDmH9DcP5y81yfbAAAAAElFTkSuQmCC\" y=\"-21.606261\"/>\n   </g>\n   <g id=\"text_4\">\n    <!-- Pred: 3 -->\n    <g transform=\"translate(179.990418 16.318125)scale(0.12 -0.12)\">\n     <use xlink:href=\"#DejaVuSans-80\"/>\n     <use x=\"58.552734\" xlink:href=\"#DejaVuSans-114\"/>\n     <use x=\"97.416016\" xlink:href=\"#DejaVuSans-101\"/>\n     <use x=\"158.939453\" xlink:href=\"#DejaVuSans-100\"/>\n     <use x=\"222.416016\" xlink:href=\"#DejaVuSans-58\"/>\n     <use x=\"256.107422\" xlink:href=\"#DejaVuSans-32\"/>\n     <use x=\"287.894531\" xlink:href=\"#DejaVuSans-51\"/>\n    </g>\n   </g>\n  </g>\n  <g id=\"axes_5\">\n   <g clip-path=\"url(#pdf788d9b99)\">\n    <image height=\"48\" id=\"image5a03e439e8\" transform=\"scale(1 -1)translate(0 -48)\" width=\"48\" x=\"234.183051\" xlink:href=\"data:image/png;base64,\niVBORw0KGgoAAAANSUhEUgAAADAAAAAwCAYAAABXAvmHAAAABHNCSVQICAgIfAhkiAAAAR9JREFUaIHtmT8LQVEYxl0sQkopg8jCoGwG/wZlR8zG6wMYDUwGy92uT2BUFh/AYrLeLIouo0UZDMIXeM7w1qnXqfc3Pp3O2+8+9Q73WG1r8A1oIFQqwtzebGE+dYcwTzt70twg6fQfIgLciAA3YV0X3StJmHejT5hPGg98kUOba3wDIsCNCHCjbQslzi/S+Zcf1zLX+AZEgBsR4EbbFqIS8/V8O+MbEAFuRIAb5Ra6rUsw96ormLe8HGnwM/shnVdhfAMiwI0IcKPcQpm+B/NmbwTz8QJvJxWfxJt0XoXxDYgANyLAjaXrjcyf1WB+tF2Yz+/4TW1XjpDmGt+ACHAjAtxo+y+UX55g3qp3YH65pmBeCBxIc41vQAS4EQFuflQ9KdJUQjbfAAAAAElFTkSuQmCC\" y=\"-21.606261\"/>\n   </g>\n   <g id=\"text_5\">\n    <!-- Pred: 1 -->\n    <defs>\n     <path d=\"M 12.40625 8.296875 \nL 28.515625 8.296875 \nL 28.515625 63.921875 \nL 10.984375 60.40625 \nL 10.984375 69.390625 \nL 28.421875 72.90625 \nL 38.28125 72.90625 \nL 38.28125 8.296875 \nL 54.390625 8.296875 \nL 54.390625 0 \nL 12.40625 0 \nz\n\" id=\"DejaVuSans-49\"/>\n    </defs>\n    <g transform=\"translate(236.736181 16.318125)scale(0.12 -0.12)\">\n     <use xlink:href=\"#DejaVuSans-80\"/>\n     <use x=\"58.552734\" xlink:href=\"#DejaVuSans-114\"/>\n     <use x=\"97.416016\" xlink:href=\"#DejaVuSans-101\"/>\n     <use x=\"158.939453\" xlink:href=\"#DejaVuSans-100\"/>\n     <use x=\"222.416016\" xlink:href=\"#DejaVuSans-58\"/>\n     <use x=\"256.107422\" xlink:href=\"#DejaVuSans-32\"/>\n     <use x=\"287.894531\" xlink:href=\"#DejaVuSans-49\"/>\n    </g>\n   </g>\n  </g>\n  <g id=\"axes_6\">\n   <g clip-path=\"url(#p21eaa49e8f)\">\n    <image height=\"48\" id=\"image2c8a8769fd\" transform=\"scale(1 -1)translate(0 -48)\" width=\"48\" x=\"290.928814\" xlink:href=\"data:image/png;base64,\niVBORw0KGgoAAAANSUhEUgAAADAAAAAwCAYAAABXAvmHAAAABHNCSVQICAgIfAhkiAAAAVRJREFUaIHtl79KglEYh7+vmmr66B+IW0GGoBEhOJgFQTQEgYWDi465STh0AXoJCk1egIsQhEiLQ0pNDt8F5CZJQdTUYDfwe8kXgh8H3md8/DiehxcO5/gn/uXMAyxubiDtvTbWoa8lOtBfrHxBr+U0sgf9wr+sTsQC2FgAmyXph+nZFvRhugl9fboD/c39sWpDqyMf+sAbQO/8BCyAjQWwEU+htZd31UK9SQz67cpQtyMlzk/AAthYABtfepFJfBTT0D/X8R0pPihAH82Fmr8VcX4CFsDGAtiIdyGJoIVfRsmgDH1YbUCfKl6r1pdwfgIWwMYC2IinkHTn+T7/hD6ae4K+lM+o1gla0o4wzk/AAthYABvxFHo7/IG+e3AH/VWlCn12+RH6/jj+197mwvkJWAAbC2AjnkK7t2Po27196EfCy0vioX+k+l7C+QlYABsLYPMLzEU4/QsCSX8AAAAASUVORK5CYII=\" y=\"-21.606261\"/>\n   </g>\n   <g id=\"text_6\">\n    <!-- Pred: 3 -->\n    <g transform=\"translate(293.481944 16.318125)scale(0.12 -0.12)\">\n     <use xlink:href=\"#DejaVuSans-80\"/>\n     <use x=\"58.552734\" xlink:href=\"#DejaVuSans-114\"/>\n     <use x=\"97.416016\" xlink:href=\"#DejaVuSans-101\"/>\n     <use x=\"158.939453\" xlink:href=\"#DejaVuSans-100\"/>\n     <use x=\"222.416016\" xlink:href=\"#DejaVuSans-58\"/>\n     <use x=\"256.107422\" xlink:href=\"#DejaVuSans-32\"/>\n     <use x=\"287.894531\" xlink:href=\"#DejaVuSans-51\"/>\n    </g>\n   </g>\n  </g>\n  <g id=\"axes_7\">\n   <g clip-path=\"url(#pff656ed0a9)\">\n    <image height=\"48\" id=\"image6a652d2a66\" transform=\"scale(1 -1)translate(0 -48)\" width=\"48\" x=\"347.674576\" xlink:href=\"data:image/png;base64,\niVBORw0KGgoAAAANSUhEUgAAADAAAAAwCAYAAABXAvmHAAAABHNCSVQICAgIfAhkiAAAAVdJREFUaIFjdGEM+c9ABZB5+w5W8epL/ljFZYKvUsNaBiaqmDKAYNQDAw1GPTDQgIVUDcziYljFCw+bYBXvt12BVXw6gwqpVmMFQz4GRj0w0GDUAwMNcJZC9pe+YxWvEtmFVfzW769YxdVYubGK1xdaYRWX6D+Gy0lYwZCPgVEPDDQY9cBAA5ylkBbnU6ziuEqba7/EsYqrsX7BKn6xdBpWcUXdFOzmJJ3BKj7kY2DUAwMNRj0w0ABnKVS5NA6r+MbEbqzi01Wx97Cu4WhT4SrlRA+x4nISVjDkY2DUAwMNRj0w0ICR1NFpXD21uXsdsYqzfcQeRu3Ri7CK4yrNcIEhHwOjHhhoMOqBgQYkl0LfAs2xih+eOhOruJdrOFbx3yJcWMWZDp4nxTlDPwZGPTDQYNQDAw1ILoVwgSdrtbGKsxzhxypO6ig0LjDkY2DUAwMNRj0w0AAA8zQ9yfYpDlEAAAAASUVORK5CYII=\" y=\"-21.606261\"/>\n   </g>\n   <g id=\"text_7\">\n    <!-- Pred: 4 -->\n    <g transform=\"translate(350.227707 16.318125)scale(0.12 -0.12)\">\n     <use xlink:href=\"#DejaVuSans-80\"/>\n     <use x=\"58.552734\" xlink:href=\"#DejaVuSans-114\"/>\n     <use x=\"97.416016\" xlink:href=\"#DejaVuSans-101\"/>\n     <use x=\"158.939453\" xlink:href=\"#DejaVuSans-100\"/>\n     <use x=\"222.416016\" xlink:href=\"#DejaVuSans-58\"/>\n     <use x=\"256.107422\" xlink:href=\"#DejaVuSans-32\"/>\n     <use x=\"287.894531\" xlink:href=\"#DejaVuSans-52\"/>\n    </g>\n   </g>\n  </g>\n  <g id=\"axes_8\">\n   <g clip-path=\"url(#p09dda346e2)\">\n    <image height=\"48\" id=\"imaged724d7bf6f\" transform=\"scale(1 -1)translate(0 -48)\" width=\"48\" x=\"404.420339\" xlink:href=\"data:image/png;base64,\niVBORw0KGgoAAAANSUhEUgAAADAAAAAwCAYAAABXAvmHAAAABHNCSVQICAgIfAhkiAAAARhJREFUaIHtmTELQWEUhr8rbiEUJZNJlpvBhEFSBttdbAxsfga7mT/gD9hsthuTAbMyKBYpg8TlD5wzfHX19tV5xvfWOfe5p97lWi2r81Ua3Po1MneGe50xLBc3Suafy5XMQ4FsBSICaEQATZh74DfKZD4fT8i8GIlrLR6c6mTOtQ2H8RcQATQigIZtoWfaJnPdtuFYL0tknlee1hzjLyACaEQADdtC/+aV8gOZY/wFRACNCKCBtZB9D+bbGX8BEUAjAmhgLVRt78j8PNKbY/wFRACNCKBhWyjhHcm8eXDJfOUstBa7mS2Zz1RBa47xFxABNCKAhm0h7l/Ve1ohc6fXJfNs8sHMyZF5TG24VyIx/gIigEYE0PwAsjUp6cf3KnUAAAAASUVORK5CYII=\" y=\"-21.606261\"/>\n   </g>\n   <g id=\"text_8\">\n    <!-- Pred: 1 -->\n    <g transform=\"translate(406.973469 16.318125)scale(0.12 -0.12)\">\n     <use xlink:href=\"#DejaVuSans-80\"/>\n     <use x=\"58.552734\" xlink:href=\"#DejaVuSans-114\"/>\n     <use x=\"97.416016\" xlink:href=\"#DejaVuSans-101\"/>\n     <use x=\"158.939453\" xlink:href=\"#DejaVuSans-100\"/>\n     <use x=\"222.416016\" xlink:href=\"#DejaVuSans-58\"/>\n     <use x=\"256.107422\" xlink:href=\"#DejaVuSans-32\"/>\n     <use x=\"287.894531\" xlink:href=\"#DejaVuSans-49\"/>\n    </g>\n   </g>\n  </g>\n  <g id=\"axes_9\">\n   <g clip-path=\"url(#p74ba274a61)\">\n    <image height=\"48\" id=\"imagec1732cf6cd\" transform=\"scale(1 -1)translate(0 -48)\" width=\"48\" x=\"461.166102\" xlink:href=\"data:image/png;base64,\niVBORw0KGgoAAAANSUhEUgAAADAAAAAwCAYAAABXAvmHAAAABHNCSVQICAgIfAhkiAAAAUpJREFUaIHtmTFLAmEYxz3L8DAXEw/M0RqiJUcXl8JRBxfH/ABpax/ApbGhqbGpBr+Ag0MiFBRtOWmDqIMgcRSJ5Rf4P+gLB39eeH7j7+De+/HAA3fnnDqV/5ABhfdv6K+SH9CfVc+hD3deTY4VCQdyFyIawEYD2GxLF7a8FPRHbhf6lr8L/ejiF/pMZ92jbYb1E9AANhrARtxCy8kU+tuDLPTpXhz6n0/sg8L6CWgAGw1gI24hU0p7+A1rcJwI6giI9RPQADYawMZ4C40v89CXY2/QN+/T0O+EhqZHQ6yfgAaw0QA24hb6K5xA/9C4hr7le9Ann2fQL9c92YZYPwENYKMBbMQtNM250B9GYtA/zveh9+5Gwgn4e9HgC7/BuY0o9NZPQAPYaAAbx/RP/c3wCXppO0n0Fz70xXYd37/2Ar31E9AANhrAZgWQ1TQZpKxK8AAAAABJRU5ErkJggg==\" y=\"-21.606261\"/>\n   </g>\n   <g id=\"text_9\">\n    <!-- Pred: 5 -->\n    <defs>\n     <path d=\"M 10.796875 72.90625 \nL 49.515625 72.90625 \nL 49.515625 64.59375 \nL 19.828125 64.59375 \nL 19.828125 46.734375 \nQ 21.96875 47.46875 24.109375 47.828125 \nQ 26.265625 48.1875 28.421875 48.1875 \nQ 40.625 48.1875 47.75 41.5 \nQ 54.890625 34.8125 54.890625 23.390625 \nQ 54.890625 11.625 47.5625 5.09375 \nQ 40.234375 -1.421875 26.90625 -1.421875 \nQ 22.3125 -1.421875 17.546875 -0.640625 \nQ 12.796875 0.140625 7.71875 1.703125 \nL 7.71875 11.625 \nQ 12.109375 9.234375 16.796875 8.0625 \nQ 21.484375 6.890625 26.703125 6.890625 \nQ 35.15625 6.890625 40.078125 11.328125 \nQ 45.015625 15.765625 45.015625 23.390625 \nQ 45.015625 31 40.078125 35.4375 \nQ 35.15625 39.890625 26.703125 39.890625 \nQ 22.75 39.890625 18.8125 39.015625 \nQ 14.890625 38.140625 10.796875 36.28125 \nz\n\" id=\"DejaVuSans-53\"/>\n    </defs>\n    <g transform=\"translate(463.719232 16.318125)scale(0.12 -0.12)\">\n     <use xlink:href=\"#DejaVuSans-80\"/>\n     <use x=\"58.552734\" xlink:href=\"#DejaVuSans-114\"/>\n     <use x=\"97.416016\" xlink:href=\"#DejaVuSans-101\"/>\n     <use x=\"158.939453\" xlink:href=\"#DejaVuSans-100\"/>\n     <use x=\"222.416016\" xlink:href=\"#DejaVuSans-58\"/>\n     <use x=\"256.107422\" xlink:href=\"#DejaVuSans-32\"/>\n     <use x=\"287.894531\" xlink:href=\"#DejaVuSans-53\"/>\n    </g>\n   </g>\n  </g>\n  <g id=\"axes_10\">\n   <g clip-path=\"url(#p457cae16dc)\">\n    <image height=\"48\" id=\"image6ea96489b4\" transform=\"scale(1 -1)translate(0 -48)\" width=\"48\" x=\"517.911864\" xlink:href=\"data:image/png;base64,\niVBORw0KGgoAAAANSUhEUgAAADAAAAAwCAYAAABXAvmHAAAABHNCSVQICAgIfAhkiAAAAWJJREFUaIHtmb9LQlEUx32aU2Mva4hqSkII24WgwqCxjKAmbcitZofGtsihtmpoadXFhpAQgraiQVAhSppKySFo6pn/wPcMB4QvF85n/PDujy8HLvee5616mf+Qgv7SIvTn12fQH67noA/qTc2yIuGhzELEArCxAGxGtAPCtWfo91s70H+nx6CfrGtXFvYznGl4WAA2FoCN+hTSsp2tQl/qLUPv375CH3x+Qe98BSwAGwvAxtO+yCITMehTd23oC77u5ZV43IV+ahNfnpyvgAVgYwHYiHchqf/TF76vLeC7yuVpHvq9lXvoZ47+oA+EdZ2vgAVgYwHYiKdQtPsLfbFyBb3UhY5f9KDPbDxB/xBKSluCOF8BC8DGArARTyHpH9Za9QD62WIH+vePcejnoqPQv23hbva00M12vgIWgI0FYKPuTs+f/ECfumlAX0iUoT/uxqH3X6S3F8b5ClgANhaAzQBuM0LVFFDuxAAAAABJRU5ErkJggg==\" y=\"-21.606261\"/>\n   </g>\n   <g id=\"text_10\">\n    <!-- Pred: 7 -->\n    <defs>\n     <path d=\"M 8.203125 72.90625 \nL 55.078125 72.90625 \nL 55.078125 68.703125 \nL 28.609375 0 \nL 18.3125 0 \nL 43.21875 64.59375 \nL 8.203125 64.59375 \nz\n\" id=\"DejaVuSans-55\"/>\n    </defs>\n    <g transform=\"translate(520.464995 16.318125)scale(0.12 -0.12)\">\n     <use xlink:href=\"#DejaVuSans-80\"/>\n     <use x=\"58.552734\" xlink:href=\"#DejaVuSans-114\"/>\n     <use x=\"97.416016\" xlink:href=\"#DejaVuSans-101\"/>\n     <use x=\"158.939453\" xlink:href=\"#DejaVuSans-100\"/>\n     <use x=\"222.416016\" xlink:href=\"#DejaVuSans-58\"/>\n     <use x=\"256.107422\" xlink:href=\"#DejaVuSans-32\"/>\n     <use x=\"287.894531\" xlink:href=\"#DejaVuSans-55\"/>\n    </g>\n   </g>\n  </g>\n </g>\n <defs>\n  <clipPath id=\"pa997fa10a0\">\n   <rect height=\"47.288136\" width=\"47.288136\" x=\"7.2\" y=\"22.318125\"/>\n  </clipPath>\n  <clipPath id=\"pdc52003aa4\">\n   <rect height=\"47.288136\" width=\"47.288136\" x=\"63.945763\" y=\"22.318125\"/>\n  </clipPath>\n  <clipPath id=\"pfc428ab1da\">\n   <rect height=\"47.288136\" width=\"47.288136\" x=\"120.691525\" y=\"22.318125\"/>\n  </clipPath>\n  <clipPath id=\"pb87daa6c51\">\n   <rect height=\"47.288136\" width=\"47.288136\" x=\"177.437288\" y=\"22.318125\"/>\n  </clipPath>\n  <clipPath id=\"pdf788d9b99\">\n   <rect height=\"47.288136\" width=\"47.288136\" x=\"234.183051\" y=\"22.318125\"/>\n  </clipPath>\n  <clipPath id=\"p21eaa49e8f\">\n   <rect height=\"47.288136\" width=\"47.288136\" x=\"290.928814\" y=\"22.318125\"/>\n  </clipPath>\n  <clipPath id=\"pff656ed0a9\">\n   <rect height=\"47.288136\" width=\"47.288136\" x=\"347.674576\" y=\"22.318125\"/>\n  </clipPath>\n  <clipPath id=\"p09dda346e2\">\n   <rect height=\"47.288136\" width=\"47.288136\" x=\"404.420339\" y=\"22.318125\"/>\n  </clipPath>\n  <clipPath id=\"p74ba274a61\">\n   <rect height=\"47.288136\" width=\"47.288136\" x=\"461.166102\" y=\"22.318125\"/>\n  </clipPath>\n  <clipPath id=\"p457cae16dc\">\n   <rect height=\"47.288136\" width=\"47.288136\" x=\"517.911864\" y=\"22.318125\"/>\n  </clipPath>\n </defs>\n</svg>\n"
          },
          "metadata": {
            "needs_background": "light"
          }
        }
      ]
    },
    {
      "cell_type": "markdown",
      "metadata": {
        "id": "Jv5cvRh8nAKY"
      },
      "source": [
        "##*Дополнительные задания"
      ]
    },
    {
      "cell_type": "markdown",
      "metadata": {
        "id": "3g2iPhFMnFVf"
      },
      "source": [
        "*Дополнительные задания:"
      ]
    },
    {
      "cell_type": "code",
      "metadata": {
        "id": "ZAY3sjCz12E2"
      },
      "source": [
        "#1). Загрузите датасет Wine из встроенных датасетов sklearn.datasets с помощью функции load_wine в переменную data\n",
        "wine = load_wine()\n",
        "wine_data = wine['data']"
      ],
      "execution_count": 70,
      "outputs": []
    },
    {
      "cell_type": "code",
      "metadata": {
        "colab": {
          "base_uri": "https://localhost:8080/"
        },
        "id": "FjYCXs2B2swL",
        "outputId": "5f92013a-649b-47ad-855a-361018c5bd3f"
      },
      "source": [
        "#2)Просмотрите тип данных этой структуры wine и создайте список data_keys, содержащий ее ключи.\n",
        "wine_data_keys = wine.keys()\n",
        "print(f'Ключи датасета: {wine_data_keys}')\n",
        "print(f'Тип данных структуры wine: {type(wine)}')\n",
        "print(f'Тип данных структуры data: {type(data)}')"
      ],
      "execution_count": 71,
      "outputs": [
        {
          "output_type": "stream",
          "name": "stdout",
          "text": [
            "Ключи датасета: dict_keys(['data', 'target', 'frame', 'target_names', 'DESCR', 'feature_names'])\n",
            "Тип данных структуры wine: <class 'sklearn.utils.Bunch'>\n",
            "Тип данных структуры data: <class 'numpy.ndarray'>\n"
          ]
        }
      ]
    },
    {
      "cell_type": "code",
      "metadata": {
        "colab": {
          "base_uri": "https://localhost:8080/"
        },
        "id": "8OXLxx6_3T-9",
        "outputId": "4872f901-2556-49bc-e5d8-571d075e7270"
      },
      "source": [
        "#3). Просмотрите данные, описание и названия признаков в датасете. \n",
        "#Описание нужно вывести в виде привычного, аккуратно оформленного текста, без обозначений переноса строки, но с самими переносами и т.д.\n",
        "print(wine['DESCR'])"
      ],
      "execution_count": 72,
      "outputs": [
        {
          "output_type": "stream",
          "name": "stdout",
          "text": [
            ".. _wine_dataset:\n",
            "\n",
            "Wine recognition dataset\n",
            "------------------------\n",
            "\n",
            "**Data Set Characteristics:**\n",
            "\n",
            "    :Number of Instances: 178 (50 in each of three classes)\n",
            "    :Number of Attributes: 13 numeric, predictive attributes and the class\n",
            "    :Attribute Information:\n",
            " \t\t- Alcohol\n",
            " \t\t- Malic acid\n",
            " \t\t- Ash\n",
            "\t\t- Alcalinity of ash  \n",
            " \t\t- Magnesium\n",
            "\t\t- Total phenols\n",
            " \t\t- Flavanoids\n",
            " \t\t- Nonflavanoid phenols\n",
            " \t\t- Proanthocyanins\n",
            "\t\t- Color intensity\n",
            " \t\t- Hue\n",
            " \t\t- OD280/OD315 of diluted wines\n",
            " \t\t- Proline\n",
            "\n",
            "    - class:\n",
            "            - class_0\n",
            "            - class_1\n",
            "            - class_2\n",
            "\t\t\n",
            "    :Summary Statistics:\n",
            "    \n",
            "    ============================= ==== ===== ======= =====\n",
            "                                   Min   Max   Mean     SD\n",
            "    ============================= ==== ===== ======= =====\n",
            "    Alcohol:                      11.0  14.8    13.0   0.8\n",
            "    Malic Acid:                   0.74  5.80    2.34  1.12\n",
            "    Ash:                          1.36  3.23    2.36  0.27\n",
            "    Alcalinity of Ash:            10.6  30.0    19.5   3.3\n",
            "    Magnesium:                    70.0 162.0    99.7  14.3\n",
            "    Total Phenols:                0.98  3.88    2.29  0.63\n",
            "    Flavanoids:                   0.34  5.08    2.03  1.00\n",
            "    Nonflavanoid Phenols:         0.13  0.66    0.36  0.12\n",
            "    Proanthocyanins:              0.41  3.58    1.59  0.57\n",
            "    Colour Intensity:              1.3  13.0     5.1   2.3\n",
            "    Hue:                          0.48  1.71    0.96  0.23\n",
            "    OD280/OD315 of diluted wines: 1.27  4.00    2.61  0.71\n",
            "    Proline:                       278  1680     746   315\n",
            "    ============================= ==== ===== ======= =====\n",
            "\n",
            "    :Missing Attribute Values: None\n",
            "    :Class Distribution: class_0 (59), class_1 (71), class_2 (48)\n",
            "    :Creator: R.A. Fisher\n",
            "    :Donor: Michael Marshall (MARSHALL%PLU@io.arc.nasa.gov)\n",
            "    :Date: July, 1988\n",
            "\n",
            "This is a copy of UCI ML Wine recognition datasets.\n",
            "https://archive.ics.uci.edu/ml/machine-learning-databases/wine/wine.data\n",
            "\n",
            "The data is the results of a chemical analysis of wines grown in the same\n",
            "region in Italy by three different cultivators. There are thirteen different\n",
            "measurements taken for different constituents found in the three types of\n",
            "wine.\n",
            "\n",
            "Original Owners: \n",
            "\n",
            "Forina, M. et al, PARVUS - \n",
            "An Extendible Package for Data Exploration, Classification and Correlation. \n",
            "Institute of Pharmaceutical and Food Analysis and Technologies,\n",
            "Via Brigata Salerno, 16147 Genoa, Italy.\n",
            "\n",
            "Citation:\n",
            "\n",
            "Lichman, M. (2013). UCI Machine Learning Repository\n",
            "[https://archive.ics.uci.edu/ml]. Irvine, CA: University of California,\n",
            "School of Information and Computer Science. \n",
            "\n",
            ".. topic:: References\n",
            "\n",
            "  (1) S. Aeberhard, D. Coomans and O. de Vel, \n",
            "  Comparison of Classifiers in High Dimensional Settings, \n",
            "  Tech. Rep. no. 92-02, (1992), Dept. of Computer Science and Dept. of  \n",
            "  Mathematics and Statistics, James Cook University of North Queensland. \n",
            "  (Also submitted to Technometrics). \n",
            "\n",
            "  The data was used with many others for comparing various \n",
            "  classifiers. The classes are separable, though only RDA \n",
            "  has achieved 100% correct classification. \n",
            "  (RDA : 100%, QDA 99.4%, LDA 98.9%, 1NN 96.1% (z-transformed data)) \n",
            "  (All results using the leave-one-out technique) \n",
            "\n",
            "  (2) S. Aeberhard, D. Coomans and O. de Vel, \n",
            "  \"THE CLASSIFICATION PERFORMANCE OF RDA\" \n",
            "  Tech. Rep. no. 92-01, (1992), Dept. of Computer Science and Dept. of \n",
            "  Mathematics and Statistics, James Cook University of North Queensland. \n",
            "  (Also submitted to Journal of Chemometrics).\n",
            "\n"
          ]
        }
      ]
    },
    {
      "cell_type": "code",
      "metadata": {
        "colab": {
          "base_uri": "https://localhost:8080/"
        },
        "id": "u2cPied05Ez8",
        "outputId": "20cebdd6-9e4c-41b9-9ee2-599306569e5b"
      },
      "source": [
        "#4). Сколько классов содержит целевая переменная датасета? Выведите названия классов.\n",
        "class_names = set(wine[\"target\"])\n",
        "print(f'Целевая переменная содержит {len(class_names)} класса:')\n",
        "for i in class_names:\n",
        "  print(f'Class_{i}')"
      ],
      "execution_count": 73,
      "outputs": [
        {
          "output_type": "stream",
          "name": "stdout",
          "text": [
            "Целевая переменная содержит 3 класса:\n",
            "Class_0\n",
            "Class_1\n",
            "Class_2\n"
          ]
        }
      ]
    },
    {
      "cell_type": "code",
      "metadata": {
        "colab": {
          "base_uri": "https://localhost:8080/",
          "height": 250
        },
        "id": "Xm9ZnwaN7dbz",
        "outputId": "e0a1f450-1cbb-4aa7-9b84-0d27615c4734"
      },
      "source": [
        "#5). На основе данных датасета (они содержатся в двумерном массиве Numpy) и названий признаков создайте датафрейм под названием X.\n",
        "wine_X = pd.DataFrame(wine_data, columns=wine['feature_names'])\n",
        "wine_X.head()"
      ],
      "execution_count": 74,
      "outputs": [
        {
          "output_type": "execute_result",
          "data": {
            "text/html": [
              "\n",
              "  <div id=\"df-10a7913a-fc07-483d-bcb5-0670d5f0aba4\">\n",
              "    <div class=\"colab-df-container\">\n",
              "      <div>\n",
              "<style scoped>\n",
              "    .dataframe tbody tr th:only-of-type {\n",
              "        vertical-align: middle;\n",
              "    }\n",
              "\n",
              "    .dataframe tbody tr th {\n",
              "        vertical-align: top;\n",
              "    }\n",
              "\n",
              "    .dataframe thead th {\n",
              "        text-align: right;\n",
              "    }\n",
              "</style>\n",
              "<table border=\"1\" class=\"dataframe\">\n",
              "  <thead>\n",
              "    <tr style=\"text-align: right;\">\n",
              "      <th></th>\n",
              "      <th>alcohol</th>\n",
              "      <th>malic_acid</th>\n",
              "      <th>ash</th>\n",
              "      <th>alcalinity_of_ash</th>\n",
              "      <th>magnesium</th>\n",
              "      <th>total_phenols</th>\n",
              "      <th>flavanoids</th>\n",
              "      <th>nonflavanoid_phenols</th>\n",
              "      <th>proanthocyanins</th>\n",
              "      <th>color_intensity</th>\n",
              "      <th>hue</th>\n",
              "      <th>od280/od315_of_diluted_wines</th>\n",
              "      <th>proline</th>\n",
              "    </tr>\n",
              "  </thead>\n",
              "  <tbody>\n",
              "    <tr>\n",
              "      <th>0</th>\n",
              "      <td>14.23</td>\n",
              "      <td>1.71</td>\n",
              "      <td>2.43</td>\n",
              "      <td>15.6</td>\n",
              "      <td>127.0</td>\n",
              "      <td>2.80</td>\n",
              "      <td>3.06</td>\n",
              "      <td>0.28</td>\n",
              "      <td>2.29</td>\n",
              "      <td>5.64</td>\n",
              "      <td>1.04</td>\n",
              "      <td>3.92</td>\n",
              "      <td>1065.0</td>\n",
              "    </tr>\n",
              "    <tr>\n",
              "      <th>1</th>\n",
              "      <td>13.20</td>\n",
              "      <td>1.78</td>\n",
              "      <td>2.14</td>\n",
              "      <td>11.2</td>\n",
              "      <td>100.0</td>\n",
              "      <td>2.65</td>\n",
              "      <td>2.76</td>\n",
              "      <td>0.26</td>\n",
              "      <td>1.28</td>\n",
              "      <td>4.38</td>\n",
              "      <td>1.05</td>\n",
              "      <td>3.40</td>\n",
              "      <td>1050.0</td>\n",
              "    </tr>\n",
              "    <tr>\n",
              "      <th>2</th>\n",
              "      <td>13.16</td>\n",
              "      <td>2.36</td>\n",
              "      <td>2.67</td>\n",
              "      <td>18.6</td>\n",
              "      <td>101.0</td>\n",
              "      <td>2.80</td>\n",
              "      <td>3.24</td>\n",
              "      <td>0.30</td>\n",
              "      <td>2.81</td>\n",
              "      <td>5.68</td>\n",
              "      <td>1.03</td>\n",
              "      <td>3.17</td>\n",
              "      <td>1185.0</td>\n",
              "    </tr>\n",
              "    <tr>\n",
              "      <th>3</th>\n",
              "      <td>14.37</td>\n",
              "      <td>1.95</td>\n",
              "      <td>2.50</td>\n",
              "      <td>16.8</td>\n",
              "      <td>113.0</td>\n",
              "      <td>3.85</td>\n",
              "      <td>3.49</td>\n",
              "      <td>0.24</td>\n",
              "      <td>2.18</td>\n",
              "      <td>7.80</td>\n",
              "      <td>0.86</td>\n",
              "      <td>3.45</td>\n",
              "      <td>1480.0</td>\n",
              "    </tr>\n",
              "    <tr>\n",
              "      <th>4</th>\n",
              "      <td>13.24</td>\n",
              "      <td>2.59</td>\n",
              "      <td>2.87</td>\n",
              "      <td>21.0</td>\n",
              "      <td>118.0</td>\n",
              "      <td>2.80</td>\n",
              "      <td>2.69</td>\n",
              "      <td>0.39</td>\n",
              "      <td>1.82</td>\n",
              "      <td>4.32</td>\n",
              "      <td>1.04</td>\n",
              "      <td>2.93</td>\n",
              "      <td>735.0</td>\n",
              "    </tr>\n",
              "  </tbody>\n",
              "</table>\n",
              "</div>\n",
              "      <button class=\"colab-df-convert\" onclick=\"convertToInteractive('df-10a7913a-fc07-483d-bcb5-0670d5f0aba4')\"\n",
              "              title=\"Convert this dataframe to an interactive table.\"\n",
              "              style=\"display:none;\">\n",
              "        \n",
              "  <svg xmlns=\"http://www.w3.org/2000/svg\" height=\"24px\"viewBox=\"0 0 24 24\"\n",
              "       width=\"24px\">\n",
              "    <path d=\"M0 0h24v24H0V0z\" fill=\"none\"/>\n",
              "    <path d=\"M18.56 5.44l.94 2.06.94-2.06 2.06-.94-2.06-.94-.94-2.06-.94 2.06-2.06.94zm-11 1L8.5 8.5l.94-2.06 2.06-.94-2.06-.94L8.5 2.5l-.94 2.06-2.06.94zm10 10l.94 2.06.94-2.06 2.06-.94-2.06-.94-.94-2.06-.94 2.06-2.06.94z\"/><path d=\"M17.41 7.96l-1.37-1.37c-.4-.4-.92-.59-1.43-.59-.52 0-1.04.2-1.43.59L10.3 9.45l-7.72 7.72c-.78.78-.78 2.05 0 2.83L4 21.41c.39.39.9.59 1.41.59.51 0 1.02-.2 1.41-.59l7.78-7.78 2.81-2.81c.8-.78.8-2.07 0-2.86zM5.41 20L4 18.59l7.72-7.72 1.47 1.35L5.41 20z\"/>\n",
              "  </svg>\n",
              "      </button>\n",
              "      \n",
              "  <style>\n",
              "    .colab-df-container {\n",
              "      display:flex;\n",
              "      flex-wrap:wrap;\n",
              "      gap: 12px;\n",
              "    }\n",
              "\n",
              "    .colab-df-convert {\n",
              "      background-color: #E8F0FE;\n",
              "      border: none;\n",
              "      border-radius: 50%;\n",
              "      cursor: pointer;\n",
              "      display: none;\n",
              "      fill: #1967D2;\n",
              "      height: 32px;\n",
              "      padding: 0 0 0 0;\n",
              "      width: 32px;\n",
              "    }\n",
              "\n",
              "    .colab-df-convert:hover {\n",
              "      background-color: #E2EBFA;\n",
              "      box-shadow: 0px 1px 2px rgba(60, 64, 67, 0.3), 0px 1px 3px 1px rgba(60, 64, 67, 0.15);\n",
              "      fill: #174EA6;\n",
              "    }\n",
              "\n",
              "    [theme=dark] .colab-df-convert {\n",
              "      background-color: #3B4455;\n",
              "      fill: #D2E3FC;\n",
              "    }\n",
              "\n",
              "    [theme=dark] .colab-df-convert:hover {\n",
              "      background-color: #434B5C;\n",
              "      box-shadow: 0px 1px 3px 1px rgba(0, 0, 0, 0.15);\n",
              "      filter: drop-shadow(0px 1px 2px rgba(0, 0, 0, 0.3));\n",
              "      fill: #FFFFFF;\n",
              "    }\n",
              "  </style>\n",
              "\n",
              "      <script>\n",
              "        const buttonEl =\n",
              "          document.querySelector('#df-10a7913a-fc07-483d-bcb5-0670d5f0aba4 button.colab-df-convert');\n",
              "        buttonEl.style.display =\n",
              "          google.colab.kernel.accessAllowed ? 'block' : 'none';\n",
              "\n",
              "        async function convertToInteractive(key) {\n",
              "          const element = document.querySelector('#df-10a7913a-fc07-483d-bcb5-0670d5f0aba4');\n",
              "          const dataTable =\n",
              "            await google.colab.kernel.invokeFunction('convertToInteractive',\n",
              "                                                     [key], {});\n",
              "          if (!dataTable) return;\n",
              "\n",
              "          const docLinkHtml = 'Like what you see? Visit the ' +\n",
              "            '<a target=\"_blank\" href=https://colab.research.google.com/notebooks/data_table.ipynb>data table notebook</a>'\n",
              "            + ' to learn more about interactive tables.';\n",
              "          element.innerHTML = '';\n",
              "          dataTable['output_type'] = 'display_data';\n",
              "          await google.colab.output.renderOutput(dataTable, element);\n",
              "          const docLink = document.createElement('div');\n",
              "          docLink.innerHTML = docLinkHtml;\n",
              "          element.appendChild(docLink);\n",
              "        }\n",
              "      </script>\n",
              "    </div>\n",
              "  </div>\n",
              "  "
            ],
            "text/plain": [
              "   alcohol  malic_acid   ash  alcalinity_of_ash  magnesium  total_phenols  \\\n",
              "0    14.23        1.71  2.43               15.6      127.0           2.80   \n",
              "1    13.20        1.78  2.14               11.2      100.0           2.65   \n",
              "2    13.16        2.36  2.67               18.6      101.0           2.80   \n",
              "3    14.37        1.95  2.50               16.8      113.0           3.85   \n",
              "4    13.24        2.59  2.87               21.0      118.0           2.80   \n",
              "\n",
              "   flavanoids  nonflavanoid_phenols  proanthocyanins  color_intensity   hue  \\\n",
              "0        3.06                  0.28             2.29             5.64  1.04   \n",
              "1        2.76                  0.26             1.28             4.38  1.05   \n",
              "2        3.24                  0.30             2.81             5.68  1.03   \n",
              "3        3.49                  0.24             2.18             7.80  0.86   \n",
              "4        2.69                  0.39             1.82             4.32  1.04   \n",
              "\n",
              "   od280/od315_of_diluted_wines  proline  \n",
              "0                          3.92   1065.0  \n",
              "1                          3.40   1050.0  \n",
              "2                          3.17   1185.0  \n",
              "3                          3.45   1480.0  \n",
              "4                          2.93    735.0  "
            ]
          },
          "metadata": {},
          "execution_count": 74
        }
      ]
    },
    {
      "cell_type": "code",
      "metadata": {
        "colab": {
          "base_uri": "https://localhost:8080/"
        },
        "id": "A5rMw33T8GI4",
        "outputId": "5b249cee-9a9b-4c87-d176-4ba197e2cdc8"
      },
      "source": [
        "#6). Выясните размер датафрейма X и установите, имеются ли в нем пропущенные значения.\n",
        "print(f'Информация по датасету:')\n",
        "wine_X.info()\n",
        "print(f'\\nРазмер датасета:{wine_X.shape}')"
      ],
      "execution_count": null,
      "outputs": [
        {
          "output_type": "stream",
          "name": "stdout",
          "text": [
            "Информация по датасету:\n",
            "<class 'pandas.core.frame.DataFrame'>\n",
            "RangeIndex: 178 entries, 0 to 177\n",
            "Data columns (total 13 columns):\n",
            " #   Column                        Non-Null Count  Dtype  \n",
            "---  ------                        --------------  -----  \n",
            " 0   alcohol                       178 non-null    float64\n",
            " 1   malic_acid                    178 non-null    float64\n",
            " 2   ash                           178 non-null    float64\n",
            " 3   alcalinity_of_ash             178 non-null    float64\n",
            " 4   magnesium                     178 non-null    float64\n",
            " 5   total_phenols                 178 non-null    float64\n",
            " 6   flavanoids                    178 non-null    float64\n",
            " 7   nonflavanoid_phenols          178 non-null    float64\n",
            " 8   proanthocyanins               178 non-null    float64\n",
            " 9   color_intensity               178 non-null    float64\n",
            " 10  hue                           178 non-null    float64\n",
            " 11  od280/od315_of_diluted_wines  178 non-null    float64\n",
            " 12  proline                       178 non-null    float64\n",
            "dtypes: float64(13)\n",
            "memory usage: 18.2 KB\n",
            "\n",
            "Размер датасета:(178, 13)\n"
          ]
        }
      ]
    },
    {
      "cell_type": "code",
      "metadata": {
        "colab": {
          "base_uri": "https://localhost:8080/"
        },
        "id": "YPHTPy0Z8_jf",
        "outputId": "8d3cda21-43d9-4cfe-ae6c-947abd252059"
      },
      "source": [
        "#7). Добавьте в датафрейм поле с классами вин в виде чисел, имеющих тип данных numpy.int64. Название поля - 'target'.\n",
        "wine_X['target'] = wine['target']\n",
        "wine_X['target'] = wine_X['target'].astype(np.int64)\n",
        "wine_X.info()"
      ],
      "execution_count": 75,
      "outputs": [
        {
          "output_type": "stream",
          "name": "stdout",
          "text": [
            "<class 'pandas.core.frame.DataFrame'>\n",
            "RangeIndex: 178 entries, 0 to 177\n",
            "Data columns (total 14 columns):\n",
            " #   Column                        Non-Null Count  Dtype  \n",
            "---  ------                        --------------  -----  \n",
            " 0   alcohol                       178 non-null    float64\n",
            " 1   malic_acid                    178 non-null    float64\n",
            " 2   ash                           178 non-null    float64\n",
            " 3   alcalinity_of_ash             178 non-null    float64\n",
            " 4   magnesium                     178 non-null    float64\n",
            " 5   total_phenols                 178 non-null    float64\n",
            " 6   flavanoids                    178 non-null    float64\n",
            " 7   nonflavanoid_phenols          178 non-null    float64\n",
            " 8   proanthocyanins               178 non-null    float64\n",
            " 9   color_intensity               178 non-null    float64\n",
            " 10  hue                           178 non-null    float64\n",
            " 11  od280/od315_of_diluted_wines  178 non-null    float64\n",
            " 12  proline                       178 non-null    float64\n",
            " 13  target                        178 non-null    int64  \n",
            "dtypes: float64(13), int64(1)\n",
            "memory usage: 19.6 KB\n"
          ]
        }
      ]
    },
    {
      "cell_type": "code",
      "metadata": {
        "id": "7GvZAcvJ_UnO"
      },
      "source": [
        "#8). Постройте матрицу корреляций для всех полей X. Дайте полученному датафрейму название X_corr.\n",
        "wine_X_corr = wine_X.corr()"
      ],
      "execution_count": 76,
      "outputs": []
    },
    {
      "cell_type": "code",
      "source": [
        "wine_X_corr"
      ],
      "metadata": {
        "colab": {
          "base_uri": "https://localhost:8080/",
          "height": 552
        },
        "id": "h1W2OMtu-N4Q",
        "outputId": "a7abccf9-884f-41aa-d189-b857de7d59b5"
      },
      "execution_count": 77,
      "outputs": [
        {
          "output_type": "execute_result",
          "data": {
            "text/html": [
              "\n",
              "  <div id=\"df-8418b48e-daae-4df0-8221-6b12b7c8b4b5\">\n",
              "    <div class=\"colab-df-container\">\n",
              "      <div>\n",
              "<style scoped>\n",
              "    .dataframe tbody tr th:only-of-type {\n",
              "        vertical-align: middle;\n",
              "    }\n",
              "\n",
              "    .dataframe tbody tr th {\n",
              "        vertical-align: top;\n",
              "    }\n",
              "\n",
              "    .dataframe thead th {\n",
              "        text-align: right;\n",
              "    }\n",
              "</style>\n",
              "<table border=\"1\" class=\"dataframe\">\n",
              "  <thead>\n",
              "    <tr style=\"text-align: right;\">\n",
              "      <th></th>\n",
              "      <th>alcohol</th>\n",
              "      <th>malic_acid</th>\n",
              "      <th>ash</th>\n",
              "      <th>alcalinity_of_ash</th>\n",
              "      <th>magnesium</th>\n",
              "      <th>total_phenols</th>\n",
              "      <th>flavanoids</th>\n",
              "      <th>nonflavanoid_phenols</th>\n",
              "      <th>proanthocyanins</th>\n",
              "      <th>color_intensity</th>\n",
              "      <th>hue</th>\n",
              "      <th>od280/od315_of_diluted_wines</th>\n",
              "      <th>proline</th>\n",
              "      <th>target</th>\n",
              "    </tr>\n",
              "  </thead>\n",
              "  <tbody>\n",
              "    <tr>\n",
              "      <th>alcohol</th>\n",
              "      <td>1.000000</td>\n",
              "      <td>0.094397</td>\n",
              "      <td>0.211545</td>\n",
              "      <td>-0.310235</td>\n",
              "      <td>0.270798</td>\n",
              "      <td>0.289101</td>\n",
              "      <td>0.236815</td>\n",
              "      <td>-0.155929</td>\n",
              "      <td>0.136698</td>\n",
              "      <td>0.546364</td>\n",
              "      <td>-0.071747</td>\n",
              "      <td>0.072343</td>\n",
              "      <td>0.643720</td>\n",
              "      <td>-0.328222</td>\n",
              "    </tr>\n",
              "    <tr>\n",
              "      <th>malic_acid</th>\n",
              "      <td>0.094397</td>\n",
              "      <td>1.000000</td>\n",
              "      <td>0.164045</td>\n",
              "      <td>0.288500</td>\n",
              "      <td>-0.054575</td>\n",
              "      <td>-0.335167</td>\n",
              "      <td>-0.411007</td>\n",
              "      <td>0.292977</td>\n",
              "      <td>-0.220746</td>\n",
              "      <td>0.248985</td>\n",
              "      <td>-0.561296</td>\n",
              "      <td>-0.368710</td>\n",
              "      <td>-0.192011</td>\n",
              "      <td>0.437776</td>\n",
              "    </tr>\n",
              "    <tr>\n",
              "      <th>ash</th>\n",
              "      <td>0.211545</td>\n",
              "      <td>0.164045</td>\n",
              "      <td>1.000000</td>\n",
              "      <td>0.443367</td>\n",
              "      <td>0.286587</td>\n",
              "      <td>0.128980</td>\n",
              "      <td>0.115077</td>\n",
              "      <td>0.186230</td>\n",
              "      <td>0.009652</td>\n",
              "      <td>0.258887</td>\n",
              "      <td>-0.074667</td>\n",
              "      <td>0.003911</td>\n",
              "      <td>0.223626</td>\n",
              "      <td>-0.049643</td>\n",
              "    </tr>\n",
              "    <tr>\n",
              "      <th>alcalinity_of_ash</th>\n",
              "      <td>-0.310235</td>\n",
              "      <td>0.288500</td>\n",
              "      <td>0.443367</td>\n",
              "      <td>1.000000</td>\n",
              "      <td>-0.083333</td>\n",
              "      <td>-0.321113</td>\n",
              "      <td>-0.351370</td>\n",
              "      <td>0.361922</td>\n",
              "      <td>-0.197327</td>\n",
              "      <td>0.018732</td>\n",
              "      <td>-0.273955</td>\n",
              "      <td>-0.276769</td>\n",
              "      <td>-0.440597</td>\n",
              "      <td>0.517859</td>\n",
              "    </tr>\n",
              "    <tr>\n",
              "      <th>magnesium</th>\n",
              "      <td>0.270798</td>\n",
              "      <td>-0.054575</td>\n",
              "      <td>0.286587</td>\n",
              "      <td>-0.083333</td>\n",
              "      <td>1.000000</td>\n",
              "      <td>0.214401</td>\n",
              "      <td>0.195784</td>\n",
              "      <td>-0.256294</td>\n",
              "      <td>0.236441</td>\n",
              "      <td>0.199950</td>\n",
              "      <td>0.055398</td>\n",
              "      <td>0.066004</td>\n",
              "      <td>0.393351</td>\n",
              "      <td>-0.209179</td>\n",
              "    </tr>\n",
              "    <tr>\n",
              "      <th>total_phenols</th>\n",
              "      <td>0.289101</td>\n",
              "      <td>-0.335167</td>\n",
              "      <td>0.128980</td>\n",
              "      <td>-0.321113</td>\n",
              "      <td>0.214401</td>\n",
              "      <td>1.000000</td>\n",
              "      <td>0.864564</td>\n",
              "      <td>-0.449935</td>\n",
              "      <td>0.612413</td>\n",
              "      <td>-0.055136</td>\n",
              "      <td>0.433681</td>\n",
              "      <td>0.699949</td>\n",
              "      <td>0.498115</td>\n",
              "      <td>-0.719163</td>\n",
              "    </tr>\n",
              "    <tr>\n",
              "      <th>flavanoids</th>\n",
              "      <td>0.236815</td>\n",
              "      <td>-0.411007</td>\n",
              "      <td>0.115077</td>\n",
              "      <td>-0.351370</td>\n",
              "      <td>0.195784</td>\n",
              "      <td>0.864564</td>\n",
              "      <td>1.000000</td>\n",
              "      <td>-0.537900</td>\n",
              "      <td>0.652692</td>\n",
              "      <td>-0.172379</td>\n",
              "      <td>0.543479</td>\n",
              "      <td>0.787194</td>\n",
              "      <td>0.494193</td>\n",
              "      <td>-0.847498</td>\n",
              "    </tr>\n",
              "    <tr>\n",
              "      <th>nonflavanoid_phenols</th>\n",
              "      <td>-0.155929</td>\n",
              "      <td>0.292977</td>\n",
              "      <td>0.186230</td>\n",
              "      <td>0.361922</td>\n",
              "      <td>-0.256294</td>\n",
              "      <td>-0.449935</td>\n",
              "      <td>-0.537900</td>\n",
              "      <td>1.000000</td>\n",
              "      <td>-0.365845</td>\n",
              "      <td>0.139057</td>\n",
              "      <td>-0.262640</td>\n",
              "      <td>-0.503270</td>\n",
              "      <td>-0.311385</td>\n",
              "      <td>0.489109</td>\n",
              "    </tr>\n",
              "    <tr>\n",
              "      <th>proanthocyanins</th>\n",
              "      <td>0.136698</td>\n",
              "      <td>-0.220746</td>\n",
              "      <td>0.009652</td>\n",
              "      <td>-0.197327</td>\n",
              "      <td>0.236441</td>\n",
              "      <td>0.612413</td>\n",
              "      <td>0.652692</td>\n",
              "      <td>-0.365845</td>\n",
              "      <td>1.000000</td>\n",
              "      <td>-0.025250</td>\n",
              "      <td>0.295544</td>\n",
              "      <td>0.519067</td>\n",
              "      <td>0.330417</td>\n",
              "      <td>-0.499130</td>\n",
              "    </tr>\n",
              "    <tr>\n",
              "      <th>color_intensity</th>\n",
              "      <td>0.546364</td>\n",
              "      <td>0.248985</td>\n",
              "      <td>0.258887</td>\n",
              "      <td>0.018732</td>\n",
              "      <td>0.199950</td>\n",
              "      <td>-0.055136</td>\n",
              "      <td>-0.172379</td>\n",
              "      <td>0.139057</td>\n",
              "      <td>-0.025250</td>\n",
              "      <td>1.000000</td>\n",
              "      <td>-0.521813</td>\n",
              "      <td>-0.428815</td>\n",
              "      <td>0.316100</td>\n",
              "      <td>0.265668</td>\n",
              "    </tr>\n",
              "    <tr>\n",
              "      <th>hue</th>\n",
              "      <td>-0.071747</td>\n",
              "      <td>-0.561296</td>\n",
              "      <td>-0.074667</td>\n",
              "      <td>-0.273955</td>\n",
              "      <td>0.055398</td>\n",
              "      <td>0.433681</td>\n",
              "      <td>0.543479</td>\n",
              "      <td>-0.262640</td>\n",
              "      <td>0.295544</td>\n",
              "      <td>-0.521813</td>\n",
              "      <td>1.000000</td>\n",
              "      <td>0.565468</td>\n",
              "      <td>0.236183</td>\n",
              "      <td>-0.617369</td>\n",
              "    </tr>\n",
              "    <tr>\n",
              "      <th>od280/od315_of_diluted_wines</th>\n",
              "      <td>0.072343</td>\n",
              "      <td>-0.368710</td>\n",
              "      <td>0.003911</td>\n",
              "      <td>-0.276769</td>\n",
              "      <td>0.066004</td>\n",
              "      <td>0.699949</td>\n",
              "      <td>0.787194</td>\n",
              "      <td>-0.503270</td>\n",
              "      <td>0.519067</td>\n",
              "      <td>-0.428815</td>\n",
              "      <td>0.565468</td>\n",
              "      <td>1.000000</td>\n",
              "      <td>0.312761</td>\n",
              "      <td>-0.788230</td>\n",
              "    </tr>\n",
              "    <tr>\n",
              "      <th>proline</th>\n",
              "      <td>0.643720</td>\n",
              "      <td>-0.192011</td>\n",
              "      <td>0.223626</td>\n",
              "      <td>-0.440597</td>\n",
              "      <td>0.393351</td>\n",
              "      <td>0.498115</td>\n",
              "      <td>0.494193</td>\n",
              "      <td>-0.311385</td>\n",
              "      <td>0.330417</td>\n",
              "      <td>0.316100</td>\n",
              "      <td>0.236183</td>\n",
              "      <td>0.312761</td>\n",
              "      <td>1.000000</td>\n",
              "      <td>-0.633717</td>\n",
              "    </tr>\n",
              "    <tr>\n",
              "      <th>target</th>\n",
              "      <td>-0.328222</td>\n",
              "      <td>0.437776</td>\n",
              "      <td>-0.049643</td>\n",
              "      <td>0.517859</td>\n",
              "      <td>-0.209179</td>\n",
              "      <td>-0.719163</td>\n",
              "      <td>-0.847498</td>\n",
              "      <td>0.489109</td>\n",
              "      <td>-0.499130</td>\n",
              "      <td>0.265668</td>\n",
              "      <td>-0.617369</td>\n",
              "      <td>-0.788230</td>\n",
              "      <td>-0.633717</td>\n",
              "      <td>1.000000</td>\n",
              "    </tr>\n",
              "  </tbody>\n",
              "</table>\n",
              "</div>\n",
              "      <button class=\"colab-df-convert\" onclick=\"convertToInteractive('df-8418b48e-daae-4df0-8221-6b12b7c8b4b5')\"\n",
              "              title=\"Convert this dataframe to an interactive table.\"\n",
              "              style=\"display:none;\">\n",
              "        \n",
              "  <svg xmlns=\"http://www.w3.org/2000/svg\" height=\"24px\"viewBox=\"0 0 24 24\"\n",
              "       width=\"24px\">\n",
              "    <path d=\"M0 0h24v24H0V0z\" fill=\"none\"/>\n",
              "    <path d=\"M18.56 5.44l.94 2.06.94-2.06 2.06-.94-2.06-.94-.94-2.06-.94 2.06-2.06.94zm-11 1L8.5 8.5l.94-2.06 2.06-.94-2.06-.94L8.5 2.5l-.94 2.06-2.06.94zm10 10l.94 2.06.94-2.06 2.06-.94-2.06-.94-.94-2.06-.94 2.06-2.06.94z\"/><path d=\"M17.41 7.96l-1.37-1.37c-.4-.4-.92-.59-1.43-.59-.52 0-1.04.2-1.43.59L10.3 9.45l-7.72 7.72c-.78.78-.78 2.05 0 2.83L4 21.41c.39.39.9.59 1.41.59.51 0 1.02-.2 1.41-.59l7.78-7.78 2.81-2.81c.8-.78.8-2.07 0-2.86zM5.41 20L4 18.59l7.72-7.72 1.47 1.35L5.41 20z\"/>\n",
              "  </svg>\n",
              "      </button>\n",
              "      \n",
              "  <style>\n",
              "    .colab-df-container {\n",
              "      display:flex;\n",
              "      flex-wrap:wrap;\n",
              "      gap: 12px;\n",
              "    }\n",
              "\n",
              "    .colab-df-convert {\n",
              "      background-color: #E8F0FE;\n",
              "      border: none;\n",
              "      border-radius: 50%;\n",
              "      cursor: pointer;\n",
              "      display: none;\n",
              "      fill: #1967D2;\n",
              "      height: 32px;\n",
              "      padding: 0 0 0 0;\n",
              "      width: 32px;\n",
              "    }\n",
              "\n",
              "    .colab-df-convert:hover {\n",
              "      background-color: #E2EBFA;\n",
              "      box-shadow: 0px 1px 2px rgba(60, 64, 67, 0.3), 0px 1px 3px 1px rgba(60, 64, 67, 0.15);\n",
              "      fill: #174EA6;\n",
              "    }\n",
              "\n",
              "    [theme=dark] .colab-df-convert {\n",
              "      background-color: #3B4455;\n",
              "      fill: #D2E3FC;\n",
              "    }\n",
              "\n",
              "    [theme=dark] .colab-df-convert:hover {\n",
              "      background-color: #434B5C;\n",
              "      box-shadow: 0px 1px 3px 1px rgba(0, 0, 0, 0.15);\n",
              "      filter: drop-shadow(0px 1px 2px rgba(0, 0, 0, 0.3));\n",
              "      fill: #FFFFFF;\n",
              "    }\n",
              "  </style>\n",
              "\n",
              "      <script>\n",
              "        const buttonEl =\n",
              "          document.querySelector('#df-8418b48e-daae-4df0-8221-6b12b7c8b4b5 button.colab-df-convert');\n",
              "        buttonEl.style.display =\n",
              "          google.colab.kernel.accessAllowed ? 'block' : 'none';\n",
              "\n",
              "        async function convertToInteractive(key) {\n",
              "          const element = document.querySelector('#df-8418b48e-daae-4df0-8221-6b12b7c8b4b5');\n",
              "          const dataTable =\n",
              "            await google.colab.kernel.invokeFunction('convertToInteractive',\n",
              "                                                     [key], {});\n",
              "          if (!dataTable) return;\n",
              "\n",
              "          const docLinkHtml = 'Like what you see? Visit the ' +\n",
              "            '<a target=\"_blank\" href=https://colab.research.google.com/notebooks/data_table.ipynb>data table notebook</a>'\n",
              "            + ' to learn more about interactive tables.';\n",
              "          element.innerHTML = '';\n",
              "          dataTable['output_type'] = 'display_data';\n",
              "          await google.colab.output.renderOutput(dataTable, element);\n",
              "          const docLink = document.createElement('div');\n",
              "          docLink.innerHTML = docLinkHtml;\n",
              "          element.appendChild(docLink);\n",
              "        }\n",
              "      </script>\n",
              "    </div>\n",
              "  </div>\n",
              "  "
            ],
            "text/plain": [
              "                               alcohol  malic_acid       ash  \\\n",
              "alcohol                       1.000000    0.094397  0.211545   \n",
              "malic_acid                    0.094397    1.000000  0.164045   \n",
              "ash                           0.211545    0.164045  1.000000   \n",
              "alcalinity_of_ash            -0.310235    0.288500  0.443367   \n",
              "magnesium                     0.270798   -0.054575  0.286587   \n",
              "total_phenols                 0.289101   -0.335167  0.128980   \n",
              "flavanoids                    0.236815   -0.411007  0.115077   \n",
              "nonflavanoid_phenols         -0.155929    0.292977  0.186230   \n",
              "proanthocyanins               0.136698   -0.220746  0.009652   \n",
              "color_intensity               0.546364    0.248985  0.258887   \n",
              "hue                          -0.071747   -0.561296 -0.074667   \n",
              "od280/od315_of_diluted_wines  0.072343   -0.368710  0.003911   \n",
              "proline                       0.643720   -0.192011  0.223626   \n",
              "target                       -0.328222    0.437776 -0.049643   \n",
              "\n",
              "                              alcalinity_of_ash  magnesium  total_phenols  \\\n",
              "alcohol                               -0.310235   0.270798       0.289101   \n",
              "malic_acid                             0.288500  -0.054575      -0.335167   \n",
              "ash                                    0.443367   0.286587       0.128980   \n",
              "alcalinity_of_ash                      1.000000  -0.083333      -0.321113   \n",
              "magnesium                             -0.083333   1.000000       0.214401   \n",
              "total_phenols                         -0.321113   0.214401       1.000000   \n",
              "flavanoids                            -0.351370   0.195784       0.864564   \n",
              "nonflavanoid_phenols                   0.361922  -0.256294      -0.449935   \n",
              "proanthocyanins                       -0.197327   0.236441       0.612413   \n",
              "color_intensity                        0.018732   0.199950      -0.055136   \n",
              "hue                                   -0.273955   0.055398       0.433681   \n",
              "od280/od315_of_diluted_wines          -0.276769   0.066004       0.699949   \n",
              "proline                               -0.440597   0.393351       0.498115   \n",
              "target                                 0.517859  -0.209179      -0.719163   \n",
              "\n",
              "                              flavanoids  nonflavanoid_phenols  \\\n",
              "alcohol                         0.236815             -0.155929   \n",
              "malic_acid                     -0.411007              0.292977   \n",
              "ash                             0.115077              0.186230   \n",
              "alcalinity_of_ash              -0.351370              0.361922   \n",
              "magnesium                       0.195784             -0.256294   \n",
              "total_phenols                   0.864564             -0.449935   \n",
              "flavanoids                      1.000000             -0.537900   \n",
              "nonflavanoid_phenols           -0.537900              1.000000   \n",
              "proanthocyanins                 0.652692             -0.365845   \n",
              "color_intensity                -0.172379              0.139057   \n",
              "hue                             0.543479             -0.262640   \n",
              "od280/od315_of_diluted_wines    0.787194             -0.503270   \n",
              "proline                         0.494193             -0.311385   \n",
              "target                         -0.847498              0.489109   \n",
              "\n",
              "                              proanthocyanins  color_intensity       hue  \\\n",
              "alcohol                              0.136698         0.546364 -0.071747   \n",
              "malic_acid                          -0.220746         0.248985 -0.561296   \n",
              "ash                                  0.009652         0.258887 -0.074667   \n",
              "alcalinity_of_ash                   -0.197327         0.018732 -0.273955   \n",
              "magnesium                            0.236441         0.199950  0.055398   \n",
              "total_phenols                        0.612413        -0.055136  0.433681   \n",
              "flavanoids                           0.652692        -0.172379  0.543479   \n",
              "nonflavanoid_phenols                -0.365845         0.139057 -0.262640   \n",
              "proanthocyanins                      1.000000        -0.025250  0.295544   \n",
              "color_intensity                     -0.025250         1.000000 -0.521813   \n",
              "hue                                  0.295544        -0.521813  1.000000   \n",
              "od280/od315_of_diluted_wines         0.519067        -0.428815  0.565468   \n",
              "proline                              0.330417         0.316100  0.236183   \n",
              "target                              -0.499130         0.265668 -0.617369   \n",
              "\n",
              "                              od280/od315_of_diluted_wines   proline    target  \n",
              "alcohol                                           0.072343  0.643720 -0.328222  \n",
              "malic_acid                                       -0.368710 -0.192011  0.437776  \n",
              "ash                                               0.003911  0.223626 -0.049643  \n",
              "alcalinity_of_ash                                -0.276769 -0.440597  0.517859  \n",
              "magnesium                                         0.066004  0.393351 -0.209179  \n",
              "total_phenols                                     0.699949  0.498115 -0.719163  \n",
              "flavanoids                                        0.787194  0.494193 -0.847498  \n",
              "nonflavanoid_phenols                             -0.503270 -0.311385  0.489109  \n",
              "proanthocyanins                                   0.519067  0.330417 -0.499130  \n",
              "color_intensity                                  -0.428815  0.316100  0.265668  \n",
              "hue                                               0.565468  0.236183 -0.617369  \n",
              "od280/od315_of_diluted_wines                      1.000000  0.312761 -0.788230  \n",
              "proline                                           0.312761  1.000000 -0.633717  \n",
              "target                                           -0.788230 -0.633717  1.000000  "
            ]
          },
          "metadata": {},
          "execution_count": 77
        }
      ]
    },
    {
      "cell_type": "code",
      "source": [
        "import seaborn as sns\n",
        "\n",
        "plt.figure(figsize = (15,10))\n",
        "\n",
        "sns.set(font_scale=1.4)\n",
        "\n",
        "wine_X_corr = np.round(wine_X_corr, 2) # округляем значения\n",
        "wine_X_corr[np.abs(wine_X_corr) < 0.1] = 0 # если модуль значения меньше 0.1 - ставим что корреляции нет (0)\n",
        "\n",
        "sns.heatmap(wine_X_corr, annot=True, linewidths=.7,  cmap='GnBu')\n",
        "\n",
        "plt.title('Correlation matrix')\n",
        "plt.show()"
      ],
      "metadata": {
        "colab": {
          "base_uri": "https://localhost:8080/",
          "height": 1000
        },
        "id": "2OBjyVSIquox",
        "outputId": "f1ea0d5a-ad25-42b7-9f8d-ded45812c0f7"
      },
      "execution_count": 79,
      "outputs": [
        {
          "output_type": "display_data",
          "data": {
            "text/plain": [
              "<Figure size 1080x720 with 2 Axes>"
            ],
            "image/svg+xml": "<?xml version=\"1.0\" encoding=\"utf-8\" standalone=\"no\"?>\n<!DOCTYPE svg PUBLIC \"-//W3C//DTD SVG 1.1//EN\"\n  \"http://www.w3.org/Graphics/SVG/1.1/DTD/svg11.dtd\">\n<!-- Created with matplotlib (https://matplotlib.org/) -->\n<svg height=\"824.099125pt\" version=\"1.1\" viewBox=\"0 0 1057.057531 824.099125\" width=\"1057.057531pt\" xmlns=\"http://www.w3.org/2000/svg\" xmlns:xlink=\"http://www.w3.org/1999/xlink\">\n <defs>\n  <style type=\"text/css\">\n*{stroke-linecap:butt;stroke-linejoin:round;}\n  </style>\n </defs>\n <g id=\"figure_1\">\n  <g id=\"patch_1\">\n   <path d=\"M 0 824.099125 \nL 1057.057531 824.099125 \nL 1057.057531 0 \nL 0 0 \nz\n\" style=\"fill:none;\"/>\n  </g>\n  <g id=\"axes_1\">\n   <g id=\"patch_2\">\n    <path d=\"M 254.53375 569.565375 \nL 924.13375 569.565375 \nL 924.13375 25.965375 \nL 254.53375 25.965375 \nz\n\" style=\"fill:#eaeaf2;\"/>\n   </g>\n   <g id=\"matplotlib.axis_1\">\n    <g id=\"xtick_1\">\n     <g id=\"text_1\">\n      <!-- alcohol -->\n      <defs>\n       <path d=\"M 34.28125 27.484375 \nQ 23.390625 27.484375 19.1875 25 \nQ 14.984375 22.515625 14.984375 16.5 \nQ 14.984375 11.71875 18.140625 8.90625 \nQ 21.296875 6.109375 26.703125 6.109375 \nQ 34.1875 6.109375 38.703125 11.40625 \nQ 43.21875 16.703125 43.21875 25.484375 \nL 43.21875 27.484375 \nz\nM 52.203125 31.203125 \nL 52.203125 0 \nL 43.21875 0 \nL 43.21875 8.296875 \nQ 40.140625 3.328125 35.546875 0.953125 \nQ 30.953125 -1.421875 24.3125 -1.421875 \nQ 15.921875 -1.421875 10.953125 3.296875 \nQ 6 8.015625 6 15.921875 \nQ 6 25.140625 12.171875 29.828125 \nQ 18.359375 34.515625 30.609375 34.515625 \nL 43.21875 34.515625 \nL 43.21875 35.40625 \nQ 43.21875 41.609375 39.140625 45 \nQ 35.0625 48.390625 27.6875 48.390625 \nQ 23 48.390625 18.546875 47.265625 \nQ 14.109375 46.140625 10.015625 43.890625 \nL 10.015625 52.203125 \nQ 14.9375 54.109375 19.578125 55.046875 \nQ 24.21875 56 28.609375 56 \nQ 40.484375 56 46.34375 49.84375 \nQ 52.203125 43.703125 52.203125 31.203125 \nz\n\" id=\"DejaVuSans-97\"/>\n       <path d=\"M 9.421875 75.984375 \nL 18.40625 75.984375 \nL 18.40625 0 \nL 9.421875 0 \nz\n\" id=\"DejaVuSans-108\"/>\n       <path d=\"M 48.78125 52.59375 \nL 48.78125 44.1875 \nQ 44.96875 46.296875 41.140625 47.34375 \nQ 37.3125 48.390625 33.40625 48.390625 \nQ 24.65625 48.390625 19.8125 42.84375 \nQ 14.984375 37.3125 14.984375 27.296875 \nQ 14.984375 17.28125 19.8125 11.734375 \nQ 24.65625 6.203125 33.40625 6.203125 \nQ 37.3125 6.203125 41.140625 7.25 \nQ 44.96875 8.296875 48.78125 10.40625 \nL 48.78125 2.09375 \nQ 45.015625 0.34375 40.984375 -0.53125 \nQ 36.96875 -1.421875 32.421875 -1.421875 \nQ 20.0625 -1.421875 12.78125 6.34375 \nQ 5.515625 14.109375 5.515625 27.296875 \nQ 5.515625 40.671875 12.859375 48.328125 \nQ 20.21875 56 33.015625 56 \nQ 37.15625 56 41.109375 55.140625 \nQ 45.0625 54.296875 48.78125 52.59375 \nz\n\" id=\"DejaVuSans-99\"/>\n       <path d=\"M 30.609375 48.390625 \nQ 23.390625 48.390625 19.1875 42.75 \nQ 14.984375 37.109375 14.984375 27.296875 \nQ 14.984375 17.484375 19.15625 11.84375 \nQ 23.34375 6.203125 30.609375 6.203125 \nQ 37.796875 6.203125 41.984375 11.859375 \nQ 46.1875 17.53125 46.1875 27.296875 \nQ 46.1875 37.015625 41.984375 42.703125 \nQ 37.796875 48.390625 30.609375 48.390625 \nz\nM 30.609375 56 \nQ 42.328125 56 49.015625 48.375 \nQ 55.71875 40.765625 55.71875 27.296875 \nQ 55.71875 13.875 49.015625 6.21875 \nQ 42.328125 -1.421875 30.609375 -1.421875 \nQ 18.84375 -1.421875 12.171875 6.21875 \nQ 5.515625 13.875 5.515625 27.296875 \nQ 5.515625 40.765625 12.171875 48.375 \nQ 18.84375 56 30.609375 56 \nz\n\" id=\"DejaVuSans-111\"/>\n       <path d=\"M 54.890625 33.015625 \nL 54.890625 0 \nL 45.90625 0 \nL 45.90625 32.71875 \nQ 45.90625 40.484375 42.875 44.328125 \nQ 39.84375 48.1875 33.796875 48.1875 \nQ 26.515625 48.1875 22.3125 43.546875 \nQ 18.109375 38.921875 18.109375 30.90625 \nL 18.109375 0 \nL 9.078125 0 \nL 9.078125 75.984375 \nL 18.109375 75.984375 \nL 18.109375 46.1875 \nQ 21.34375 51.125 25.703125 53.5625 \nQ 30.078125 56 35.796875 56 \nQ 45.21875 56 50.046875 50.171875 \nQ 54.890625 44.34375 54.890625 33.015625 \nz\n\" id=\"DejaVuSans-104\"/>\n      </defs>\n      <g style=\"fill:#262626;\" transform=\"translate(282.697473 634.132406)rotate(-90)scale(0.154 -0.154)\">\n       <use xlink:href=\"#DejaVuSans-97\"/>\n       <use x=\"61.279297\" xlink:href=\"#DejaVuSans-108\"/>\n       <use x=\"89.0625\" xlink:href=\"#DejaVuSans-99\"/>\n       <use x=\"144.042969\" xlink:href=\"#DejaVuSans-111\"/>\n       <use x=\"205.224609\" xlink:href=\"#DejaVuSans-104\"/>\n       <use x=\"268.603516\" xlink:href=\"#DejaVuSans-111\"/>\n       <use x=\"329.785156\" xlink:href=\"#DejaVuSans-108\"/>\n      </g>\n     </g>\n    </g>\n    <g id=\"xtick_2\">\n     <g id=\"text_2\">\n      <!-- malic_acid -->\n      <defs>\n       <path d=\"M 52 44.1875 \nQ 55.375 50.25 60.0625 53.125 \nQ 64.75 56 71.09375 56 \nQ 79.640625 56 84.28125 50.015625 \nQ 88.921875 44.046875 88.921875 33.015625 \nL 88.921875 0 \nL 79.890625 0 \nL 79.890625 32.71875 \nQ 79.890625 40.578125 77.09375 44.375 \nQ 74.3125 48.1875 68.609375 48.1875 \nQ 61.625 48.1875 57.5625 43.546875 \nQ 53.515625 38.921875 53.515625 30.90625 \nL 53.515625 0 \nL 44.484375 0 \nL 44.484375 32.71875 \nQ 44.484375 40.625 41.703125 44.40625 \nQ 38.921875 48.1875 33.109375 48.1875 \nQ 26.21875 48.1875 22.15625 43.53125 \nQ 18.109375 38.875 18.109375 30.90625 \nL 18.109375 0 \nL 9.078125 0 \nL 9.078125 54.6875 \nL 18.109375 54.6875 \nL 18.109375 46.1875 \nQ 21.1875 51.21875 25.484375 53.609375 \nQ 29.78125 56 35.6875 56 \nQ 41.65625 56 45.828125 52.96875 \nQ 50 49.953125 52 44.1875 \nz\n\" id=\"DejaVuSans-109\"/>\n       <path d=\"M 9.421875 54.6875 \nL 18.40625 54.6875 \nL 18.40625 0 \nL 9.421875 0 \nz\nM 9.421875 75.984375 \nL 18.40625 75.984375 \nL 18.40625 64.59375 \nL 9.421875 64.59375 \nz\n\" id=\"DejaVuSans-105\"/>\n       <path d=\"M 50.984375 -16.609375 \nL 50.984375 -23.578125 \nL -0.984375 -23.578125 \nL -0.984375 -16.609375 \nz\n\" id=\"DejaVuSans-95\"/>\n       <path d=\"M 45.40625 46.390625 \nL 45.40625 75.984375 \nL 54.390625 75.984375 \nL 54.390625 0 \nL 45.40625 0 \nL 45.40625 8.203125 \nQ 42.578125 3.328125 38.25 0.953125 \nQ 33.9375 -1.421875 27.875 -1.421875 \nQ 17.96875 -1.421875 11.734375 6.484375 \nQ 5.515625 14.40625 5.515625 27.296875 \nQ 5.515625 40.1875 11.734375 48.09375 \nQ 17.96875 56 27.875 56 \nQ 33.9375 56 38.25 53.625 \nQ 42.578125 51.265625 45.40625 46.390625 \nz\nM 14.796875 27.296875 \nQ 14.796875 17.390625 18.875 11.75 \nQ 22.953125 6.109375 30.078125 6.109375 \nQ 37.203125 6.109375 41.296875 11.75 \nQ 45.40625 17.390625 45.40625 27.296875 \nQ 45.40625 37.203125 41.296875 42.84375 \nQ 37.203125 48.484375 30.078125 48.484375 \nQ 22.953125 48.484375 18.875 42.84375 \nQ 14.796875 37.203125 14.796875 27.296875 \nz\n\" id=\"DejaVuSans-100\"/>\n      </defs>\n      <g style=\"fill:#262626;\" transform=\"translate(330.311888 660.187281)rotate(-90)scale(0.154 -0.154)\">\n       <use xlink:href=\"#DejaVuSans-109\"/>\n       <use x=\"97.412109\" xlink:href=\"#DejaVuSans-97\"/>\n       <use x=\"158.691406\" xlink:href=\"#DejaVuSans-108\"/>\n       <use x=\"186.474609\" xlink:href=\"#DejaVuSans-105\"/>\n       <use x=\"214.257812\" xlink:href=\"#DejaVuSans-99\"/>\n       <use x=\"269.238281\" xlink:href=\"#DejaVuSans-95\"/>\n       <use x=\"319.238281\" xlink:href=\"#DejaVuSans-97\"/>\n       <use x=\"380.517578\" xlink:href=\"#DejaVuSans-99\"/>\n       <use x=\"435.498047\" xlink:href=\"#DejaVuSans-105\"/>\n       <use x=\"463.28125\" xlink:href=\"#DejaVuSans-100\"/>\n      </g>\n     </g>\n    </g>\n    <g id=\"xtick_3\">\n     <g id=\"text_3\">\n      <!-- ash -->\n      <defs>\n       <path d=\"M 44.28125 53.078125 \nL 44.28125 44.578125 \nQ 40.484375 46.53125 36.375 47.5 \nQ 32.28125 48.484375 27.875 48.484375 \nQ 21.1875 48.484375 17.84375 46.4375 \nQ 14.5 44.390625 14.5 40.28125 \nQ 14.5 37.15625 16.890625 35.375 \nQ 19.28125 33.59375 26.515625 31.984375 \nL 29.59375 31.296875 \nQ 39.15625 29.25 43.1875 25.515625 \nQ 47.21875 21.78125 47.21875 15.09375 \nQ 47.21875 7.46875 41.1875 3.015625 \nQ 35.15625 -1.421875 24.609375 -1.421875 \nQ 20.21875 -1.421875 15.453125 -0.5625 \nQ 10.6875 0.296875 5.421875 2 \nL 5.421875 11.28125 \nQ 10.40625 8.6875 15.234375 7.390625 \nQ 20.0625 6.109375 24.8125 6.109375 \nQ 31.15625 6.109375 34.5625 8.28125 \nQ 37.984375 10.453125 37.984375 14.40625 \nQ 37.984375 18.0625 35.515625 20.015625 \nQ 33.0625 21.96875 24.703125 23.78125 \nL 21.578125 24.515625 \nQ 13.234375 26.265625 9.515625 29.90625 \nQ 5.8125 33.546875 5.8125 39.890625 \nQ 5.8125 47.609375 11.28125 51.796875 \nQ 16.75 56 26.8125 56 \nQ 31.78125 56 36.171875 55.265625 \nQ 40.578125 54.546875 44.28125 53.078125 \nz\n\" id=\"DejaVuSans-115\"/>\n      </defs>\n      <g style=\"fill:#262626;\" transform=\"translate(378.354616 606.284875)rotate(-90)scale(0.154 -0.154)\">\n       <use xlink:href=\"#DejaVuSans-97\"/>\n       <use x=\"61.279297\" xlink:href=\"#DejaVuSans-115\"/>\n       <use x=\"113.378906\" xlink:href=\"#DejaVuSans-104\"/>\n      </g>\n     </g>\n    </g>\n    <g id=\"xtick_4\">\n     <g id=\"text_4\">\n      <!-- alcalinity_of_ash -->\n      <defs>\n       <path d=\"M 54.890625 33.015625 \nL 54.890625 0 \nL 45.90625 0 \nL 45.90625 32.71875 \nQ 45.90625 40.484375 42.875 44.328125 \nQ 39.84375 48.1875 33.796875 48.1875 \nQ 26.515625 48.1875 22.3125 43.546875 \nQ 18.109375 38.921875 18.109375 30.90625 \nL 18.109375 0 \nL 9.078125 0 \nL 9.078125 54.6875 \nL 18.109375 54.6875 \nL 18.109375 46.1875 \nQ 21.34375 51.125 25.703125 53.5625 \nQ 30.078125 56 35.796875 56 \nQ 45.21875 56 50.046875 50.171875 \nQ 54.890625 44.34375 54.890625 33.015625 \nz\n\" id=\"DejaVuSans-110\"/>\n       <path d=\"M 18.3125 70.21875 \nL 18.3125 54.6875 \nL 36.8125 54.6875 \nL 36.8125 47.703125 \nL 18.3125 47.703125 \nL 18.3125 18.015625 \nQ 18.3125 11.328125 20.140625 9.421875 \nQ 21.96875 7.515625 27.59375 7.515625 \nL 36.8125 7.515625 \nL 36.8125 0 \nL 27.59375 0 \nQ 17.1875 0 13.234375 3.875 \nQ 9.28125 7.765625 9.28125 18.015625 \nL 9.28125 47.703125 \nL 2.6875 47.703125 \nL 2.6875 54.6875 \nL 9.28125 54.6875 \nL 9.28125 70.21875 \nz\n\" id=\"DejaVuSans-116\"/>\n       <path d=\"M 32.171875 -5.078125 \nQ 28.375 -14.84375 24.75 -17.8125 \nQ 21.140625 -20.796875 15.09375 -20.796875 \nL 7.90625 -20.796875 \nL 7.90625 -13.28125 \nL 13.1875 -13.28125 \nQ 16.890625 -13.28125 18.9375 -11.515625 \nQ 21 -9.765625 23.484375 -3.21875 \nL 25.09375 0.875 \nL 2.984375 54.6875 \nL 12.5 54.6875 \nL 29.59375 11.921875 \nL 46.6875 54.6875 \nL 56.203125 54.6875 \nz\n\" id=\"DejaVuSans-121\"/>\n       <path d=\"M 37.109375 75.984375 \nL 37.109375 68.5 \nL 28.515625 68.5 \nQ 23.6875 68.5 21.796875 66.546875 \nQ 19.921875 64.59375 19.921875 59.515625 \nL 19.921875 54.6875 \nL 34.71875 54.6875 \nL 34.71875 47.703125 \nL 19.921875 47.703125 \nL 19.921875 0 \nL 10.890625 0 \nL 10.890625 47.703125 \nL 2.296875 47.703125 \nL 2.296875 54.6875 \nL 10.890625 54.6875 \nL 10.890625 58.5 \nQ 10.890625 67.625 15.140625 71.796875 \nQ 19.390625 75.984375 28.609375 75.984375 \nz\n\" id=\"DejaVuSans-102\"/>\n      </defs>\n      <g style=\"fill:#262626;\" transform=\"translate(425.969031 705.896406)rotate(-90)scale(0.154 -0.154)\">\n       <use xlink:href=\"#DejaVuSans-97\"/>\n       <use x=\"61.279297\" xlink:href=\"#DejaVuSans-108\"/>\n       <use x=\"89.0625\" xlink:href=\"#DejaVuSans-99\"/>\n       <use x=\"144.042969\" xlink:href=\"#DejaVuSans-97\"/>\n       <use x=\"205.322266\" xlink:href=\"#DejaVuSans-108\"/>\n       <use x=\"233.105469\" xlink:href=\"#DejaVuSans-105\"/>\n       <use x=\"260.888672\" xlink:href=\"#DejaVuSans-110\"/>\n       <use x=\"324.267578\" xlink:href=\"#DejaVuSans-105\"/>\n       <use x=\"352.050781\" xlink:href=\"#DejaVuSans-116\"/>\n       <use x=\"391.259766\" xlink:href=\"#DejaVuSans-121\"/>\n       <use x=\"450.439453\" xlink:href=\"#DejaVuSans-95\"/>\n       <use x=\"500.439453\" xlink:href=\"#DejaVuSans-111\"/>\n       <use x=\"561.621094\" xlink:href=\"#DejaVuSans-102\"/>\n       <use x=\"596.826172\" xlink:href=\"#DejaVuSans-95\"/>\n       <use x=\"646.826172\" xlink:href=\"#DejaVuSans-97\"/>\n       <use x=\"708.105469\" xlink:href=\"#DejaVuSans-115\"/>\n       <use x=\"760.205078\" xlink:href=\"#DejaVuSans-104\"/>\n      </g>\n     </g>\n    </g>\n    <g id=\"xtick_5\">\n     <g id=\"text_5\">\n      <!-- magnesium -->\n      <defs>\n       <path d=\"M 45.40625 27.984375 \nQ 45.40625 37.75 41.375 43.109375 \nQ 37.359375 48.484375 30.078125 48.484375 \nQ 22.859375 48.484375 18.828125 43.109375 \nQ 14.796875 37.75 14.796875 27.984375 \nQ 14.796875 18.265625 18.828125 12.890625 \nQ 22.859375 7.515625 30.078125 7.515625 \nQ 37.359375 7.515625 41.375 12.890625 \nQ 45.40625 18.265625 45.40625 27.984375 \nz\nM 54.390625 6.78125 \nQ 54.390625 -7.171875 48.1875 -13.984375 \nQ 42 -20.796875 29.203125 -20.796875 \nQ 24.46875 -20.796875 20.265625 -20.09375 \nQ 16.0625 -19.390625 12.109375 -17.921875 \nL 12.109375 -9.1875 \nQ 16.0625 -11.328125 19.921875 -12.34375 \nQ 23.78125 -13.375 27.78125 -13.375 \nQ 36.625 -13.375 41.015625 -8.765625 \nQ 45.40625 -4.15625 45.40625 5.171875 \nL 45.40625 9.625 \nQ 42.625 4.78125 38.28125 2.390625 \nQ 33.9375 0 27.875 0 \nQ 17.828125 0 11.671875 7.65625 \nQ 5.515625 15.328125 5.515625 27.984375 \nQ 5.515625 40.671875 11.671875 48.328125 \nQ 17.828125 56 27.875 56 \nQ 33.9375 56 38.28125 53.609375 \nQ 42.625 51.21875 45.40625 46.390625 \nL 45.40625 54.6875 \nL 54.390625 54.6875 \nz\n\" id=\"DejaVuSans-103\"/>\n       <path d=\"M 56.203125 29.59375 \nL 56.203125 25.203125 \nL 14.890625 25.203125 \nQ 15.484375 15.921875 20.484375 11.0625 \nQ 25.484375 6.203125 34.421875 6.203125 \nQ 39.59375 6.203125 44.453125 7.46875 \nQ 49.3125 8.734375 54.109375 11.28125 \nL 54.109375 2.78125 \nQ 49.265625 0.734375 44.1875 -0.34375 \nQ 39.109375 -1.421875 33.890625 -1.421875 \nQ 20.796875 -1.421875 13.15625 6.1875 \nQ 5.515625 13.8125 5.515625 26.8125 \nQ 5.515625 40.234375 12.765625 48.109375 \nQ 20.015625 56 32.328125 56 \nQ 43.359375 56 49.78125 48.890625 \nQ 56.203125 41.796875 56.203125 29.59375 \nz\nM 47.21875 32.234375 \nQ 47.125 39.59375 43.09375 43.984375 \nQ 39.0625 48.390625 32.421875 48.390625 \nQ 24.90625 48.390625 20.390625 44.140625 \nQ 15.875 39.890625 15.1875 32.171875 \nz\n\" id=\"DejaVuSans-101\"/>\n       <path d=\"M 8.5 21.578125 \nL 8.5 54.6875 \nL 17.484375 54.6875 \nL 17.484375 21.921875 \nQ 17.484375 14.15625 20.5 10.265625 \nQ 23.53125 6.390625 29.59375 6.390625 \nQ 36.859375 6.390625 41.078125 11.03125 \nQ 45.3125 15.671875 45.3125 23.6875 \nL 45.3125 54.6875 \nL 54.296875 54.6875 \nL 54.296875 0 \nL 45.3125 0 \nL 45.3125 8.40625 \nQ 42.046875 3.421875 37.71875 1 \nQ 33.40625 -1.421875 27.6875 -1.421875 \nQ 18.265625 -1.421875 13.375 4.4375 \nQ 8.5 10.296875 8.5 21.578125 \nz\nM 31.109375 56 \nz\n\" id=\"DejaVuSans-117\"/>\n      </defs>\n      <g style=\"fill:#262626;\" transform=\"translate(474.011759 669.576469)rotate(-90)scale(0.154 -0.154)\">\n       <use xlink:href=\"#DejaVuSans-109\"/>\n       <use x=\"97.412109\" xlink:href=\"#DejaVuSans-97\"/>\n       <use x=\"158.691406\" xlink:href=\"#DejaVuSans-103\"/>\n       <use x=\"222.167969\" xlink:href=\"#DejaVuSans-110\"/>\n       <use x=\"285.546875\" xlink:href=\"#DejaVuSans-101\"/>\n       <use x=\"347.070312\" xlink:href=\"#DejaVuSans-115\"/>\n       <use x=\"399.169922\" xlink:href=\"#DejaVuSans-105\"/>\n       <use x=\"426.953125\" xlink:href=\"#DejaVuSans-117\"/>\n       <use x=\"490.332031\" xlink:href=\"#DejaVuSans-109\"/>\n      </g>\n     </g>\n    </g>\n    <g id=\"xtick_6\">\n     <g id=\"text_6\">\n      <!-- total_phenols -->\n      <defs>\n       <path d=\"M 18.109375 8.203125 \nL 18.109375 -20.796875 \nL 9.078125 -20.796875 \nL 9.078125 54.6875 \nL 18.109375 54.6875 \nL 18.109375 46.390625 \nQ 20.953125 51.265625 25.265625 53.625 \nQ 29.59375 56 35.59375 56 \nQ 45.5625 56 51.78125 48.09375 \nQ 58.015625 40.1875 58.015625 27.296875 \nQ 58.015625 14.40625 51.78125 6.484375 \nQ 45.5625 -1.421875 35.59375 -1.421875 \nQ 29.59375 -1.421875 25.265625 0.953125 \nQ 20.953125 3.328125 18.109375 8.203125 \nz\nM 48.6875 27.296875 \nQ 48.6875 37.203125 44.609375 42.84375 \nQ 40.53125 48.484375 33.40625 48.484375 \nQ 26.265625 48.484375 22.1875 42.84375 \nQ 18.109375 37.203125 18.109375 27.296875 \nQ 18.109375 17.390625 22.1875 11.75 \nQ 26.265625 6.109375 33.40625 6.109375 \nQ 40.53125 6.109375 44.609375 11.75 \nQ 48.6875 17.390625 48.6875 27.296875 \nz\n\" id=\"DejaVuSans-112\"/>\n      </defs>\n      <g style=\"fill:#262626;\" transform=\"translate(521.626174 682.473969)rotate(-90)scale(0.154 -0.154)\">\n       <use xlink:href=\"#DejaVuSans-116\"/>\n       <use x=\"39.208984\" xlink:href=\"#DejaVuSans-111\"/>\n       <use x=\"100.390625\" xlink:href=\"#DejaVuSans-116\"/>\n       <use x=\"139.599609\" xlink:href=\"#DejaVuSans-97\"/>\n       <use x=\"200.878906\" xlink:href=\"#DejaVuSans-108\"/>\n       <use x=\"228.662109\" xlink:href=\"#DejaVuSans-95\"/>\n       <use x=\"278.662109\" xlink:href=\"#DejaVuSans-112\"/>\n       <use x=\"342.138672\" xlink:href=\"#DejaVuSans-104\"/>\n       <use x=\"405.517578\" xlink:href=\"#DejaVuSans-101\"/>\n       <use x=\"467.041016\" xlink:href=\"#DejaVuSans-110\"/>\n       <use x=\"530.419922\" xlink:href=\"#DejaVuSans-111\"/>\n       <use x=\"591.601562\" xlink:href=\"#DejaVuSans-108\"/>\n       <use x=\"619.384766\" xlink:href=\"#DejaVuSans-115\"/>\n      </g>\n     </g>\n    </g>\n    <g id=\"xtick_7\">\n     <g id=\"text_7\">\n      <!-- flavanoids -->\n      <defs>\n       <path d=\"M 2.984375 54.6875 \nL 12.5 54.6875 \nL 29.59375 8.796875 \nL 46.6875 54.6875 \nL 56.203125 54.6875 \nL 35.6875 0 \nL 23.484375 0 \nz\n\" id=\"DejaVuSans-118\"/>\n      </defs>\n      <g style=\"fill:#262626;\" transform=\"translate(569.668902 658.014437)rotate(-90)scale(0.154 -0.154)\">\n       <use xlink:href=\"#DejaVuSans-102\"/>\n       <use x=\"35.205078\" xlink:href=\"#DejaVuSans-108\"/>\n       <use x=\"62.988281\" xlink:href=\"#DejaVuSans-97\"/>\n       <use x=\"124.267578\" xlink:href=\"#DejaVuSans-118\"/>\n       <use x=\"183.447266\" xlink:href=\"#DejaVuSans-97\"/>\n       <use x=\"244.726562\" xlink:href=\"#DejaVuSans-110\"/>\n       <use x=\"308.105469\" xlink:href=\"#DejaVuSans-111\"/>\n       <use x=\"369.287109\" xlink:href=\"#DejaVuSans-105\"/>\n       <use x=\"397.070312\" xlink:href=\"#DejaVuSans-100\"/>\n       <use x=\"460.546875\" xlink:href=\"#DejaVuSans-115\"/>\n      </g>\n     </g>\n    </g>\n    <g id=\"xtick_8\">\n     <g id=\"text_8\">\n      <!-- nonflavanoid_phenols -->\n      <g style=\"fill:#262626;\" transform=\"translate(617.283317 747.129906)rotate(-90)scale(0.154 -0.154)\">\n       <use xlink:href=\"#DejaVuSans-110\"/>\n       <use x=\"63.378906\" xlink:href=\"#DejaVuSans-111\"/>\n       <use x=\"124.560547\" xlink:href=\"#DejaVuSans-110\"/>\n       <use x=\"187.939453\" xlink:href=\"#DejaVuSans-102\"/>\n       <use x=\"223.144531\" xlink:href=\"#DejaVuSans-108\"/>\n       <use x=\"250.927734\" xlink:href=\"#DejaVuSans-97\"/>\n       <use x=\"312.207031\" xlink:href=\"#DejaVuSans-118\"/>\n       <use x=\"371.386719\" xlink:href=\"#DejaVuSans-97\"/>\n       <use x=\"432.666016\" xlink:href=\"#DejaVuSans-110\"/>\n       <use x=\"496.044922\" xlink:href=\"#DejaVuSans-111\"/>\n       <use x=\"557.226562\" xlink:href=\"#DejaVuSans-105\"/>\n       <use x=\"585.009766\" xlink:href=\"#DejaVuSans-100\"/>\n       <use x=\"648.486328\" xlink:href=\"#DejaVuSans-95\"/>\n       <use x=\"698.486328\" xlink:href=\"#DejaVuSans-112\"/>\n       <use x=\"761.962891\" xlink:href=\"#DejaVuSans-104\"/>\n       <use x=\"825.341797\" xlink:href=\"#DejaVuSans-101\"/>\n       <use x=\"886.865234\" xlink:href=\"#DejaVuSans-110\"/>\n       <use x=\"950.244141\" xlink:href=\"#DejaVuSans-111\"/>\n       <use x=\"1011.425781\" xlink:href=\"#DejaVuSans-108\"/>\n       <use x=\"1039.208984\" xlink:href=\"#DejaVuSans-115\"/>\n      </g>\n     </g>\n    </g>\n    <g id=\"xtick_9\">\n     <g id=\"text_9\">\n      <!-- proanthocyanins -->\n      <defs>\n       <path d=\"M 41.109375 46.296875 \nQ 39.59375 47.171875 37.8125 47.578125 \nQ 36.03125 48 33.890625 48 \nQ 26.265625 48 22.1875 43.046875 \nQ 18.109375 38.09375 18.109375 28.8125 \nL 18.109375 0 \nL 9.078125 0 \nL 9.078125 54.6875 \nL 18.109375 54.6875 \nL 18.109375 46.1875 \nQ 20.953125 51.171875 25.484375 53.578125 \nQ 30.03125 56 36.53125 56 \nQ 37.453125 56 38.578125 55.875 \nQ 39.703125 55.765625 41.0625 55.515625 \nz\n\" id=\"DejaVuSans-114\"/>\n      </defs>\n      <g style=\"fill:#262626;\" transform=\"translate(665.326045 707.506187)rotate(-90)scale(0.154 -0.154)\">\n       <use xlink:href=\"#DejaVuSans-112\"/>\n       <use x=\"63.476562\" xlink:href=\"#DejaVuSans-114\"/>\n       <use x=\"102.339844\" xlink:href=\"#DejaVuSans-111\"/>\n       <use x=\"163.521484\" xlink:href=\"#DejaVuSans-97\"/>\n       <use x=\"224.800781\" xlink:href=\"#DejaVuSans-110\"/>\n       <use x=\"288.179688\" xlink:href=\"#DejaVuSans-116\"/>\n       <use x=\"327.388672\" xlink:href=\"#DejaVuSans-104\"/>\n       <use x=\"390.767578\" xlink:href=\"#DejaVuSans-111\"/>\n       <use x=\"451.949219\" xlink:href=\"#DejaVuSans-99\"/>\n       <use x=\"506.929688\" xlink:href=\"#DejaVuSans-121\"/>\n       <use x=\"566.109375\" xlink:href=\"#DejaVuSans-97\"/>\n       <use x=\"627.388672\" xlink:href=\"#DejaVuSans-110\"/>\n       <use x=\"690.767578\" xlink:href=\"#DejaVuSans-105\"/>\n       <use x=\"718.550781\" xlink:href=\"#DejaVuSans-110\"/>\n       <use x=\"781.929688\" xlink:href=\"#DejaVuSans-115\"/>\n      </g>\n     </g>\n    </g>\n    <g id=\"xtick_10\">\n     <g id=\"text_10\">\n      <!-- color_intensity -->\n      <g style=\"fill:#262626;\" transform=\"translate(712.94046 691.451687)rotate(-90)scale(0.154 -0.154)\">\n       <use xlink:href=\"#DejaVuSans-99\"/>\n       <use x=\"54.980469\" xlink:href=\"#DejaVuSans-111\"/>\n       <use x=\"116.162109\" xlink:href=\"#DejaVuSans-108\"/>\n       <use x=\"143.945312\" xlink:href=\"#DejaVuSans-111\"/>\n       <use x=\"205.126953\" xlink:href=\"#DejaVuSans-114\"/>\n       <use x=\"246.240234\" xlink:href=\"#DejaVuSans-95\"/>\n       <use x=\"296.240234\" xlink:href=\"#DejaVuSans-105\"/>\n       <use x=\"324.023438\" xlink:href=\"#DejaVuSans-110\"/>\n       <use x=\"387.402344\" xlink:href=\"#DejaVuSans-116\"/>\n       <use x=\"426.611328\" xlink:href=\"#DejaVuSans-101\"/>\n       <use x=\"488.134766\" xlink:href=\"#DejaVuSans-110\"/>\n       <use x=\"551.513672\" xlink:href=\"#DejaVuSans-115\"/>\n       <use x=\"603.613281\" xlink:href=\"#DejaVuSans-105\"/>\n       <use x=\"631.396484\" xlink:href=\"#DejaVuSans-116\"/>\n       <use x=\"670.605469\" xlink:href=\"#DejaVuSans-121\"/>\n      </g>\n     </g>\n    </g>\n    <g id=\"xtick_11\">\n     <g id=\"text_11\">\n      <!-- hue -->\n      <g style=\"fill:#262626;\" transform=\"translate(760.983188 608.060687)rotate(-90)scale(0.154 -0.154)\">\n       <use xlink:href=\"#DejaVuSans-104\"/>\n       <use x=\"63.378906\" xlink:href=\"#DejaVuSans-117\"/>\n       <use x=\"126.757812\" xlink:href=\"#DejaVuSans-101\"/>\n      </g>\n     </g>\n    </g>\n    <g id=\"xtick_12\">\n     <g id=\"text_12\">\n      <!-- od280/od315_of_diluted_wines -->\n      <defs>\n       <path d=\"M 19.1875 8.296875 \nL 53.609375 8.296875 \nL 53.609375 0 \nL 7.328125 0 \nL 7.328125 8.296875 \nQ 12.9375 14.109375 22.625 23.890625 \nQ 32.328125 33.6875 34.8125 36.53125 \nQ 39.546875 41.84375 41.421875 45.53125 \nQ 43.3125 49.21875 43.3125 52.78125 \nQ 43.3125 58.59375 39.234375 62.25 \nQ 35.15625 65.921875 28.609375 65.921875 \nQ 23.96875 65.921875 18.8125 64.3125 \nQ 13.671875 62.703125 7.8125 59.421875 \nL 7.8125 69.390625 \nQ 13.765625 71.78125 18.9375 73 \nQ 24.125 74.21875 28.421875 74.21875 \nQ 39.75 74.21875 46.484375 68.546875 \nQ 53.21875 62.890625 53.21875 53.421875 \nQ 53.21875 48.921875 51.53125 44.890625 \nQ 49.859375 40.875 45.40625 35.40625 \nQ 44.1875 33.984375 37.640625 27.21875 \nQ 31.109375 20.453125 19.1875 8.296875 \nz\n\" id=\"DejaVuSans-50\"/>\n       <path d=\"M 31.78125 34.625 \nQ 24.75 34.625 20.71875 30.859375 \nQ 16.703125 27.09375 16.703125 20.515625 \nQ 16.703125 13.921875 20.71875 10.15625 \nQ 24.75 6.390625 31.78125 6.390625 \nQ 38.8125 6.390625 42.859375 10.171875 \nQ 46.921875 13.96875 46.921875 20.515625 \nQ 46.921875 27.09375 42.890625 30.859375 \nQ 38.875 34.625 31.78125 34.625 \nz\nM 21.921875 38.8125 \nQ 15.578125 40.375 12.03125 44.71875 \nQ 8.5 49.078125 8.5 55.328125 \nQ 8.5 64.0625 14.71875 69.140625 \nQ 20.953125 74.21875 31.78125 74.21875 \nQ 42.671875 74.21875 48.875 69.140625 \nQ 55.078125 64.0625 55.078125 55.328125 \nQ 55.078125 49.078125 51.53125 44.71875 \nQ 48 40.375 41.703125 38.8125 \nQ 48.828125 37.15625 52.796875 32.3125 \nQ 56.78125 27.484375 56.78125 20.515625 \nQ 56.78125 9.90625 50.3125 4.234375 \nQ 43.84375 -1.421875 31.78125 -1.421875 \nQ 19.734375 -1.421875 13.25 4.234375 \nQ 6.78125 9.90625 6.78125 20.515625 \nQ 6.78125 27.484375 10.78125 32.3125 \nQ 14.796875 37.15625 21.921875 38.8125 \nz\nM 18.3125 54.390625 \nQ 18.3125 48.734375 21.84375 45.5625 \nQ 25.390625 42.390625 31.78125 42.390625 \nQ 38.140625 42.390625 41.71875 45.5625 \nQ 45.3125 48.734375 45.3125 54.390625 \nQ 45.3125 60.0625 41.71875 63.234375 \nQ 38.140625 66.40625 31.78125 66.40625 \nQ 25.390625 66.40625 21.84375 63.234375 \nQ 18.3125 60.0625 18.3125 54.390625 \nz\n\" id=\"DejaVuSans-56\"/>\n       <path d=\"M 31.78125 66.40625 \nQ 24.171875 66.40625 20.328125 58.90625 \nQ 16.5 51.421875 16.5 36.375 \nQ 16.5 21.390625 20.328125 13.890625 \nQ 24.171875 6.390625 31.78125 6.390625 \nQ 39.453125 6.390625 43.28125 13.890625 \nQ 47.125 21.390625 47.125 36.375 \nQ 47.125 51.421875 43.28125 58.90625 \nQ 39.453125 66.40625 31.78125 66.40625 \nz\nM 31.78125 74.21875 \nQ 44.046875 74.21875 50.515625 64.515625 \nQ 56.984375 54.828125 56.984375 36.375 \nQ 56.984375 17.96875 50.515625 8.265625 \nQ 44.046875 -1.421875 31.78125 -1.421875 \nQ 19.53125 -1.421875 13.0625 8.265625 \nQ 6.59375 17.96875 6.59375 36.375 \nQ 6.59375 54.828125 13.0625 64.515625 \nQ 19.53125 74.21875 31.78125 74.21875 \nz\n\" id=\"DejaVuSans-48\"/>\n       <path d=\"M 25.390625 72.90625 \nL 33.6875 72.90625 \nL 8.296875 -9.28125 \nL 0 -9.28125 \nz\n\" id=\"DejaVuSans-47\"/>\n       <path d=\"M 40.578125 39.3125 \nQ 47.65625 37.796875 51.625 33 \nQ 55.609375 28.21875 55.609375 21.1875 \nQ 55.609375 10.40625 48.1875 4.484375 \nQ 40.765625 -1.421875 27.09375 -1.421875 \nQ 22.515625 -1.421875 17.65625 -0.515625 \nQ 12.796875 0.390625 7.625 2.203125 \nL 7.625 11.71875 \nQ 11.71875 9.328125 16.59375 8.109375 \nQ 21.484375 6.890625 26.8125 6.890625 \nQ 36.078125 6.890625 40.9375 10.546875 \nQ 45.796875 14.203125 45.796875 21.1875 \nQ 45.796875 27.640625 41.28125 31.265625 \nQ 36.765625 34.90625 28.71875 34.90625 \nL 20.21875 34.90625 \nL 20.21875 43.015625 \nL 29.109375 43.015625 \nQ 36.375 43.015625 40.234375 45.921875 \nQ 44.09375 48.828125 44.09375 54.296875 \nQ 44.09375 59.90625 40.109375 62.90625 \nQ 36.140625 65.921875 28.71875 65.921875 \nQ 24.65625 65.921875 20.015625 65.03125 \nQ 15.375 64.15625 9.8125 62.3125 \nL 9.8125 71.09375 \nQ 15.4375 72.65625 20.34375 73.4375 \nQ 25.25 74.21875 29.59375 74.21875 \nQ 40.828125 74.21875 47.359375 69.109375 \nQ 53.90625 64.015625 53.90625 55.328125 \nQ 53.90625 49.265625 50.4375 45.09375 \nQ 46.96875 40.921875 40.578125 39.3125 \nz\n\" id=\"DejaVuSans-51\"/>\n       <path d=\"M 12.40625 8.296875 \nL 28.515625 8.296875 \nL 28.515625 63.921875 \nL 10.984375 60.40625 \nL 10.984375 69.390625 \nL 28.421875 72.90625 \nL 38.28125 72.90625 \nL 38.28125 8.296875 \nL 54.390625 8.296875 \nL 54.390625 0 \nL 12.40625 0 \nz\n\" id=\"DejaVuSans-49\"/>\n       <path d=\"M 10.796875 72.90625 \nL 49.515625 72.90625 \nL 49.515625 64.59375 \nL 19.828125 64.59375 \nL 19.828125 46.734375 \nQ 21.96875 47.46875 24.109375 47.828125 \nQ 26.265625 48.1875 28.421875 48.1875 \nQ 40.625 48.1875 47.75 41.5 \nQ 54.890625 34.8125 54.890625 23.390625 \nQ 54.890625 11.625 47.5625 5.09375 \nQ 40.234375 -1.421875 26.90625 -1.421875 \nQ 22.3125 -1.421875 17.546875 -0.640625 \nQ 12.796875 0.140625 7.71875 1.703125 \nL 7.71875 11.625 \nQ 12.109375 9.234375 16.796875 8.0625 \nQ 21.484375 6.890625 26.703125 6.890625 \nQ 35.15625 6.890625 40.078125 11.328125 \nQ 45.015625 15.765625 45.015625 23.390625 \nQ 45.015625 31 40.078125 35.4375 \nQ 35.15625 39.890625 26.703125 39.890625 \nQ 22.75 39.890625 18.8125 39.015625 \nQ 14.890625 38.140625 10.796875 36.28125 \nz\n\" id=\"DejaVuSans-53\"/>\n       <path d=\"M 4.203125 54.6875 \nL 13.1875 54.6875 \nL 24.421875 12.015625 \nL 35.59375 54.6875 \nL 46.1875 54.6875 \nL 57.421875 12.015625 \nL 68.609375 54.6875 \nL 77.59375 54.6875 \nL 63.28125 0 \nL 52.6875 0 \nL 40.921875 44.828125 \nL 29.109375 0 \nL 18.5 0 \nz\n\" id=\"DejaVuSans-119\"/>\n      </defs>\n      <g style=\"fill:#262626;\" transform=\"translate(808.597603 816.899125)rotate(-90)scale(0.154 -0.154)\">\n       <use xlink:href=\"#DejaVuSans-111\"/>\n       <use x=\"61.181641\" xlink:href=\"#DejaVuSans-100\"/>\n       <use x=\"124.658203\" xlink:href=\"#DejaVuSans-50\"/>\n       <use x=\"188.28125\" xlink:href=\"#DejaVuSans-56\"/>\n       <use x=\"251.904297\" xlink:href=\"#DejaVuSans-48\"/>\n       <use x=\"315.527344\" xlink:href=\"#DejaVuSans-47\"/>\n       <use x=\"349.21875\" xlink:href=\"#DejaVuSans-111\"/>\n       <use x=\"410.400391\" xlink:href=\"#DejaVuSans-100\"/>\n       <use x=\"473.876953\" xlink:href=\"#DejaVuSans-51\"/>\n       <use x=\"537.5\" xlink:href=\"#DejaVuSans-49\"/>\n       <use x=\"601.123047\" xlink:href=\"#DejaVuSans-53\"/>\n       <use x=\"664.746094\" xlink:href=\"#DejaVuSans-95\"/>\n       <use x=\"714.746094\" xlink:href=\"#DejaVuSans-111\"/>\n       <use x=\"775.927734\" xlink:href=\"#DejaVuSans-102\"/>\n       <use x=\"811.132812\" xlink:href=\"#DejaVuSans-95\"/>\n       <use x=\"861.132812\" xlink:href=\"#DejaVuSans-100\"/>\n       <use x=\"924.609375\" xlink:href=\"#DejaVuSans-105\"/>\n       <use x=\"952.392578\" xlink:href=\"#DejaVuSans-108\"/>\n       <use x=\"980.175781\" xlink:href=\"#DejaVuSans-117\"/>\n       <use x=\"1043.554688\" xlink:href=\"#DejaVuSans-116\"/>\n       <use x=\"1082.763672\" xlink:href=\"#DejaVuSans-101\"/>\n       <use x=\"1144.287109\" xlink:href=\"#DejaVuSans-100\"/>\n       <use x=\"1207.763672\" xlink:href=\"#DejaVuSans-95\"/>\n       <use x=\"1257.763672\" xlink:href=\"#DejaVuSans-119\"/>\n       <use x=\"1339.550781\" xlink:href=\"#DejaVuSans-105\"/>\n       <use x=\"1367.333984\" xlink:href=\"#DejaVuSans-110\"/>\n       <use x=\"1430.712891\" xlink:href=\"#DejaVuSans-101\"/>\n       <use x=\"1492.236328\" xlink:href=\"#DejaVuSans-115\"/>\n      </g>\n     </g>\n    </g>\n    <g id=\"xtick_13\">\n     <g id=\"text_13\">\n      <!-- proline -->\n      <g style=\"fill:#262626;\" transform=\"translate(856.64033 632.041375)rotate(-90)scale(0.154 -0.154)\">\n       <use xlink:href=\"#DejaVuSans-112\"/>\n       <use x=\"63.476562\" xlink:href=\"#DejaVuSans-114\"/>\n       <use x=\"102.339844\" xlink:href=\"#DejaVuSans-111\"/>\n       <use x=\"163.521484\" xlink:href=\"#DejaVuSans-108\"/>\n       <use x=\"191.304688\" xlink:href=\"#DejaVuSans-105\"/>\n       <use x=\"219.087891\" xlink:href=\"#DejaVuSans-110\"/>\n       <use x=\"282.466797\" xlink:href=\"#DejaVuSans-101\"/>\n      </g>\n     </g>\n    </g>\n    <g id=\"xtick_14\">\n     <g id=\"text_14\">\n      <!-- target -->\n      <g style=\"fill:#262626;\" transform=\"translate(904.468902 625.891)rotate(-90)scale(0.154 -0.154)\">\n       <use xlink:href=\"#DejaVuSans-116\"/>\n       <use x=\"39.208984\" xlink:href=\"#DejaVuSans-97\"/>\n       <use x=\"100.488281\" xlink:href=\"#DejaVuSans-114\"/>\n       <use x=\"139.851562\" xlink:href=\"#DejaVuSans-103\"/>\n       <use x=\"203.328125\" xlink:href=\"#DejaVuSans-101\"/>\n       <use x=\"264.851562\" xlink:href=\"#DejaVuSans-116\"/>\n      </g>\n     </g>\n    </g>\n   </g>\n   <g id=\"matplotlib.axis_2\">\n    <g id=\"ytick_1\">\n     <g id=\"text_15\">\n      <!-- alcohol -->\n      <g style=\"fill:#262626;\" transform=\"translate(189.966719 49.629098)scale(0.154 -0.154)\">\n       <use xlink:href=\"#DejaVuSans-97\"/>\n       <use x=\"61.279297\" xlink:href=\"#DejaVuSans-108\"/>\n       <use x=\"89.0625\" xlink:href=\"#DejaVuSans-99\"/>\n       <use x=\"144.042969\" xlink:href=\"#DejaVuSans-111\"/>\n       <use x=\"205.224609\" xlink:href=\"#DejaVuSans-104\"/>\n       <use x=\"268.603516\" xlink:href=\"#DejaVuSans-111\"/>\n       <use x=\"329.785156\" xlink:href=\"#DejaVuSans-108\"/>\n      </g>\n     </g>\n    </g>\n    <g id=\"ytick_2\">\n     <g id=\"text_16\">\n      <!-- malic_acid -->\n      <g style=\"fill:#262626;\" transform=\"translate(163.911844 88.243513)scale(0.154 -0.154)\">\n       <use xlink:href=\"#DejaVuSans-109\"/>\n       <use x=\"97.412109\" xlink:href=\"#DejaVuSans-97\"/>\n       <use x=\"158.691406\" xlink:href=\"#DejaVuSans-108\"/>\n       <use x=\"186.474609\" xlink:href=\"#DejaVuSans-105\"/>\n       <use x=\"214.257812\" xlink:href=\"#DejaVuSans-99\"/>\n       <use x=\"269.238281\" xlink:href=\"#DejaVuSans-95\"/>\n       <use x=\"319.238281\" xlink:href=\"#DejaVuSans-97\"/>\n       <use x=\"380.517578\" xlink:href=\"#DejaVuSans-99\"/>\n       <use x=\"435.498047\" xlink:href=\"#DejaVuSans-105\"/>\n       <use x=\"463.28125\" xlink:href=\"#DejaVuSans-100\"/>\n      </g>\n     </g>\n    </g>\n    <g id=\"ytick_3\">\n     <g id=\"text_17\">\n      <!-- ash -->\n      <g style=\"fill:#262626;\" transform=\"translate(217.81425 127.286241)scale(0.154 -0.154)\">\n       <use xlink:href=\"#DejaVuSans-97\"/>\n       <use x=\"61.279297\" xlink:href=\"#DejaVuSans-115\"/>\n       <use x=\"113.378906\" xlink:href=\"#DejaVuSans-104\"/>\n      </g>\n     </g>\n    </g>\n    <g id=\"ytick_4\">\n     <g id=\"text_18\">\n      <!-- alcalinity_of_ash -->\n      <g style=\"fill:#262626;\" transform=\"translate(118.202719 165.900656)scale(0.154 -0.154)\">\n       <use xlink:href=\"#DejaVuSans-97\"/>\n       <use x=\"61.279297\" xlink:href=\"#DejaVuSans-108\"/>\n       <use x=\"89.0625\" xlink:href=\"#DejaVuSans-99\"/>\n       <use x=\"144.042969\" xlink:href=\"#DejaVuSans-97\"/>\n       <use x=\"205.322266\" xlink:href=\"#DejaVuSans-108\"/>\n       <use x=\"233.105469\" xlink:href=\"#DejaVuSans-105\"/>\n       <use x=\"260.888672\" xlink:href=\"#DejaVuSans-110\"/>\n       <use x=\"324.267578\" xlink:href=\"#DejaVuSans-105\"/>\n       <use x=\"352.050781\" xlink:href=\"#DejaVuSans-116\"/>\n       <use x=\"391.259766\" xlink:href=\"#DejaVuSans-121\"/>\n       <use x=\"450.439453\" xlink:href=\"#DejaVuSans-95\"/>\n       <use x=\"500.439453\" xlink:href=\"#DejaVuSans-111\"/>\n       <use x=\"561.621094\" xlink:href=\"#DejaVuSans-102\"/>\n       <use x=\"596.826172\" xlink:href=\"#DejaVuSans-95\"/>\n       <use x=\"646.826172\" xlink:href=\"#DejaVuSans-97\"/>\n       <use x=\"708.105469\" xlink:href=\"#DejaVuSans-115\"/>\n       <use x=\"760.205078\" xlink:href=\"#DejaVuSans-104\"/>\n      </g>\n     </g>\n    </g>\n    <g id=\"ytick_5\">\n     <g id=\"text_19\">\n      <!-- magnesium -->\n      <g style=\"fill:#262626;\" transform=\"translate(154.522656 204.943384)scale(0.154 -0.154)\">\n       <use xlink:href=\"#DejaVuSans-109\"/>\n       <use x=\"97.412109\" xlink:href=\"#DejaVuSans-97\"/>\n       <use x=\"158.691406\" xlink:href=\"#DejaVuSans-103\"/>\n       <use x=\"222.167969\" xlink:href=\"#DejaVuSans-110\"/>\n       <use x=\"285.546875\" xlink:href=\"#DejaVuSans-101\"/>\n       <use x=\"347.070312\" xlink:href=\"#DejaVuSans-115\"/>\n       <use x=\"399.169922\" xlink:href=\"#DejaVuSans-105\"/>\n       <use x=\"426.953125\" xlink:href=\"#DejaVuSans-117\"/>\n       <use x=\"490.332031\" xlink:href=\"#DejaVuSans-109\"/>\n      </g>\n     </g>\n    </g>\n    <g id=\"ytick_6\">\n     <g id=\"text_20\">\n      <!-- total_phenols -->\n      <g style=\"fill:#262626;\" transform=\"translate(141.625156 243.557799)scale(0.154 -0.154)\">\n       <use xlink:href=\"#DejaVuSans-116\"/>\n       <use x=\"39.208984\" xlink:href=\"#DejaVuSans-111\"/>\n       <use x=\"100.390625\" xlink:href=\"#DejaVuSans-116\"/>\n       <use x=\"139.599609\" xlink:href=\"#DejaVuSans-97\"/>\n       <use x=\"200.878906\" xlink:href=\"#DejaVuSans-108\"/>\n       <use x=\"228.662109\" xlink:href=\"#DejaVuSans-95\"/>\n       <use x=\"278.662109\" xlink:href=\"#DejaVuSans-112\"/>\n       <use x=\"342.138672\" xlink:href=\"#DejaVuSans-104\"/>\n       <use x=\"405.517578\" xlink:href=\"#DejaVuSans-101\"/>\n       <use x=\"467.041016\" xlink:href=\"#DejaVuSans-110\"/>\n       <use x=\"530.419922\" xlink:href=\"#DejaVuSans-111\"/>\n       <use x=\"591.601562\" xlink:href=\"#DejaVuSans-108\"/>\n       <use x=\"619.384766\" xlink:href=\"#DejaVuSans-115\"/>\n      </g>\n     </g>\n    </g>\n    <g id=\"ytick_7\">\n     <g id=\"text_21\">\n      <!-- flavanoids -->\n      <g style=\"fill:#262626;\" transform=\"translate(166.084688 282.600527)scale(0.154 -0.154)\">\n       <use xlink:href=\"#DejaVuSans-102\"/>\n       <use x=\"35.205078\" xlink:href=\"#DejaVuSans-108\"/>\n       <use x=\"62.988281\" xlink:href=\"#DejaVuSans-97\"/>\n       <use x=\"124.267578\" xlink:href=\"#DejaVuSans-118\"/>\n       <use x=\"183.447266\" xlink:href=\"#DejaVuSans-97\"/>\n       <use x=\"244.726562\" xlink:href=\"#DejaVuSans-110\"/>\n       <use x=\"308.105469\" xlink:href=\"#DejaVuSans-111\"/>\n       <use x=\"369.287109\" xlink:href=\"#DejaVuSans-105\"/>\n       <use x=\"397.070312\" xlink:href=\"#DejaVuSans-100\"/>\n       <use x=\"460.546875\" xlink:href=\"#DejaVuSans-115\"/>\n      </g>\n     </g>\n    </g>\n    <g id=\"ytick_8\">\n     <g id=\"text_22\">\n      <!-- nonflavanoid_phenols -->\n      <g style=\"fill:#262626;\" transform=\"translate(76.969219 321.214942)scale(0.154 -0.154)\">\n       <use xlink:href=\"#DejaVuSans-110\"/>\n       <use x=\"63.378906\" xlink:href=\"#DejaVuSans-111\"/>\n       <use x=\"124.560547\" xlink:href=\"#DejaVuSans-110\"/>\n       <use x=\"187.939453\" xlink:href=\"#DejaVuSans-102\"/>\n       <use x=\"223.144531\" xlink:href=\"#DejaVuSans-108\"/>\n       <use x=\"250.927734\" xlink:href=\"#DejaVuSans-97\"/>\n       <use x=\"312.207031\" xlink:href=\"#DejaVuSans-118\"/>\n       <use x=\"371.386719\" xlink:href=\"#DejaVuSans-97\"/>\n       <use x=\"432.666016\" xlink:href=\"#DejaVuSans-110\"/>\n       <use x=\"496.044922\" xlink:href=\"#DejaVuSans-111\"/>\n       <use x=\"557.226562\" xlink:href=\"#DejaVuSans-105\"/>\n       <use x=\"585.009766\" xlink:href=\"#DejaVuSans-100\"/>\n       <use x=\"648.486328\" xlink:href=\"#DejaVuSans-95\"/>\n       <use x=\"698.486328\" xlink:href=\"#DejaVuSans-112\"/>\n       <use x=\"761.962891\" xlink:href=\"#DejaVuSans-104\"/>\n       <use x=\"825.341797\" xlink:href=\"#DejaVuSans-101\"/>\n       <use x=\"886.865234\" xlink:href=\"#DejaVuSans-110\"/>\n       <use x=\"950.244141\" xlink:href=\"#DejaVuSans-111\"/>\n       <use x=\"1011.425781\" xlink:href=\"#DejaVuSans-108\"/>\n       <use x=\"1039.208984\" xlink:href=\"#DejaVuSans-115\"/>\n      </g>\n     </g>\n    </g>\n    <g id=\"ytick_9\">\n     <g id=\"text_23\">\n      <!-- proanthocyanins -->\n      <g style=\"fill:#262626;\" transform=\"translate(116.592938 360.25767)scale(0.154 -0.154)\">\n       <use xlink:href=\"#DejaVuSans-112\"/>\n       <use x=\"63.476562\" xlink:href=\"#DejaVuSans-114\"/>\n       <use x=\"102.339844\" xlink:href=\"#DejaVuSans-111\"/>\n       <use x=\"163.521484\" xlink:href=\"#DejaVuSans-97\"/>\n       <use x=\"224.800781\" xlink:href=\"#DejaVuSans-110\"/>\n       <use x=\"288.179688\" xlink:href=\"#DejaVuSans-116\"/>\n       <use x=\"327.388672\" xlink:href=\"#DejaVuSans-104\"/>\n       <use x=\"390.767578\" xlink:href=\"#DejaVuSans-111\"/>\n       <use x=\"451.949219\" xlink:href=\"#DejaVuSans-99\"/>\n       <use x=\"506.929688\" xlink:href=\"#DejaVuSans-121\"/>\n       <use x=\"566.109375\" xlink:href=\"#DejaVuSans-97\"/>\n       <use x=\"627.388672\" xlink:href=\"#DejaVuSans-110\"/>\n       <use x=\"690.767578\" xlink:href=\"#DejaVuSans-105\"/>\n       <use x=\"718.550781\" xlink:href=\"#DejaVuSans-110\"/>\n       <use x=\"781.929688\" xlink:href=\"#DejaVuSans-115\"/>\n      </g>\n     </g>\n    </g>\n    <g id=\"ytick_10\">\n     <g id=\"text_24\">\n      <!-- color_intensity -->\n      <g style=\"fill:#262626;\" transform=\"translate(132.647437 398.872085)scale(0.154 -0.154)\">\n       <use xlink:href=\"#DejaVuSans-99\"/>\n       <use x=\"54.980469\" xlink:href=\"#DejaVuSans-111\"/>\n       <use x=\"116.162109\" xlink:href=\"#DejaVuSans-108\"/>\n       <use x=\"143.945312\" xlink:href=\"#DejaVuSans-111\"/>\n       <use x=\"205.126953\" xlink:href=\"#DejaVuSans-114\"/>\n       <use x=\"246.240234\" xlink:href=\"#DejaVuSans-95\"/>\n       <use x=\"296.240234\" xlink:href=\"#DejaVuSans-105\"/>\n       <use x=\"324.023438\" xlink:href=\"#DejaVuSans-110\"/>\n       <use x=\"387.402344\" xlink:href=\"#DejaVuSans-116\"/>\n       <use x=\"426.611328\" xlink:href=\"#DejaVuSans-101\"/>\n       <use x=\"488.134766\" xlink:href=\"#DejaVuSans-110\"/>\n       <use x=\"551.513672\" xlink:href=\"#DejaVuSans-115\"/>\n       <use x=\"603.613281\" xlink:href=\"#DejaVuSans-105\"/>\n       <use x=\"631.396484\" xlink:href=\"#DejaVuSans-116\"/>\n       <use x=\"670.605469\" xlink:href=\"#DejaVuSans-121\"/>\n      </g>\n     </g>\n    </g>\n    <g id=\"ytick_11\">\n     <g id=\"text_25\">\n      <!-- hue -->\n      <g style=\"fill:#262626;\" transform=\"translate(216.038437 437.914812)scale(0.154 -0.154)\">\n       <use xlink:href=\"#DejaVuSans-104\"/>\n       <use x=\"63.378906\" xlink:href=\"#DejaVuSans-117\"/>\n       <use x=\"126.757812\" xlink:href=\"#DejaVuSans-101\"/>\n      </g>\n     </g>\n    </g>\n    <g id=\"ytick_12\">\n     <g id=\"text_26\">\n      <!-- od280/od315_of_diluted_wines -->\n      <g style=\"fill:#262626;\" transform=\"translate(7.2 476.529228)scale(0.154 -0.154)\">\n       <use xlink:href=\"#DejaVuSans-111\"/>\n       <use x=\"61.181641\" xlink:href=\"#DejaVuSans-100\"/>\n       <use x=\"124.658203\" xlink:href=\"#DejaVuSans-50\"/>\n       <use x=\"188.28125\" xlink:href=\"#DejaVuSans-56\"/>\n       <use x=\"251.904297\" xlink:href=\"#DejaVuSans-48\"/>\n       <use x=\"315.527344\" xlink:href=\"#DejaVuSans-47\"/>\n       <use x=\"349.21875\" xlink:href=\"#DejaVuSans-111\"/>\n       <use x=\"410.400391\" xlink:href=\"#DejaVuSans-100\"/>\n       <use x=\"473.876953\" xlink:href=\"#DejaVuSans-51\"/>\n       <use x=\"537.5\" xlink:href=\"#DejaVuSans-49\"/>\n       <use x=\"601.123047\" xlink:href=\"#DejaVuSans-53\"/>\n       <use x=\"664.746094\" xlink:href=\"#DejaVuSans-95\"/>\n       <use x=\"714.746094\" xlink:href=\"#DejaVuSans-111\"/>\n       <use x=\"775.927734\" xlink:href=\"#DejaVuSans-102\"/>\n       <use x=\"811.132812\" xlink:href=\"#DejaVuSans-95\"/>\n       <use x=\"861.132812\" xlink:href=\"#DejaVuSans-100\"/>\n       <use x=\"924.609375\" xlink:href=\"#DejaVuSans-105\"/>\n       <use x=\"952.392578\" xlink:href=\"#DejaVuSans-108\"/>\n       <use x=\"980.175781\" xlink:href=\"#DejaVuSans-117\"/>\n       <use x=\"1043.554688\" xlink:href=\"#DejaVuSans-116\"/>\n       <use x=\"1082.763672\" xlink:href=\"#DejaVuSans-101\"/>\n       <use x=\"1144.287109\" xlink:href=\"#DejaVuSans-100\"/>\n       <use x=\"1207.763672\" xlink:href=\"#DejaVuSans-95\"/>\n       <use x=\"1257.763672\" xlink:href=\"#DejaVuSans-119\"/>\n       <use x=\"1339.550781\" xlink:href=\"#DejaVuSans-105\"/>\n       <use x=\"1367.333984\" xlink:href=\"#DejaVuSans-110\"/>\n       <use x=\"1430.712891\" xlink:href=\"#DejaVuSans-101\"/>\n       <use x=\"1492.236328\" xlink:href=\"#DejaVuSans-115\"/>\n      </g>\n     </g>\n    </g>\n    <g id=\"ytick_13\">\n     <g id=\"text_27\">\n      <!-- proline -->\n      <g style=\"fill:#262626;\" transform=\"translate(192.05775 515.571955)scale(0.154 -0.154)\">\n       <use xlink:href=\"#DejaVuSans-112\"/>\n       <use x=\"63.476562\" xlink:href=\"#DejaVuSans-114\"/>\n       <use x=\"102.339844\" xlink:href=\"#DejaVuSans-111\"/>\n       <use x=\"163.521484\" xlink:href=\"#DejaVuSans-108\"/>\n       <use x=\"191.304688\" xlink:href=\"#DejaVuSans-105\"/>\n       <use x=\"219.087891\" xlink:href=\"#DejaVuSans-110\"/>\n       <use x=\"282.466797\" xlink:href=\"#DejaVuSans-101\"/>\n      </g>\n     </g>\n    </g>\n    <g id=\"ytick_14\">\n     <g id=\"text_28\">\n      <!-- target -->\n      <g style=\"fill:#262626;\" transform=\"translate(198.208125 554.400527)scale(0.154 -0.154)\">\n       <use xlink:href=\"#DejaVuSans-116\"/>\n       <use x=\"39.208984\" xlink:href=\"#DejaVuSans-97\"/>\n       <use x=\"100.488281\" xlink:href=\"#DejaVuSans-114\"/>\n       <use x=\"139.851562\" xlink:href=\"#DejaVuSans-103\"/>\n       <use x=\"203.328125\" xlink:href=\"#DejaVuSans-101\"/>\n       <use x=\"264.851562\" xlink:href=\"#DejaVuSans-116\"/>\n      </g>\n     </g>\n    </g>\n   </g>\n   <g id=\"QuadMesh_1\">\n    <path clip-path=\"url(#pb9e1264415)\" d=\"M 254.53375 25.965375 \nL 302.362321 25.965375 \nL 302.362321 64.793946 \nL 254.53375 64.793946 \nL 254.53375 25.965375 \n\" style=\"fill:#084081;stroke:#ffffff;stroke-width:0.7;\"/>\n    <path clip-path=\"url(#pb9e1264415)\" d=\"M 302.362321 25.965375 \nL 350.190893 25.965375 \nL 350.190893 64.793946 \nL 302.362321 64.793946 \nL 302.362321 25.965375 \n\" style=\"fill:#8ad2bf;stroke:#ffffff;stroke-width:0.7;\"/>\n    <path clip-path=\"url(#pb9e1264415)\" d=\"M 350.190893 25.965375 \nL 398.019464 25.965375 \nL 398.019464 64.793946 \nL 350.190893 64.793946 \nL 350.190893 25.965375 \n\" style=\"fill:#61bdcd;stroke:#ffffff;stroke-width:0.7;\"/>\n    <path clip-path=\"url(#pb9e1264415)\" d=\"M 398.019464 25.965375 \nL 445.848036 25.965375 \nL 445.848036 64.793946 \nL 398.019464 64.793946 \nL 398.019464 25.965375 \n\" style=\"fill:#c0e6c0;stroke:#ffffff;stroke-width:0.7;\"/>\n    <path clip-path=\"url(#pb9e1264415)\" d=\"M 445.848036 25.965375 \nL 493.676607 25.965375 \nL 493.676607 64.793946 \nL 445.848036 64.793946 \nL 445.848036 25.965375 \n\" style=\"fill:#56b7d0;stroke:#ffffff;stroke-width:0.7;\"/>\n    <path clip-path=\"url(#pb9e1264415)\" d=\"M 493.676607 25.965375 \nL 541.505179 25.965375 \nL 541.505179 64.793946 \nL 493.676607 64.793946 \nL 493.676607 25.965375 \n\" style=\"fill:#51b5d2;stroke:#ffffff;stroke-width:0.7;\"/>\n    <path clip-path=\"url(#pb9e1264415)\" d=\"M 541.505179 25.965375 \nL 589.33375 25.965375 \nL 589.33375 64.793946 \nL 541.505179 64.793946 \nL 541.505179 25.965375 \n\" style=\"fill:#5bbacf;stroke:#ffffff;stroke-width:0.7;\"/>\n    <path clip-path=\"url(#pb9e1264415)\" d=\"M 589.33375 25.965375 \nL 637.162321 25.965375 \nL 637.162321 64.793946 \nL 589.33375 64.793946 \nL 589.33375 25.965375 \n\" style=\"fill:#a9ddb5;stroke:#ffffff;stroke-width:0.7;\"/>\n    <path clip-path=\"url(#pb9e1264415)\" d=\"M 637.162321 25.965375 \nL 684.990893 25.965375 \nL 684.990893 64.793946 \nL 637.162321 64.793946 \nL 637.162321 25.965375 \n\" style=\"fill:#6fc5c8;stroke:#ffffff;stroke-width:0.7;\"/>\n    <path clip-path=\"url(#pb9e1264415)\" d=\"M 684.990893 25.965375 \nL 732.819464 25.965375 \nL 732.819464 64.793946 \nL 684.990893 64.793946 \nL 684.990893 25.965375 \n\" style=\"fill:#298abd;stroke:#ffffff;stroke-width:0.7;\"/>\n    <path clip-path=\"url(#pb9e1264415)\" d=\"M 732.819464 25.965375 \nL 780.648036 25.965375 \nL 780.648036 64.793946 \nL 732.819464 64.793946 \nL 732.819464 25.965375 \n\" style=\"fill:#8ad2bf;stroke:#ffffff;stroke-width:0.7;\"/>\n    <path clip-path=\"url(#pb9e1264415)\" d=\"M 780.648036 25.965375 \nL 828.476607 25.965375 \nL 828.476607 64.793946 \nL 780.648036 64.793946 \nL 780.648036 25.965375 \n\" style=\"fill:#8ad2bf;stroke:#ffffff;stroke-width:0.7;\"/>\n    <path clip-path=\"url(#pb9e1264415)\" d=\"M 828.476607 25.965375 \nL 876.305179 25.965375 \nL 876.305179 64.793946 \nL 828.476607 64.793946 \nL 828.476607 25.965375 \n\" style=\"fill:#1b7bb6;stroke:#ffffff;stroke-width:0.7;\"/>\n    <path clip-path=\"url(#pb9e1264415)\" d=\"M 876.305179 25.965375 \nL 924.13375 25.965375 \nL 924.13375 64.793946 \nL 876.305179 64.793946 \nL 876.305179 25.965375 \n\" style=\"fill:#c4e8c1;stroke:#ffffff;stroke-width:0.7;\"/>\n    <path clip-path=\"url(#pb9e1264415)\" d=\"M 254.53375 64.793946 \nL 302.362321 64.793946 \nL 302.362321 103.622518 \nL 254.53375 103.622518 \nL 254.53375 64.793946 \n\" style=\"fill:#8ad2bf;stroke:#ffffff;stroke-width:0.7;\"/>\n    <path clip-path=\"url(#pb9e1264415)\" d=\"M 302.362321 64.793946 \nL 350.190893 64.793946 \nL 350.190893 103.622518 \nL 302.362321 103.622518 \nL 302.362321 64.793946 \n\" style=\"fill:#084081;stroke:#ffffff;stroke-width:0.7;\"/>\n    <path clip-path=\"url(#pb9e1264415)\" d=\"M 350.190893 64.793946 \nL 398.019464 64.793946 \nL 398.019464 103.622518 \nL 350.190893 103.622518 \nL 350.190893 64.793946 \n\" style=\"fill:#6bc3c9;stroke:#ffffff;stroke-width:0.7;\"/>\n    <path clip-path=\"url(#pb9e1264415)\" d=\"M 398.019464 64.793946 \nL 445.848036 64.793946 \nL 445.848036 103.622518 \nL 398.019464 103.622518 \nL 398.019464 64.793946 \n\" style=\"fill:#51b5d2;stroke:#ffffff;stroke-width:0.7;\"/>\n    <path clip-path=\"url(#pb9e1264415)\" d=\"M 445.848036 64.793946 \nL 493.676607 64.793946 \nL 493.676607 103.622518 \nL 445.848036 103.622518 \nL 445.848036 64.793946 \n\" style=\"fill:#8ad2bf;stroke:#ffffff;stroke-width:0.7;\"/>\n    <path clip-path=\"url(#pb9e1264415)\" d=\"M 493.676607 64.793946 \nL 541.505179 64.793946 \nL 541.505179 103.622518 \nL 493.676607 103.622518 \nL 493.676607 64.793946 \n\" style=\"fill:#c5e8c2;stroke:#ffffff;stroke-width:0.7;\"/>\n    <path clip-path=\"url(#pb9e1264415)\" d=\"M 541.505179 64.793946 \nL 589.33375 64.793946 \nL 589.33375 103.622518 \nL 541.505179 103.622518 \nL 541.505179 64.793946 \n\" style=\"fill:#ceecc8;stroke:#ffffff;stroke-width:0.7;\"/>\n    <path clip-path=\"url(#pb9e1264415)\" d=\"M 589.33375 64.793946 \nL 637.162321 64.793946 \nL 637.162321 103.622518 \nL 589.33375 103.622518 \nL 589.33375 64.793946 \n\" style=\"fill:#51b5d2;stroke:#ffffff;stroke-width:0.7;\"/>\n    <path clip-path=\"url(#pb9e1264415)\" d=\"M 637.162321 64.793946 \nL 684.990893 64.793946 \nL 684.990893 103.622518 \nL 637.162321 103.622518 \nL 637.162321 64.793946 \n\" style=\"fill:#b2e1b9;stroke:#ffffff;stroke-width:0.7;\"/>\n    <path clip-path=\"url(#pb9e1264415)\" d=\"M 684.990893 64.793946 \nL 732.819464 64.793946 \nL 732.819464 103.622518 \nL 684.990893 103.622518 \nL 684.990893 64.793946 \n\" style=\"fill:#58b9d0;stroke:#ffffff;stroke-width:0.7;\"/>\n    <path clip-path=\"url(#pb9e1264415)\" d=\"M 732.819464 64.793946 \nL 780.648036 64.793946 \nL 780.648036 103.622518 \nL 732.819464 103.622518 \nL 732.819464 64.793946 \n\" style=\"fill:#dbf1d5;stroke:#ffffff;stroke-width:0.7;\"/>\n    <path clip-path=\"url(#pb9e1264415)\" d=\"M 780.648036 64.793946 \nL 828.476607 64.793946 \nL 828.476607 103.622518 \nL 780.648036 103.622518 \nL 780.648036 64.793946 \n\" style=\"fill:#c9eac4;stroke:#ffffff;stroke-width:0.7;\"/>\n    <path clip-path=\"url(#pb9e1264415)\" d=\"M 828.476607 64.793946 \nL 876.305179 64.793946 \nL 876.305179 103.622518 \nL 828.476607 103.622518 \nL 828.476607 64.793946 \n\" style=\"fill:#addfb7;stroke:#ffffff;stroke-width:0.7;\"/>\n    <path clip-path=\"url(#pb9e1264415)\" d=\"M 876.305179 64.793946 \nL 924.13375 64.793946 \nL 924.13375 103.622518 \nL 876.305179 103.622518 \nL 876.305179 64.793946 \n\" style=\"fill:#3a9cc7;stroke:#ffffff;stroke-width:0.7;\"/>\n    <path clip-path=\"url(#pb9e1264415)\" d=\"M 254.53375 103.622518 \nL 302.362321 103.622518 \nL 302.362321 142.451089 \nL 254.53375 142.451089 \nL 254.53375 103.622518 \n\" style=\"fill:#61bdcd;stroke:#ffffff;stroke-width:0.7;\"/>\n    <path clip-path=\"url(#pb9e1264415)\" d=\"M 302.362321 103.622518 \nL 350.190893 103.622518 \nL 350.190893 142.451089 \nL 302.362321 142.451089 \nL 302.362321 103.622518 \n\" style=\"fill:#6bc3c9;stroke:#ffffff;stroke-width:0.7;\"/>\n    <path clip-path=\"url(#pb9e1264415)\" d=\"M 350.190893 103.622518 \nL 398.019464 103.622518 \nL 398.019464 142.451089 \nL 350.190893 142.451089 \nL 350.190893 103.622518 \n\" style=\"fill:#084081;stroke:#ffffff;stroke-width:0.7;\"/>\n    <path clip-path=\"url(#pb9e1264415)\" d=\"M 398.019464 103.622518 \nL 445.848036 103.622518 \nL 445.848036 142.451089 \nL 398.019464 142.451089 \nL 398.019464 103.622518 \n\" style=\"fill:#3a9cc7;stroke:#ffffff;stroke-width:0.7;\"/>\n    <path clip-path=\"url(#pb9e1264415)\" d=\"M 445.848036 103.622518 \nL 493.676607 103.622518 \nL 493.676607 142.451089 \nL 445.848036 142.451089 \nL 445.848036 103.622518 \n\" style=\"fill:#51b5d2;stroke:#ffffff;stroke-width:0.7;\"/>\n    <path clip-path=\"url(#pb9e1264415)\" d=\"M 493.676607 103.622518 \nL 541.505179 103.622518 \nL 541.505179 142.451089 \nL 493.676607 142.451089 \nL 493.676607 103.622518 \n\" style=\"fill:#70c6c8;stroke:#ffffff;stroke-width:0.7;\"/>\n    <path clip-path=\"url(#pb9e1264415)\" d=\"M 541.505179 103.622518 \nL 589.33375 103.622518 \nL 589.33375 142.451089 \nL 541.505179 142.451089 \nL 541.505179 103.622518 \n\" style=\"fill:#72c7c7;stroke:#ffffff;stroke-width:0.7;\"/>\n    <path clip-path=\"url(#pb9e1264415)\" d=\"M 589.33375 103.622518 \nL 637.162321 103.622518 \nL 637.162321 142.451089 \nL 589.33375 142.451089 \nL 589.33375 103.622518 \n\" style=\"fill:#65c0cb;stroke:#ffffff;stroke-width:0.7;\"/>\n    <path clip-path=\"url(#pb9e1264415)\" d=\"M 637.162321 103.622518 \nL 684.990893 103.622518 \nL 684.990893 142.451089 \nL 637.162321 142.451089 \nL 637.162321 103.622518 \n\" style=\"fill:#8ad2bf;stroke:#ffffff;stroke-width:0.7;\"/>\n    <path clip-path=\"url(#pb9e1264415)\" d=\"M 684.990893 103.622518 \nL 732.819464 103.622518 \nL 732.819464 142.451089 \nL 684.990893 142.451089 \nL 684.990893 103.622518 \n\" style=\"fill:#57b8d0;stroke:#ffffff;stroke-width:0.7;\"/>\n    <path clip-path=\"url(#pb9e1264415)\" d=\"M 732.819464 103.622518 \nL 780.648036 103.622518 \nL 780.648036 142.451089 \nL 732.819464 142.451089 \nL 732.819464 103.622518 \n\" style=\"fill:#8ad2bf;stroke:#ffffff;stroke-width:0.7;\"/>\n    <path clip-path=\"url(#pb9e1264415)\" d=\"M 780.648036 103.622518 \nL 828.476607 103.622518 \nL 828.476607 142.451089 \nL 780.648036 142.451089 \nL 780.648036 103.622518 \n\" style=\"fill:#8ad2bf;stroke:#ffffff;stroke-width:0.7;\"/>\n    <path clip-path=\"url(#pb9e1264415)\" d=\"M 828.476607 103.622518 \nL 876.305179 103.622518 \nL 876.305179 142.451089 \nL 828.476607 142.451089 \nL 828.476607 103.622518 \n\" style=\"fill:#5ebcce;stroke:#ffffff;stroke-width:0.7;\"/>\n    <path clip-path=\"url(#pb9e1264415)\" d=\"M 876.305179 103.622518 \nL 924.13375 103.622518 \nL 924.13375 142.451089 \nL 876.305179 142.451089 \nL 876.305179 103.622518 \n\" style=\"fill:#8ad2bf;stroke:#ffffff;stroke-width:0.7;\"/>\n    <path clip-path=\"url(#pb9e1264415)\" d=\"M 254.53375 142.451089 \nL 302.362321 142.451089 \nL 302.362321 181.279661 \nL 254.53375 181.279661 \nL 254.53375 142.451089 \n\" style=\"fill:#c0e6c0;stroke:#ffffff;stroke-width:0.7;\"/>\n    <path clip-path=\"url(#pb9e1264415)\" d=\"M 302.362321 142.451089 \nL 350.190893 142.451089 \nL 350.190893 181.279661 \nL 302.362321 181.279661 \nL 302.362321 142.451089 \n\" style=\"fill:#51b5d2;stroke:#ffffff;stroke-width:0.7;\"/>\n    <path clip-path=\"url(#pb9e1264415)\" d=\"M 350.190893 142.451089 \nL 398.019464 142.451089 \nL 398.019464 181.279661 \nL 350.190893 181.279661 \nL 350.190893 142.451089 \n\" style=\"fill:#3a9cc7;stroke:#ffffff;stroke-width:0.7;\"/>\n    <path clip-path=\"url(#pb9e1264415)\" d=\"M 398.019464 142.451089 \nL 445.848036 142.451089 \nL 445.848036 181.279661 \nL 398.019464 181.279661 \nL 398.019464 142.451089 \n\" style=\"fill:#084081;stroke:#ffffff;stroke-width:0.7;\"/>\n    <path clip-path=\"url(#pb9e1264415)\" d=\"M 445.848036 142.451089 \nL 493.676607 142.451089 \nL 493.676607 181.279661 \nL 445.848036 181.279661 \nL 445.848036 142.451089 \n\" style=\"fill:#8ad2bf;stroke:#ffffff;stroke-width:0.7;\"/>\n    <path clip-path=\"url(#pb9e1264415)\" d=\"M 493.676607 142.451089 \nL 541.505179 142.451089 \nL 541.505179 181.279661 \nL 493.676607 181.279661 \nL 493.676607 142.451089 \n\" style=\"fill:#c2e7c0;stroke:#ffffff;stroke-width:0.7;\"/>\n    <path clip-path=\"url(#pb9e1264415)\" d=\"M 541.505179 142.451089 \nL 589.33375 142.451089 \nL 589.33375 181.279661 \nL 541.505179 181.279661 \nL 541.505179 142.451089 \n\" style=\"fill:#c6e9c2;stroke:#ffffff;stroke-width:0.7;\"/>\n    <path clip-path=\"url(#pb9e1264415)\" d=\"M 589.33375 142.451089 \nL 637.162321 142.451089 \nL 637.162321 181.279661 \nL 589.33375 181.279661 \nL 589.33375 142.451089 \n\" style=\"fill:#46aace;stroke:#ffffff;stroke-width:0.7;\"/>\n    <path clip-path=\"url(#pb9e1264415)\" d=\"M 637.162321 142.451089 \nL 684.990893 142.451089 \nL 684.990893 181.279661 \nL 637.162321 181.279661 \nL 637.162321 142.451089 \n\" style=\"fill:#afe0b8;stroke:#ffffff;stroke-width:0.7;\"/>\n    <path clip-path=\"url(#pb9e1264415)\" d=\"M 684.990893 142.451089 \nL 732.819464 142.451089 \nL 732.819464 181.279661 \nL 684.990893 181.279661 \nL 684.990893 142.451089 \n\" style=\"fill:#8ad2bf;stroke:#ffffff;stroke-width:0.7;\"/>\n    <path clip-path=\"url(#pb9e1264415)\" d=\"M 732.819464 142.451089 \nL 780.648036 142.451089 \nL 780.648036 181.279661 \nL 732.819464 181.279661 \nL 732.819464 142.451089 \n\" style=\"fill:#bae4bd;stroke:#ffffff;stroke-width:0.7;\"/>\n    <path clip-path=\"url(#pb9e1264415)\" d=\"M 780.648036 142.451089 \nL 828.476607 142.451089 \nL 828.476607 181.279661 \nL 780.648036 181.279661 \nL 780.648036 142.451089 \n\" style=\"fill:#bce5be;stroke:#ffffff;stroke-width:0.7;\"/>\n    <path clip-path=\"url(#pb9e1264415)\" d=\"M 828.476607 142.451089 \nL 876.305179 142.451089 \nL 876.305179 181.279661 \nL 828.476607 181.279661 \nL 828.476607 142.451089 \n\" style=\"fill:#d1edca;stroke:#ffffff;stroke-width:0.7;\"/>\n    <path clip-path=\"url(#pb9e1264415)\" d=\"M 876.305179 142.451089 \nL 924.13375 142.451089 \nL 924.13375 181.279661 \nL 876.305179 181.279661 \nL 876.305179 142.451089 \n\" style=\"fill:#2d8fbf;stroke:#ffffff;stroke-width:0.7;\"/>\n    <path clip-path=\"url(#pb9e1264415)\" d=\"M 254.53375 181.279661 \nL 302.362321 181.279661 \nL 302.362321 220.108232 \nL 254.53375 220.108232 \nL 254.53375 181.279661 \n\" style=\"fill:#56b7d0;stroke:#ffffff;stroke-width:0.7;\"/>\n    <path clip-path=\"url(#pb9e1264415)\" d=\"M 302.362321 181.279661 \nL 350.190893 181.279661 \nL 350.190893 220.108232 \nL 302.362321 220.108232 \nL 302.362321 181.279661 \n\" style=\"fill:#8ad2bf;stroke:#ffffff;stroke-width:0.7;\"/>\n    <path clip-path=\"url(#pb9e1264415)\" d=\"M 350.190893 181.279661 \nL 398.019464 181.279661 \nL 398.019464 220.108232 \nL 350.190893 220.108232 \nL 350.190893 181.279661 \n\" style=\"fill:#51b5d2;stroke:#ffffff;stroke-width:0.7;\"/>\n    <path clip-path=\"url(#pb9e1264415)\" d=\"M 398.019464 181.279661 \nL 445.848036 181.279661 \nL 445.848036 220.108232 \nL 398.019464 220.108232 \nL 398.019464 181.279661 \n\" style=\"fill:#8ad2bf;stroke:#ffffff;stroke-width:0.7;\"/>\n    <path clip-path=\"url(#pb9e1264415)\" d=\"M 445.848036 181.279661 \nL 493.676607 181.279661 \nL 493.676607 220.108232 \nL 445.848036 220.108232 \nL 445.848036 181.279661 \n\" style=\"fill:#084081;stroke:#ffffff;stroke-width:0.7;\"/>\n    <path clip-path=\"url(#pb9e1264415)\" d=\"M 493.676607 181.279661 \nL 541.505179 181.279661 \nL 541.505179 220.108232 \nL 493.676607 220.108232 \nL 493.676607 181.279661 \n\" style=\"fill:#61bdcd;stroke:#ffffff;stroke-width:0.7;\"/>\n    <path clip-path=\"url(#pb9e1264415)\" d=\"M 541.505179 181.279661 \nL 589.33375 181.279661 \nL 589.33375 220.108232 \nL 541.505179 220.108232 \nL 541.505179 181.279661 \n\" style=\"fill:#62becc;stroke:#ffffff;stroke-width:0.7;\"/>\n    <path clip-path=\"url(#pb9e1264415)\" d=\"M 589.33375 181.279661 \nL 637.162321 181.279661 \nL 637.162321 220.108232 \nL 589.33375 220.108232 \nL 589.33375 181.279661 \n\" style=\"fill:#b9e3bc;stroke:#ffffff;stroke-width:0.7;\"/>\n    <path clip-path=\"url(#pb9e1264415)\" d=\"M 637.162321 181.279661 \nL 684.990893 181.279661 \nL 684.990893 220.108232 \nL 637.162321 220.108232 \nL 637.162321 181.279661 \n\" style=\"fill:#5bbacf;stroke:#ffffff;stroke-width:0.7;\"/>\n    <path clip-path=\"url(#pb9e1264415)\" d=\"M 684.990893 181.279661 \nL 732.819464 181.279661 \nL 732.819464 220.108232 \nL 684.990893 220.108232 \nL 684.990893 181.279661 \n\" style=\"fill:#62becc;stroke:#ffffff;stroke-width:0.7;\"/>\n    <path clip-path=\"url(#pb9e1264415)\" d=\"M 732.819464 181.279661 \nL 780.648036 181.279661 \nL 780.648036 220.108232 \nL 732.819464 220.108232 \nL 732.819464 181.279661 \n\" style=\"fill:#8ad2bf;stroke:#ffffff;stroke-width:0.7;\"/>\n    <path clip-path=\"url(#pb9e1264415)\" d=\"M 780.648036 181.279661 \nL 828.476607 181.279661 \nL 828.476607 220.108232 \nL 780.648036 220.108232 \nL 780.648036 181.279661 \n\" style=\"fill:#8ad2bf;stroke:#ffffff;stroke-width:0.7;\"/>\n    <path clip-path=\"url(#pb9e1264415)\" d=\"M 828.476607 181.279661 \nL 876.305179 181.279661 \nL 876.305179 220.108232 \nL 828.476607 220.108232 \nL 828.476607 181.279661 \n\" style=\"fill:#41a5cb;stroke:#ffffff;stroke-width:0.7;\"/>\n    <path clip-path=\"url(#pb9e1264415)\" d=\"M 876.305179 181.279661 \nL 924.13375 181.279661 \nL 924.13375 220.108232 \nL 876.305179 220.108232 \nL 876.305179 181.279661 \n\" style=\"fill:#b1e0b9;stroke:#ffffff;stroke-width:0.7;\"/>\n    <path clip-path=\"url(#pb9e1264415)\" d=\"M 254.53375 220.108232 \nL 302.362321 220.108232 \nL 302.362321 258.936804 \nL 254.53375 258.936804 \nL 254.53375 220.108232 \n\" style=\"fill:#51b5d2;stroke:#ffffff;stroke-width:0.7;\"/>\n    <path clip-path=\"url(#pb9e1264415)\" d=\"M 302.362321 220.108232 \nL 350.190893 220.108232 \nL 350.190893 258.936804 \nL 302.362321 258.936804 \nL 302.362321 220.108232 \n\" style=\"fill:#c5e8c2;stroke:#ffffff;stroke-width:0.7;\"/>\n    <path clip-path=\"url(#pb9e1264415)\" d=\"M 350.190893 220.108232 \nL 398.019464 220.108232 \nL 398.019464 258.936804 \nL 350.190893 258.936804 \nL 350.190893 220.108232 \n\" style=\"fill:#70c6c8;stroke:#ffffff;stroke-width:0.7;\"/>\n    <path clip-path=\"url(#pb9e1264415)\" d=\"M 398.019464 220.108232 \nL 445.848036 220.108232 \nL 445.848036 258.936804 \nL 398.019464 258.936804 \nL 398.019464 220.108232 \n\" style=\"fill:#c2e7c0;stroke:#ffffff;stroke-width:0.7;\"/>\n    <path clip-path=\"url(#pb9e1264415)\" d=\"M 445.848036 220.108232 \nL 493.676607 220.108232 \nL 493.676607 258.936804 \nL 445.848036 258.936804 \nL 445.848036 220.108232 \n\" style=\"fill:#61bdcd;stroke:#ffffff;stroke-width:0.7;\"/>\n    <path clip-path=\"url(#pb9e1264415)\" d=\"M 493.676607 220.108232 \nL 541.505179 220.108232 \nL 541.505179 258.936804 \nL 493.676607 258.936804 \nL 493.676607 220.108232 \n\" style=\"fill:#084081;stroke:#ffffff;stroke-width:0.7;\"/>\n    <path clip-path=\"url(#pb9e1264415)\" d=\"M 541.505179 220.108232 \nL 589.33375 220.108232 \nL 589.33375 258.936804 \nL 541.505179 258.936804 \nL 541.505179 220.108232 \n\" style=\"fill:#08589b;stroke:#ffffff;stroke-width:0.7;\"/>\n    <path clip-path=\"url(#pb9e1264415)\" d=\"M 589.33375 220.108232 \nL 637.162321 220.108232 \nL 637.162321 258.936804 \nL 589.33375 258.936804 \nL 589.33375 220.108232 \n\" style=\"fill:#d1edcb;stroke:#ffffff;stroke-width:0.7;\"/>\n    <path clip-path=\"url(#pb9e1264415)\" d=\"M 637.162321 220.108232 \nL 684.990893 220.108232 \nL 684.990893 258.936804 \nL 637.162321 258.936804 \nL 637.162321 220.108232 \n\" style=\"fill:#1f80b8;stroke:#ffffff;stroke-width:0.7;\"/>\n    <path clip-path=\"url(#pb9e1264415)\" d=\"M 684.990893 220.108232 \nL 732.819464 220.108232 \nL 732.819464 258.936804 \nL 684.990893 258.936804 \nL 684.990893 220.108232 \n\" style=\"fill:#8ad2bf;stroke:#ffffff;stroke-width:0.7;\"/>\n    <path clip-path=\"url(#pb9e1264415)\" d=\"M 732.819464 220.108232 \nL 780.648036 220.108232 \nL 780.648036 258.936804 \nL 732.819464 258.936804 \nL 732.819464 220.108232 \n\" style=\"fill:#3b9dc7;stroke:#ffffff;stroke-width:0.7;\"/>\n    <path clip-path=\"url(#pb9e1264415)\" d=\"M 780.648036 220.108232 \nL 828.476607 220.108232 \nL 828.476607 258.936804 \nL 780.648036 258.936804 \nL 780.648036 220.108232 \n\" style=\"fill:#1272b1;stroke:#ffffff;stroke-width:0.7;\"/>\n    <path clip-path=\"url(#pb9e1264415)\" d=\"M 828.476607 220.108232 \nL 876.305179 220.108232 \nL 876.305179 258.936804 \nL 828.476607 258.936804 \nL 828.476607 220.108232 \n\" style=\"fill:#3192c1;stroke:#ffffff;stroke-width:0.7;\"/>\n    <path clip-path=\"url(#pb9e1264415)\" d=\"M 876.305179 220.108232 \nL 924.13375 220.108232 \nL 924.13375 258.936804 \nL 876.305179 258.936804 \nL 876.305179 220.108232 \n\" style=\"fill:#ebf7e5;stroke:#ffffff;stroke-width:0.7;\"/>\n    <path clip-path=\"url(#pb9e1264415)\" d=\"M 254.53375 258.936804 \nL 302.362321 258.936804 \nL 302.362321 297.765375 \nL 254.53375 297.765375 \nL 254.53375 258.936804 \n\" style=\"fill:#5bbacf;stroke:#ffffff;stroke-width:0.7;\"/>\n    <path clip-path=\"url(#pb9e1264415)\" d=\"M 302.362321 258.936804 \nL 350.190893 258.936804 \nL 350.190893 297.765375 \nL 302.362321 297.765375 \nL 302.362321 258.936804 \n\" style=\"fill:#ceecc8;stroke:#ffffff;stroke-width:0.7;\"/>\n    <path clip-path=\"url(#pb9e1264415)\" d=\"M 350.190893 258.936804 \nL 398.019464 258.936804 \nL 398.019464 297.765375 \nL 350.190893 297.765375 \nL 350.190893 258.936804 \n\" style=\"fill:#72c7c7;stroke:#ffffff;stroke-width:0.7;\"/>\n    <path clip-path=\"url(#pb9e1264415)\" d=\"M 398.019464 258.936804 \nL 445.848036 258.936804 \nL 445.848036 297.765375 \nL 398.019464 297.765375 \nL 398.019464 258.936804 \n\" style=\"fill:#c6e9c2;stroke:#ffffff;stroke-width:0.7;\"/>\n    <path clip-path=\"url(#pb9e1264415)\" d=\"M 445.848036 258.936804 \nL 493.676607 258.936804 \nL 493.676607 297.765375 \nL 445.848036 297.765375 \nL 445.848036 258.936804 \n\" style=\"fill:#62becc;stroke:#ffffff;stroke-width:0.7;\"/>\n    <path clip-path=\"url(#pb9e1264415)\" d=\"M 493.676607 258.936804 \nL 541.505179 258.936804 \nL 541.505179 297.765375 \nL 493.676607 297.765375 \nL 493.676607 258.936804 \n\" style=\"fill:#08589b;stroke:#ffffff;stroke-width:0.7;\"/>\n    <path clip-path=\"url(#pb9e1264415)\" d=\"M 541.505179 258.936804 \nL 589.33375 258.936804 \nL 589.33375 297.765375 \nL 541.505179 297.765375 \nL 541.505179 258.936804 \n\" style=\"fill:#084081;stroke:#ffffff;stroke-width:0.7;\"/>\n    <path clip-path=\"url(#pb9e1264415)\" d=\"M 589.33375 258.936804 \nL 637.162321 258.936804 \nL 637.162321 297.765375 \nL 589.33375 297.765375 \nL 589.33375 258.936804 \n\" style=\"fill:#daf0d4;stroke:#ffffff;stroke-width:0.7;\"/>\n    <path clip-path=\"url(#pb9e1264415)\" d=\"M 637.162321 258.936804 \nL 684.990893 258.936804 \nL 684.990893 297.765375 \nL 637.162321 297.765375 \nL 637.162321 258.936804 \n\" style=\"fill:#1a7ab5;stroke:#ffffff;stroke-width:0.7;\"/>\n    <path clip-path=\"url(#pb9e1264415)\" d=\"M 684.990893 258.936804 \nL 732.819464 258.936804 \nL 732.819464 297.765375 \nL 684.990893 297.765375 \nL 684.990893 258.936804 \n\" style=\"fill:#aadeb6;stroke:#ffffff;stroke-width:0.7;\"/>\n    <path clip-path=\"url(#pb9e1264415)\" d=\"M 732.819464 258.936804 \nL 780.648036 258.936804 \nL 780.648036 297.765375 \nL 732.819464 297.765375 \nL 732.819464 258.936804 \n\" style=\"fill:#2a8bbe;stroke:#ffffff;stroke-width:0.7;\"/>\n    <path clip-path=\"url(#pb9e1264415)\" d=\"M 780.648036 258.936804 \nL 828.476607 258.936804 \nL 828.476607 297.765375 \nL 780.648036 297.765375 \nL 780.648036 258.936804 \n\" style=\"fill:#0864a8;stroke:#ffffff;stroke-width:0.7;\"/>\n    <path clip-path=\"url(#pb9e1264415)\" d=\"M 828.476607 258.936804 \nL 876.305179 258.936804 \nL 876.305179 297.765375 \nL 828.476607 297.765375 \nL 828.476607 258.936804 \n\" style=\"fill:#3294c2;stroke:#ffffff;stroke-width:0.7;\"/>\n    <path clip-path=\"url(#pb9e1264415)\" d=\"M 876.305179 258.936804 \nL 924.13375 258.936804 \nL 924.13375 297.765375 \nL 876.305179 297.765375 \nL 876.305179 258.936804 \n\" style=\"fill:#f7fcf0;stroke:#ffffff;stroke-width:0.7;\"/>\n    <path clip-path=\"url(#pb9e1264415)\" d=\"M 254.53375 297.765375 \nL 302.362321 297.765375 \nL 302.362321 336.593946 \nL 254.53375 336.593946 \nL 254.53375 297.765375 \n\" style=\"fill:#a9ddb5;stroke:#ffffff;stroke-width:0.7;\"/>\n    <path clip-path=\"url(#pb9e1264415)\" d=\"M 302.362321 297.765375 \nL 350.190893 297.765375 \nL 350.190893 336.593946 \nL 302.362321 336.593946 \nL 302.362321 297.765375 \n\" style=\"fill:#51b5d2;stroke:#ffffff;stroke-width:0.7;\"/>\n    <path clip-path=\"url(#pb9e1264415)\" d=\"M 350.190893 297.765375 \nL 398.019464 297.765375 \nL 398.019464 336.593946 \nL 350.190893 336.593946 \nL 350.190893 297.765375 \n\" style=\"fill:#65c0cb;stroke:#ffffff;stroke-width:0.7;\"/>\n    <path clip-path=\"url(#pb9e1264415)\" d=\"M 398.019464 297.765375 \nL 445.848036 297.765375 \nL 445.848036 336.593946 \nL 398.019464 336.593946 \nL 398.019464 297.765375 \n\" style=\"fill:#46aace;stroke:#ffffff;stroke-width:0.7;\"/>\n    <path clip-path=\"url(#pb9e1264415)\" d=\"M 445.848036 297.765375 \nL 493.676607 297.765375 \nL 493.676607 336.593946 \nL 445.848036 336.593946 \nL 445.848036 297.765375 \n\" style=\"fill:#b9e3bc;stroke:#ffffff;stroke-width:0.7;\"/>\n    <path clip-path=\"url(#pb9e1264415)\" d=\"M 493.676607 297.765375 \nL 541.505179 297.765375 \nL 541.505179 336.593946 \nL 493.676607 336.593946 \nL 493.676607 297.765375 \n\" style=\"fill:#d1edcb;stroke:#ffffff;stroke-width:0.7;\"/>\n    <path clip-path=\"url(#pb9e1264415)\" d=\"M 541.505179 297.765375 \nL 589.33375 297.765375 \nL 589.33375 336.593946 \nL 541.505179 336.593946 \nL 541.505179 297.765375 \n\" style=\"fill:#daf0d4;stroke:#ffffff;stroke-width:0.7;\"/>\n    <path clip-path=\"url(#pb9e1264415)\" d=\"M 589.33375 297.765375 \nL 637.162321 297.765375 \nL 637.162321 336.593946 \nL 589.33375 336.593946 \nL 589.33375 297.765375 \n\" style=\"fill:#084081;stroke:#ffffff;stroke-width:0.7;\"/>\n    <path clip-path=\"url(#pb9e1264415)\" d=\"M 637.162321 297.765375 \nL 684.990893 297.765375 \nL 684.990893 336.593946 \nL 637.162321 336.593946 \nL 637.162321 297.765375 \n\" style=\"fill:#c9eac4;stroke:#ffffff;stroke-width:0.7;\"/>\n    <path clip-path=\"url(#pb9e1264415)\" d=\"M 684.990893 297.765375 \nL 732.819464 297.765375 \nL 732.819464 336.593946 \nL 684.990893 336.593946 \nL 684.990893 297.765375 \n\" style=\"fill:#6fc5c8;stroke:#ffffff;stroke-width:0.7;\"/>\n    <path clip-path=\"url(#pb9e1264415)\" d=\"M 732.819464 297.765375 \nL 780.648036 297.765375 \nL 780.648036 336.593946 \nL 732.819464 336.593946 \nL 732.819464 297.765375 \n\" style=\"fill:#b9e3bc;stroke:#ffffff;stroke-width:0.7;\"/>\n    <path clip-path=\"url(#pb9e1264415)\" d=\"M 780.648036 297.765375 \nL 828.476607 297.765375 \nL 828.476607 336.593946 \nL 780.648036 336.593946 \nL 780.648036 297.765375 \n\" style=\"fill:#d6efd0;stroke:#ffffff;stroke-width:0.7;\"/>\n    <path clip-path=\"url(#pb9e1264415)\" d=\"M 828.476607 297.765375 \nL 876.305179 297.765375 \nL 876.305179 336.593946 \nL 828.476607 336.593946 \nL 828.476607 297.765375 \n\" style=\"fill:#c0e6c0;stroke:#ffffff;stroke-width:0.7;\"/>\n    <path clip-path=\"url(#pb9e1264415)\" d=\"M 876.305179 297.765375 \nL 924.13375 297.765375 \nL 924.13375 336.593946 \nL 876.305179 336.593946 \nL 876.305179 297.765375 \n\" style=\"fill:#3294c2;stroke:#ffffff;stroke-width:0.7;\"/>\n    <path clip-path=\"url(#pb9e1264415)\" d=\"M 254.53375 336.593946 \nL 302.362321 336.593946 \nL 302.362321 375.422518 \nL 254.53375 375.422518 \nL 254.53375 336.593946 \n\" style=\"fill:#6fc5c8;stroke:#ffffff;stroke-width:0.7;\"/>\n    <path clip-path=\"url(#pb9e1264415)\" d=\"M 302.362321 336.593946 \nL 350.190893 336.593946 \nL 350.190893 375.422518 \nL 302.362321 375.422518 \nL 302.362321 336.593946 \n\" style=\"fill:#b2e1b9;stroke:#ffffff;stroke-width:0.7;\"/>\n    <path clip-path=\"url(#pb9e1264415)\" d=\"M 350.190893 336.593946 \nL 398.019464 336.593946 \nL 398.019464 375.422518 \nL 350.190893 375.422518 \nL 350.190893 336.593946 \n\" style=\"fill:#8ad2bf;stroke:#ffffff;stroke-width:0.7;\"/>\n    <path clip-path=\"url(#pb9e1264415)\" d=\"M 398.019464 336.593946 \nL 445.848036 336.593946 \nL 445.848036 375.422518 \nL 398.019464 375.422518 \nL 398.019464 336.593946 \n\" style=\"fill:#afe0b8;stroke:#ffffff;stroke-width:0.7;\"/>\n    <path clip-path=\"url(#pb9e1264415)\" d=\"M 445.848036 336.593946 \nL 493.676607 336.593946 \nL 493.676607 375.422518 \nL 445.848036 375.422518 \nL 445.848036 336.593946 \n\" style=\"fill:#5bbacf;stroke:#ffffff;stroke-width:0.7;\"/>\n    <path clip-path=\"url(#pb9e1264415)\" d=\"M 493.676607 336.593946 \nL 541.505179 336.593946 \nL 541.505179 375.422518 \nL 493.676607 375.422518 \nL 493.676607 336.593946 \n\" style=\"fill:#1f80b8;stroke:#ffffff;stroke-width:0.7;\"/>\n    <path clip-path=\"url(#pb9e1264415)\" d=\"M 541.505179 336.593946 \nL 589.33375 336.593946 \nL 589.33375 375.422518 \nL 541.505179 375.422518 \nL 541.505179 336.593946 \n\" style=\"fill:#1a7ab5;stroke:#ffffff;stroke-width:0.7;\"/>\n    <path clip-path=\"url(#pb9e1264415)\" d=\"M 589.33375 336.593946 \nL 637.162321 336.593946 \nL 637.162321 375.422518 \nL 589.33375 375.422518 \nL 589.33375 336.593946 \n\" style=\"fill:#c9eac4;stroke:#ffffff;stroke-width:0.7;\"/>\n    <path clip-path=\"url(#pb9e1264415)\" d=\"M 637.162321 336.593946 \nL 684.990893 336.593946 \nL 684.990893 375.422518 \nL 637.162321 375.422518 \nL 637.162321 336.593946 \n\" style=\"fill:#084081;stroke:#ffffff;stroke-width:0.7;\"/>\n    <path clip-path=\"url(#pb9e1264415)\" d=\"M 684.990893 336.593946 \nL 732.819464 336.593946 \nL 732.819464 375.422518 \nL 684.990893 375.422518 \nL 684.990893 336.593946 \n\" style=\"fill:#8ad2bf;stroke:#ffffff;stroke-width:0.7;\"/>\n    <path clip-path=\"url(#pb9e1264415)\" d=\"M 732.819464 336.593946 \nL 780.648036 336.593946 \nL 780.648036 375.422518 \nL 732.819464 375.422518 \nL 732.819464 336.593946 \n\" style=\"fill:#4fb3d3;stroke:#ffffff;stroke-width:0.7;\"/>\n    <path clip-path=\"url(#pb9e1264415)\" d=\"M 780.648036 336.593946 \nL 828.476607 336.593946 \nL 828.476607 375.422518 \nL 780.648036 375.422518 \nL 780.648036 336.593946 \n\" style=\"fill:#2d8fbf;stroke:#ffffff;stroke-width:0.7;\"/>\n    <path clip-path=\"url(#pb9e1264415)\" d=\"M 828.476607 336.593946 \nL 876.305179 336.593946 \nL 876.305179 375.422518 \nL 828.476607 375.422518 \nL 828.476607 336.593946 \n\" style=\"fill:#4aafd1;stroke:#ffffff;stroke-width:0.7;\"/>\n    <path clip-path=\"url(#pb9e1264415)\" d=\"M 876.305179 336.593946 \nL 924.13375 336.593946 \nL 924.13375 375.422518 \nL 876.305179 375.422518 \nL 876.305179 336.593946 \n\" style=\"fill:#d6efd0;stroke:#ffffff;stroke-width:0.7;\"/>\n    <path clip-path=\"url(#pb9e1264415)\" d=\"M 254.53375 375.422518 \nL 302.362321 375.422518 \nL 302.362321 414.251089 \nL 254.53375 414.251089 \nL 254.53375 375.422518 \n\" style=\"fill:#298abd;stroke:#ffffff;stroke-width:0.7;\"/>\n    <path clip-path=\"url(#pb9e1264415)\" d=\"M 302.362321 375.422518 \nL 350.190893 375.422518 \nL 350.190893 414.251089 \nL 302.362321 414.251089 \nL 302.362321 375.422518 \n\" style=\"fill:#58b9d0;stroke:#ffffff;stroke-width:0.7;\"/>\n    <path clip-path=\"url(#pb9e1264415)\" d=\"M 350.190893 375.422518 \nL 398.019464 375.422518 \nL 398.019464 414.251089 \nL 350.190893 414.251089 \nL 350.190893 375.422518 \n\" style=\"fill:#57b8d0;stroke:#ffffff;stroke-width:0.7;\"/>\n    <path clip-path=\"url(#pb9e1264415)\" d=\"M 398.019464 375.422518 \nL 445.848036 375.422518 \nL 445.848036 414.251089 \nL 398.019464 414.251089 \nL 398.019464 375.422518 \n\" style=\"fill:#8ad2bf;stroke:#ffffff;stroke-width:0.7;\"/>\n    <path clip-path=\"url(#pb9e1264415)\" d=\"M 445.848036 375.422518 \nL 493.676607 375.422518 \nL 493.676607 414.251089 \nL 445.848036 414.251089 \nL 445.848036 375.422518 \n\" style=\"fill:#62becc;stroke:#ffffff;stroke-width:0.7;\"/>\n    <path clip-path=\"url(#pb9e1264415)\" d=\"M 493.676607 375.422518 \nL 541.505179 375.422518 \nL 541.505179 414.251089 \nL 493.676607 414.251089 \nL 493.676607 375.422518 \n\" style=\"fill:#8ad2bf;stroke:#ffffff;stroke-width:0.7;\"/>\n    <path clip-path=\"url(#pb9e1264415)\" d=\"M 541.505179 375.422518 \nL 589.33375 375.422518 \nL 589.33375 414.251089 \nL 541.505179 414.251089 \nL 541.505179 375.422518 \n\" style=\"fill:#aadeb6;stroke:#ffffff;stroke-width:0.7;\"/>\n    <path clip-path=\"url(#pb9e1264415)\" d=\"M 589.33375 375.422518 \nL 637.162321 375.422518 \nL 637.162321 414.251089 \nL 589.33375 414.251089 \nL 589.33375 375.422518 \n\" style=\"fill:#6fc5c8;stroke:#ffffff;stroke-width:0.7;\"/>\n    <path clip-path=\"url(#pb9e1264415)\" d=\"M 637.162321 375.422518 \nL 684.990893 375.422518 \nL 684.990893 414.251089 \nL 637.162321 414.251089 \nL 637.162321 375.422518 \n\" style=\"fill:#8ad2bf;stroke:#ffffff;stroke-width:0.7;\"/>\n    <path clip-path=\"url(#pb9e1264415)\" d=\"M 684.990893 375.422518 \nL 732.819464 375.422518 \nL 732.819464 414.251089 \nL 684.990893 414.251089 \nL 684.990893 375.422518 \n\" style=\"fill:#084081;stroke:#ffffff;stroke-width:0.7;\"/>\n    <path clip-path=\"url(#pb9e1264415)\" d=\"M 732.819464 375.422518 \nL 780.648036 375.422518 \nL 780.648036 414.251089 \nL 732.819464 414.251089 \nL 732.819464 375.422518 \n\" style=\"fill:#d8f0d2;stroke:#ffffff;stroke-width:0.7;\"/>\n    <path clip-path=\"url(#pb9e1264415)\" d=\"M 780.648036 375.422518 \nL 828.476607 375.422518 \nL 828.476607 414.251089 \nL 780.648036 414.251089 \nL 780.648036 375.422518 \n\" style=\"fill:#d0ecc9;stroke:#ffffff;stroke-width:0.7;\"/>\n    <path clip-path=\"url(#pb9e1264415)\" d=\"M 828.476607 375.422518 \nL 876.305179 375.422518 \nL 876.305179 414.251089 \nL 828.476607 414.251089 \nL 828.476607 375.422518 \n\" style=\"fill:#4cb1d2;stroke:#ffffff;stroke-width:0.7;\"/>\n    <path clip-path=\"url(#pb9e1264415)\" d=\"M 876.305179 375.422518 \nL 924.13375 375.422518 \nL 924.13375 414.251089 \nL 876.305179 414.251089 \nL 876.305179 375.422518 \n\" style=\"fill:#56b7d0;stroke:#ffffff;stroke-width:0.7;\"/>\n    <path clip-path=\"url(#pb9e1264415)\" d=\"M 254.53375 414.251089 \nL 302.362321 414.251089 \nL 302.362321 453.079661 \nL 254.53375 453.079661 \nL 254.53375 414.251089 \n\" style=\"fill:#8ad2bf;stroke:#ffffff;stroke-width:0.7;\"/>\n    <path clip-path=\"url(#pb9e1264415)\" d=\"M 302.362321 414.251089 \nL 350.190893 414.251089 \nL 350.190893 453.079661 \nL 302.362321 453.079661 \nL 302.362321 414.251089 \n\" style=\"fill:#dbf1d5;stroke:#ffffff;stroke-width:0.7;\"/>\n    <path clip-path=\"url(#pb9e1264415)\" d=\"M 350.190893 414.251089 \nL 398.019464 414.251089 \nL 398.019464 453.079661 \nL 350.190893 453.079661 \nL 350.190893 414.251089 \n\" style=\"fill:#8ad2bf;stroke:#ffffff;stroke-width:0.7;\"/>\n    <path clip-path=\"url(#pb9e1264415)\" d=\"M 398.019464 414.251089 \nL 445.848036 414.251089 \nL 445.848036 453.079661 \nL 398.019464 453.079661 \nL 398.019464 414.251089 \n\" style=\"fill:#bae4bd;stroke:#ffffff;stroke-width:0.7;\"/>\n    <path clip-path=\"url(#pb9e1264415)\" d=\"M 445.848036 414.251089 \nL 493.676607 414.251089 \nL 493.676607 453.079661 \nL 445.848036 453.079661 \nL 445.848036 414.251089 \n\" style=\"fill:#8ad2bf;stroke:#ffffff;stroke-width:0.7;\"/>\n    <path clip-path=\"url(#pb9e1264415)\" d=\"M 493.676607 414.251089 \nL 541.505179 414.251089 \nL 541.505179 453.079661 \nL 493.676607 453.079661 \nL 493.676607 414.251089 \n\" style=\"fill:#3b9dc7;stroke:#ffffff;stroke-width:0.7;\"/>\n    <path clip-path=\"url(#pb9e1264415)\" d=\"M 541.505179 414.251089 \nL 589.33375 414.251089 \nL 589.33375 453.079661 \nL 541.505179 453.079661 \nL 541.505179 414.251089 \n\" style=\"fill:#2a8bbe;stroke:#ffffff;stroke-width:0.7;\"/>\n    <path clip-path=\"url(#pb9e1264415)\" d=\"M 589.33375 414.251089 \nL 637.162321 414.251089 \nL 637.162321 453.079661 \nL 589.33375 453.079661 \nL 589.33375 414.251089 \n\" style=\"fill:#b9e3bc;stroke:#ffffff;stroke-width:0.7;\"/>\n    <path clip-path=\"url(#pb9e1264415)\" d=\"M 637.162321 414.251089 \nL 684.990893 414.251089 \nL 684.990893 453.079661 \nL 637.162321 453.079661 \nL 637.162321 414.251089 \n\" style=\"fill:#4fb3d3;stroke:#ffffff;stroke-width:0.7;\"/>\n    <path clip-path=\"url(#pb9e1264415)\" d=\"M 684.990893 414.251089 \nL 732.819464 414.251089 \nL 732.819464 453.079661 \nL 684.990893 453.079661 \nL 684.990893 414.251089 \n\" style=\"fill:#d8f0d2;stroke:#ffffff;stroke-width:0.7;\"/>\n    <path clip-path=\"url(#pb9e1264415)\" d=\"M 732.819464 414.251089 \nL 780.648036 414.251089 \nL 780.648036 453.079661 \nL 732.819464 453.079661 \nL 732.819464 414.251089 \n\" style=\"fill:#084081;stroke:#ffffff;stroke-width:0.7;\"/>\n    <path clip-path=\"url(#pb9e1264415)\" d=\"M 780.648036 414.251089 \nL 828.476607 414.251089 \nL 828.476607 453.079661 \nL 780.648036 453.079661 \nL 780.648036 414.251089 \n\" style=\"fill:#2687bb;stroke:#ffffff;stroke-width:0.7;\"/>\n    <path clip-path=\"url(#pb9e1264415)\" d=\"M 828.476607 414.251089 \nL 876.305179 414.251089 \nL 876.305179 453.079661 \nL 828.476607 453.079661 \nL 828.476607 414.251089 \n\" style=\"fill:#5bbacf;stroke:#ffffff;stroke-width:0.7;\"/>\n    <path clip-path=\"url(#pb9e1264415)\" d=\"M 876.305179 414.251089 \nL 924.13375 414.251089 \nL 924.13375 453.079661 \nL 876.305179 453.079661 \nL 876.305179 414.251089 \n\" style=\"fill:#e1f3dc;stroke:#ffffff;stroke-width:0.7;\"/>\n    <path clip-path=\"url(#pb9e1264415)\" d=\"M 254.53375 453.079661 \nL 302.362321 453.079661 \nL 302.362321 491.908232 \nL 254.53375 491.908232 \nL 254.53375 453.079661 \n\" style=\"fill:#8ad2bf;stroke:#ffffff;stroke-width:0.7;\"/>\n    <path clip-path=\"url(#pb9e1264415)\" d=\"M 302.362321 453.079661 \nL 350.190893 453.079661 \nL 350.190893 491.908232 \nL 302.362321 491.908232 \nL 302.362321 453.079661 \n\" style=\"fill:#c9eac4;stroke:#ffffff;stroke-width:0.7;\"/>\n    <path clip-path=\"url(#pb9e1264415)\" d=\"M 350.190893 453.079661 \nL 398.019464 453.079661 \nL 398.019464 491.908232 \nL 350.190893 491.908232 \nL 350.190893 453.079661 \n\" style=\"fill:#8ad2bf;stroke:#ffffff;stroke-width:0.7;\"/>\n    <path clip-path=\"url(#pb9e1264415)\" d=\"M 398.019464 453.079661 \nL 445.848036 453.079661 \nL 445.848036 491.908232 \nL 398.019464 491.908232 \nL 398.019464 453.079661 \n\" style=\"fill:#bce5be;stroke:#ffffff;stroke-width:0.7;\"/>\n    <path clip-path=\"url(#pb9e1264415)\" d=\"M 445.848036 453.079661 \nL 493.676607 453.079661 \nL 493.676607 491.908232 \nL 445.848036 491.908232 \nL 445.848036 453.079661 \n\" style=\"fill:#8ad2bf;stroke:#ffffff;stroke-width:0.7;\"/>\n    <path clip-path=\"url(#pb9e1264415)\" d=\"M 493.676607 453.079661 \nL 541.505179 453.079661 \nL 541.505179 491.908232 \nL 493.676607 491.908232 \nL 493.676607 453.079661 \n\" style=\"fill:#1272b1;stroke:#ffffff;stroke-width:0.7;\"/>\n    <path clip-path=\"url(#pb9e1264415)\" d=\"M 541.505179 453.079661 \nL 589.33375 453.079661 \nL 589.33375 491.908232 \nL 541.505179 491.908232 \nL 541.505179 453.079661 \n\" style=\"fill:#0864a8;stroke:#ffffff;stroke-width:0.7;\"/>\n    <path clip-path=\"url(#pb9e1264415)\" d=\"M 589.33375 453.079661 \nL 637.162321 453.079661 \nL 637.162321 491.908232 \nL 589.33375 491.908232 \nL 589.33375 453.079661 \n\" style=\"fill:#d6efd0;stroke:#ffffff;stroke-width:0.7;\"/>\n    <path clip-path=\"url(#pb9e1264415)\" d=\"M 637.162321 453.079661 \nL 684.990893 453.079661 \nL 684.990893 491.908232 \nL 637.162321 491.908232 \nL 637.162321 453.079661 \n\" style=\"fill:#2d8fbf;stroke:#ffffff;stroke-width:0.7;\"/>\n    <path clip-path=\"url(#pb9e1264415)\" d=\"M 684.990893 453.079661 \nL 732.819464 453.079661 \nL 732.819464 491.908232 \nL 684.990893 491.908232 \nL 684.990893 453.079661 \n\" style=\"fill:#d0ecc9;stroke:#ffffff;stroke-width:0.7;\"/>\n    <path clip-path=\"url(#pb9e1264415)\" d=\"M 732.819464 453.079661 \nL 780.648036 453.079661 \nL 780.648036 491.908232 \nL 732.819464 491.908232 \nL 732.819464 453.079661 \n\" style=\"fill:#2687bb;stroke:#ffffff;stroke-width:0.7;\"/>\n    <path clip-path=\"url(#pb9e1264415)\" d=\"M 780.648036 453.079661 \nL 828.476607 453.079661 \nL 828.476607 491.908232 \nL 780.648036 491.908232 \nL 780.648036 453.079661 \n\" style=\"fill:#084081;stroke:#ffffff;stroke-width:0.7;\"/>\n    <path clip-path=\"url(#pb9e1264415)\" d=\"M 828.476607 453.079661 \nL 876.305179 453.079661 \nL 876.305179 491.908232 \nL 828.476607 491.908232 \nL 828.476607 453.079661 \n\" style=\"fill:#4db2d3;stroke:#ffffff;stroke-width:0.7;\"/>\n    <path clip-path=\"url(#pb9e1264415)\" d=\"M 876.305179 453.079661 \nL 924.13375 453.079661 \nL 924.13375 491.908232 \nL 876.305179 491.908232 \nL 876.305179 453.079661 \n\" style=\"fill:#f1faeb;stroke:#ffffff;stroke-width:0.7;\"/>\n    <path clip-path=\"url(#pb9e1264415)\" d=\"M 254.53375 491.908232 \nL 302.362321 491.908232 \nL 302.362321 530.736804 \nL 254.53375 530.736804 \nL 254.53375 491.908232 \n\" style=\"fill:#1b7bb6;stroke:#ffffff;stroke-width:0.7;\"/>\n    <path clip-path=\"url(#pb9e1264415)\" d=\"M 302.362321 491.908232 \nL 350.190893 491.908232 \nL 350.190893 530.736804 \nL 302.362321 530.736804 \nL 302.362321 491.908232 \n\" style=\"fill:#addfb7;stroke:#ffffff;stroke-width:0.7;\"/>\n    <path clip-path=\"url(#pb9e1264415)\" d=\"M 350.190893 491.908232 \nL 398.019464 491.908232 \nL 398.019464 530.736804 \nL 350.190893 530.736804 \nL 350.190893 491.908232 \n\" style=\"fill:#5ebcce;stroke:#ffffff;stroke-width:0.7;\"/>\n    <path clip-path=\"url(#pb9e1264415)\" d=\"M 398.019464 491.908232 \nL 445.848036 491.908232 \nL 445.848036 530.736804 \nL 398.019464 530.736804 \nL 398.019464 491.908232 \n\" style=\"fill:#d1edca;stroke:#ffffff;stroke-width:0.7;\"/>\n    <path clip-path=\"url(#pb9e1264415)\" d=\"M 445.848036 491.908232 \nL 493.676607 491.908232 \nL 493.676607 530.736804 \nL 445.848036 530.736804 \nL 445.848036 491.908232 \n\" style=\"fill:#41a5cb;stroke:#ffffff;stroke-width:0.7;\"/>\n    <path clip-path=\"url(#pb9e1264415)\" d=\"M 493.676607 491.908232 \nL 541.505179 491.908232 \nL 541.505179 530.736804 \nL 493.676607 530.736804 \nL 493.676607 491.908232 \n\" style=\"fill:#3192c1;stroke:#ffffff;stroke-width:0.7;\"/>\n    <path clip-path=\"url(#pb9e1264415)\" d=\"M 541.505179 491.908232 \nL 589.33375 491.908232 \nL 589.33375 530.736804 \nL 541.505179 530.736804 \nL 541.505179 491.908232 \n\" style=\"fill:#3294c2;stroke:#ffffff;stroke-width:0.7;\"/>\n    <path clip-path=\"url(#pb9e1264415)\" d=\"M 589.33375 491.908232 \nL 637.162321 491.908232 \nL 637.162321 530.736804 \nL 589.33375 530.736804 \nL 589.33375 491.908232 \n\" style=\"fill:#c0e6c0;stroke:#ffffff;stroke-width:0.7;\"/>\n    <path clip-path=\"url(#pb9e1264415)\" d=\"M 637.162321 491.908232 \nL 684.990893 491.908232 \nL 684.990893 530.736804 \nL 637.162321 530.736804 \nL 637.162321 491.908232 \n\" style=\"fill:#4aafd1;stroke:#ffffff;stroke-width:0.7;\"/>\n    <path clip-path=\"url(#pb9e1264415)\" d=\"M 684.990893 491.908232 \nL 732.819464 491.908232 \nL 732.819464 530.736804 \nL 684.990893 530.736804 \nL 684.990893 491.908232 \n\" style=\"fill:#4cb1d2;stroke:#ffffff;stroke-width:0.7;\"/>\n    <path clip-path=\"url(#pb9e1264415)\" d=\"M 732.819464 491.908232 \nL 780.648036 491.908232 \nL 780.648036 530.736804 \nL 732.819464 530.736804 \nL 732.819464 491.908232 \n\" style=\"fill:#5bbacf;stroke:#ffffff;stroke-width:0.7;\"/>\n    <path clip-path=\"url(#pb9e1264415)\" d=\"M 780.648036 491.908232 \nL 828.476607 491.908232 \nL 828.476607 530.736804 \nL 780.648036 530.736804 \nL 780.648036 491.908232 \n\" style=\"fill:#4db2d3;stroke:#ffffff;stroke-width:0.7;\"/>\n    <path clip-path=\"url(#pb9e1264415)\" d=\"M 828.476607 491.908232 \nL 876.305179 491.908232 \nL 876.305179 530.736804 \nL 828.476607 530.736804 \nL 828.476607 491.908232 \n\" style=\"fill:#084081;stroke:#ffffff;stroke-width:0.7;\"/>\n    <path clip-path=\"url(#pb9e1264415)\" d=\"M 876.305179 491.908232 \nL 924.13375 491.908232 \nL 924.13375 530.736804 \nL 876.305179 530.736804 \nL 876.305179 491.908232 \n\" style=\"fill:#e1f4dc;stroke:#ffffff;stroke-width:0.7;\"/>\n    <path clip-path=\"url(#pb9e1264415)\" d=\"M 254.53375 530.736804 \nL 302.362321 530.736804 \nL 302.362321 569.565375 \nL 254.53375 569.565375 \nL 254.53375 530.736804 \n\" style=\"fill:#c4e8c1;stroke:#ffffff;stroke-width:0.7;\"/>\n    <path clip-path=\"url(#pb9e1264415)\" d=\"M 302.362321 530.736804 \nL 350.190893 530.736804 \nL 350.190893 569.565375 \nL 302.362321 569.565375 \nL 302.362321 530.736804 \n\" style=\"fill:#3a9cc7;stroke:#ffffff;stroke-width:0.7;\"/>\n    <path clip-path=\"url(#pb9e1264415)\" d=\"M 350.190893 530.736804 \nL 398.019464 530.736804 \nL 398.019464 569.565375 \nL 350.190893 569.565375 \nL 350.190893 530.736804 \n\" style=\"fill:#8ad2bf;stroke:#ffffff;stroke-width:0.7;\"/>\n    <path clip-path=\"url(#pb9e1264415)\" d=\"M 398.019464 530.736804 \nL 445.848036 530.736804 \nL 445.848036 569.565375 \nL 398.019464 569.565375 \nL 398.019464 530.736804 \n\" style=\"fill:#2d8fbf;stroke:#ffffff;stroke-width:0.7;\"/>\n    <path clip-path=\"url(#pb9e1264415)\" d=\"M 445.848036 530.736804 \nL 493.676607 530.736804 \nL 493.676607 569.565375 \nL 445.848036 569.565375 \nL 445.848036 530.736804 \n\" style=\"fill:#b1e0b9;stroke:#ffffff;stroke-width:0.7;\"/>\n    <path clip-path=\"url(#pb9e1264415)\" d=\"M 493.676607 530.736804 \nL 541.505179 530.736804 \nL 541.505179 569.565375 \nL 493.676607 569.565375 \nL 493.676607 530.736804 \n\" style=\"fill:#ebf7e5;stroke:#ffffff;stroke-width:0.7;\"/>\n    <path clip-path=\"url(#pb9e1264415)\" d=\"M 541.505179 530.736804 \nL 589.33375 530.736804 \nL 589.33375 569.565375 \nL 541.505179 569.565375 \nL 541.505179 530.736804 \n\" style=\"fill:#f7fcf0;stroke:#ffffff;stroke-width:0.7;\"/>\n    <path clip-path=\"url(#pb9e1264415)\" d=\"M 589.33375 530.736804 \nL 637.162321 530.736804 \nL 637.162321 569.565375 \nL 589.33375 569.565375 \nL 589.33375 530.736804 \n\" style=\"fill:#3294c2;stroke:#ffffff;stroke-width:0.7;\"/>\n    <path clip-path=\"url(#pb9e1264415)\" d=\"M 637.162321 530.736804 \nL 684.990893 530.736804 \nL 684.990893 569.565375 \nL 637.162321 569.565375 \nL 637.162321 530.736804 \n\" style=\"fill:#d6efd0;stroke:#ffffff;stroke-width:0.7;\"/>\n    <path clip-path=\"url(#pb9e1264415)\" d=\"M 684.990893 530.736804 \nL 732.819464 530.736804 \nL 732.819464 569.565375 \nL 684.990893 569.565375 \nL 684.990893 530.736804 \n\" style=\"fill:#56b7d0;stroke:#ffffff;stroke-width:0.7;\"/>\n    <path clip-path=\"url(#pb9e1264415)\" d=\"M 732.819464 530.736804 \nL 780.648036 530.736804 \nL 780.648036 569.565375 \nL 732.819464 569.565375 \nL 732.819464 530.736804 \n\" style=\"fill:#e1f3dc;stroke:#ffffff;stroke-width:0.7;\"/>\n    <path clip-path=\"url(#pb9e1264415)\" d=\"M 780.648036 530.736804 \nL 828.476607 530.736804 \nL 828.476607 569.565375 \nL 780.648036 569.565375 \nL 780.648036 530.736804 \n\" style=\"fill:#f1faeb;stroke:#ffffff;stroke-width:0.7;\"/>\n    <path clip-path=\"url(#pb9e1264415)\" d=\"M 828.476607 530.736804 \nL 876.305179 530.736804 \nL 876.305179 569.565375 \nL 828.476607 569.565375 \nL 828.476607 530.736804 \n\" style=\"fill:#e1f4dc;stroke:#ffffff;stroke-width:0.7;\"/>\n    <path clip-path=\"url(#pb9e1264415)\" d=\"M 876.305179 530.736804 \nL 924.13375 530.736804 \nL 924.13375 569.565375 \nL 876.305179 569.565375 \nL 876.305179 530.736804 \n\" style=\"fill:#084081;stroke:#ffffff;stroke-width:0.7;\"/>\n   </g>\n   <g id=\"text_29\">\n    <!-- 1 -->\n    <g style=\"fill:#ffffff;\" transform=\"translate(273.103536 50.015411)scale(0.168 -0.168)\">\n     <use xlink:href=\"#DejaVuSans-49\"/>\n    </g>\n   </g>\n   <g id=\"text_30\">\n    <!-- 0 -->\n    <g style=\"fill:#262626;\" transform=\"translate(320.932107 50.015411)scale(0.168 -0.168)\">\n     <use xlink:href=\"#DejaVuSans-48\"/>\n    </g>\n   </g>\n   <g id=\"text_31\">\n    <!-- 0.21 -->\n    <defs>\n     <path d=\"M 10.6875 12.40625 \nL 21 12.40625 \nL 21 0 \nL 10.6875 0 \nz\n\" id=\"DejaVuSans-46\"/>\n    </defs>\n    <g style=\"fill:#262626;\" transform=\"translate(355.402054 50.015411)scale(0.168 -0.168)\">\n     <use xlink:href=\"#DejaVuSans-48\"/>\n     <use x=\"63.623047\" xlink:href=\"#DejaVuSans-46\"/>\n     <use x=\"95.410156\" xlink:href=\"#DejaVuSans-50\"/>\n     <use x=\"159.033203\" xlink:href=\"#DejaVuSans-49\"/>\n    </g>\n   </g>\n   <g id=\"text_32\">\n    <!-- -0.31 -->\n    <defs>\n     <path d=\"M 4.890625 31.390625 \nL 31.203125 31.390625 \nL 31.203125 23.390625 \nL 4.890625 23.390625 \nz\n\" id=\"DejaVuSans-45\"/>\n    </defs>\n    <g style=\"fill:#262626;\" transform=\"translate(400.200063 50.015411)scale(0.168 -0.168)\">\n     <use xlink:href=\"#DejaVuSans-45\"/>\n     <use x=\"36.083984\" xlink:href=\"#DejaVuSans-48\"/>\n     <use x=\"99.707031\" xlink:href=\"#DejaVuSans-46\"/>\n     <use x=\"131.494141\" xlink:href=\"#DejaVuSans-51\"/>\n     <use x=\"195.117188\" xlink:href=\"#DejaVuSans-49\"/>\n    </g>\n   </g>\n   <g id=\"text_33\">\n    <!-- 0.27 -->\n    <defs>\n     <path d=\"M 8.203125 72.90625 \nL 55.078125 72.90625 \nL 55.078125 68.703125 \nL 28.609375 0 \nL 18.3125 0 \nL 43.21875 64.59375 \nL 8.203125 64.59375 \nz\n\" id=\"DejaVuSans-55\"/>\n    </defs>\n    <g style=\"fill:#ffffff;\" transform=\"translate(451.059196 50.015411)scale(0.168 -0.168)\">\n     <use xlink:href=\"#DejaVuSans-48\"/>\n     <use x=\"63.623047\" xlink:href=\"#DejaVuSans-46\"/>\n     <use x=\"95.410156\" xlink:href=\"#DejaVuSans-50\"/>\n     <use x=\"159.033203\" xlink:href=\"#DejaVuSans-55\"/>\n    </g>\n   </g>\n   <g id=\"text_34\">\n    <!-- 0.29 -->\n    <defs>\n     <path d=\"M 10.984375 1.515625 \nL 10.984375 10.5 \nQ 14.703125 8.734375 18.5 7.8125 \nQ 22.3125 6.890625 25.984375 6.890625 \nQ 35.75 6.890625 40.890625 13.453125 \nQ 46.046875 20.015625 46.78125 33.40625 \nQ 43.953125 29.203125 39.59375 26.953125 \nQ 35.25 24.703125 29.984375 24.703125 \nQ 19.046875 24.703125 12.671875 31.3125 \nQ 6.296875 37.9375 6.296875 49.421875 \nQ 6.296875 60.640625 12.9375 67.421875 \nQ 19.578125 74.21875 30.609375 74.21875 \nQ 43.265625 74.21875 49.921875 64.515625 \nQ 56.59375 54.828125 56.59375 36.375 \nQ 56.59375 19.140625 48.40625 8.859375 \nQ 40.234375 -1.421875 26.421875 -1.421875 \nQ 22.703125 -1.421875 18.890625 -0.6875 \nQ 15.09375 0.046875 10.984375 1.515625 \nz\nM 30.609375 32.421875 \nQ 37.25 32.421875 41.125 36.953125 \nQ 45.015625 41.5 45.015625 49.421875 \nQ 45.015625 57.28125 41.125 61.84375 \nQ 37.25 66.40625 30.609375 66.40625 \nQ 23.96875 66.40625 20.09375 61.84375 \nQ 16.21875 57.28125 16.21875 49.421875 \nQ 16.21875 41.5 20.09375 36.953125 \nQ 23.96875 32.421875 30.609375 32.421875 \nz\n\" id=\"DejaVuSans-57\"/>\n    </defs>\n    <g style=\"fill:#ffffff;\" transform=\"translate(498.887768 50.015411)scale(0.168 -0.168)\">\n     <use xlink:href=\"#DejaVuSans-48\"/>\n     <use x=\"63.623047\" xlink:href=\"#DejaVuSans-46\"/>\n     <use x=\"95.410156\" xlink:href=\"#DejaVuSans-50\"/>\n     <use x=\"159.033203\" xlink:href=\"#DejaVuSans-57\"/>\n    </g>\n   </g>\n   <g id=\"text_35\">\n    <!-- 0.24 -->\n    <defs>\n     <path d=\"M 37.796875 64.3125 \nL 12.890625 25.390625 \nL 37.796875 25.390625 \nz\nM 35.203125 72.90625 \nL 47.609375 72.90625 \nL 47.609375 25.390625 \nL 58.015625 25.390625 \nL 58.015625 17.1875 \nL 47.609375 17.1875 \nL 47.609375 0 \nL 37.796875 0 \nL 37.796875 17.1875 \nL 4.890625 17.1875 \nL 4.890625 26.703125 \nz\n\" id=\"DejaVuSans-52\"/>\n    </defs>\n    <g style=\"fill:#262626;\" transform=\"translate(546.716339 50.015411)scale(0.168 -0.168)\">\n     <use xlink:href=\"#DejaVuSans-48\"/>\n     <use x=\"63.623047\" xlink:href=\"#DejaVuSans-46\"/>\n     <use x=\"95.410156\" xlink:href=\"#DejaVuSans-50\"/>\n     <use x=\"159.033203\" xlink:href=\"#DejaVuSans-52\"/>\n    </g>\n   </g>\n   <g id=\"text_36\">\n    <!-- -0.16 -->\n    <defs>\n     <path d=\"M 33.015625 40.375 \nQ 26.375 40.375 22.484375 35.828125 \nQ 18.609375 31.296875 18.609375 23.390625 \nQ 18.609375 15.53125 22.484375 10.953125 \nQ 26.375 6.390625 33.015625 6.390625 \nQ 39.65625 6.390625 43.53125 10.953125 \nQ 47.40625 15.53125 47.40625 23.390625 \nQ 47.40625 31.296875 43.53125 35.828125 \nQ 39.65625 40.375 33.015625 40.375 \nz\nM 52.59375 71.296875 \nL 52.59375 62.3125 \nQ 48.875 64.0625 45.09375 64.984375 \nQ 41.3125 65.921875 37.59375 65.921875 \nQ 27.828125 65.921875 22.671875 59.328125 \nQ 17.53125 52.734375 16.796875 39.40625 \nQ 19.671875 43.65625 24.015625 45.921875 \nQ 28.375 48.1875 33.59375 48.1875 \nQ 44.578125 48.1875 50.953125 41.515625 \nQ 57.328125 34.859375 57.328125 23.390625 \nQ 57.328125 12.15625 50.6875 5.359375 \nQ 44.046875 -1.421875 33.015625 -1.421875 \nQ 20.359375 -1.421875 13.671875 8.265625 \nQ 6.984375 17.96875 6.984375 36.375 \nQ 6.984375 53.65625 15.1875 63.9375 \nQ 23.390625 74.21875 37.203125 74.21875 \nQ 40.921875 74.21875 44.703125 73.484375 \nQ 48.484375 72.75 52.59375 71.296875 \nz\n\" id=\"DejaVuSans-54\"/>\n    </defs>\n    <g style=\"fill:#262626;\" transform=\"translate(591.514348 50.015411)scale(0.168 -0.168)\">\n     <use xlink:href=\"#DejaVuSans-45\"/>\n     <use x=\"36.083984\" xlink:href=\"#DejaVuSans-48\"/>\n     <use x=\"99.707031\" xlink:href=\"#DejaVuSans-46\"/>\n     <use x=\"131.494141\" xlink:href=\"#DejaVuSans-49\"/>\n     <use x=\"195.117188\" xlink:href=\"#DejaVuSans-54\"/>\n    </g>\n   </g>\n   <g id=\"text_37\">\n    <!-- 0.14 -->\n    <g style=\"fill:#262626;\" transform=\"translate(642.373482 50.015411)scale(0.168 -0.168)\">\n     <use xlink:href=\"#DejaVuSans-48\"/>\n     <use x=\"63.623047\" xlink:href=\"#DejaVuSans-46\"/>\n     <use x=\"95.410156\" xlink:href=\"#DejaVuSans-49\"/>\n     <use x=\"159.033203\" xlink:href=\"#DejaVuSans-52\"/>\n    </g>\n   </g>\n   <g id=\"text_38\">\n    <!-- 0.55 -->\n    <g style=\"fill:#ffffff;\" transform=\"translate(690.202054 50.015411)scale(0.168 -0.168)\">\n     <use xlink:href=\"#DejaVuSans-48\"/>\n     <use x=\"63.623047\" xlink:href=\"#DejaVuSans-46\"/>\n     <use x=\"95.410156\" xlink:href=\"#DejaVuSans-53\"/>\n     <use x=\"159.033203\" xlink:href=\"#DejaVuSans-53\"/>\n    </g>\n   </g>\n   <g id=\"text_39\">\n    <!-- 0 -->\n    <g style=\"fill:#262626;\" transform=\"translate(751.38925 50.015411)scale(0.168 -0.168)\">\n     <use xlink:href=\"#DejaVuSans-48\"/>\n    </g>\n   </g>\n   <g id=\"text_40\">\n    <!-- 0 -->\n    <g style=\"fill:#262626;\" transform=\"translate(799.217821 50.015411)scale(0.168 -0.168)\">\n     <use xlink:href=\"#DejaVuSans-48\"/>\n    </g>\n   </g>\n   <g id=\"text_41\">\n    <!-- 0.64 -->\n    <g style=\"fill:#ffffff;\" transform=\"translate(833.687768 50.015411)scale(0.168 -0.168)\">\n     <use xlink:href=\"#DejaVuSans-48\"/>\n     <use x=\"63.623047\" xlink:href=\"#DejaVuSans-46\"/>\n     <use x=\"95.410156\" xlink:href=\"#DejaVuSans-54\"/>\n     <use x=\"159.033203\" xlink:href=\"#DejaVuSans-52\"/>\n    </g>\n   </g>\n   <g id=\"text_42\">\n    <!-- -0.33 -->\n    <g style=\"fill:#262626;\" transform=\"translate(878.485777 50.015411)scale(0.168 -0.168)\">\n     <use xlink:href=\"#DejaVuSans-45\"/>\n     <use x=\"36.083984\" xlink:href=\"#DejaVuSans-48\"/>\n     <use x=\"99.707031\" xlink:href=\"#DejaVuSans-46\"/>\n     <use x=\"131.494141\" xlink:href=\"#DejaVuSans-51\"/>\n     <use x=\"195.117188\" xlink:href=\"#DejaVuSans-51\"/>\n    </g>\n   </g>\n   <g id=\"text_43\">\n    <!-- 0 -->\n    <g style=\"fill:#262626;\" transform=\"translate(273.103536 88.843982)scale(0.168 -0.168)\">\n     <use xlink:href=\"#DejaVuSans-48\"/>\n    </g>\n   </g>\n   <g id=\"text_44\">\n    <!-- 1 -->\n    <g style=\"fill:#ffffff;\" transform=\"translate(320.932107 88.843982)scale(0.168 -0.168)\">\n     <use xlink:href=\"#DejaVuSans-49\"/>\n    </g>\n   </g>\n   <g id=\"text_45\">\n    <!-- 0.16 -->\n    <g style=\"fill:#262626;\" transform=\"translate(355.402054 88.843982)scale(0.168 -0.168)\">\n     <use xlink:href=\"#DejaVuSans-48\"/>\n     <use x=\"63.623047\" xlink:href=\"#DejaVuSans-46\"/>\n     <use x=\"95.410156\" xlink:href=\"#DejaVuSans-49\"/>\n     <use x=\"159.033203\" xlink:href=\"#DejaVuSans-54\"/>\n    </g>\n   </g>\n   <g id=\"text_46\">\n    <!-- 0.29 -->\n    <g style=\"fill:#ffffff;\" transform=\"translate(403.230625 88.843982)scale(0.168 -0.168)\">\n     <use xlink:href=\"#DejaVuSans-48\"/>\n     <use x=\"63.623047\" xlink:href=\"#DejaVuSans-46\"/>\n     <use x=\"95.410156\" xlink:href=\"#DejaVuSans-50\"/>\n     <use x=\"159.033203\" xlink:href=\"#DejaVuSans-57\"/>\n    </g>\n   </g>\n   <g id=\"text_47\">\n    <!-- 0 -->\n    <g style=\"fill:#262626;\" transform=\"translate(464.417821 88.843982)scale(0.168 -0.168)\">\n     <use xlink:href=\"#DejaVuSans-48\"/>\n    </g>\n   </g>\n   <g id=\"text_48\">\n    <!-- -0.34 -->\n    <g style=\"fill:#262626;\" transform=\"translate(495.857205 88.843982)scale(0.168 -0.168)\">\n     <use xlink:href=\"#DejaVuSans-45\"/>\n     <use x=\"36.083984\" xlink:href=\"#DejaVuSans-48\"/>\n     <use x=\"99.707031\" xlink:href=\"#DejaVuSans-46\"/>\n     <use x=\"131.494141\" xlink:href=\"#DejaVuSans-51\"/>\n     <use x=\"195.117188\" xlink:href=\"#DejaVuSans-52\"/>\n    </g>\n   </g>\n   <g id=\"text_49\">\n    <!-- -0.41 -->\n    <g style=\"fill:#262626;\" transform=\"translate(543.685777 88.843982)scale(0.168 -0.168)\">\n     <use xlink:href=\"#DejaVuSans-45\"/>\n     <use x=\"36.083984\" xlink:href=\"#DejaVuSans-48\"/>\n     <use x=\"99.707031\" xlink:href=\"#DejaVuSans-46\"/>\n     <use x=\"131.494141\" xlink:href=\"#DejaVuSans-52\"/>\n     <use x=\"195.117188\" xlink:href=\"#DejaVuSans-49\"/>\n    </g>\n   </g>\n   <g id=\"text_50\">\n    <!-- 0.29 -->\n    <g style=\"fill:#ffffff;\" transform=\"translate(594.544911 88.843982)scale(0.168 -0.168)\">\n     <use xlink:href=\"#DejaVuSans-48\"/>\n     <use x=\"63.623047\" xlink:href=\"#DejaVuSans-46\"/>\n     <use x=\"95.410156\" xlink:href=\"#DejaVuSans-50\"/>\n     <use x=\"159.033203\" xlink:href=\"#DejaVuSans-57\"/>\n    </g>\n   </g>\n   <g id=\"text_51\">\n    <!-- -0.22 -->\n    <g style=\"fill:#262626;\" transform=\"translate(639.34292 88.843982)scale(0.168 -0.168)\">\n     <use xlink:href=\"#DejaVuSans-45\"/>\n     <use x=\"36.083984\" xlink:href=\"#DejaVuSans-48\"/>\n     <use x=\"99.707031\" xlink:href=\"#DejaVuSans-46\"/>\n     <use x=\"131.494141\" xlink:href=\"#DejaVuSans-50\"/>\n     <use x=\"195.117188\" xlink:href=\"#DejaVuSans-50\"/>\n    </g>\n   </g>\n   <g id=\"text_52\">\n    <!-- 0.25 -->\n    <g style=\"fill:#262626;\" transform=\"translate(690.202054 88.843982)scale(0.168 -0.168)\">\n     <use xlink:href=\"#DejaVuSans-48\"/>\n     <use x=\"63.623047\" xlink:href=\"#DejaVuSans-46\"/>\n     <use x=\"95.410156\" xlink:href=\"#DejaVuSans-50\"/>\n     <use x=\"159.033203\" xlink:href=\"#DejaVuSans-53\"/>\n    </g>\n   </g>\n   <g id=\"text_53\">\n    <!-- -0.56 -->\n    <g style=\"fill:#262626;\" transform=\"translate(735.000063 88.843982)scale(0.168 -0.168)\">\n     <use xlink:href=\"#DejaVuSans-45\"/>\n     <use x=\"36.083984\" xlink:href=\"#DejaVuSans-48\"/>\n     <use x=\"99.707031\" xlink:href=\"#DejaVuSans-46\"/>\n     <use x=\"131.494141\" xlink:href=\"#DejaVuSans-53\"/>\n     <use x=\"195.117188\" xlink:href=\"#DejaVuSans-54\"/>\n    </g>\n   </g>\n   <g id=\"text_54\">\n    <!-- -0.37 -->\n    <g style=\"fill:#262626;\" transform=\"translate(782.828634 88.843982)scale(0.168 -0.168)\">\n     <use xlink:href=\"#DejaVuSans-45\"/>\n     <use x=\"36.083984\" xlink:href=\"#DejaVuSans-48\"/>\n     <use x=\"99.707031\" xlink:href=\"#DejaVuSans-46\"/>\n     <use x=\"131.494141\" xlink:href=\"#DejaVuSans-51\"/>\n     <use x=\"195.117188\" xlink:href=\"#DejaVuSans-55\"/>\n    </g>\n   </g>\n   <g id=\"text_55\">\n    <!-- -0.19 -->\n    <g style=\"fill:#262626;\" transform=\"translate(830.657205 88.843982)scale(0.168 -0.168)\">\n     <use xlink:href=\"#DejaVuSans-45\"/>\n     <use x=\"36.083984\" xlink:href=\"#DejaVuSans-48\"/>\n     <use x=\"99.707031\" xlink:href=\"#DejaVuSans-46\"/>\n     <use x=\"131.494141\" xlink:href=\"#DejaVuSans-49\"/>\n     <use x=\"195.117188\" xlink:href=\"#DejaVuSans-57\"/>\n    </g>\n   </g>\n   <g id=\"text_56\">\n    <!-- 0.44 -->\n    <g style=\"fill:#ffffff;\" transform=\"translate(881.516339 88.843982)scale(0.168 -0.168)\">\n     <use xlink:href=\"#DejaVuSans-48\"/>\n     <use x=\"63.623047\" xlink:href=\"#DejaVuSans-46\"/>\n     <use x=\"95.410156\" xlink:href=\"#DejaVuSans-52\"/>\n     <use x=\"159.033203\" xlink:href=\"#DejaVuSans-52\"/>\n    </g>\n   </g>\n   <g id=\"text_57\">\n    <!-- 0.21 -->\n    <g style=\"fill:#262626;\" transform=\"translate(259.744911 127.672554)scale(0.168 -0.168)\">\n     <use xlink:href=\"#DejaVuSans-48\"/>\n     <use x=\"63.623047\" xlink:href=\"#DejaVuSans-46\"/>\n     <use x=\"95.410156\" xlink:href=\"#DejaVuSans-50\"/>\n     <use x=\"159.033203\" xlink:href=\"#DejaVuSans-49\"/>\n    </g>\n   </g>\n   <g id=\"text_58\">\n    <!-- 0.16 -->\n    <g style=\"fill:#262626;\" transform=\"translate(307.573482 127.672554)scale(0.168 -0.168)\">\n     <use xlink:href=\"#DejaVuSans-48\"/>\n     <use x=\"63.623047\" xlink:href=\"#DejaVuSans-46\"/>\n     <use x=\"95.410156\" xlink:href=\"#DejaVuSans-49\"/>\n     <use x=\"159.033203\" xlink:href=\"#DejaVuSans-54\"/>\n    </g>\n   </g>\n   <g id=\"text_59\">\n    <!-- 1 -->\n    <g style=\"fill:#ffffff;\" transform=\"translate(368.760679 127.672554)scale(0.168 -0.168)\">\n     <use xlink:href=\"#DejaVuSans-49\"/>\n    </g>\n   </g>\n   <g id=\"text_60\">\n    <!-- 0.44 -->\n    <g style=\"fill:#ffffff;\" transform=\"translate(403.230625 127.672554)scale(0.168 -0.168)\">\n     <use xlink:href=\"#DejaVuSans-48\"/>\n     <use x=\"63.623047\" xlink:href=\"#DejaVuSans-46\"/>\n     <use x=\"95.410156\" xlink:href=\"#DejaVuSans-52\"/>\n     <use x=\"159.033203\" xlink:href=\"#DejaVuSans-52\"/>\n    </g>\n   </g>\n   <g id=\"text_61\">\n    <!-- 0.29 -->\n    <g style=\"fill:#ffffff;\" transform=\"translate(451.059196 127.672554)scale(0.168 -0.168)\">\n     <use xlink:href=\"#DejaVuSans-48\"/>\n     <use x=\"63.623047\" xlink:href=\"#DejaVuSans-46\"/>\n     <use x=\"95.410156\" xlink:href=\"#DejaVuSans-50\"/>\n     <use x=\"159.033203\" xlink:href=\"#DejaVuSans-57\"/>\n    </g>\n   </g>\n   <g id=\"text_62\">\n    <!-- 0.13 -->\n    <g style=\"fill:#262626;\" transform=\"translate(498.887768 127.672554)scale(0.168 -0.168)\">\n     <use xlink:href=\"#DejaVuSans-48\"/>\n     <use x=\"63.623047\" xlink:href=\"#DejaVuSans-46\"/>\n     <use x=\"95.410156\" xlink:href=\"#DejaVuSans-49\"/>\n     <use x=\"159.033203\" xlink:href=\"#DejaVuSans-51\"/>\n    </g>\n   </g>\n   <g id=\"text_63\">\n    <!-- 0.12 -->\n    <g style=\"fill:#262626;\" transform=\"translate(546.716339 127.672554)scale(0.168 -0.168)\">\n     <use xlink:href=\"#DejaVuSans-48\"/>\n     <use x=\"63.623047\" xlink:href=\"#DejaVuSans-46\"/>\n     <use x=\"95.410156\" xlink:href=\"#DejaVuSans-49\"/>\n     <use x=\"159.033203\" xlink:href=\"#DejaVuSans-50\"/>\n    </g>\n   </g>\n   <g id=\"text_64\">\n    <!-- 0.19 -->\n    <g style=\"fill:#262626;\" transform=\"translate(594.544911 127.672554)scale(0.168 -0.168)\">\n     <use xlink:href=\"#DejaVuSans-48\"/>\n     <use x=\"63.623047\" xlink:href=\"#DejaVuSans-46\"/>\n     <use x=\"95.410156\" xlink:href=\"#DejaVuSans-49\"/>\n     <use x=\"159.033203\" xlink:href=\"#DejaVuSans-57\"/>\n    </g>\n   </g>\n   <g id=\"text_65\">\n    <!-- 0 -->\n    <g style=\"fill:#262626;\" transform=\"translate(655.732107 127.672554)scale(0.168 -0.168)\">\n     <use xlink:href=\"#DejaVuSans-48\"/>\n    </g>\n   </g>\n   <g id=\"text_66\">\n    <!-- 0.26 -->\n    <g style=\"fill:#262626;\" transform=\"translate(690.202054 127.672554)scale(0.168 -0.168)\">\n     <use xlink:href=\"#DejaVuSans-48\"/>\n     <use x=\"63.623047\" xlink:href=\"#DejaVuSans-46\"/>\n     <use x=\"95.410156\" xlink:href=\"#DejaVuSans-50\"/>\n     <use x=\"159.033203\" xlink:href=\"#DejaVuSans-54\"/>\n    </g>\n   </g>\n   <g id=\"text_67\">\n    <!-- 0 -->\n    <g style=\"fill:#262626;\" transform=\"translate(751.38925 127.672554)scale(0.168 -0.168)\">\n     <use xlink:href=\"#DejaVuSans-48\"/>\n    </g>\n   </g>\n   <g id=\"text_68\">\n    <!-- 0 -->\n    <g style=\"fill:#262626;\" transform=\"translate(799.217821 127.672554)scale(0.168 -0.168)\">\n     <use xlink:href=\"#DejaVuSans-48\"/>\n    </g>\n   </g>\n   <g id=\"text_69\">\n    <!-- 0.22 -->\n    <g style=\"fill:#262626;\" transform=\"translate(833.687768 127.672554)scale(0.168 -0.168)\">\n     <use xlink:href=\"#DejaVuSans-48\"/>\n     <use x=\"63.623047\" xlink:href=\"#DejaVuSans-46\"/>\n     <use x=\"95.410156\" xlink:href=\"#DejaVuSans-50\"/>\n     <use x=\"159.033203\" xlink:href=\"#DejaVuSans-50\"/>\n    </g>\n   </g>\n   <g id=\"text_70\">\n    <!-- 0 -->\n    <g style=\"fill:#262626;\" transform=\"translate(894.874964 127.672554)scale(0.168 -0.168)\">\n     <use xlink:href=\"#DejaVuSans-48\"/>\n    </g>\n   </g>\n   <g id=\"text_71\">\n    <!-- -0.31 -->\n    <g style=\"fill:#262626;\" transform=\"translate(256.714348 166.501125)scale(0.168 -0.168)\">\n     <use xlink:href=\"#DejaVuSans-45\"/>\n     <use x=\"36.083984\" xlink:href=\"#DejaVuSans-48\"/>\n     <use x=\"99.707031\" xlink:href=\"#DejaVuSans-46\"/>\n     <use x=\"131.494141\" xlink:href=\"#DejaVuSans-51\"/>\n     <use x=\"195.117188\" xlink:href=\"#DejaVuSans-49\"/>\n    </g>\n   </g>\n   <g id=\"text_72\">\n    <!-- 0.29 -->\n    <g style=\"fill:#ffffff;\" transform=\"translate(307.573482 166.501125)scale(0.168 -0.168)\">\n     <use xlink:href=\"#DejaVuSans-48\"/>\n     <use x=\"63.623047\" xlink:href=\"#DejaVuSans-46\"/>\n     <use x=\"95.410156\" xlink:href=\"#DejaVuSans-50\"/>\n     <use x=\"159.033203\" xlink:href=\"#DejaVuSans-57\"/>\n    </g>\n   </g>\n   <g id=\"text_73\">\n    <!-- 0.44 -->\n    <g style=\"fill:#ffffff;\" transform=\"translate(355.402054 166.501125)scale(0.168 -0.168)\">\n     <use xlink:href=\"#DejaVuSans-48\"/>\n     <use x=\"63.623047\" xlink:href=\"#DejaVuSans-46\"/>\n     <use x=\"95.410156\" xlink:href=\"#DejaVuSans-52\"/>\n     <use x=\"159.033203\" xlink:href=\"#DejaVuSans-52\"/>\n    </g>\n   </g>\n   <g id=\"text_74\">\n    <!-- 1 -->\n    <g style=\"fill:#ffffff;\" transform=\"translate(416.58925 166.501125)scale(0.168 -0.168)\">\n     <use xlink:href=\"#DejaVuSans-49\"/>\n    </g>\n   </g>\n   <g id=\"text_75\">\n    <!-- 0 -->\n    <g style=\"fill:#262626;\" transform=\"translate(464.417821 166.501125)scale(0.168 -0.168)\">\n     <use xlink:href=\"#DejaVuSans-48\"/>\n    </g>\n   </g>\n   <g id=\"text_76\">\n    <!-- -0.32 -->\n    <g style=\"fill:#262626;\" transform=\"translate(495.857205 166.501125)scale(0.168 -0.168)\">\n     <use xlink:href=\"#DejaVuSans-45\"/>\n     <use x=\"36.083984\" xlink:href=\"#DejaVuSans-48\"/>\n     <use x=\"99.707031\" xlink:href=\"#DejaVuSans-46\"/>\n     <use x=\"131.494141\" xlink:href=\"#DejaVuSans-51\"/>\n     <use x=\"195.117188\" xlink:href=\"#DejaVuSans-50\"/>\n    </g>\n   </g>\n   <g id=\"text_77\">\n    <!-- -0.35 -->\n    <g style=\"fill:#262626;\" transform=\"translate(543.685777 166.501125)scale(0.168 -0.168)\">\n     <use xlink:href=\"#DejaVuSans-45\"/>\n     <use x=\"36.083984\" xlink:href=\"#DejaVuSans-48\"/>\n     <use x=\"99.707031\" xlink:href=\"#DejaVuSans-46\"/>\n     <use x=\"131.494141\" xlink:href=\"#DejaVuSans-51\"/>\n     <use x=\"195.117188\" xlink:href=\"#DejaVuSans-53\"/>\n    </g>\n   </g>\n   <g id=\"text_78\">\n    <!-- 0.36 -->\n    <g style=\"fill:#ffffff;\" transform=\"translate(594.544911 166.501125)scale(0.168 -0.168)\">\n     <use xlink:href=\"#DejaVuSans-48\"/>\n     <use x=\"63.623047\" xlink:href=\"#DejaVuSans-46\"/>\n     <use x=\"95.410156\" xlink:href=\"#DejaVuSans-51\"/>\n     <use x=\"159.033203\" xlink:href=\"#DejaVuSans-54\"/>\n    </g>\n   </g>\n   <g id=\"text_79\">\n    <!-- -0.2 -->\n    <g style=\"fill:#262626;\" transform=\"translate(644.68742 166.501125)scale(0.168 -0.168)\">\n     <use xlink:href=\"#DejaVuSans-45\"/>\n     <use x=\"36.083984\" xlink:href=\"#DejaVuSans-48\"/>\n     <use x=\"99.707031\" xlink:href=\"#DejaVuSans-46\"/>\n     <use x=\"131.494141\" xlink:href=\"#DejaVuSans-50\"/>\n    </g>\n   </g>\n   <g id=\"text_80\">\n    <!-- 0 -->\n    <g style=\"fill:#262626;\" transform=\"translate(703.560679 166.501125)scale(0.168 -0.168)\">\n     <use xlink:href=\"#DejaVuSans-48\"/>\n    </g>\n   </g>\n   <g id=\"text_81\">\n    <!-- -0.27 -->\n    <g style=\"fill:#262626;\" transform=\"translate(735.000063 166.501125)scale(0.168 -0.168)\">\n     <use xlink:href=\"#DejaVuSans-45\"/>\n     <use x=\"36.083984\" xlink:href=\"#DejaVuSans-48\"/>\n     <use x=\"99.707031\" xlink:href=\"#DejaVuSans-46\"/>\n     <use x=\"131.494141\" xlink:href=\"#DejaVuSans-50\"/>\n     <use x=\"195.117188\" xlink:href=\"#DejaVuSans-55\"/>\n    </g>\n   </g>\n   <g id=\"text_82\">\n    <!-- -0.28 -->\n    <g style=\"fill:#262626;\" transform=\"translate(782.828634 166.501125)scale(0.168 -0.168)\">\n     <use xlink:href=\"#DejaVuSans-45\"/>\n     <use x=\"36.083984\" xlink:href=\"#DejaVuSans-48\"/>\n     <use x=\"99.707031\" xlink:href=\"#DejaVuSans-46\"/>\n     <use x=\"131.494141\" xlink:href=\"#DejaVuSans-50\"/>\n     <use x=\"195.117188\" xlink:href=\"#DejaVuSans-56\"/>\n    </g>\n   </g>\n   <g id=\"text_83\">\n    <!-- -0.44 -->\n    <g style=\"fill:#262626;\" transform=\"translate(830.657205 166.501125)scale(0.168 -0.168)\">\n     <use xlink:href=\"#DejaVuSans-45\"/>\n     <use x=\"36.083984\" xlink:href=\"#DejaVuSans-48\"/>\n     <use x=\"99.707031\" xlink:href=\"#DejaVuSans-46\"/>\n     <use x=\"131.494141\" xlink:href=\"#DejaVuSans-52\"/>\n     <use x=\"195.117188\" xlink:href=\"#DejaVuSans-52\"/>\n    </g>\n   </g>\n   <g id=\"text_84\">\n    <!-- 0.52 -->\n    <g style=\"fill:#ffffff;\" transform=\"translate(881.516339 166.501125)scale(0.168 -0.168)\">\n     <use xlink:href=\"#DejaVuSans-48\"/>\n     <use x=\"63.623047\" xlink:href=\"#DejaVuSans-46\"/>\n     <use x=\"95.410156\" xlink:href=\"#DejaVuSans-53\"/>\n     <use x=\"159.033203\" xlink:href=\"#DejaVuSans-50\"/>\n    </g>\n   </g>\n   <g id=\"text_85\">\n    <!-- 0.27 -->\n    <g style=\"fill:#ffffff;\" transform=\"translate(259.744911 205.329696)scale(0.168 -0.168)\">\n     <use xlink:href=\"#DejaVuSans-48\"/>\n     <use x=\"63.623047\" xlink:href=\"#DejaVuSans-46\"/>\n     <use x=\"95.410156\" xlink:href=\"#DejaVuSans-50\"/>\n     <use x=\"159.033203\" xlink:href=\"#DejaVuSans-55\"/>\n    </g>\n   </g>\n   <g id=\"text_86\">\n    <!-- 0 -->\n    <g style=\"fill:#262626;\" transform=\"translate(320.932107 205.329696)scale(0.168 -0.168)\">\n     <use xlink:href=\"#DejaVuSans-48\"/>\n    </g>\n   </g>\n   <g id=\"text_87\">\n    <!-- 0.29 -->\n    <g style=\"fill:#ffffff;\" transform=\"translate(355.402054 205.329696)scale(0.168 -0.168)\">\n     <use xlink:href=\"#DejaVuSans-48\"/>\n     <use x=\"63.623047\" xlink:href=\"#DejaVuSans-46\"/>\n     <use x=\"95.410156\" xlink:href=\"#DejaVuSans-50\"/>\n     <use x=\"159.033203\" xlink:href=\"#DejaVuSans-57\"/>\n    </g>\n   </g>\n   <g id=\"text_88\">\n    <!-- 0 -->\n    <g style=\"fill:#262626;\" transform=\"translate(416.58925 205.329696)scale(0.168 -0.168)\">\n     <use xlink:href=\"#DejaVuSans-48\"/>\n    </g>\n   </g>\n   <g id=\"text_89\">\n    <!-- 1 -->\n    <g style=\"fill:#ffffff;\" transform=\"translate(464.417821 205.329696)scale(0.168 -0.168)\">\n     <use xlink:href=\"#DejaVuSans-49\"/>\n    </g>\n   </g>\n   <g id=\"text_90\">\n    <!-- 0.21 -->\n    <g style=\"fill:#262626;\" transform=\"translate(498.887768 205.329696)scale(0.168 -0.168)\">\n     <use xlink:href=\"#DejaVuSans-48\"/>\n     <use x=\"63.623047\" xlink:href=\"#DejaVuSans-46\"/>\n     <use x=\"95.410156\" xlink:href=\"#DejaVuSans-50\"/>\n     <use x=\"159.033203\" xlink:href=\"#DejaVuSans-49\"/>\n    </g>\n   </g>\n   <g id=\"text_91\">\n    <!-- 0.2 -->\n    <g style=\"fill:#262626;\" transform=\"translate(552.060839 205.329696)scale(0.168 -0.168)\">\n     <use xlink:href=\"#DejaVuSans-48\"/>\n     <use x=\"63.623047\" xlink:href=\"#DejaVuSans-46\"/>\n     <use x=\"95.410156\" xlink:href=\"#DejaVuSans-50\"/>\n    </g>\n   </g>\n   <g id=\"text_92\">\n    <!-- -0.26 -->\n    <g style=\"fill:#262626;\" transform=\"translate(591.514348 205.329696)scale(0.168 -0.168)\">\n     <use xlink:href=\"#DejaVuSans-45\"/>\n     <use x=\"36.083984\" xlink:href=\"#DejaVuSans-48\"/>\n     <use x=\"99.707031\" xlink:href=\"#DejaVuSans-46\"/>\n     <use x=\"131.494141\" xlink:href=\"#DejaVuSans-50\"/>\n     <use x=\"195.117188\" xlink:href=\"#DejaVuSans-54\"/>\n    </g>\n   </g>\n   <g id=\"text_93\">\n    <!-- 0.24 -->\n    <g style=\"fill:#262626;\" transform=\"translate(642.373482 205.329696)scale(0.168 -0.168)\">\n     <use xlink:href=\"#DejaVuSans-48\"/>\n     <use x=\"63.623047\" xlink:href=\"#DejaVuSans-46\"/>\n     <use x=\"95.410156\" xlink:href=\"#DejaVuSans-50\"/>\n     <use x=\"159.033203\" xlink:href=\"#DejaVuSans-52\"/>\n    </g>\n   </g>\n   <g id=\"text_94\">\n    <!-- 0.2 -->\n    <g style=\"fill:#262626;\" transform=\"translate(695.546554 205.329696)scale(0.168 -0.168)\">\n     <use xlink:href=\"#DejaVuSans-48\"/>\n     <use x=\"63.623047\" xlink:href=\"#DejaVuSans-46\"/>\n     <use x=\"95.410156\" xlink:href=\"#DejaVuSans-50\"/>\n    </g>\n   </g>\n   <g id=\"text_95\">\n    <!-- 0 -->\n    <g style=\"fill:#262626;\" transform=\"translate(751.38925 205.329696)scale(0.168 -0.168)\">\n     <use xlink:href=\"#DejaVuSans-48\"/>\n    </g>\n   </g>\n   <g id=\"text_96\">\n    <!-- 0 -->\n    <g style=\"fill:#262626;\" transform=\"translate(799.217821 205.329696)scale(0.168 -0.168)\">\n     <use xlink:href=\"#DejaVuSans-48\"/>\n    </g>\n   </g>\n   <g id=\"text_97\">\n    <!-- 0.39 -->\n    <g style=\"fill:#ffffff;\" transform=\"translate(833.687768 205.329696)scale(0.168 -0.168)\">\n     <use xlink:href=\"#DejaVuSans-48\"/>\n     <use x=\"63.623047\" xlink:href=\"#DejaVuSans-46\"/>\n     <use x=\"95.410156\" xlink:href=\"#DejaVuSans-51\"/>\n     <use x=\"159.033203\" xlink:href=\"#DejaVuSans-57\"/>\n    </g>\n   </g>\n   <g id=\"text_98\">\n    <!-- -0.21 -->\n    <g style=\"fill:#262626;\" transform=\"translate(878.485777 205.329696)scale(0.168 -0.168)\">\n     <use xlink:href=\"#DejaVuSans-45\"/>\n     <use x=\"36.083984\" xlink:href=\"#DejaVuSans-48\"/>\n     <use x=\"99.707031\" xlink:href=\"#DejaVuSans-46\"/>\n     <use x=\"131.494141\" xlink:href=\"#DejaVuSans-50\"/>\n     <use x=\"195.117188\" xlink:href=\"#DejaVuSans-49\"/>\n    </g>\n   </g>\n   <g id=\"text_99\">\n    <!-- 0.29 -->\n    <g style=\"fill:#ffffff;\" transform=\"translate(259.744911 244.158268)scale(0.168 -0.168)\">\n     <use xlink:href=\"#DejaVuSans-48\"/>\n     <use x=\"63.623047\" xlink:href=\"#DejaVuSans-46\"/>\n     <use x=\"95.410156\" xlink:href=\"#DejaVuSans-50\"/>\n     <use x=\"159.033203\" xlink:href=\"#DejaVuSans-57\"/>\n    </g>\n   </g>\n   <g id=\"text_100\">\n    <!-- -0.34 -->\n    <g style=\"fill:#262626;\" transform=\"translate(304.54292 244.158268)scale(0.168 -0.168)\">\n     <use xlink:href=\"#DejaVuSans-45\"/>\n     <use x=\"36.083984\" xlink:href=\"#DejaVuSans-48\"/>\n     <use x=\"99.707031\" xlink:href=\"#DejaVuSans-46\"/>\n     <use x=\"131.494141\" xlink:href=\"#DejaVuSans-51\"/>\n     <use x=\"195.117188\" xlink:href=\"#DejaVuSans-52\"/>\n    </g>\n   </g>\n   <g id=\"text_101\">\n    <!-- 0.13 -->\n    <g style=\"fill:#262626;\" transform=\"translate(355.402054 244.158268)scale(0.168 -0.168)\">\n     <use xlink:href=\"#DejaVuSans-48\"/>\n     <use x=\"63.623047\" xlink:href=\"#DejaVuSans-46\"/>\n     <use x=\"95.410156\" xlink:href=\"#DejaVuSans-49\"/>\n     <use x=\"159.033203\" xlink:href=\"#DejaVuSans-51\"/>\n    </g>\n   </g>\n   <g id=\"text_102\">\n    <!-- -0.32 -->\n    <g style=\"fill:#262626;\" transform=\"translate(400.200063 244.158268)scale(0.168 -0.168)\">\n     <use xlink:href=\"#DejaVuSans-45\"/>\n     <use x=\"36.083984\" xlink:href=\"#DejaVuSans-48\"/>\n     <use x=\"99.707031\" xlink:href=\"#DejaVuSans-46\"/>\n     <use x=\"131.494141\" xlink:href=\"#DejaVuSans-51\"/>\n     <use x=\"195.117188\" xlink:href=\"#DejaVuSans-50\"/>\n    </g>\n   </g>\n   <g id=\"text_103\">\n    <!-- 0.21 -->\n    <g style=\"fill:#262626;\" transform=\"translate(451.059196 244.158268)scale(0.168 -0.168)\">\n     <use xlink:href=\"#DejaVuSans-48\"/>\n     <use x=\"63.623047\" xlink:href=\"#DejaVuSans-46\"/>\n     <use x=\"95.410156\" xlink:href=\"#DejaVuSans-50\"/>\n     <use x=\"159.033203\" xlink:href=\"#DejaVuSans-49\"/>\n    </g>\n   </g>\n   <g id=\"text_104\">\n    <!-- 1 -->\n    <g style=\"fill:#ffffff;\" transform=\"translate(512.246393 244.158268)scale(0.168 -0.168)\">\n     <use xlink:href=\"#DejaVuSans-49\"/>\n    </g>\n   </g>\n   <g id=\"text_105\">\n    <!-- 0.86 -->\n    <g style=\"fill:#ffffff;\" transform=\"translate(546.716339 244.158268)scale(0.168 -0.168)\">\n     <use xlink:href=\"#DejaVuSans-48\"/>\n     <use x=\"63.623047\" xlink:href=\"#DejaVuSans-46\"/>\n     <use x=\"95.410156\" xlink:href=\"#DejaVuSans-56\"/>\n     <use x=\"159.033203\" xlink:href=\"#DejaVuSans-54\"/>\n    </g>\n   </g>\n   <g id=\"text_106\">\n    <!-- -0.45 -->\n    <g style=\"fill:#262626;\" transform=\"translate(591.514348 244.158268)scale(0.168 -0.168)\">\n     <use xlink:href=\"#DejaVuSans-45\"/>\n     <use x=\"36.083984\" xlink:href=\"#DejaVuSans-48\"/>\n     <use x=\"99.707031\" xlink:href=\"#DejaVuSans-46\"/>\n     <use x=\"131.494141\" xlink:href=\"#DejaVuSans-52\"/>\n     <use x=\"195.117188\" xlink:href=\"#DejaVuSans-53\"/>\n    </g>\n   </g>\n   <g id=\"text_107\">\n    <!-- 0.61 -->\n    <g style=\"fill:#ffffff;\" transform=\"translate(642.373482 244.158268)scale(0.168 -0.168)\">\n     <use xlink:href=\"#DejaVuSans-48\"/>\n     <use x=\"63.623047\" xlink:href=\"#DejaVuSans-46\"/>\n     <use x=\"95.410156\" xlink:href=\"#DejaVuSans-54\"/>\n     <use x=\"159.033203\" xlink:href=\"#DejaVuSans-49\"/>\n    </g>\n   </g>\n   <g id=\"text_108\">\n    <!-- 0 -->\n    <g style=\"fill:#262626;\" transform=\"translate(703.560679 244.158268)scale(0.168 -0.168)\">\n     <use xlink:href=\"#DejaVuSans-48\"/>\n    </g>\n   </g>\n   <g id=\"text_109\">\n    <!-- 0.43 -->\n    <g style=\"fill:#ffffff;\" transform=\"translate(738.030625 244.158268)scale(0.168 -0.168)\">\n     <use xlink:href=\"#DejaVuSans-48\"/>\n     <use x=\"63.623047\" xlink:href=\"#DejaVuSans-46\"/>\n     <use x=\"95.410156\" xlink:href=\"#DejaVuSans-52\"/>\n     <use x=\"159.033203\" xlink:href=\"#DejaVuSans-51\"/>\n    </g>\n   </g>\n   <g id=\"text_110\">\n    <!-- 0.7 -->\n    <g style=\"fill:#ffffff;\" transform=\"translate(791.203696 244.158268)scale(0.168 -0.168)\">\n     <use xlink:href=\"#DejaVuSans-48\"/>\n     <use x=\"63.623047\" xlink:href=\"#DejaVuSans-46\"/>\n     <use x=\"95.410156\" xlink:href=\"#DejaVuSans-55\"/>\n    </g>\n   </g>\n   <g id=\"text_111\">\n    <!-- 0.5 -->\n    <g style=\"fill:#ffffff;\" transform=\"translate(839.032268 244.158268)scale(0.168 -0.168)\">\n     <use xlink:href=\"#DejaVuSans-48\"/>\n     <use x=\"63.623047\" xlink:href=\"#DejaVuSans-46\"/>\n     <use x=\"95.410156\" xlink:href=\"#DejaVuSans-53\"/>\n    </g>\n   </g>\n   <g id=\"text_112\">\n    <!-- -0.72 -->\n    <g style=\"fill:#262626;\" transform=\"translate(878.485777 244.158268)scale(0.168 -0.168)\">\n     <use xlink:href=\"#DejaVuSans-45\"/>\n     <use x=\"36.083984\" xlink:href=\"#DejaVuSans-48\"/>\n     <use x=\"99.707031\" xlink:href=\"#DejaVuSans-46\"/>\n     <use x=\"131.494141\" xlink:href=\"#DejaVuSans-55\"/>\n     <use x=\"195.117188\" xlink:href=\"#DejaVuSans-50\"/>\n    </g>\n   </g>\n   <g id=\"text_113\">\n    <!-- 0.24 -->\n    <g style=\"fill:#262626;\" transform=\"translate(259.744911 282.986839)scale(0.168 -0.168)\">\n     <use xlink:href=\"#DejaVuSans-48\"/>\n     <use x=\"63.623047\" xlink:href=\"#DejaVuSans-46\"/>\n     <use x=\"95.410156\" xlink:href=\"#DejaVuSans-50\"/>\n     <use x=\"159.033203\" xlink:href=\"#DejaVuSans-52\"/>\n    </g>\n   </g>\n   <g id=\"text_114\">\n    <!-- -0.41 -->\n    <g style=\"fill:#262626;\" transform=\"translate(304.54292 282.986839)scale(0.168 -0.168)\">\n     <use xlink:href=\"#DejaVuSans-45\"/>\n     <use x=\"36.083984\" xlink:href=\"#DejaVuSans-48\"/>\n     <use x=\"99.707031\" xlink:href=\"#DejaVuSans-46\"/>\n     <use x=\"131.494141\" xlink:href=\"#DejaVuSans-52\"/>\n     <use x=\"195.117188\" xlink:href=\"#DejaVuSans-49\"/>\n    </g>\n   </g>\n   <g id=\"text_115\">\n    <!-- 0.12 -->\n    <g style=\"fill:#262626;\" transform=\"translate(355.402054 282.986839)scale(0.168 -0.168)\">\n     <use xlink:href=\"#DejaVuSans-48\"/>\n     <use x=\"63.623047\" xlink:href=\"#DejaVuSans-46\"/>\n     <use x=\"95.410156\" xlink:href=\"#DejaVuSans-49\"/>\n     <use x=\"159.033203\" xlink:href=\"#DejaVuSans-50\"/>\n    </g>\n   </g>\n   <g id=\"text_116\">\n    <!-- -0.35 -->\n    <g style=\"fill:#262626;\" transform=\"translate(400.200063 282.986839)scale(0.168 -0.168)\">\n     <use xlink:href=\"#DejaVuSans-45\"/>\n     <use x=\"36.083984\" xlink:href=\"#DejaVuSans-48\"/>\n     <use x=\"99.707031\" xlink:href=\"#DejaVuSans-46\"/>\n     <use x=\"131.494141\" xlink:href=\"#DejaVuSans-51\"/>\n     <use x=\"195.117188\" xlink:href=\"#DejaVuSans-53\"/>\n    </g>\n   </g>\n   <g id=\"text_117\">\n    <!-- 0.2 -->\n    <g style=\"fill:#262626;\" transform=\"translate(456.403696 282.986839)scale(0.168 -0.168)\">\n     <use xlink:href=\"#DejaVuSans-48\"/>\n     <use x=\"63.623047\" xlink:href=\"#DejaVuSans-46\"/>\n     <use x=\"95.410156\" xlink:href=\"#DejaVuSans-50\"/>\n    </g>\n   </g>\n   <g id=\"text_118\">\n    <!-- 0.86 -->\n    <g style=\"fill:#ffffff;\" transform=\"translate(498.887768 282.986839)scale(0.168 -0.168)\">\n     <use xlink:href=\"#DejaVuSans-48\"/>\n     <use x=\"63.623047\" xlink:href=\"#DejaVuSans-46\"/>\n     <use x=\"95.410156\" xlink:href=\"#DejaVuSans-56\"/>\n     <use x=\"159.033203\" xlink:href=\"#DejaVuSans-54\"/>\n    </g>\n   </g>\n   <g id=\"text_119\">\n    <!-- 1 -->\n    <g style=\"fill:#ffffff;\" transform=\"translate(560.074964 282.986839)scale(0.168 -0.168)\">\n     <use xlink:href=\"#DejaVuSans-49\"/>\n    </g>\n   </g>\n   <g id=\"text_120\">\n    <!-- -0.54 -->\n    <g style=\"fill:#262626;\" transform=\"translate(591.514348 282.986839)scale(0.168 -0.168)\">\n     <use xlink:href=\"#DejaVuSans-45\"/>\n     <use x=\"36.083984\" xlink:href=\"#DejaVuSans-48\"/>\n     <use x=\"99.707031\" xlink:href=\"#DejaVuSans-46\"/>\n     <use x=\"131.494141\" xlink:href=\"#DejaVuSans-53\"/>\n     <use x=\"195.117188\" xlink:href=\"#DejaVuSans-52\"/>\n    </g>\n   </g>\n   <g id=\"text_121\">\n    <!-- 0.65 -->\n    <g style=\"fill:#ffffff;\" transform=\"translate(642.373482 282.986839)scale(0.168 -0.168)\">\n     <use xlink:href=\"#DejaVuSans-48\"/>\n     <use x=\"63.623047\" xlink:href=\"#DejaVuSans-46\"/>\n     <use x=\"95.410156\" xlink:href=\"#DejaVuSans-54\"/>\n     <use x=\"159.033203\" xlink:href=\"#DejaVuSans-53\"/>\n    </g>\n   </g>\n   <g id=\"text_122\">\n    <!-- -0.17 -->\n    <g style=\"fill:#262626;\" transform=\"translate(687.171491 282.986839)scale(0.168 -0.168)\">\n     <use xlink:href=\"#DejaVuSans-45\"/>\n     <use x=\"36.083984\" xlink:href=\"#DejaVuSans-48\"/>\n     <use x=\"99.707031\" xlink:href=\"#DejaVuSans-46\"/>\n     <use x=\"131.494141\" xlink:href=\"#DejaVuSans-49\"/>\n     <use x=\"195.117188\" xlink:href=\"#DejaVuSans-55\"/>\n    </g>\n   </g>\n   <g id=\"text_123\">\n    <!-- 0.54 -->\n    <g style=\"fill:#ffffff;\" transform=\"translate(738.030625 282.986839)scale(0.168 -0.168)\">\n     <use xlink:href=\"#DejaVuSans-48\"/>\n     <use x=\"63.623047\" xlink:href=\"#DejaVuSans-46\"/>\n     <use x=\"95.410156\" xlink:href=\"#DejaVuSans-53\"/>\n     <use x=\"159.033203\" xlink:href=\"#DejaVuSans-52\"/>\n    </g>\n   </g>\n   <g id=\"text_124\">\n    <!-- 0.79 -->\n    <g style=\"fill:#ffffff;\" transform=\"translate(785.859196 282.986839)scale(0.168 -0.168)\">\n     <use xlink:href=\"#DejaVuSans-48\"/>\n     <use x=\"63.623047\" xlink:href=\"#DejaVuSans-46\"/>\n     <use x=\"95.410156\" xlink:href=\"#DejaVuSans-55\"/>\n     <use x=\"159.033203\" xlink:href=\"#DejaVuSans-57\"/>\n    </g>\n   </g>\n   <g id=\"text_125\">\n    <!-- 0.49 -->\n    <g style=\"fill:#ffffff;\" transform=\"translate(833.687768 282.986839)scale(0.168 -0.168)\">\n     <use xlink:href=\"#DejaVuSans-48\"/>\n     <use x=\"63.623047\" xlink:href=\"#DejaVuSans-46\"/>\n     <use x=\"95.410156\" xlink:href=\"#DejaVuSans-52\"/>\n     <use x=\"159.033203\" xlink:href=\"#DejaVuSans-57\"/>\n    </g>\n   </g>\n   <g id=\"text_126\">\n    <!-- -0.85 -->\n    <g style=\"fill:#262626;\" transform=\"translate(878.485777 282.986839)scale(0.168 -0.168)\">\n     <use xlink:href=\"#DejaVuSans-45\"/>\n     <use x=\"36.083984\" xlink:href=\"#DejaVuSans-48\"/>\n     <use x=\"99.707031\" xlink:href=\"#DejaVuSans-46\"/>\n     <use x=\"131.494141\" xlink:href=\"#DejaVuSans-56\"/>\n     <use x=\"195.117188\" xlink:href=\"#DejaVuSans-53\"/>\n    </g>\n   </g>\n   <g id=\"text_127\">\n    <!-- -0.16 -->\n    <g style=\"fill:#262626;\" transform=\"translate(256.714348 321.815411)scale(0.168 -0.168)\">\n     <use xlink:href=\"#DejaVuSans-45\"/>\n     <use x=\"36.083984\" xlink:href=\"#DejaVuSans-48\"/>\n     <use x=\"99.707031\" xlink:href=\"#DejaVuSans-46\"/>\n     <use x=\"131.494141\" xlink:href=\"#DejaVuSans-49\"/>\n     <use x=\"195.117188\" xlink:href=\"#DejaVuSans-54\"/>\n    </g>\n   </g>\n   <g id=\"text_128\">\n    <!-- 0.29 -->\n    <g style=\"fill:#ffffff;\" transform=\"translate(307.573482 321.815411)scale(0.168 -0.168)\">\n     <use xlink:href=\"#DejaVuSans-48\"/>\n     <use x=\"63.623047\" xlink:href=\"#DejaVuSans-46\"/>\n     <use x=\"95.410156\" xlink:href=\"#DejaVuSans-50\"/>\n     <use x=\"159.033203\" xlink:href=\"#DejaVuSans-57\"/>\n    </g>\n   </g>\n   <g id=\"text_129\">\n    <!-- 0.19 -->\n    <g style=\"fill:#262626;\" transform=\"translate(355.402054 321.815411)scale(0.168 -0.168)\">\n     <use xlink:href=\"#DejaVuSans-48\"/>\n     <use x=\"63.623047\" xlink:href=\"#DejaVuSans-46\"/>\n     <use x=\"95.410156\" xlink:href=\"#DejaVuSans-49\"/>\n     <use x=\"159.033203\" xlink:href=\"#DejaVuSans-57\"/>\n    </g>\n   </g>\n   <g id=\"text_130\">\n    <!-- 0.36 -->\n    <g style=\"fill:#ffffff;\" transform=\"translate(403.230625 321.815411)scale(0.168 -0.168)\">\n     <use xlink:href=\"#DejaVuSans-48\"/>\n     <use x=\"63.623047\" xlink:href=\"#DejaVuSans-46\"/>\n     <use x=\"95.410156\" xlink:href=\"#DejaVuSans-51\"/>\n     <use x=\"159.033203\" xlink:href=\"#DejaVuSans-54\"/>\n    </g>\n   </g>\n   <g id=\"text_131\">\n    <!-- -0.26 -->\n    <g style=\"fill:#262626;\" transform=\"translate(448.028634 321.815411)scale(0.168 -0.168)\">\n     <use xlink:href=\"#DejaVuSans-45\"/>\n     <use x=\"36.083984\" xlink:href=\"#DejaVuSans-48\"/>\n     <use x=\"99.707031\" xlink:href=\"#DejaVuSans-46\"/>\n     <use x=\"131.494141\" xlink:href=\"#DejaVuSans-50\"/>\n     <use x=\"195.117188\" xlink:href=\"#DejaVuSans-54\"/>\n    </g>\n   </g>\n   <g id=\"text_132\">\n    <!-- -0.45 -->\n    <g style=\"fill:#262626;\" transform=\"translate(495.857205 321.815411)scale(0.168 -0.168)\">\n     <use xlink:href=\"#DejaVuSans-45\"/>\n     <use x=\"36.083984\" xlink:href=\"#DejaVuSans-48\"/>\n     <use x=\"99.707031\" xlink:href=\"#DejaVuSans-46\"/>\n     <use x=\"131.494141\" xlink:href=\"#DejaVuSans-52\"/>\n     <use x=\"195.117188\" xlink:href=\"#DejaVuSans-53\"/>\n    </g>\n   </g>\n   <g id=\"text_133\">\n    <!-- -0.54 -->\n    <g style=\"fill:#262626;\" transform=\"translate(543.685777 321.815411)scale(0.168 -0.168)\">\n     <use xlink:href=\"#DejaVuSans-45\"/>\n     <use x=\"36.083984\" xlink:href=\"#DejaVuSans-48\"/>\n     <use x=\"99.707031\" xlink:href=\"#DejaVuSans-46\"/>\n     <use x=\"131.494141\" xlink:href=\"#DejaVuSans-53\"/>\n     <use x=\"195.117188\" xlink:href=\"#DejaVuSans-52\"/>\n    </g>\n   </g>\n   <g id=\"text_134\">\n    <!-- 1 -->\n    <g style=\"fill:#ffffff;\" transform=\"translate(607.903536 321.815411)scale(0.168 -0.168)\">\n     <use xlink:href=\"#DejaVuSans-49\"/>\n    </g>\n   </g>\n   <g id=\"text_135\">\n    <!-- -0.37 -->\n    <g style=\"fill:#262626;\" transform=\"translate(639.34292 321.815411)scale(0.168 -0.168)\">\n     <use xlink:href=\"#DejaVuSans-45\"/>\n     <use x=\"36.083984\" xlink:href=\"#DejaVuSans-48\"/>\n     <use x=\"99.707031\" xlink:href=\"#DejaVuSans-46\"/>\n     <use x=\"131.494141\" xlink:href=\"#DejaVuSans-51\"/>\n     <use x=\"195.117188\" xlink:href=\"#DejaVuSans-55\"/>\n    </g>\n   </g>\n   <g id=\"text_136\">\n    <!-- 0.14 -->\n    <g style=\"fill:#262626;\" transform=\"translate(690.202054 321.815411)scale(0.168 -0.168)\">\n     <use xlink:href=\"#DejaVuSans-48\"/>\n     <use x=\"63.623047\" xlink:href=\"#DejaVuSans-46\"/>\n     <use x=\"95.410156\" xlink:href=\"#DejaVuSans-49\"/>\n     <use x=\"159.033203\" xlink:href=\"#DejaVuSans-52\"/>\n    </g>\n   </g>\n   <g id=\"text_137\">\n    <!-- -0.26 -->\n    <g style=\"fill:#262626;\" transform=\"translate(735.000063 321.815411)scale(0.168 -0.168)\">\n     <use xlink:href=\"#DejaVuSans-45\"/>\n     <use x=\"36.083984\" xlink:href=\"#DejaVuSans-48\"/>\n     <use x=\"99.707031\" xlink:href=\"#DejaVuSans-46\"/>\n     <use x=\"131.494141\" xlink:href=\"#DejaVuSans-50\"/>\n     <use x=\"195.117188\" xlink:href=\"#DejaVuSans-54\"/>\n    </g>\n   </g>\n   <g id=\"text_138\">\n    <!-- -0.5 -->\n    <g style=\"fill:#262626;\" transform=\"translate(788.173134 321.815411)scale(0.168 -0.168)\">\n     <use xlink:href=\"#DejaVuSans-45\"/>\n     <use x=\"36.083984\" xlink:href=\"#DejaVuSans-48\"/>\n     <use x=\"99.707031\" xlink:href=\"#DejaVuSans-46\"/>\n     <use x=\"131.494141\" xlink:href=\"#DejaVuSans-53\"/>\n    </g>\n   </g>\n   <g id=\"text_139\">\n    <!-- -0.31 -->\n    <g style=\"fill:#262626;\" transform=\"translate(830.657205 321.815411)scale(0.168 -0.168)\">\n     <use xlink:href=\"#DejaVuSans-45\"/>\n     <use x=\"36.083984\" xlink:href=\"#DejaVuSans-48\"/>\n     <use x=\"99.707031\" xlink:href=\"#DejaVuSans-46\"/>\n     <use x=\"131.494141\" xlink:href=\"#DejaVuSans-51\"/>\n     <use x=\"195.117188\" xlink:href=\"#DejaVuSans-49\"/>\n    </g>\n   </g>\n   <g id=\"text_140\">\n    <!-- 0.49 -->\n    <g style=\"fill:#ffffff;\" transform=\"translate(881.516339 321.815411)scale(0.168 -0.168)\">\n     <use xlink:href=\"#DejaVuSans-48\"/>\n     <use x=\"63.623047\" xlink:href=\"#DejaVuSans-46\"/>\n     <use x=\"95.410156\" xlink:href=\"#DejaVuSans-52\"/>\n     <use x=\"159.033203\" xlink:href=\"#DejaVuSans-57\"/>\n    </g>\n   </g>\n   <g id=\"text_141\">\n    <!-- 0.14 -->\n    <g style=\"fill:#262626;\" transform=\"translate(259.744911 360.643982)scale(0.168 -0.168)\">\n     <use xlink:href=\"#DejaVuSans-48\"/>\n     <use x=\"63.623047\" xlink:href=\"#DejaVuSans-46\"/>\n     <use x=\"95.410156\" xlink:href=\"#DejaVuSans-49\"/>\n     <use x=\"159.033203\" xlink:href=\"#DejaVuSans-52\"/>\n    </g>\n   </g>\n   <g id=\"text_142\">\n    <!-- -0.22 -->\n    <g style=\"fill:#262626;\" transform=\"translate(304.54292 360.643982)scale(0.168 -0.168)\">\n     <use xlink:href=\"#DejaVuSans-45\"/>\n     <use x=\"36.083984\" xlink:href=\"#DejaVuSans-48\"/>\n     <use x=\"99.707031\" xlink:href=\"#DejaVuSans-46\"/>\n     <use x=\"131.494141\" xlink:href=\"#DejaVuSans-50\"/>\n     <use x=\"195.117188\" xlink:href=\"#DejaVuSans-50\"/>\n    </g>\n   </g>\n   <g id=\"text_143\">\n    <!-- 0 -->\n    <g style=\"fill:#262626;\" transform=\"translate(368.760679 360.643982)scale(0.168 -0.168)\">\n     <use xlink:href=\"#DejaVuSans-48\"/>\n    </g>\n   </g>\n   <g id=\"text_144\">\n    <!-- -0.2 -->\n    <g style=\"fill:#262626;\" transform=\"translate(405.544563 360.643982)scale(0.168 -0.168)\">\n     <use xlink:href=\"#DejaVuSans-45\"/>\n     <use x=\"36.083984\" xlink:href=\"#DejaVuSans-48\"/>\n     <use x=\"99.707031\" xlink:href=\"#DejaVuSans-46\"/>\n     <use x=\"131.494141\" xlink:href=\"#DejaVuSans-50\"/>\n    </g>\n   </g>\n   <g id=\"text_145\">\n    <!-- 0.24 -->\n    <g style=\"fill:#262626;\" transform=\"translate(451.059196 360.643982)scale(0.168 -0.168)\">\n     <use xlink:href=\"#DejaVuSans-48\"/>\n     <use x=\"63.623047\" xlink:href=\"#DejaVuSans-46\"/>\n     <use x=\"95.410156\" xlink:href=\"#DejaVuSans-50\"/>\n     <use x=\"159.033203\" xlink:href=\"#DejaVuSans-52\"/>\n    </g>\n   </g>\n   <g id=\"text_146\">\n    <!-- 0.61 -->\n    <g style=\"fill:#ffffff;\" transform=\"translate(498.887768 360.643982)scale(0.168 -0.168)\">\n     <use xlink:href=\"#DejaVuSans-48\"/>\n     <use x=\"63.623047\" xlink:href=\"#DejaVuSans-46\"/>\n     <use x=\"95.410156\" xlink:href=\"#DejaVuSans-54\"/>\n     <use x=\"159.033203\" xlink:href=\"#DejaVuSans-49\"/>\n    </g>\n   </g>\n   <g id=\"text_147\">\n    <!-- 0.65 -->\n    <g style=\"fill:#ffffff;\" transform=\"translate(546.716339 360.643982)scale(0.168 -0.168)\">\n     <use xlink:href=\"#DejaVuSans-48\"/>\n     <use x=\"63.623047\" xlink:href=\"#DejaVuSans-46\"/>\n     <use x=\"95.410156\" xlink:href=\"#DejaVuSans-54\"/>\n     <use x=\"159.033203\" xlink:href=\"#DejaVuSans-53\"/>\n    </g>\n   </g>\n   <g id=\"text_148\">\n    <!-- -0.37 -->\n    <g style=\"fill:#262626;\" transform=\"translate(591.514348 360.643982)scale(0.168 -0.168)\">\n     <use xlink:href=\"#DejaVuSans-45\"/>\n     <use x=\"36.083984\" xlink:href=\"#DejaVuSans-48\"/>\n     <use x=\"99.707031\" xlink:href=\"#DejaVuSans-46\"/>\n     <use x=\"131.494141\" xlink:href=\"#DejaVuSans-51\"/>\n     <use x=\"195.117188\" xlink:href=\"#DejaVuSans-55\"/>\n    </g>\n   </g>\n   <g id=\"text_149\">\n    <!-- 1 -->\n    <g style=\"fill:#ffffff;\" transform=\"translate(655.732107 360.643982)scale(0.168 -0.168)\">\n     <use xlink:href=\"#DejaVuSans-49\"/>\n    </g>\n   </g>\n   <g id=\"text_150\">\n    <!-- 0 -->\n    <g style=\"fill:#262626;\" transform=\"translate(703.560679 360.643982)scale(0.168 -0.168)\">\n     <use xlink:href=\"#DejaVuSans-48\"/>\n    </g>\n   </g>\n   <g id=\"text_151\">\n    <!-- 0.3 -->\n    <g style=\"fill:#ffffff;\" transform=\"translate(743.375125 360.643982)scale(0.168 -0.168)\">\n     <use xlink:href=\"#DejaVuSans-48\"/>\n     <use x=\"63.623047\" xlink:href=\"#DejaVuSans-46\"/>\n     <use x=\"95.410156\" xlink:href=\"#DejaVuSans-51\"/>\n    </g>\n   </g>\n   <g id=\"text_152\">\n    <!-- 0.52 -->\n    <g style=\"fill:#ffffff;\" transform=\"translate(785.859196 360.643982)scale(0.168 -0.168)\">\n     <use xlink:href=\"#DejaVuSans-48\"/>\n     <use x=\"63.623047\" xlink:href=\"#DejaVuSans-46\"/>\n     <use x=\"95.410156\" xlink:href=\"#DejaVuSans-53\"/>\n     <use x=\"159.033203\" xlink:href=\"#DejaVuSans-50\"/>\n    </g>\n   </g>\n   <g id=\"text_153\">\n    <!-- 0.33 -->\n    <g style=\"fill:#ffffff;\" transform=\"translate(833.687768 360.643982)scale(0.168 -0.168)\">\n     <use xlink:href=\"#DejaVuSans-48\"/>\n     <use x=\"63.623047\" xlink:href=\"#DejaVuSans-46\"/>\n     <use x=\"95.410156\" xlink:href=\"#DejaVuSans-51\"/>\n     <use x=\"159.033203\" xlink:href=\"#DejaVuSans-51\"/>\n    </g>\n   </g>\n   <g id=\"text_154\">\n    <!-- -0.5 -->\n    <g style=\"fill:#262626;\" transform=\"translate(883.830277 360.643982)scale(0.168 -0.168)\">\n     <use xlink:href=\"#DejaVuSans-45\"/>\n     <use x=\"36.083984\" xlink:href=\"#DejaVuSans-48\"/>\n     <use x=\"99.707031\" xlink:href=\"#DejaVuSans-46\"/>\n     <use x=\"131.494141\" xlink:href=\"#DejaVuSans-53\"/>\n    </g>\n   </g>\n   <g id=\"text_155\">\n    <!-- 0.55 -->\n    <g style=\"fill:#ffffff;\" transform=\"translate(259.744911 399.472554)scale(0.168 -0.168)\">\n     <use xlink:href=\"#DejaVuSans-48\"/>\n     <use x=\"63.623047\" xlink:href=\"#DejaVuSans-46\"/>\n     <use x=\"95.410156\" xlink:href=\"#DejaVuSans-53\"/>\n     <use x=\"159.033203\" xlink:href=\"#DejaVuSans-53\"/>\n    </g>\n   </g>\n   <g id=\"text_156\">\n    <!-- 0.25 -->\n    <g style=\"fill:#262626;\" transform=\"translate(307.573482 399.472554)scale(0.168 -0.168)\">\n     <use xlink:href=\"#DejaVuSans-48\"/>\n     <use x=\"63.623047\" xlink:href=\"#DejaVuSans-46\"/>\n     <use x=\"95.410156\" xlink:href=\"#DejaVuSans-50\"/>\n     <use x=\"159.033203\" xlink:href=\"#DejaVuSans-53\"/>\n    </g>\n   </g>\n   <g id=\"text_157\">\n    <!-- 0.26 -->\n    <g style=\"fill:#262626;\" transform=\"translate(355.402054 399.472554)scale(0.168 -0.168)\">\n     <use xlink:href=\"#DejaVuSans-48\"/>\n     <use x=\"63.623047\" xlink:href=\"#DejaVuSans-46\"/>\n     <use x=\"95.410156\" xlink:href=\"#DejaVuSans-50\"/>\n     <use x=\"159.033203\" xlink:href=\"#DejaVuSans-54\"/>\n    </g>\n   </g>\n   <g id=\"text_158\">\n    <!-- 0 -->\n    <g style=\"fill:#262626;\" transform=\"translate(416.58925 399.472554)scale(0.168 -0.168)\">\n     <use xlink:href=\"#DejaVuSans-48\"/>\n    </g>\n   </g>\n   <g id=\"text_159\">\n    <!-- 0.2 -->\n    <g style=\"fill:#262626;\" transform=\"translate(456.403696 399.472554)scale(0.168 -0.168)\">\n     <use xlink:href=\"#DejaVuSans-48\"/>\n     <use x=\"63.623047\" xlink:href=\"#DejaVuSans-46\"/>\n     <use x=\"95.410156\" xlink:href=\"#DejaVuSans-50\"/>\n    </g>\n   </g>\n   <g id=\"text_160\">\n    <!-- 0 -->\n    <g style=\"fill:#262626;\" transform=\"translate(512.246393 399.472554)scale(0.168 -0.168)\">\n     <use xlink:href=\"#DejaVuSans-48\"/>\n    </g>\n   </g>\n   <g id=\"text_161\">\n    <!-- -0.17 -->\n    <g style=\"fill:#262626;\" transform=\"translate(543.685777 399.472554)scale(0.168 -0.168)\">\n     <use xlink:href=\"#DejaVuSans-45\"/>\n     <use x=\"36.083984\" xlink:href=\"#DejaVuSans-48\"/>\n     <use x=\"99.707031\" xlink:href=\"#DejaVuSans-46\"/>\n     <use x=\"131.494141\" xlink:href=\"#DejaVuSans-49\"/>\n     <use x=\"195.117188\" xlink:href=\"#DejaVuSans-55\"/>\n    </g>\n   </g>\n   <g id=\"text_162\">\n    <!-- 0.14 -->\n    <g style=\"fill:#262626;\" transform=\"translate(594.544911 399.472554)scale(0.168 -0.168)\">\n     <use xlink:href=\"#DejaVuSans-48\"/>\n     <use x=\"63.623047\" xlink:href=\"#DejaVuSans-46\"/>\n     <use x=\"95.410156\" xlink:href=\"#DejaVuSans-49\"/>\n     <use x=\"159.033203\" xlink:href=\"#DejaVuSans-52\"/>\n    </g>\n   </g>\n   <g id=\"text_163\">\n    <!-- 0 -->\n    <g style=\"fill:#262626;\" transform=\"translate(655.732107 399.472554)scale(0.168 -0.168)\">\n     <use xlink:href=\"#DejaVuSans-48\"/>\n    </g>\n   </g>\n   <g id=\"text_164\">\n    <!-- 1 -->\n    <g style=\"fill:#ffffff;\" transform=\"translate(703.560679 399.472554)scale(0.168 -0.168)\">\n     <use xlink:href=\"#DejaVuSans-49\"/>\n    </g>\n   </g>\n   <g id=\"text_165\">\n    <!-- -0.52 -->\n    <g style=\"fill:#262626;\" transform=\"translate(735.000063 399.472554)scale(0.168 -0.168)\">\n     <use xlink:href=\"#DejaVuSans-45\"/>\n     <use x=\"36.083984\" xlink:href=\"#DejaVuSans-48\"/>\n     <use x=\"99.707031\" xlink:href=\"#DejaVuSans-46\"/>\n     <use x=\"131.494141\" xlink:href=\"#DejaVuSans-53\"/>\n     <use x=\"195.117188\" xlink:href=\"#DejaVuSans-50\"/>\n    </g>\n   </g>\n   <g id=\"text_166\">\n    <!-- -0.43 -->\n    <g style=\"fill:#262626;\" transform=\"translate(782.828634 399.472554)scale(0.168 -0.168)\">\n     <use xlink:href=\"#DejaVuSans-45\"/>\n     <use x=\"36.083984\" xlink:href=\"#DejaVuSans-48\"/>\n     <use x=\"99.707031\" xlink:href=\"#DejaVuSans-46\"/>\n     <use x=\"131.494141\" xlink:href=\"#DejaVuSans-52\"/>\n     <use x=\"195.117188\" xlink:href=\"#DejaVuSans-51\"/>\n    </g>\n   </g>\n   <g id=\"text_167\">\n    <!-- 0.32 -->\n    <g style=\"fill:#ffffff;\" transform=\"translate(833.687768 399.472554)scale(0.168 -0.168)\">\n     <use xlink:href=\"#DejaVuSans-48\"/>\n     <use x=\"63.623047\" xlink:href=\"#DejaVuSans-46\"/>\n     <use x=\"95.410156\" xlink:href=\"#DejaVuSans-51\"/>\n     <use x=\"159.033203\" xlink:href=\"#DejaVuSans-50\"/>\n    </g>\n   </g>\n   <g id=\"text_168\">\n    <!-- 0.27 -->\n    <g style=\"fill:#ffffff;\" transform=\"translate(881.516339 399.472554)scale(0.168 -0.168)\">\n     <use xlink:href=\"#DejaVuSans-48\"/>\n     <use x=\"63.623047\" xlink:href=\"#DejaVuSans-46\"/>\n     <use x=\"95.410156\" xlink:href=\"#DejaVuSans-50\"/>\n     <use x=\"159.033203\" xlink:href=\"#DejaVuSans-55\"/>\n    </g>\n   </g>\n   <g id=\"text_169\">\n    <!-- 0 -->\n    <g style=\"fill:#262626;\" transform=\"translate(273.103536 438.301125)scale(0.168 -0.168)\">\n     <use xlink:href=\"#DejaVuSans-48\"/>\n    </g>\n   </g>\n   <g id=\"text_170\">\n    <!-- -0.56 -->\n    <g style=\"fill:#262626;\" transform=\"translate(304.54292 438.301125)scale(0.168 -0.168)\">\n     <use xlink:href=\"#DejaVuSans-45\"/>\n     <use x=\"36.083984\" xlink:href=\"#DejaVuSans-48\"/>\n     <use x=\"99.707031\" xlink:href=\"#DejaVuSans-46\"/>\n     <use x=\"131.494141\" xlink:href=\"#DejaVuSans-53\"/>\n     <use x=\"195.117188\" xlink:href=\"#DejaVuSans-54\"/>\n    </g>\n   </g>\n   <g id=\"text_171\">\n    <!-- 0 -->\n    <g style=\"fill:#262626;\" transform=\"translate(368.760679 438.301125)scale(0.168 -0.168)\">\n     <use xlink:href=\"#DejaVuSans-48\"/>\n    </g>\n   </g>\n   <g id=\"text_172\">\n    <!-- -0.27 -->\n    <g style=\"fill:#262626;\" transform=\"translate(400.200063 438.301125)scale(0.168 -0.168)\">\n     <use xlink:href=\"#DejaVuSans-45\"/>\n     <use x=\"36.083984\" xlink:href=\"#DejaVuSans-48\"/>\n     <use x=\"99.707031\" xlink:href=\"#DejaVuSans-46\"/>\n     <use x=\"131.494141\" xlink:href=\"#DejaVuSans-50\"/>\n     <use x=\"195.117188\" xlink:href=\"#DejaVuSans-55\"/>\n    </g>\n   </g>\n   <g id=\"text_173\">\n    <!-- 0 -->\n    <g style=\"fill:#262626;\" transform=\"translate(464.417821 438.301125)scale(0.168 -0.168)\">\n     <use xlink:href=\"#DejaVuSans-48\"/>\n    </g>\n   </g>\n   <g id=\"text_174\">\n    <!-- 0.43 -->\n    <g style=\"fill:#ffffff;\" transform=\"translate(498.887768 438.301125)scale(0.168 -0.168)\">\n     <use xlink:href=\"#DejaVuSans-48\"/>\n     <use x=\"63.623047\" xlink:href=\"#DejaVuSans-46\"/>\n     <use x=\"95.410156\" xlink:href=\"#DejaVuSans-52\"/>\n     <use x=\"159.033203\" xlink:href=\"#DejaVuSans-51\"/>\n    </g>\n   </g>\n   <g id=\"text_175\">\n    <!-- 0.54 -->\n    <g style=\"fill:#ffffff;\" transform=\"translate(546.716339 438.301125)scale(0.168 -0.168)\">\n     <use xlink:href=\"#DejaVuSans-48\"/>\n     <use x=\"63.623047\" xlink:href=\"#DejaVuSans-46\"/>\n     <use x=\"95.410156\" xlink:href=\"#DejaVuSans-53\"/>\n     <use x=\"159.033203\" xlink:href=\"#DejaVuSans-52\"/>\n    </g>\n   </g>\n   <g id=\"text_176\">\n    <!-- -0.26 -->\n    <g style=\"fill:#262626;\" transform=\"translate(591.514348 438.301125)scale(0.168 -0.168)\">\n     <use xlink:href=\"#DejaVuSans-45\"/>\n     <use x=\"36.083984\" xlink:href=\"#DejaVuSans-48\"/>\n     <use x=\"99.707031\" xlink:href=\"#DejaVuSans-46\"/>\n     <use x=\"131.494141\" xlink:href=\"#DejaVuSans-50\"/>\n     <use x=\"195.117188\" xlink:href=\"#DejaVuSans-54\"/>\n    </g>\n   </g>\n   <g id=\"text_177\">\n    <!-- 0.3 -->\n    <g style=\"fill:#ffffff;\" transform=\"translate(647.717982 438.301125)scale(0.168 -0.168)\">\n     <use xlink:href=\"#DejaVuSans-48\"/>\n     <use x=\"63.623047\" xlink:href=\"#DejaVuSans-46\"/>\n     <use x=\"95.410156\" xlink:href=\"#DejaVuSans-51\"/>\n    </g>\n   </g>\n   <g id=\"text_178\">\n    <!-- -0.52 -->\n    <g style=\"fill:#262626;\" transform=\"translate(687.171491 438.301125)scale(0.168 -0.168)\">\n     <use xlink:href=\"#DejaVuSans-45\"/>\n     <use x=\"36.083984\" xlink:href=\"#DejaVuSans-48\"/>\n     <use x=\"99.707031\" xlink:href=\"#DejaVuSans-46\"/>\n     <use x=\"131.494141\" xlink:href=\"#DejaVuSans-53\"/>\n     <use x=\"195.117188\" xlink:href=\"#DejaVuSans-50\"/>\n    </g>\n   </g>\n   <g id=\"text_179\">\n    <!-- 1 -->\n    <g style=\"fill:#ffffff;\" transform=\"translate(751.38925 438.301125)scale(0.168 -0.168)\">\n     <use xlink:href=\"#DejaVuSans-49\"/>\n    </g>\n   </g>\n   <g id=\"text_180\">\n    <!-- 0.57 -->\n    <g style=\"fill:#ffffff;\" transform=\"translate(785.859196 438.301125)scale(0.168 -0.168)\">\n     <use xlink:href=\"#DejaVuSans-48\"/>\n     <use x=\"63.623047\" xlink:href=\"#DejaVuSans-46\"/>\n     <use x=\"95.410156\" xlink:href=\"#DejaVuSans-53\"/>\n     <use x=\"159.033203\" xlink:href=\"#DejaVuSans-55\"/>\n    </g>\n   </g>\n   <g id=\"text_181\">\n    <!-- 0.24 -->\n    <g style=\"fill:#262626;\" transform=\"translate(833.687768 438.301125)scale(0.168 -0.168)\">\n     <use xlink:href=\"#DejaVuSans-48\"/>\n     <use x=\"63.623047\" xlink:href=\"#DejaVuSans-46\"/>\n     <use x=\"95.410156\" xlink:href=\"#DejaVuSans-50\"/>\n     <use x=\"159.033203\" xlink:href=\"#DejaVuSans-52\"/>\n    </g>\n   </g>\n   <g id=\"text_182\">\n    <!-- -0.62 -->\n    <g style=\"fill:#262626;\" transform=\"translate(878.485777 438.301125)scale(0.168 -0.168)\">\n     <use xlink:href=\"#DejaVuSans-45\"/>\n     <use x=\"36.083984\" xlink:href=\"#DejaVuSans-48\"/>\n     <use x=\"99.707031\" xlink:href=\"#DejaVuSans-46\"/>\n     <use x=\"131.494141\" xlink:href=\"#DejaVuSans-54\"/>\n     <use x=\"195.117188\" xlink:href=\"#DejaVuSans-50\"/>\n    </g>\n   </g>\n   <g id=\"text_183\">\n    <!-- 0 -->\n    <g style=\"fill:#262626;\" transform=\"translate(273.103536 477.129696)scale(0.168 -0.168)\">\n     <use xlink:href=\"#DejaVuSans-48\"/>\n    </g>\n   </g>\n   <g id=\"text_184\">\n    <!-- -0.37 -->\n    <g style=\"fill:#262626;\" transform=\"translate(304.54292 477.129696)scale(0.168 -0.168)\">\n     <use xlink:href=\"#DejaVuSans-45\"/>\n     <use x=\"36.083984\" xlink:href=\"#DejaVuSans-48\"/>\n     <use x=\"99.707031\" xlink:href=\"#DejaVuSans-46\"/>\n     <use x=\"131.494141\" xlink:href=\"#DejaVuSans-51\"/>\n     <use x=\"195.117188\" xlink:href=\"#DejaVuSans-55\"/>\n    </g>\n   </g>\n   <g id=\"text_185\">\n    <!-- 0 -->\n    <g style=\"fill:#262626;\" transform=\"translate(368.760679 477.129696)scale(0.168 -0.168)\">\n     <use xlink:href=\"#DejaVuSans-48\"/>\n    </g>\n   </g>\n   <g id=\"text_186\">\n    <!-- -0.28 -->\n    <g style=\"fill:#262626;\" transform=\"translate(400.200063 477.129696)scale(0.168 -0.168)\">\n     <use xlink:href=\"#DejaVuSans-45\"/>\n     <use x=\"36.083984\" xlink:href=\"#DejaVuSans-48\"/>\n     <use x=\"99.707031\" xlink:href=\"#DejaVuSans-46\"/>\n     <use x=\"131.494141\" xlink:href=\"#DejaVuSans-50\"/>\n     <use x=\"195.117188\" xlink:href=\"#DejaVuSans-56\"/>\n    </g>\n   </g>\n   <g id=\"text_187\">\n    <!-- 0 -->\n    <g style=\"fill:#262626;\" transform=\"translate(464.417821 477.129696)scale(0.168 -0.168)\">\n     <use xlink:href=\"#DejaVuSans-48\"/>\n    </g>\n   </g>\n   <g id=\"text_188\">\n    <!-- 0.7 -->\n    <g style=\"fill:#ffffff;\" transform=\"translate(504.232268 477.129696)scale(0.168 -0.168)\">\n     <use xlink:href=\"#DejaVuSans-48\"/>\n     <use x=\"63.623047\" xlink:href=\"#DejaVuSans-46\"/>\n     <use x=\"95.410156\" xlink:href=\"#DejaVuSans-55\"/>\n    </g>\n   </g>\n   <g id=\"text_189\">\n    <!-- 0.79 -->\n    <g style=\"fill:#ffffff;\" transform=\"translate(546.716339 477.129696)scale(0.168 -0.168)\">\n     <use xlink:href=\"#DejaVuSans-48\"/>\n     <use x=\"63.623047\" xlink:href=\"#DejaVuSans-46\"/>\n     <use x=\"95.410156\" xlink:href=\"#DejaVuSans-55\"/>\n     <use x=\"159.033203\" xlink:href=\"#DejaVuSans-57\"/>\n    </g>\n   </g>\n   <g id=\"text_190\">\n    <!-- -0.5 -->\n    <g style=\"fill:#262626;\" transform=\"translate(596.858848 477.129696)scale(0.168 -0.168)\">\n     <use xlink:href=\"#DejaVuSans-45\"/>\n     <use x=\"36.083984\" xlink:href=\"#DejaVuSans-48\"/>\n     <use x=\"99.707031\" xlink:href=\"#DejaVuSans-46\"/>\n     <use x=\"131.494141\" xlink:href=\"#DejaVuSans-53\"/>\n    </g>\n   </g>\n   <g id=\"text_191\">\n    <!-- 0.52 -->\n    <g style=\"fill:#ffffff;\" transform=\"translate(642.373482 477.129696)scale(0.168 -0.168)\">\n     <use xlink:href=\"#DejaVuSans-48\"/>\n     <use x=\"63.623047\" xlink:href=\"#DejaVuSans-46\"/>\n     <use x=\"95.410156\" xlink:href=\"#DejaVuSans-53\"/>\n     <use x=\"159.033203\" xlink:href=\"#DejaVuSans-50\"/>\n    </g>\n   </g>\n   <g id=\"text_192\">\n    <!-- -0.43 -->\n    <g style=\"fill:#262626;\" transform=\"translate(687.171491 477.129696)scale(0.168 -0.168)\">\n     <use xlink:href=\"#DejaVuSans-45\"/>\n     <use x=\"36.083984\" xlink:href=\"#DejaVuSans-48\"/>\n     <use x=\"99.707031\" xlink:href=\"#DejaVuSans-46\"/>\n     <use x=\"131.494141\" xlink:href=\"#DejaVuSans-52\"/>\n     <use x=\"195.117188\" xlink:href=\"#DejaVuSans-51\"/>\n    </g>\n   </g>\n   <g id=\"text_193\">\n    <!-- 0.57 -->\n    <g style=\"fill:#ffffff;\" transform=\"translate(738.030625 477.129696)scale(0.168 -0.168)\">\n     <use xlink:href=\"#DejaVuSans-48\"/>\n     <use x=\"63.623047\" xlink:href=\"#DejaVuSans-46\"/>\n     <use x=\"95.410156\" xlink:href=\"#DejaVuSans-53\"/>\n     <use x=\"159.033203\" xlink:href=\"#DejaVuSans-55\"/>\n    </g>\n   </g>\n   <g id=\"text_194\">\n    <!-- 1 -->\n    <g style=\"fill:#ffffff;\" transform=\"translate(799.217821 477.129696)scale(0.168 -0.168)\">\n     <use xlink:href=\"#DejaVuSans-49\"/>\n    </g>\n   </g>\n   <g id=\"text_195\">\n    <!-- 0.31 -->\n    <g style=\"fill:#ffffff;\" transform=\"translate(833.687768 477.129696)scale(0.168 -0.168)\">\n     <use xlink:href=\"#DejaVuSans-48\"/>\n     <use x=\"63.623047\" xlink:href=\"#DejaVuSans-46\"/>\n     <use x=\"95.410156\" xlink:href=\"#DejaVuSans-51\"/>\n     <use x=\"159.033203\" xlink:href=\"#DejaVuSans-49\"/>\n    </g>\n   </g>\n   <g id=\"text_196\">\n    <!-- -0.79 -->\n    <g style=\"fill:#262626;\" transform=\"translate(878.485777 477.129696)scale(0.168 -0.168)\">\n     <use xlink:href=\"#DejaVuSans-45\"/>\n     <use x=\"36.083984\" xlink:href=\"#DejaVuSans-48\"/>\n     <use x=\"99.707031\" xlink:href=\"#DejaVuSans-46\"/>\n     <use x=\"131.494141\" xlink:href=\"#DejaVuSans-55\"/>\n     <use x=\"195.117188\" xlink:href=\"#DejaVuSans-57\"/>\n    </g>\n   </g>\n   <g id=\"text_197\">\n    <!-- 0.64 -->\n    <g style=\"fill:#ffffff;\" transform=\"translate(259.744911 515.958268)scale(0.168 -0.168)\">\n     <use xlink:href=\"#DejaVuSans-48\"/>\n     <use x=\"63.623047\" xlink:href=\"#DejaVuSans-46\"/>\n     <use x=\"95.410156\" xlink:href=\"#DejaVuSans-54\"/>\n     <use x=\"159.033203\" xlink:href=\"#DejaVuSans-52\"/>\n    </g>\n   </g>\n   <g id=\"text_198\">\n    <!-- -0.19 -->\n    <g style=\"fill:#262626;\" transform=\"translate(304.54292 515.958268)scale(0.168 -0.168)\">\n     <use xlink:href=\"#DejaVuSans-45\"/>\n     <use x=\"36.083984\" xlink:href=\"#DejaVuSans-48\"/>\n     <use x=\"99.707031\" xlink:href=\"#DejaVuSans-46\"/>\n     <use x=\"131.494141\" xlink:href=\"#DejaVuSans-49\"/>\n     <use x=\"195.117188\" xlink:href=\"#DejaVuSans-57\"/>\n    </g>\n   </g>\n   <g id=\"text_199\">\n    <!-- 0.22 -->\n    <g style=\"fill:#262626;\" transform=\"translate(355.402054 515.958268)scale(0.168 -0.168)\">\n     <use xlink:href=\"#DejaVuSans-48\"/>\n     <use x=\"63.623047\" xlink:href=\"#DejaVuSans-46\"/>\n     <use x=\"95.410156\" xlink:href=\"#DejaVuSans-50\"/>\n     <use x=\"159.033203\" xlink:href=\"#DejaVuSans-50\"/>\n    </g>\n   </g>\n   <g id=\"text_200\">\n    <!-- -0.44 -->\n    <g style=\"fill:#262626;\" transform=\"translate(400.200063 515.958268)scale(0.168 -0.168)\">\n     <use xlink:href=\"#DejaVuSans-45\"/>\n     <use x=\"36.083984\" xlink:href=\"#DejaVuSans-48\"/>\n     <use x=\"99.707031\" xlink:href=\"#DejaVuSans-46\"/>\n     <use x=\"131.494141\" xlink:href=\"#DejaVuSans-52\"/>\n     <use x=\"195.117188\" xlink:href=\"#DejaVuSans-52\"/>\n    </g>\n   </g>\n   <g id=\"text_201\">\n    <!-- 0.39 -->\n    <g style=\"fill:#ffffff;\" transform=\"translate(451.059196 515.958268)scale(0.168 -0.168)\">\n     <use xlink:href=\"#DejaVuSans-48\"/>\n     <use x=\"63.623047\" xlink:href=\"#DejaVuSans-46\"/>\n     <use x=\"95.410156\" xlink:href=\"#DejaVuSans-51\"/>\n     <use x=\"159.033203\" xlink:href=\"#DejaVuSans-57\"/>\n    </g>\n   </g>\n   <g id=\"text_202\">\n    <!-- 0.5 -->\n    <g style=\"fill:#ffffff;\" transform=\"translate(504.232268 515.958268)scale(0.168 -0.168)\">\n     <use xlink:href=\"#DejaVuSans-48\"/>\n     <use x=\"63.623047\" xlink:href=\"#DejaVuSans-46\"/>\n     <use x=\"95.410156\" xlink:href=\"#DejaVuSans-53\"/>\n    </g>\n   </g>\n   <g id=\"text_203\">\n    <!-- 0.49 -->\n    <g style=\"fill:#ffffff;\" transform=\"translate(546.716339 515.958268)scale(0.168 -0.168)\">\n     <use xlink:href=\"#DejaVuSans-48\"/>\n     <use x=\"63.623047\" xlink:href=\"#DejaVuSans-46\"/>\n     <use x=\"95.410156\" xlink:href=\"#DejaVuSans-52\"/>\n     <use x=\"159.033203\" xlink:href=\"#DejaVuSans-57\"/>\n    </g>\n   </g>\n   <g id=\"text_204\">\n    <!-- -0.31 -->\n    <g style=\"fill:#262626;\" transform=\"translate(591.514348 515.958268)scale(0.168 -0.168)\">\n     <use xlink:href=\"#DejaVuSans-45\"/>\n     <use x=\"36.083984\" xlink:href=\"#DejaVuSans-48\"/>\n     <use x=\"99.707031\" xlink:href=\"#DejaVuSans-46\"/>\n     <use x=\"131.494141\" xlink:href=\"#DejaVuSans-51\"/>\n     <use x=\"195.117188\" xlink:href=\"#DejaVuSans-49\"/>\n    </g>\n   </g>\n   <g id=\"text_205\">\n    <!-- 0.33 -->\n    <g style=\"fill:#ffffff;\" transform=\"translate(642.373482 515.958268)scale(0.168 -0.168)\">\n     <use xlink:href=\"#DejaVuSans-48\"/>\n     <use x=\"63.623047\" xlink:href=\"#DejaVuSans-46\"/>\n     <use x=\"95.410156\" xlink:href=\"#DejaVuSans-51\"/>\n     <use x=\"159.033203\" xlink:href=\"#DejaVuSans-51\"/>\n    </g>\n   </g>\n   <g id=\"text_206\">\n    <!-- 0.32 -->\n    <g style=\"fill:#ffffff;\" transform=\"translate(690.202054 515.958268)scale(0.168 -0.168)\">\n     <use xlink:href=\"#DejaVuSans-48\"/>\n     <use x=\"63.623047\" xlink:href=\"#DejaVuSans-46\"/>\n     <use x=\"95.410156\" xlink:href=\"#DejaVuSans-51\"/>\n     <use x=\"159.033203\" xlink:href=\"#DejaVuSans-50\"/>\n    </g>\n   </g>\n   <g id=\"text_207\">\n    <!-- 0.24 -->\n    <g style=\"fill:#262626;\" transform=\"translate(738.030625 515.958268)scale(0.168 -0.168)\">\n     <use xlink:href=\"#DejaVuSans-48\"/>\n     <use x=\"63.623047\" xlink:href=\"#DejaVuSans-46\"/>\n     <use x=\"95.410156\" xlink:href=\"#DejaVuSans-50\"/>\n     <use x=\"159.033203\" xlink:href=\"#DejaVuSans-52\"/>\n    </g>\n   </g>\n   <g id=\"text_208\">\n    <!-- 0.31 -->\n    <g style=\"fill:#ffffff;\" transform=\"translate(785.859196 515.958268)scale(0.168 -0.168)\">\n     <use xlink:href=\"#DejaVuSans-48\"/>\n     <use x=\"63.623047\" xlink:href=\"#DejaVuSans-46\"/>\n     <use x=\"95.410156\" xlink:href=\"#DejaVuSans-51\"/>\n     <use x=\"159.033203\" xlink:href=\"#DejaVuSans-49\"/>\n    </g>\n   </g>\n   <g id=\"text_209\">\n    <!-- 1 -->\n    <g style=\"fill:#ffffff;\" transform=\"translate(847.046393 515.958268)scale(0.168 -0.168)\">\n     <use xlink:href=\"#DejaVuSans-49\"/>\n    </g>\n   </g>\n   <g id=\"text_210\">\n    <!-- -0.63 -->\n    <g style=\"fill:#262626;\" transform=\"translate(878.485777 515.958268)scale(0.168 -0.168)\">\n     <use xlink:href=\"#DejaVuSans-45\"/>\n     <use x=\"36.083984\" xlink:href=\"#DejaVuSans-48\"/>\n     <use x=\"99.707031\" xlink:href=\"#DejaVuSans-46\"/>\n     <use x=\"131.494141\" xlink:href=\"#DejaVuSans-54\"/>\n     <use x=\"195.117188\" xlink:href=\"#DejaVuSans-51\"/>\n    </g>\n   </g>\n   <g id=\"text_211\">\n    <!-- -0.33 -->\n    <g style=\"fill:#262626;\" transform=\"translate(256.714348 554.786839)scale(0.168 -0.168)\">\n     <use xlink:href=\"#DejaVuSans-45\"/>\n     <use x=\"36.083984\" xlink:href=\"#DejaVuSans-48\"/>\n     <use x=\"99.707031\" xlink:href=\"#DejaVuSans-46\"/>\n     <use x=\"131.494141\" xlink:href=\"#DejaVuSans-51\"/>\n     <use x=\"195.117188\" xlink:href=\"#DejaVuSans-51\"/>\n    </g>\n   </g>\n   <g id=\"text_212\">\n    <!-- 0.44 -->\n    <g style=\"fill:#ffffff;\" transform=\"translate(307.573482 554.786839)scale(0.168 -0.168)\">\n     <use xlink:href=\"#DejaVuSans-48\"/>\n     <use x=\"63.623047\" xlink:href=\"#DejaVuSans-46\"/>\n     <use x=\"95.410156\" xlink:href=\"#DejaVuSans-52\"/>\n     <use x=\"159.033203\" xlink:href=\"#DejaVuSans-52\"/>\n    </g>\n   </g>\n   <g id=\"text_213\">\n    <!-- 0 -->\n    <g style=\"fill:#262626;\" transform=\"translate(368.760679 554.786839)scale(0.168 -0.168)\">\n     <use xlink:href=\"#DejaVuSans-48\"/>\n    </g>\n   </g>\n   <g id=\"text_214\">\n    <!-- 0.52 -->\n    <g style=\"fill:#ffffff;\" transform=\"translate(403.230625 554.786839)scale(0.168 -0.168)\">\n     <use xlink:href=\"#DejaVuSans-48\"/>\n     <use x=\"63.623047\" xlink:href=\"#DejaVuSans-46\"/>\n     <use x=\"95.410156\" xlink:href=\"#DejaVuSans-53\"/>\n     <use x=\"159.033203\" xlink:href=\"#DejaVuSans-50\"/>\n    </g>\n   </g>\n   <g id=\"text_215\">\n    <!-- -0.21 -->\n    <g style=\"fill:#262626;\" transform=\"translate(448.028634 554.786839)scale(0.168 -0.168)\">\n     <use xlink:href=\"#DejaVuSans-45\"/>\n     <use x=\"36.083984\" xlink:href=\"#DejaVuSans-48\"/>\n     <use x=\"99.707031\" xlink:href=\"#DejaVuSans-46\"/>\n     <use x=\"131.494141\" xlink:href=\"#DejaVuSans-50\"/>\n     <use x=\"195.117188\" xlink:href=\"#DejaVuSans-49\"/>\n    </g>\n   </g>\n   <g id=\"text_216\">\n    <!-- -0.72 -->\n    <g style=\"fill:#262626;\" transform=\"translate(495.857205 554.786839)scale(0.168 -0.168)\">\n     <use xlink:href=\"#DejaVuSans-45\"/>\n     <use x=\"36.083984\" xlink:href=\"#DejaVuSans-48\"/>\n     <use x=\"99.707031\" xlink:href=\"#DejaVuSans-46\"/>\n     <use x=\"131.494141\" xlink:href=\"#DejaVuSans-55\"/>\n     <use x=\"195.117188\" xlink:href=\"#DejaVuSans-50\"/>\n    </g>\n   </g>\n   <g id=\"text_217\">\n    <!-- -0.85 -->\n    <g style=\"fill:#262626;\" transform=\"translate(543.685777 554.786839)scale(0.168 -0.168)\">\n     <use xlink:href=\"#DejaVuSans-45\"/>\n     <use x=\"36.083984\" xlink:href=\"#DejaVuSans-48\"/>\n     <use x=\"99.707031\" xlink:href=\"#DejaVuSans-46\"/>\n     <use x=\"131.494141\" xlink:href=\"#DejaVuSans-56\"/>\n     <use x=\"195.117188\" xlink:href=\"#DejaVuSans-53\"/>\n    </g>\n   </g>\n   <g id=\"text_218\">\n    <!-- 0.49 -->\n    <g style=\"fill:#ffffff;\" transform=\"translate(594.544911 554.786839)scale(0.168 -0.168)\">\n     <use xlink:href=\"#DejaVuSans-48\"/>\n     <use x=\"63.623047\" xlink:href=\"#DejaVuSans-46\"/>\n     <use x=\"95.410156\" xlink:href=\"#DejaVuSans-52\"/>\n     <use x=\"159.033203\" xlink:href=\"#DejaVuSans-57\"/>\n    </g>\n   </g>\n   <g id=\"text_219\">\n    <!-- -0.5 -->\n    <g style=\"fill:#262626;\" transform=\"translate(644.68742 554.786839)scale(0.168 -0.168)\">\n     <use xlink:href=\"#DejaVuSans-45\"/>\n     <use x=\"36.083984\" xlink:href=\"#DejaVuSans-48\"/>\n     <use x=\"99.707031\" xlink:href=\"#DejaVuSans-46\"/>\n     <use x=\"131.494141\" xlink:href=\"#DejaVuSans-53\"/>\n    </g>\n   </g>\n   <g id=\"text_220\">\n    <!-- 0.27 -->\n    <g style=\"fill:#ffffff;\" transform=\"translate(690.202054 554.786839)scale(0.168 -0.168)\">\n     <use xlink:href=\"#DejaVuSans-48\"/>\n     <use x=\"63.623047\" xlink:href=\"#DejaVuSans-46\"/>\n     <use x=\"95.410156\" xlink:href=\"#DejaVuSans-50\"/>\n     <use x=\"159.033203\" xlink:href=\"#DejaVuSans-55\"/>\n    </g>\n   </g>\n   <g id=\"text_221\">\n    <!-- -0.62 -->\n    <g style=\"fill:#262626;\" transform=\"translate(735.000063 554.786839)scale(0.168 -0.168)\">\n     <use xlink:href=\"#DejaVuSans-45\"/>\n     <use x=\"36.083984\" xlink:href=\"#DejaVuSans-48\"/>\n     <use x=\"99.707031\" xlink:href=\"#DejaVuSans-46\"/>\n     <use x=\"131.494141\" xlink:href=\"#DejaVuSans-54\"/>\n     <use x=\"195.117188\" xlink:href=\"#DejaVuSans-50\"/>\n    </g>\n   </g>\n   <g id=\"text_222\">\n    <!-- -0.79 -->\n    <g style=\"fill:#262626;\" transform=\"translate(782.828634 554.786839)scale(0.168 -0.168)\">\n     <use xlink:href=\"#DejaVuSans-45\"/>\n     <use x=\"36.083984\" xlink:href=\"#DejaVuSans-48\"/>\n     <use x=\"99.707031\" xlink:href=\"#DejaVuSans-46\"/>\n     <use x=\"131.494141\" xlink:href=\"#DejaVuSans-55\"/>\n     <use x=\"195.117188\" xlink:href=\"#DejaVuSans-57\"/>\n    </g>\n   </g>\n   <g id=\"text_223\">\n    <!-- -0.63 -->\n    <g style=\"fill:#262626;\" transform=\"translate(830.657205 554.786839)scale(0.168 -0.168)\">\n     <use xlink:href=\"#DejaVuSans-45\"/>\n     <use x=\"36.083984\" xlink:href=\"#DejaVuSans-48\"/>\n     <use x=\"99.707031\" xlink:href=\"#DejaVuSans-46\"/>\n     <use x=\"131.494141\" xlink:href=\"#DejaVuSans-54\"/>\n     <use x=\"195.117188\" xlink:href=\"#DejaVuSans-51\"/>\n    </g>\n   </g>\n   <g id=\"text_224\">\n    <!-- 1 -->\n    <g style=\"fill:#ffffff;\" transform=\"translate(894.874964 554.786839)scale(0.168 -0.168)\">\n     <use xlink:href=\"#DejaVuSans-49\"/>\n    </g>\n   </g>\n   <g id=\"text_225\">\n    <!-- Correlation matrix -->\n    <defs>\n     <path d=\"M 64.40625 67.28125 \nL 64.40625 56.890625 \nQ 59.421875 61.53125 53.78125 63.8125 \nQ 48.140625 66.109375 41.796875 66.109375 \nQ 29.296875 66.109375 22.65625 58.46875 \nQ 16.015625 50.828125 16.015625 36.375 \nQ 16.015625 21.96875 22.65625 14.328125 \nQ 29.296875 6.6875 41.796875 6.6875 \nQ 48.140625 6.6875 53.78125 8.984375 \nQ 59.421875 11.28125 64.40625 15.921875 \nL 64.40625 5.609375 \nQ 59.234375 2.09375 53.4375 0.328125 \nQ 47.65625 -1.421875 41.21875 -1.421875 \nQ 24.65625 -1.421875 15.125 8.703125 \nQ 5.609375 18.84375 5.609375 36.375 \nQ 5.609375 53.953125 15.125 64.078125 \nQ 24.65625 74.21875 41.21875 74.21875 \nQ 47.75 74.21875 53.53125 72.484375 \nQ 59.328125 70.75 64.40625 67.28125 \nz\n\" id=\"DejaVuSans-67\"/>\n     <path id=\"DejaVuSans-32\"/>\n     <path d=\"M 54.890625 54.6875 \nL 35.109375 28.078125 \nL 55.90625 0 \nL 45.3125 0 \nL 29.390625 21.484375 \nL 13.484375 0 \nL 2.875 0 \nL 24.125 28.609375 \nL 4.6875 54.6875 \nL 15.28125 54.6875 \nL 29.78125 35.203125 \nL 44.28125 54.6875 \nz\n\" id=\"DejaVuSans-120\"/>\n    </defs>\n    <g style=\"fill:#262626;\" transform=\"translate(512.96725 19.965375)scale(0.168 -0.168)\">\n     <use xlink:href=\"#DejaVuSans-67\"/>\n     <use x=\"69.824219\" xlink:href=\"#DejaVuSans-111\"/>\n     <use x=\"131.005859\" xlink:href=\"#DejaVuSans-114\"/>\n     <use x=\"170.369141\" xlink:href=\"#DejaVuSans-114\"/>\n     <use x=\"209.232422\" xlink:href=\"#DejaVuSans-101\"/>\n     <use x=\"270.755859\" xlink:href=\"#DejaVuSans-108\"/>\n     <use x=\"298.539062\" xlink:href=\"#DejaVuSans-97\"/>\n     <use x=\"359.818359\" xlink:href=\"#DejaVuSans-116\"/>\n     <use x=\"399.027344\" xlink:href=\"#DejaVuSans-105\"/>\n     <use x=\"426.810547\" xlink:href=\"#DejaVuSans-111\"/>\n     <use x=\"487.992188\" xlink:href=\"#DejaVuSans-110\"/>\n     <use x=\"551.371094\" xlink:href=\"#DejaVuSans-32\"/>\n     <use x=\"583.158203\" xlink:href=\"#DejaVuSans-109\"/>\n     <use x=\"680.570312\" xlink:href=\"#DejaVuSans-97\"/>\n     <use x=\"741.849609\" xlink:href=\"#DejaVuSans-116\"/>\n     <use x=\"781.058594\" xlink:href=\"#DejaVuSans-114\"/>\n     <use x=\"822.171875\" xlink:href=\"#DejaVuSans-105\"/>\n     <use x=\"849.955078\" xlink:href=\"#DejaVuSans-120\"/>\n    </g>\n   </g>\n  </g>\n  <g id=\"axes_2\">\n   <g id=\"patch_3\">\n    <path clip-path=\"url(#p9629abc043)\" d=\"M 965.98375 569.565375 \nL 965.98375 567.441937 \nL 965.98375 28.088813 \nL 965.98375 25.965375 \nL 993.16375 25.965375 \nL 993.16375 28.088813 \nL 993.16375 567.441937 \nL 993.16375 569.565375 \nz\n\" style=\"fill:#eaeaf2;stroke:#eaeaf2;stroke-linejoin:miter;stroke-width:0.01;\"/>\n   </g>\n   <g id=\"matplotlib.axis_3\"/>\n   <g id=\"matplotlib.axis_4\">\n    <g id=\"ytick_15\">\n     <g id=\"line2d_1\">\n      <defs>\n       <path d=\"M 0 0 \nL 6 0 \n\" id=\"mbace8b8fc6\" style=\"stroke:#262626;stroke-width:1.25;\"/>\n      </defs>\n      <g>\n       <use style=\"fill:#262626;stroke:#262626;stroke-width:1.25;\" x=\"993.16375\" xlink:href=\"#mbace8b8fc6\" y=\"540.181591\"/>\n      </g>\n     </g>\n     <g id=\"text_226\">\n      <!-- −0.75 -->\n      <defs>\n       <path d=\"M 10.59375 35.5 \nL 73.1875 35.5 \nL 73.1875 27.203125 \nL 10.59375 27.203125 \nz\n\" id=\"DejaVuSans-8722\"/>\n      </defs>\n      <g style=\"fill:#262626;\" transform=\"translate(1002.66375 546.032388)scale(0.154 -0.154)\">\n       <use xlink:href=\"#DejaVuSans-8722\"/>\n       <use x=\"83.789062\" xlink:href=\"#DejaVuSans-48\"/>\n       <use x=\"147.412109\" xlink:href=\"#DejaVuSans-46\"/>\n       <use x=\"179.199219\" xlink:href=\"#DejaVuSans-55\"/>\n       <use x=\"242.822266\" xlink:href=\"#DejaVuSans-53\"/>\n      </g>\n     </g>\n    </g>\n    <g id=\"ytick_16\">\n     <g id=\"line2d_2\">\n      <g>\n       <use style=\"fill:#262626;stroke:#262626;stroke-width:1.25;\" x=\"993.16375\" xlink:href=\"#mbace8b8fc6\" y=\"466.722132\"/>\n      </g>\n     </g>\n     <g id=\"text_227\">\n      <!-- −0.50 -->\n      <g style=\"fill:#262626;\" transform=\"translate(1002.66375 472.572929)scale(0.154 -0.154)\">\n       <use xlink:href=\"#DejaVuSans-8722\"/>\n       <use x=\"83.789062\" xlink:href=\"#DejaVuSans-48\"/>\n       <use x=\"147.412109\" xlink:href=\"#DejaVuSans-46\"/>\n       <use x=\"179.199219\" xlink:href=\"#DejaVuSans-53\"/>\n       <use x=\"242.822266\" xlink:href=\"#DejaVuSans-48\"/>\n      </g>\n     </g>\n    </g>\n    <g id=\"ytick_17\">\n     <g id=\"line2d_3\">\n      <g>\n       <use style=\"fill:#262626;stroke:#262626;stroke-width:1.25;\" x=\"993.16375\" xlink:href=\"#mbace8b8fc6\" y=\"393.262672\"/>\n      </g>\n     </g>\n     <g id=\"text_228\">\n      <!-- −0.25 -->\n      <g style=\"fill:#262626;\" transform=\"translate(1002.66375 399.113469)scale(0.154 -0.154)\">\n       <use xlink:href=\"#DejaVuSans-8722\"/>\n       <use x=\"83.789062\" xlink:href=\"#DejaVuSans-48\"/>\n       <use x=\"147.412109\" xlink:href=\"#DejaVuSans-46\"/>\n       <use x=\"179.199219\" xlink:href=\"#DejaVuSans-50\"/>\n       <use x=\"242.822266\" xlink:href=\"#DejaVuSans-53\"/>\n      </g>\n     </g>\n    </g>\n    <g id=\"ytick_18\">\n     <g id=\"line2d_4\">\n      <g>\n       <use style=\"fill:#262626;stroke:#262626;stroke-width:1.25;\" x=\"993.16375\" xlink:href=\"#mbace8b8fc6\" y=\"319.803213\"/>\n      </g>\n     </g>\n     <g id=\"text_229\">\n      <!-- 0.00 -->\n      <g style=\"fill:#262626;\" transform=\"translate(1002.66375 325.65401)scale(0.154 -0.154)\">\n       <use xlink:href=\"#DejaVuSans-48\"/>\n       <use x=\"63.623047\" xlink:href=\"#DejaVuSans-46\"/>\n       <use x=\"95.410156\" xlink:href=\"#DejaVuSans-48\"/>\n       <use x=\"159.033203\" xlink:href=\"#DejaVuSans-48\"/>\n      </g>\n     </g>\n    </g>\n    <g id=\"ytick_19\">\n     <g id=\"line2d_5\">\n      <g>\n       <use style=\"fill:#262626;stroke:#262626;stroke-width:1.25;\" x=\"993.16375\" xlink:href=\"#mbace8b8fc6\" y=\"246.343753\"/>\n      </g>\n     </g>\n     <g id=\"text_230\">\n      <!-- 0.25 -->\n      <g style=\"fill:#262626;\" transform=\"translate(1002.66375 252.19455)scale(0.154 -0.154)\">\n       <use xlink:href=\"#DejaVuSans-48\"/>\n       <use x=\"63.623047\" xlink:href=\"#DejaVuSans-46\"/>\n       <use x=\"95.410156\" xlink:href=\"#DejaVuSans-50\"/>\n       <use x=\"159.033203\" xlink:href=\"#DejaVuSans-53\"/>\n      </g>\n     </g>\n    </g>\n    <g id=\"ytick_20\">\n     <g id=\"line2d_6\">\n      <g>\n       <use style=\"fill:#262626;stroke:#262626;stroke-width:1.25;\" x=\"993.16375\" xlink:href=\"#mbace8b8fc6\" y=\"172.884294\"/>\n      </g>\n     </g>\n     <g id=\"text_231\">\n      <!-- 0.50 -->\n      <g style=\"fill:#262626;\" transform=\"translate(1002.66375 178.735091)scale(0.154 -0.154)\">\n       <use xlink:href=\"#DejaVuSans-48\"/>\n       <use x=\"63.623047\" xlink:href=\"#DejaVuSans-46\"/>\n       <use x=\"95.410156\" xlink:href=\"#DejaVuSans-53\"/>\n       <use x=\"159.033203\" xlink:href=\"#DejaVuSans-48\"/>\n      </g>\n     </g>\n    </g>\n    <g id=\"ytick_21\">\n     <g id=\"line2d_7\">\n      <g>\n       <use style=\"fill:#262626;stroke:#262626;stroke-width:1.25;\" x=\"993.16375\" xlink:href=\"#mbace8b8fc6\" y=\"99.424834\"/>\n      </g>\n     </g>\n     <g id=\"text_232\">\n      <!-- 0.75 -->\n      <g style=\"fill:#262626;\" transform=\"translate(1002.66375 105.275631)scale(0.154 -0.154)\">\n       <use xlink:href=\"#DejaVuSans-48\"/>\n       <use x=\"63.623047\" xlink:href=\"#DejaVuSans-46\"/>\n       <use x=\"95.410156\" xlink:href=\"#DejaVuSans-55\"/>\n       <use x=\"159.033203\" xlink:href=\"#DejaVuSans-53\"/>\n      </g>\n     </g>\n    </g>\n    <g id=\"ytick_22\">\n     <g id=\"line2d_8\">\n      <g>\n       <use style=\"fill:#262626;stroke:#262626;stroke-width:1.25;\" x=\"993.16375\" xlink:href=\"#mbace8b8fc6\" y=\"25.965375\"/>\n      </g>\n     </g>\n     <g id=\"text_233\">\n      <!-- 1.00 -->\n      <g style=\"fill:#262626;\" transform=\"translate(1002.66375 31.816172)scale(0.154 -0.154)\">\n       <use xlink:href=\"#DejaVuSans-49\"/>\n       <use x=\"63.623047\" xlink:href=\"#DejaVuSans-46\"/>\n       <use x=\"95.410156\" xlink:href=\"#DejaVuSans-48\"/>\n       <use x=\"159.033203\" xlink:href=\"#DejaVuSans-48\"/>\n      </g>\n     </g>\n    </g>\n   </g>\n   <image height=\"543\" id=\"image9874472809\" transform=\"scale(1 -1)translate(0 -543)\" width=\"27\" x=\"966\" xlink:href=\"data:image/png;base64,\niVBORw0KGgoAAAANSUhEUgAAABsAAAIfCAYAAACB2qdqAAAABHNCSVQICAgIfAhkiAAAAo5JREFUeJztm8FtBDEMxDaB+681v3yC3XSQT4gBliAbEHRD2fId7uP75+u5RpznmtW6PmeVrus6w8bGnWkz62NEOEPz50Ptzczb2Y5sRMhGhC5PhIYawau+2MbHaqO3mNlGa2d9NYHgFaTLE6FVDiEbEbIRwWtj6iOIO2uVI6gzhGxEqLP3FTuX9WM8w7WxzBi8Q+3d9dXvM29nO7o8Efr9rGJ/oj6urJ2ZL88d2fi+YurLc1cs9RHMNg6LdXkiiOdMa2PHFYL35elVPxsRtp3dw2Jdngjeh0WCIHgFKTOEMkM4d5kBtH6/r5h4I9YKUmYIZYbQyxOhJfV9xRIEocwQxJndZQbQnCF4l9Q2YgSvIOLMxK+Y52NWrDlDOHeZAYgvzwQhaNdHOPeltdGbWScIQKscgnf9ThAEryBlhlBmCOLLs4WHQHx5JghB7zOEbEQoMwRxZtpVrl0fwStImSH0VxUEcWbiJdX6w0+CIJg3Ym1m3l0/GwnKDMGb2fq4sgrSrk9QZgjmzIbFygyhyxPBvF0Ni5UZgneoxZ2JbRwWK7P3FRMPtXdvNL/PrP/NNXe2KzbubDho2fi+Ymb1rYKIh7q1gKDOEMxno/UESX0Es/rezKxDLbbx9too7mxXzHx5io8rb2e7YmWGoJ6zXbFsRFAvPLtirQUICYIgPq7Mne2KlRmCOTPrqd/vZwjqofZ2titWZgjmzKxXjDezhhrBK4g4s74oI8hGhPMM/5xbZu8r1lAj1BlCNiL03RVCL08E9eVpFeQSd7ZbicedaY+rbCQoMwTvnKU+gll9b2d3Nv6fOkMwn41dngCpj1BmCN6hzkaEMkPwzlnqI5jV92ZmHepsRKgzBO83PAmC8Avu0P0PPnY5GgAAAABJRU5ErkJggg==\" y=\"-26\"/>\n   <g id=\"patch_4\">\n    <path d=\"M 965.98375 569.565375 \nL 965.98375 567.441937 \nL 965.98375 28.088813 \nL 965.98375 25.965375 \nL 993.16375 25.965375 \nL 993.16375 28.088813 \nL 993.16375 567.441937 \nL 993.16375 569.565375 \nz\n\" style=\"fill:none;\"/>\n   </g>\n  </g>\n </g>\n <defs>\n  <clipPath id=\"pb9e1264415\">\n   <rect height=\"543.6\" width=\"669.6\" x=\"254.53375\" y=\"25.965375\"/>\n  </clipPath>\n  <clipPath id=\"p9629abc043\">\n   <rect height=\"543.6\" width=\"27.18\" x=\"965.98375\" y=\"25.965375\"/>\n  </clipPath>\n </defs>\n</svg>\n"
          },
          "metadata": {
            "needs_background": "light"
          }
        }
      ]
    },
    {
      "cell_type": "code",
      "metadata": {
        "id": "q-_gXkPVAOXz"
      },
      "source": [
        "#9). Создайте список high_corr из признаков, корреляция которых с полем target по абсолютному значению превышает 0.5 (причем, само поле target не должно входить в этот список).\n",
        "target_corr = wine_X_corr.loc[:, 'target'].drop('target')\n",
        "high_corr = [i for i in target_corr.index if abs(target_corr[i])>0.5]"
      ],
      "execution_count": 80,
      "outputs": []
    },
    {
      "cell_type": "code",
      "source": [
        "high_corr"
      ],
      "metadata": {
        "colab": {
          "base_uri": "https://localhost:8080/"
        },
        "id": "TmW_3bLTrCtz",
        "outputId": "a692ffd4-fe09-4786-8e06-d0e02cdcba70"
      },
      "execution_count": 81,
      "outputs": [
        {
          "output_type": "execute_result",
          "data": {
            "text/plain": [
              "['alcalinity_of_ash',\n",
              " 'total_phenols',\n",
              " 'flavanoids',\n",
              " 'hue',\n",
              " 'od280/od315_of_diluted_wines',\n",
              " 'proline']"
            ]
          },
          "metadata": {},
          "execution_count": 81
        }
      ]
    },
    {
      "cell_type": "code",
      "metadata": {
        "colab": {
          "base_uri": "https://localhost:8080/",
          "height": 364
        },
        "id": "dT4H34Ac8QFW",
        "outputId": "2889fcc7-c76a-4a56-c681-d194c29c14c5"
      },
      "source": [
        "#10). Удалите из датафрейма X поле с целевой переменной. \n",
        "#Для всех признаков, названия которых содержатся в списке high_corr, вычислите квадрат их значений \n",
        "#и добавьте в датафрейм X соответствующие поля с суффиксом '_2', добавленного к первоначальному названию признака. \n",
        "#Итоговый датафрейм должен содержать все поля, которые, были в нем изначально, а также поля с признаками из списка high_corr, возведенными в квадрат. \n",
        "#Выведите описание полей датафрейма X с помощью метода describe.\n",
        "#wine_X = wine_X.drop(['target'], axis=1)\n",
        "for name in wine_X.columns:\n",
        "  if name in high_corr:\n",
        "    wine_X[f'{name}^2'] = wine_X[f'{name}']**2\n",
        "#wine_X.head()\n",
        "wine_X.describe()"
      ],
      "execution_count": 82,
      "outputs": [
        {
          "output_type": "execute_result",
          "data": {
            "text/html": [
              "\n",
              "  <div id=\"df-241b83ec-24f0-422d-8d0c-404c41e61784\">\n",
              "    <div class=\"colab-df-container\">\n",
              "      <div>\n",
              "<style scoped>\n",
              "    .dataframe tbody tr th:only-of-type {\n",
              "        vertical-align: middle;\n",
              "    }\n",
              "\n",
              "    .dataframe tbody tr th {\n",
              "        vertical-align: top;\n",
              "    }\n",
              "\n",
              "    .dataframe thead th {\n",
              "        text-align: right;\n",
              "    }\n",
              "</style>\n",
              "<table border=\"1\" class=\"dataframe\">\n",
              "  <thead>\n",
              "    <tr style=\"text-align: right;\">\n",
              "      <th></th>\n",
              "      <th>alcohol</th>\n",
              "      <th>malic_acid</th>\n",
              "      <th>ash</th>\n",
              "      <th>alcalinity_of_ash</th>\n",
              "      <th>magnesium</th>\n",
              "      <th>total_phenols</th>\n",
              "      <th>flavanoids</th>\n",
              "      <th>nonflavanoid_phenols</th>\n",
              "      <th>proanthocyanins</th>\n",
              "      <th>color_intensity</th>\n",
              "      <th>hue</th>\n",
              "      <th>od280/od315_of_diluted_wines</th>\n",
              "      <th>proline</th>\n",
              "      <th>target</th>\n",
              "      <th>alcalinity_of_ash^2</th>\n",
              "      <th>total_phenols^2</th>\n",
              "      <th>flavanoids^2</th>\n",
              "      <th>hue^2</th>\n",
              "      <th>od280/od315_of_diluted_wines^2</th>\n",
              "      <th>proline^2</th>\n",
              "    </tr>\n",
              "  </thead>\n",
              "  <tbody>\n",
              "    <tr>\n",
              "      <th>count</th>\n",
              "      <td>178.000000</td>\n",
              "      <td>178.000000</td>\n",
              "      <td>178.000000</td>\n",
              "      <td>178.000000</td>\n",
              "      <td>178.000000</td>\n",
              "      <td>178.000000</td>\n",
              "      <td>178.000000</td>\n",
              "      <td>178.000000</td>\n",
              "      <td>178.000000</td>\n",
              "      <td>178.000000</td>\n",
              "      <td>178.000000</td>\n",
              "      <td>178.000000</td>\n",
              "      <td>178.000000</td>\n",
              "      <td>178.000000</td>\n",
              "      <td>178.000000</td>\n",
              "      <td>178.000000</td>\n",
              "      <td>178.000000</td>\n",
              "      <td>178.000000</td>\n",
              "      <td>178.000000</td>\n",
              "      <td>1.780000e+02</td>\n",
              "    </tr>\n",
              "    <tr>\n",
              "      <th>mean</th>\n",
              "      <td>13.000618</td>\n",
              "      <td>2.336348</td>\n",
              "      <td>2.366517</td>\n",
              "      <td>19.494944</td>\n",
              "      <td>99.741573</td>\n",
              "      <td>2.295112</td>\n",
              "      <td>2.029270</td>\n",
              "      <td>0.361854</td>\n",
              "      <td>1.590899</td>\n",
              "      <td>5.058090</td>\n",
              "      <td>0.957449</td>\n",
              "      <td>2.611685</td>\n",
              "      <td>746.893258</td>\n",
              "      <td>0.938202</td>\n",
              "      <td>391.142865</td>\n",
              "      <td>5.657030</td>\n",
              "      <td>5.110049</td>\n",
              "      <td>0.968661</td>\n",
              "      <td>7.322155</td>\n",
              "      <td>6.564591e+05</td>\n",
              "    </tr>\n",
              "    <tr>\n",
              "      <th>std</th>\n",
              "      <td>0.811827</td>\n",
              "      <td>1.117146</td>\n",
              "      <td>0.274344</td>\n",
              "      <td>3.339564</td>\n",
              "      <td>14.282484</td>\n",
              "      <td>0.625851</td>\n",
              "      <td>0.998859</td>\n",
              "      <td>0.124453</td>\n",
              "      <td>0.572359</td>\n",
              "      <td>2.318286</td>\n",
              "      <td>0.228572</td>\n",
              "      <td>0.709990</td>\n",
              "      <td>314.907474</td>\n",
              "      <td>0.775035</td>\n",
              "      <td>133.671775</td>\n",
              "      <td>2.936294</td>\n",
              "      <td>4.211441</td>\n",
              "      <td>0.443798</td>\n",
              "      <td>3.584316</td>\n",
              "      <td>5.558591e+05</td>\n",
              "    </tr>\n",
              "    <tr>\n",
              "      <th>min</th>\n",
              "      <td>11.030000</td>\n",
              "      <td>0.740000</td>\n",
              "      <td>1.360000</td>\n",
              "      <td>10.600000</td>\n",
              "      <td>70.000000</td>\n",
              "      <td>0.980000</td>\n",
              "      <td>0.340000</td>\n",
              "      <td>0.130000</td>\n",
              "      <td>0.410000</td>\n",
              "      <td>1.280000</td>\n",
              "      <td>0.480000</td>\n",
              "      <td>1.270000</td>\n",
              "      <td>278.000000</td>\n",
              "      <td>0.000000</td>\n",
              "      <td>112.360000</td>\n",
              "      <td>0.960400</td>\n",
              "      <td>0.115600</td>\n",
              "      <td>0.230400</td>\n",
              "      <td>1.612900</td>\n",
              "      <td>7.728400e+04</td>\n",
              "    </tr>\n",
              "    <tr>\n",
              "      <th>25%</th>\n",
              "      <td>12.362500</td>\n",
              "      <td>1.602500</td>\n",
              "      <td>2.210000</td>\n",
              "      <td>17.200000</td>\n",
              "      <td>88.000000</td>\n",
              "      <td>1.742500</td>\n",
              "      <td>1.205000</td>\n",
              "      <td>0.270000</td>\n",
              "      <td>1.250000</td>\n",
              "      <td>3.220000</td>\n",
              "      <td>0.782500</td>\n",
              "      <td>1.937500</td>\n",
              "      <td>500.500000</td>\n",
              "      <td>0.000000</td>\n",
              "      <td>295.840000</td>\n",
              "      <td>3.036325</td>\n",
              "      <td>1.452100</td>\n",
              "      <td>0.612325</td>\n",
              "      <td>3.754075</td>\n",
              "      <td>2.505010e+05</td>\n",
              "    </tr>\n",
              "    <tr>\n",
              "      <th>50%</th>\n",
              "      <td>13.050000</td>\n",
              "      <td>1.865000</td>\n",
              "      <td>2.360000</td>\n",
              "      <td>19.500000</td>\n",
              "      <td>98.000000</td>\n",
              "      <td>2.355000</td>\n",
              "      <td>2.135000</td>\n",
              "      <td>0.340000</td>\n",
              "      <td>1.555000</td>\n",
              "      <td>4.690000</td>\n",
              "      <td>0.965000</td>\n",
              "      <td>2.780000</td>\n",
              "      <td>673.500000</td>\n",
              "      <td>1.000000</td>\n",
              "      <td>380.250000</td>\n",
              "      <td>5.546050</td>\n",
              "      <td>4.558250</td>\n",
              "      <td>0.931250</td>\n",
              "      <td>7.728400</td>\n",
              "      <td>4.536045e+05</td>\n",
              "    </tr>\n",
              "    <tr>\n",
              "      <th>75%</th>\n",
              "      <td>13.677500</td>\n",
              "      <td>3.082500</td>\n",
              "      <td>2.557500</td>\n",
              "      <td>21.500000</td>\n",
              "      <td>107.000000</td>\n",
              "      <td>2.800000</td>\n",
              "      <td>2.875000</td>\n",
              "      <td>0.437500</td>\n",
              "      <td>1.950000</td>\n",
              "      <td>6.200000</td>\n",
              "      <td>1.120000</td>\n",
              "      <td>3.170000</td>\n",
              "      <td>985.000000</td>\n",
              "      <td>2.000000</td>\n",
              "      <td>462.250000</td>\n",
              "      <td>7.840000</td>\n",
              "      <td>8.265700</td>\n",
              "      <td>1.254400</td>\n",
              "      <td>10.048900</td>\n",
              "      <td>9.702250e+05</td>\n",
              "    </tr>\n",
              "    <tr>\n",
              "      <th>max</th>\n",
              "      <td>14.830000</td>\n",
              "      <td>5.800000</td>\n",
              "      <td>3.230000</td>\n",
              "      <td>30.000000</td>\n",
              "      <td>162.000000</td>\n",
              "      <td>3.880000</td>\n",
              "      <td>5.080000</td>\n",
              "      <td>0.660000</td>\n",
              "      <td>3.580000</td>\n",
              "      <td>13.000000</td>\n",
              "      <td>1.710000</td>\n",
              "      <td>4.000000</td>\n",
              "      <td>1680.000000</td>\n",
              "      <td>2.000000</td>\n",
              "      <td>900.000000</td>\n",
              "      <td>15.054400</td>\n",
              "      <td>25.806400</td>\n",
              "      <td>2.924100</td>\n",
              "      <td>16.000000</td>\n",
              "      <td>2.822400e+06</td>\n",
              "    </tr>\n",
              "  </tbody>\n",
              "</table>\n",
              "</div>\n",
              "      <button class=\"colab-df-convert\" onclick=\"convertToInteractive('df-241b83ec-24f0-422d-8d0c-404c41e61784')\"\n",
              "              title=\"Convert this dataframe to an interactive table.\"\n",
              "              style=\"display:none;\">\n",
              "        \n",
              "  <svg xmlns=\"http://www.w3.org/2000/svg\" height=\"24px\"viewBox=\"0 0 24 24\"\n",
              "       width=\"24px\">\n",
              "    <path d=\"M0 0h24v24H0V0z\" fill=\"none\"/>\n",
              "    <path d=\"M18.56 5.44l.94 2.06.94-2.06 2.06-.94-2.06-.94-.94-2.06-.94 2.06-2.06.94zm-11 1L8.5 8.5l.94-2.06 2.06-.94-2.06-.94L8.5 2.5l-.94 2.06-2.06.94zm10 10l.94 2.06.94-2.06 2.06-.94-2.06-.94-.94-2.06-.94 2.06-2.06.94z\"/><path d=\"M17.41 7.96l-1.37-1.37c-.4-.4-.92-.59-1.43-.59-.52 0-1.04.2-1.43.59L10.3 9.45l-7.72 7.72c-.78.78-.78 2.05 0 2.83L4 21.41c.39.39.9.59 1.41.59.51 0 1.02-.2 1.41-.59l7.78-7.78 2.81-2.81c.8-.78.8-2.07 0-2.86zM5.41 20L4 18.59l7.72-7.72 1.47 1.35L5.41 20z\"/>\n",
              "  </svg>\n",
              "      </button>\n",
              "      \n",
              "  <style>\n",
              "    .colab-df-container {\n",
              "      display:flex;\n",
              "      flex-wrap:wrap;\n",
              "      gap: 12px;\n",
              "    }\n",
              "\n",
              "    .colab-df-convert {\n",
              "      background-color: #E8F0FE;\n",
              "      border: none;\n",
              "      border-radius: 50%;\n",
              "      cursor: pointer;\n",
              "      display: none;\n",
              "      fill: #1967D2;\n",
              "      height: 32px;\n",
              "      padding: 0 0 0 0;\n",
              "      width: 32px;\n",
              "    }\n",
              "\n",
              "    .colab-df-convert:hover {\n",
              "      background-color: #E2EBFA;\n",
              "      box-shadow: 0px 1px 2px rgba(60, 64, 67, 0.3), 0px 1px 3px 1px rgba(60, 64, 67, 0.15);\n",
              "      fill: #174EA6;\n",
              "    }\n",
              "\n",
              "    [theme=dark] .colab-df-convert {\n",
              "      background-color: #3B4455;\n",
              "      fill: #D2E3FC;\n",
              "    }\n",
              "\n",
              "    [theme=dark] .colab-df-convert:hover {\n",
              "      background-color: #434B5C;\n",
              "      box-shadow: 0px 1px 3px 1px rgba(0, 0, 0, 0.15);\n",
              "      filter: drop-shadow(0px 1px 2px rgba(0, 0, 0, 0.3));\n",
              "      fill: #FFFFFF;\n",
              "    }\n",
              "  </style>\n",
              "\n",
              "      <script>\n",
              "        const buttonEl =\n",
              "          document.querySelector('#df-241b83ec-24f0-422d-8d0c-404c41e61784 button.colab-df-convert');\n",
              "        buttonEl.style.display =\n",
              "          google.colab.kernel.accessAllowed ? 'block' : 'none';\n",
              "\n",
              "        async function convertToInteractive(key) {\n",
              "          const element = document.querySelector('#df-241b83ec-24f0-422d-8d0c-404c41e61784');\n",
              "          const dataTable =\n",
              "            await google.colab.kernel.invokeFunction('convertToInteractive',\n",
              "                                                     [key], {});\n",
              "          if (!dataTable) return;\n",
              "\n",
              "          const docLinkHtml = 'Like what you see? Visit the ' +\n",
              "            '<a target=\"_blank\" href=https://colab.research.google.com/notebooks/data_table.ipynb>data table notebook</a>'\n",
              "            + ' to learn more about interactive tables.';\n",
              "          element.innerHTML = '';\n",
              "          dataTable['output_type'] = 'display_data';\n",
              "          await google.colab.output.renderOutput(dataTable, element);\n",
              "          const docLink = document.createElement('div');\n",
              "          docLink.innerHTML = docLinkHtml;\n",
              "          element.appendChild(docLink);\n",
              "        }\n",
              "      </script>\n",
              "    </div>\n",
              "  </div>\n",
              "  "
            ],
            "text/plain": [
              "          alcohol  malic_acid         ash  alcalinity_of_ash   magnesium  \\\n",
              "count  178.000000  178.000000  178.000000         178.000000  178.000000   \n",
              "mean    13.000618    2.336348    2.366517          19.494944   99.741573   \n",
              "std      0.811827    1.117146    0.274344           3.339564   14.282484   \n",
              "min     11.030000    0.740000    1.360000          10.600000   70.000000   \n",
              "25%     12.362500    1.602500    2.210000          17.200000   88.000000   \n",
              "50%     13.050000    1.865000    2.360000          19.500000   98.000000   \n",
              "75%     13.677500    3.082500    2.557500          21.500000  107.000000   \n",
              "max     14.830000    5.800000    3.230000          30.000000  162.000000   \n",
              "\n",
              "       total_phenols  flavanoids  nonflavanoid_phenols  proanthocyanins  \\\n",
              "count     178.000000  178.000000            178.000000       178.000000   \n",
              "mean        2.295112    2.029270              0.361854         1.590899   \n",
              "std         0.625851    0.998859              0.124453         0.572359   \n",
              "min         0.980000    0.340000              0.130000         0.410000   \n",
              "25%         1.742500    1.205000              0.270000         1.250000   \n",
              "50%         2.355000    2.135000              0.340000         1.555000   \n",
              "75%         2.800000    2.875000              0.437500         1.950000   \n",
              "max         3.880000    5.080000              0.660000         3.580000   \n",
              "\n",
              "       color_intensity         hue  od280/od315_of_diluted_wines      proline  \\\n",
              "count       178.000000  178.000000                    178.000000   178.000000   \n",
              "mean          5.058090    0.957449                      2.611685   746.893258   \n",
              "std           2.318286    0.228572                      0.709990   314.907474   \n",
              "min           1.280000    0.480000                      1.270000   278.000000   \n",
              "25%           3.220000    0.782500                      1.937500   500.500000   \n",
              "50%           4.690000    0.965000                      2.780000   673.500000   \n",
              "75%           6.200000    1.120000                      3.170000   985.000000   \n",
              "max          13.000000    1.710000                      4.000000  1680.000000   \n",
              "\n",
              "           target  alcalinity_of_ash^2  total_phenols^2  flavanoids^2  \\\n",
              "count  178.000000           178.000000       178.000000    178.000000   \n",
              "mean     0.938202           391.142865         5.657030      5.110049   \n",
              "std      0.775035           133.671775         2.936294      4.211441   \n",
              "min      0.000000           112.360000         0.960400      0.115600   \n",
              "25%      0.000000           295.840000         3.036325      1.452100   \n",
              "50%      1.000000           380.250000         5.546050      4.558250   \n",
              "75%      2.000000           462.250000         7.840000      8.265700   \n",
              "max      2.000000           900.000000        15.054400     25.806400   \n",
              "\n",
              "            hue^2  od280/od315_of_diluted_wines^2     proline^2  \n",
              "count  178.000000                      178.000000  1.780000e+02  \n",
              "mean     0.968661                        7.322155  6.564591e+05  \n",
              "std      0.443798                        3.584316  5.558591e+05  \n",
              "min      0.230400                        1.612900  7.728400e+04  \n",
              "25%      0.612325                        3.754075  2.505010e+05  \n",
              "50%      0.931250                        7.728400  4.536045e+05  \n",
              "75%      1.254400                       10.048900  9.702250e+05  \n",
              "max      2.924100                       16.000000  2.822400e+06  "
            ]
          },
          "metadata": {},
          "execution_count": 82
        }
      ]
    },
    {
      "cell_type": "code",
      "metadata": {
        "id": "m5vnP_Is2CY4"
      },
      "source": [
        ""
      ],
      "execution_count": null,
      "outputs": []
    }
  ]
}